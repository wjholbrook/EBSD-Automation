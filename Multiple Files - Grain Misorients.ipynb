{
 "cells": [
  {
   "cell_type": "code",
   "execution_count": 8,
   "metadata": {},
   "outputs": [],
   "source": [
    "#create dataset\n",
    "path = 'Data Files/EBSD Raw Data'\n",
    "dataset=[]\n",
    "#open all files\n",
    "for filename in glob.glob(os.path.join(path, '*.txt')):\n",
    "    with open(filename, 'r') as f:\n",
    "        #remove comments\n",
    "        for line in f:\n",
    "            if '#' not in line:\n",
    "                break\n",
    "        \n",
    "        #load to np array and add to dataset\n",
    "        data=np.loadtxt(filename, usecols=(0,1,2,3,4,8,9))\n",
    "        dataset.append(data)"
   ]
  },
  {
   "cell_type": "code",
   "execution_count": null,
   "metadata": {},
   "outputs": [],
   "source": []
  },
  {
   "cell_type": "code",
   "execution_count": 39,
   "metadata": {},
   "outputs": [],
   "source": [
    "%run Grain_Misorient_Functions.ipynb\n",
    "#import functions\n",
    "raw_data=dataset[0]\n",
    "coords=raw_data[:,3:5] \n",
    "grain_IDs=raw_data[:,5]\n",
    "grain_IDs_and_edges=raw_data[:,5:7]\n",
    "coords_and_grains=raw_data[:,3:6]\n",
    "coords_and_grains_copy=np.copy(coords_and_grains)\n",
    "edge_grains=grain_IDs_and_edges[np.where(grain_IDs_and_edges[:,1]==1)]"
   ]
  },
  {
   "cell_type": "code",
   "execution_count": 64,
   "metadata": {},
   "outputs": [
    {
     "name": "stderr",
     "output_type": "stream",
     "text": [
      "C:\\Users\\GREEN\\AppData\\Local\\Continuum\\anaconda3\\lib\\site-packages\\ipykernel_launcher.py:109: RuntimeWarning: invalid value encountered in arccos\n",
      "C:\\Users\\GREEN\\AppData\\Local\\Continuum\\anaconda3\\lib\\site-packages\\numpy\\lib\\histograms.py:893: RuntimeWarning: invalid value encountered in true_divide\n",
      "  return n/db/n.sum(), bin_edges\n"
     ]
    }
   ],
   "source": [
    "\n",
    "p=grain_misorients(raw_data,return_p=True)"
   ]
  },
  {
   "cell_type": "code",
   "execution_count": 65,
   "metadata": {},
   "outputs": [
    {
     "name": "stdout",
     "output_type": "stream",
     "text": [
      "[nan nan nan nan nan nan nan nan nan nan nan nan nan nan nan nan nan nan\n",
      " nan nan nan nan nan nan nan nan nan nan nan nan nan nan nan nan nan nan\n",
      " nan nan nan nan nan nan  0.]\n"
     ]
    }
   ],
   "source": [
    "print(p)"
   ]
  },
  {
   "cell_type": "code",
   "execution_count": 63,
   "metadata": {},
   "outputs": [
    {
     "name": "stderr",
     "output_type": "stream",
     "text": [
      "C:\\Users\\GREEN\\AppData\\Local\\Continuum\\anaconda3\\lib\\site-packages\\numpy\\lib\\histograms.py:893: RuntimeWarning: invalid value encountered in true_divide\n",
      "  return n/db/n.sum(), bin_edges\n"
     ]
    },
    {
     "data": {
      "text/plain": [
       "nan"
      ]
     },
     "execution_count": 63,
     "metadata": {},
     "output_type": "execute_result"
    },
    {
     "data": {
      "image/png": "[encoded data removed]",
      "text/plain": [
       "<Figure size 432x288 with 1 Axes>"
      ]
     },
     "metadata": {},
     "output_type": "display_data"
    }
   ],
   "source": [
    "%run Grain_Misorient_Functions.ipynb\n",
    "sample(100,'random')"
   ]
  },
  {
   "cell_type": "code",
   "execution_count": null,
   "metadata": {},
   "outputs": [],
   "source": [
    "#import functions\n",
    "%run Grain_Misorient_Functions.ipynb\n",
    "%run Grain_Area_Functions.ipynb\n",
    "\n",
    "#how big is each file before pieces are removed?\n",
    "#do we average files processed differently?\n",
    "file_size=100000\n",
    "\n",
    "# def misorient_JS_graphs():\n",
    "\n",
    "#number of trials to avg\n",
    "num_trials=len(dataset)\n",
    "\n",
    "#number of points to sample\n",
    "sizes=np.arange(100,26000,1000)\n",
    "\n",
    "#six different sampling methods (random, square, hex, sobol, gold, window)\n",
    "results=np.zeros((len(sizes),6))\n",
    "\n",
    "#for each file\n",
    "for x in dataset:\n",
    "    #slice raw data\n",
    "    raw_data=x\n",
    "    coords=raw_data[:,3:5] \n",
    "    grain_IDs=raw_data[:,5]\n",
    "    grain_IDs_and_edges=raw_data[:,5:7]\n",
    "    coords_and_grains=raw_data[:,3:6]\n",
    "    coords_and_grains_copy=np.copy(coords_and_grains)\n",
    "    edge_grains=grain_IDs_and_edges[np.where(grain_IDs_and_edges[:,1]==1)]\n",
    "    \n",
    "    #window slices\n",
    "    window_slice_list=window_slices()\n",
    "\n",
    "    #define p\n",
    "    grain_misorient_p=grain_misorients(raw_data)\n",
    "\n",
    "    #assume constant number of points sampled (and some discarded)\n",
    "    percents=(sizes/file_size)*100\n",
    "\n",
    "    #divergence for each method    \n",
    "    random_div=np.zeros(len(percents))\n",
    "    square_div=np.zeros(len(percents))\n",
    "    hex_div=np.zeros(len(percents))\n",
    "    sobol_div=np.zeros(len(percents))\n",
    "    gold_div=np.zeros(len(percents))\n",
    "    window_div=np.zeros(len(percents))\n",
    "\n",
    "    index=0\n",
    "    for x in percents:\n",
    "        random_div[index]=sample(sizes[index],'random')\n",
    "        square_div[index]=sample(sizes[index],'square')\n",
    "        hex_div[index]=sample(sizes[index],'hex')\n",
    "        sobol_div[index]=sample(sizes[index],'sobol')\n",
    "        gold_div[index]=sample(sizes[index],'gold')\n",
    "        window_div[index]=sample(sizes[index],'window')\n",
    "        index+=1\n",
    "\n",
    "    #add to array\n",
    "    results[:,0]+=random_div\n",
    "    results[:,1]+=square_div\n",
    "    results[:,2]+=hex_div\n",
    "    results[:,3]+=sobol_div\n",
    "    results[:,4]+=gold_div\n",
    "    results[:,5]+=window_div\n",
    "\n",
    "\n",
    "#average results        \n",
    "results=results/num_trials\n",
    "\n",
    "#slice results\n",
    "avg_random_div=results[:,0]\n",
    "avg_hex_div=results[:,1]\n",
    "avg_square_div=results[:,2]\n",
    "avg_sobol_div=results[:,3]\n",
    "avg_gold_div=results[:,4]\n",
    "avg_window_div=results[:,5]"
   ]
  },
  {
   "cell_type": "code",
   "execution_count": 1,
   "metadata": {},
   "outputs": [
    {
     "ename": "NameError",
     "evalue": "name 'plt' is not defined",
     "output_type": "error",
     "traceback": [
      "\u001b[1;31m---------------------------------------------------------------------------\u001b[0m",
      "\u001b[1;31mNameError\u001b[0m                                 Traceback (most recent call last)",
      "\u001b[1;32m<ipython-input-1-0f9911654dbd>\u001b[0m in \u001b[0;36m<module>\u001b[1;34m\u001b[0m\n\u001b[0;32m      1\u001b[0m \u001b[1;31m#plot results\u001b[0m\u001b[1;33m\u001b[0m\u001b[1;33m\u001b[0m\u001b[1;33m\u001b[0m\u001b[0m\n\u001b[1;32m----> 2\u001b[1;33m \u001b[0mplt\u001b[0m\u001b[1;33m.\u001b[0m\u001b[0mxlim\u001b[0m\u001b[1;33m(\u001b[0m\u001b[1;36m0\u001b[0m\u001b[1;33m,\u001b[0m\u001b[1;36m25\u001b[0m\u001b[1;33m)\u001b[0m\u001b[1;33m\u001b[0m\u001b[1;33m\u001b[0m\u001b[0m\n\u001b[0m\u001b[0;32m      3\u001b[0m \u001b[0mplt\u001b[0m\u001b[1;33m.\u001b[0m\u001b[0mylim\u001b[0m\u001b[1;33m(\u001b[0m\u001b[1;36m0\u001b[0m\u001b[1;33m,\u001b[0m\u001b[1;36m1\u001b[0m\u001b[1;33m)\u001b[0m\u001b[1;33m\u001b[0m\u001b[1;33m\u001b[0m\u001b[0m\n\u001b[0;32m      4\u001b[0m \u001b[0mplt\u001b[0m\u001b[1;33m.\u001b[0m\u001b[0mtitle\u001b[0m\u001b[1;33m(\u001b[0m\u001b[1;34m'Grain Areas'\u001b[0m\u001b[1;33m)\u001b[0m\u001b[1;33m\u001b[0m\u001b[1;33m\u001b[0m\u001b[0m\n\u001b[0;32m      5\u001b[0m \u001b[0mplt\u001b[0m\u001b[1;33m.\u001b[0m\u001b[0mxlabel\u001b[0m\u001b[1;33m(\u001b[0m\u001b[1;34m'Percent'\u001b[0m\u001b[1;33m)\u001b[0m\u001b[1;33m\u001b[0m\u001b[1;33m\u001b[0m\u001b[0m\n",
      "\u001b[1;31mNameError\u001b[0m: name 'plt' is not defined"
     ]
    }
   ],
   "source": [
    "#plot JS results\n",
    "plt.xlim(0,25)\n",
    "plt.ylim(0,1)\n",
    "plt.title('Grain Areas')\n",
    "plt.xlabel('Percent')\n",
    "plt.ylabel('JS Divergence')\n",
    "sns.lineplot(percents,avg_random_div,color='blue',label='Random')\n",
    "sns.lineplot(percents,avg_square_div,color='red',label='Square Grid')\n",
    "sns.lineplot(percents,avg_hex_div,color='green',label='Hexagonal Grid')\n",
    "sns.lineplot(percents,avg_sobol_div,color='purple',label='Sobol 2D')\n",
    "sns.lineplot(percents,avg_gold_div,color='gold',label='Golden 2D')\n",
    "sns.lineplot(percents,avg_window_div,color='black',label='Window')"
   ]
  },
  {
   "cell_type": "code",
   "execution_count": null,
   "metadata": {},
   "outputs": [],
   "source": []
  }
 ],
 "metadata": {
  "kernelspec": {
   "display_name": "Python 3",
   "language": "python",
   "name": "python3"
  },
  "language_info": {
   "codemirror_mode": {
    "name": "ipython",
    "version": 3
   },
   "file_extension": ".py",
   "mimetype": "text/x-python",
   "name": "python",
   "nbconvert_exporter": "python",
   "pygments_lexer": "ipython3",
   "version": "3.7.4"
  }
 },
 "nbformat": 4,
 "nbformat_minor": 2
}
