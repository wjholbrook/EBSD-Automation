{
 "cells": [
  {
   "cell_type": "code",
   "execution_count": 1,
   "metadata": {},
   "outputs": [],
   "source": [
    "%matplotlib qt5\n",
    "\n",
    "# Important external dependencies\n",
    "import numpy as np\n",
    "import matplotlib.pyplot as plt\n",
    "from sklearn.cluster import DBSCAN\n",
    "\n",
    "# orix dependencies (tested with orix 0.1.1)\n",
    "from orix.quaternion.orientation import Orientation, Misorientation\n",
    "from orix.quaternion.rotation import Rotation\n",
    "from orix.quaternion.symmetry import D6\n",
    "from orix.quaternion.orientation_region import OrientationRegion\n",
    "from orix.vector.neo_euler import AxAngle\n",
    "from orix.vector import Vector3d\n",
    "from orix import plot"
   ]
  },
  {
   "cell_type": "code",
   "execution_count": 2,
   "metadata": {},
   "outputs": [],
   "source": [
    "#load angle data\n",
    "angles = np.loadtxt('Data Files/EBSD Raw Data/AZ31B Ecomp 10e0 Int_3 raw1.txt', skiprows=17, usecols=(0,1,2))"
   ]
  },
  {
   "cell_type": "code",
   "execution_count": 3,
   "metadata": {},
   "outputs": [
    {
     "name": "stdout",
     "output_type": "stream",
     "text": [
      "87017\n"
     ]
    }
   ],
   "source": [
    "ori = Orientation.from_euler(angles, convention=\"Krakow_Hielscher\")\n",
    "print(ori.size)"
   ]
  },
  {
   "cell_type": "code",
   "execution_count": 4,
   "metadata": {},
   "outputs": [
    {
     "name": "stdout",
     "output_type": "stream",
     "text": [
      "Orientation (87017,) 1\n",
      "[[ 0.2198  0.3357 -0.9128 -0.0762]\n",
      " [ 0.2198  0.3357 -0.9128 -0.0762]\n",
      " [ 0.2198  0.3357 -0.9128 -0.0762]\n",
      " ...\n",
      " [ 0.1209  0.0909  0.7537  0.6396]\n",
      " [ 0.1336  0.0986  0.7464  0.6445]\n",
      " [ 0.1277  0.0906  0.7537  0.6383]]\n"
     ]
    }
   ],
   "source": [
    "print(ori)"
   ]
  },
  {
   "cell_type": "code",
   "execution_count": 5,
   "metadata": {},
   "outputs": [],
   "source": [
    "fundamental_region = OrientationRegion.from_symmetry(D6)"
   ]
  },
  {
   "cell_type": "code",
   "execution_count": 6,
   "metadata": {},
   "outputs": [
    {
     "name": "stdout",
     "output_type": "stream",
     "text": [
      "OrientationRegion (14,)\n",
      "[[ 0.7071 -0.7071 -0.     -0.    ]\n",
      " [ 0.7071 -0.6124 -0.3536  0.    ]\n",
      " [ 0.7071 -0.6124  0.3536  0.    ]\n",
      " [ 0.7071 -0.3536 -0.6124 -0.    ]\n",
      " [ 0.7071 -0.3536  0.6124  0.    ]\n",
      " [ 0.7071 -0.     -0.7071 -0.    ]\n",
      " [ 0.2588 -0.     -0.     -0.9659]\n",
      " [ 0.2588  0.      0.      0.9659]\n",
      " [ 0.7071  0.      0.7071  0.    ]\n",
      " [ 0.7071  0.3536 -0.6124 -0.    ]\n",
      " [ 0.7071  0.3536  0.6124  0.    ]\n",
      " [ 0.7071  0.6124 -0.3536 -0.    ]\n",
      " [ 0.7071  0.6124  0.3536 -0.    ]\n",
      " [ 0.7071  0.7071  0.      0.    ]]\n"
     ]
    }
   ],
   "source": [
    "print(fundamental_region)"
   ]
  },
  {
   "cell_type": "code",
   "execution_count": 9,
   "metadata": {},
   "outputs": [
    {
     "name": "stdout",
     "output_type": "stream",
     "text": [
      "Help on package orix:\n",
      "\n",
      "NAME\n",
      "    orix\n",
      "\n",
      "PACKAGE CONTENTS\n",
      "    base (package)\n",
      "    crystal_map (package)\n",
      "    io (package)\n",
      "    plot (package)\n",
      "    quaternion (package)\n",
      "    sampling (package)\n",
      "    scalar (package)\n",
      "    tests (package)\n",
      "    vector (package)\n",
      "\n",
      "DATA\n",
      "    __author_email__ = 'pyxem.team@gmail.com'\n",
      "    __description__ = 'orix is an open-source python library for handling ...\n",
      "\n",
      "VERSION\n",
      "    0.5.1\n",
      "\n",
      "AUTHOR\n",
      "    Ben Martineau, Phillip Crout, Håkon Wiik Ånes, Duncan Johnstone\n",
      "\n",
      "CREDITS\n",
      "    ['Ben Martineau', 'Phillip Crout', 'Håkon Wiik Ånes', 'Duncan Johnstone', 'Simon Høgås']\n",
      "\n",
      "FILE\n",
      "    c:\\users\\green\\appdata\\local\\continuum\\anaconda3\\lib\\site-packages\\orix\\__init__.py\n",
      "\n",
      "\n"
     ]
    }
   ],
   "source": [
    "import orix"
   ]
  },
  {
   "cell_type": "code",
   "execution_count": 10,
   "metadata": {},
   "outputs": [
    {
     "name": "stdout",
     "output_type": "stream",
     "text": [
      "Help on package orix:\n",
      "\n",
      "NAME\n",
      "    orix\n",
      "\n",
      "PACKAGE CONTENTS\n",
      "    base (package)\n",
      "    crystal_map (package)\n",
      "    io (package)\n",
      "    plot (package)\n",
      "    quaternion (package)\n",
      "    sampling (package)\n",
      "    scalar (package)\n",
      "    tests (package)\n",
      "    vector (package)\n",
      "\n",
      "DATA\n",
      "    __author_email__ = 'pyxem.team@gmail.com'\n",
      "    __description__ = 'orix is an open-source python library for handling ...\n",
      "\n",
      "VERSION\n",
      "    0.5.1\n",
      "\n",
      "AUTHOR\n",
      "    Ben Martineau, Phillip Crout, Håkon Wiik Ånes, Duncan Johnstone\n",
      "\n",
      "CREDITS\n",
      "    ['Ben Martineau', 'Phillip Crout', 'Håkon Wiik Ånes', 'Duncan Johnstone', 'Simon Høgås']\n",
      "\n",
      "FILE\n",
      "    c:\\users\\green\\appdata\\local\\continuum\\anaconda3\\lib\\site-packages\\orix\\__init__.py\n",
      "\n",
      "\n"
     ]
    },
    {
     "data": {
      "text/plain": [
       "['__author__',\n",
       " '__author_email__',\n",
       " '__builtins__',\n",
       " '__cached__',\n",
       " '__credits__',\n",
       " '__description__',\n",
       " '__doc__',\n",
       " '__file__',\n",
       " '__loader__',\n",
       " '__name__',\n",
       " '__package__',\n",
       " '__path__',\n",
       " '__spec__',\n",
       " '__version__',\n",
       " 'base',\n",
       " 'plot',\n",
       " 'quaternion',\n",
       " 'scalar',\n",
       " 'vector']"
      ]
     },
     "execution_count": 10,
     "metadata": {},
     "output_type": "execute_result"
    }
   ],
   "source": [
    "help(orix)\n",
    "dir(orix)"
   ]
  },
  {
   "cell_type": "code",
   "execution_count": null,
   "metadata": {},
   "outputs": [],
   "source": []
  }
 ],
 "metadata": {
  "kernelspec": {
   "display_name": "Python 3",
   "language": "python",
   "name": "python3"
  },
  "language_info": {
   "codemirror_mode": {
    "name": "ipython",
    "version": 3
   },
   "file_extension": ".py",
   "mimetype": "text/x-python",
   "name": "python",
   "nbconvert_exporter": "python",
   "pygments_lexer": "ipython3",
   "version": "3.7.4"
  }
 },
 "nbformat": 4,
 "nbformat_minor": 2
}
