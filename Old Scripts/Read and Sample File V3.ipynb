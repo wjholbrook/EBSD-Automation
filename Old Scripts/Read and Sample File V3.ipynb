{
 "cells": [
  {
   "cell_type": "code",
   "execution_count": 1,
   "metadata": {},
   "outputs": [],
   "source": [
    "import numpy as np\n",
    "from math import sqrt\n",
    "from matplotlib.image import NonUniformImage\n",
    "import matplotlib.pyplot as plt\n",
    "%matplotlib inline\n",
    "from statistics import mean\n",
    "from scipy.stats import norm\n",
    "from scipy.stats import lognorm\n",
    "import seaborn as sns\n",
    "sns.set()\n",
    "sns.set_style('white')"
   ]
  },
  {
   "cell_type": "code",
   "execution_count": 3,
   "metadata": {},
   "outputs": [],
   "source": [
    "#load file, skip header, load angles and coordinates\n",
    "raw_data = np.loadtxt('Raw Data/AZ31B Ecomp 10e0 Int_3 raw1.txt', skiprows=17, usecols=(0,1,2,3,4))\n",
    "grain_IDs=np.loadtxt('Raw Data/AZ31B Ecomp 10e0 Int_3 raw1.txt', skiprows=17, usecols=(8))"
   ]
  },
  {
   "cell_type": "code",
   "execution_count": 20,
   "metadata": {},
   "outputs": [],
   "source": [
    "#prevent algorithm from reading empty rows, make fix later\n",
    "data_subset=raw_data[0:87000]\n",
    "data_random=data_subset[np.random.choice(data_subset.shape[0], 85000, replace=False)]\n",
    "data=data_random"
   ]
  },
  {
   "cell_type": "code",
   "execution_count": 22,
   "metadata": {},
   "outputs": [
    {
     "data": {
      "text/plain": [
       "[<matplotlib.lines.Line2D at 0x1f24dc270c8>]"
      ]
     },
     "execution_count": 22,
     "metadata": {},
     "output_type": "execute_result"
    },
    {
     "data": {
      "image/png": "[encoded data removed]",
      "text/plain": [
       "<Figure size 432x288 with 1 Axes>"
      ]
     },
     "metadata": {},
     "output_type": "display_data"
    }
   ],
   "source": [
    "#use all the rows to make a lognorm pdf\n",
    "uniquegrains=np.unique(grain_IDs,return_counts=True)\n",
    "ID, count = uniquegrains\n",
    "#print(mean(count))\n",
    "#normalize, divide all grains by total number of grains\n",
    "# norm_count=count/(len(count))\n",
    "# print(mean(norm_count))\n",
    "#grains = dict(zip(ID, count)) \n",
    "params = lognorm.fit(count)\n",
    "xvals = np.linspace(0, 200, num=200)\n",
    "pdf = lambda x: lognorm.pdf(xvals, *params)\n",
    "t = pdf(xvals)\n",
    "#remove 0 values to prevent KL error\n",
    "t[t==0]=[0.000001]\n",
    "plt.xlim(0, 200)\n",
    "plt.plot(xvals, t)"
   ]
  },
  {
   "cell_type": "code",
   "execution_count": 23,
   "metadata": {},
   "outputs": [],
   "source": [
    "import math\n",
    "import numpy as np\n",
    "\n",
    "#https://en.wikipedia.org/wiki/Misorientation\n",
    "euler_one=[math.radians(90),math.radians(35),math.radians(45)] #copper\n",
    "euler_two=[math.radians(59),math.radians(37),math.radians(63)] #S3\n",
    "#phi1, PHI, phi2\n",
    "\n",
    "def misorientation(euler_one, euler_two):\n",
    "    #orientation matrices\n",
    "    g_one=np.array([[((math.cos(euler_one[0]))*(math.cos(euler_one[2]))-(math.sin(euler_one[0]))*(math.sin(euler_one[2]))*(math.cos(euler_one[1]))),((math.sin(euler_one[0]))*(math.cos(euler_one[2]))+(math.cos(euler_one[0]))*(math.sin(euler_one[2]))*(math.cos(euler_one[1]))),((math.sin(euler_one[2]))*(math.sin(euler_one[1])))],\n",
    "                [(-(math.cos(euler_one[0]))*(math.sin(euler_one[2]))-(math.sin(euler_one[0]))*(math.cos(euler_one[2]))*(math.cos(euler_one[1]))),(-(math.sin(euler_one[0]))*(math.sin(euler_one[2]))+(math.cos(euler_one[0]))*(math.cos(euler_one[2]))*(math.cos(euler_one[1]))),((math.cos(euler_one[2]))*(math.sin(euler_one[1])))],\n",
    "                [((math.sin(euler_one[0]))*(math.sin(euler_one[1]))),(-(math.cos(euler_one[0]))*(math.sin(euler_one[1]))),(math.cos(euler_one[1]))]        \n",
    "                ])\n",
    "   \n",
    "    #euler_two\n",
    "    g_two=np.array([[((math.cos(euler_two[0]))*(math.cos(euler_two[2]))-(math.sin(euler_two[0]))*(math.sin(euler_two[2]))*(math.cos(euler_two[1]))),((math.sin(euler_two[0]))*(math.cos(euler_two[2]))+(math.cos(euler_two[0]))*(math.sin(euler_two[2]))*(math.cos(euler_two[1]))),((math.sin(euler_two[2]))*(math.sin(euler_two[1])))],\n",
    "                [(-(math.cos(euler_two[0]))*(math.sin(euler_two[2]))-(math.sin(euler_two[0]))*(math.cos(euler_two[2]))*(math.cos(euler_two[1]))),(-(math.sin(euler_two[0]))*(math.sin(euler_two[2]))+(math.cos(euler_two[0]))*(math.cos(euler_two[2]))*(math.cos(euler_two[1]))),((math.cos(euler_two[2]))*(math.sin(euler_two[1])))],\n",
    "                [((math.sin(euler_two[0]))*(math.sin(euler_two[1]))),(-(math.cos(euler_two[0]))*(math.sin(euler_two[1]))),(math.cos(euler_two[1]))]        \n",
    "                ])\n",
    "    \n",
    "    #misorientation matrix\n",
    "    delta_g=np.dot(g_one,np.linalg.inv(g_two))\n",
    "                     \n",
    "    \n",
    "    #misorientation angle\n",
    "    #error handling for rounding errors outside of domain\n",
    "    try:\n",
    "        theta=math.acos((delta_g[0,0]+delta_g[1,1]+delta_g[2,2]-1)/2)\n",
    "    except:\n",
    "        if (((delta_g[0,0]+delta_g[1,1]+delta_g[2,2]-1)/2)>1):\n",
    "            theta=0\n",
    "        else:\n",
    "            theta=180\n",
    "\n",
    "    return math.degrees(theta)\n",
    "\n",
    "#test function with known calculation\n",
    "# print(misorientation(euler_one,euler_two))"
   ]
  },
  {
   "cell_type": "code",
   "execution_count": 24,
   "metadata": {},
   "outputs": [
    {
     "ename": "KeyboardInterrupt",
     "evalue": "",
     "output_type": "error",
     "traceback": [
      "\u001b[1;31m---------------------------------------------------------------------------\u001b[0m",
      "\u001b[1;31mKeyboardInterrupt\u001b[0m                         Traceback (most recent call last)",
      "\u001b[1;32m<ipython-input-24-f199ce0365ff>\u001b[0m in \u001b[0;36m<module>\u001b[1;34m\u001b[0m\n\u001b[0;32m     42\u001b[0m \u001b[1;32mfor\u001b[0m \u001b[0mrow\u001b[0m \u001b[1;32min\u001b[0m \u001b[0mdata\u001b[0m\u001b[1;33m:\u001b[0m\u001b[1;33m\u001b[0m\u001b[1;33m\u001b[0m\u001b[0m\n\u001b[0;32m     43\u001b[0m     \u001b[1;31m#print(row)\u001b[0m\u001b[1;33m\u001b[0m\u001b[1;33m\u001b[0m\u001b[1;33m\u001b[0m\u001b[0m\n\u001b[1;32m---> 44\u001b[1;33m     \u001b[0mtruu\u001b[0m\u001b[1;33m,\u001b[0m \u001b[0mkeey\u001b[0m \u001b[1;33m=\u001b[0m \u001b[0mindict\u001b[0m\u001b[1;33m(\u001b[0m\u001b[0mrow\u001b[0m\u001b[1;33m)\u001b[0m\u001b[1;33m\u001b[0m\u001b[1;33m\u001b[0m\u001b[0m\n\u001b[0m\u001b[0;32m     45\u001b[0m     \u001b[1;32mif\u001b[0m \u001b[0mtruu\u001b[0m \u001b[1;32mis\u001b[0m \u001b[1;32mTrue\u001b[0m\u001b[1;33m:\u001b[0m\u001b[1;33m\u001b[0m\u001b[1;33m\u001b[0m\u001b[0m\n\u001b[0;32m     46\u001b[0m         \u001b[0mrow_list\u001b[0m\u001b[1;33m=\u001b[0m\u001b[0mlist\u001b[0m\u001b[1;33m(\u001b[0m\u001b[0mrow\u001b[0m\u001b[1;33m)\u001b[0m\u001b[1;33m\u001b[0m\u001b[1;33m\u001b[0m\u001b[0m\n",
      "\u001b[1;32m<ipython-input-24-f199ce0365ff>\u001b[0m in \u001b[0;36mindict\u001b[1;34m(row)\u001b[0m\n\u001b[0;32m     25\u001b[0m         \u001b[1;31m#raises error if value for key does not exist, how to handle?\u001b[0m\u001b[1;33m\u001b[0m\u001b[1;33m\u001b[0m\u001b[1;33m\u001b[0m\u001b[0m\n\u001b[0;32m     26\u001b[0m         \u001b[0meuler_two\u001b[0m\u001b[1;33m=\u001b[0m\u001b[1;33m[\u001b[0m\u001b[0mrow_list\u001b[0m\u001b[1;33m[\u001b[0m\u001b[1;36m0\u001b[0m\u001b[1;33m]\u001b[0m\u001b[1;33m[\u001b[0m\u001b[1;36m0\u001b[0m\u001b[1;33m]\u001b[0m\u001b[1;33m,\u001b[0m\u001b[0mrow_list\u001b[0m\u001b[1;33m[\u001b[0m\u001b[1;36m0\u001b[0m\u001b[1;33m]\u001b[0m\u001b[1;33m[\u001b[0m\u001b[1;36m1\u001b[0m\u001b[1;33m]\u001b[0m\u001b[1;33m,\u001b[0m\u001b[0mrow_list\u001b[0m\u001b[1;33m[\u001b[0m\u001b[1;36m0\u001b[0m\u001b[1;33m]\u001b[0m\u001b[1;33m[\u001b[0m\u001b[1;36m2\u001b[0m\u001b[1;33m]\u001b[0m\u001b[1;33m]\u001b[0m\u001b[1;33m\u001b[0m\u001b[1;33m\u001b[0m\u001b[0m\n\u001b[1;32m---> 27\u001b[1;33m         \u001b[1;32mif\u001b[0m \u001b[1;33m(\u001b[0m\u001b[0mmisorientation\u001b[0m\u001b[1;33m(\u001b[0m\u001b[0meuler_one\u001b[0m\u001b[1;33m,\u001b[0m\u001b[0meuler_two\u001b[0m\u001b[1;33m)\u001b[0m\u001b[1;33m<\u001b[0m\u001b[1;36m5\u001b[0m\u001b[1;33m)\u001b[0m \u001b[1;32mand\u001b[0m \u001b[1;33m(\u001b[0m\u001b[0msqrt\u001b[0m\u001b[1;33m(\u001b[0m\u001b[1;33m(\u001b[0m\u001b[0mrow\u001b[0m\u001b[1;33m[\u001b[0m\u001b[1;36m3\u001b[0m\u001b[1;33m]\u001b[0m\u001b[1;33m-\u001b[0m\u001b[0mrow_list\u001b[0m\u001b[1;33m[\u001b[0m\u001b[1;36m0\u001b[0m\u001b[1;33m]\u001b[0m\u001b[1;33m[\u001b[0m\u001b[1;36m3\u001b[0m\u001b[1;33m]\u001b[0m\u001b[1;33m)\u001b[0m\u001b[1;33m**\u001b[0m\u001b[1;36m2\u001b[0m\u001b[1;33m+\u001b[0m\u001b[1;33m(\u001b[0m\u001b[0mrow\u001b[0m\u001b[1;33m[\u001b[0m\u001b[1;36m4\u001b[0m\u001b[1;33m]\u001b[0m\u001b[1;33m-\u001b[0m\u001b[0mrow_list\u001b[0m\u001b[1;33m[\u001b[0m\u001b[1;36m0\u001b[0m\u001b[1;33m]\u001b[0m\u001b[1;33m[\u001b[0m\u001b[1;36m4\u001b[0m\u001b[1;33m]\u001b[0m\u001b[1;33m)\u001b[0m\u001b[1;33m**\u001b[0m\u001b[1;36m2\u001b[0m\u001b[1;33m)\u001b[0m\u001b[1;33m<\u001b[0m\u001b[0mdistance_threshold\u001b[0m\u001b[1;33m)\u001b[0m\u001b[1;33m:\u001b[0m\u001b[1;33m\u001b[0m\u001b[1;33m\u001b[0m\u001b[0m\n\u001b[0m\u001b[0;32m     28\u001b[0m             \u001b[1;31m#print('True')\u001b[0m\u001b[1;33m\u001b[0m\u001b[1;33m\u001b[0m\u001b[1;33m\u001b[0m\u001b[0m\n\u001b[0;32m     29\u001b[0m             \u001b[1;32mreturn\u001b[0m \u001b[1;32mTrue\u001b[0m\u001b[1;33m,\u001b[0m \u001b[0mkey\u001b[0m\u001b[1;33m\u001b[0m\u001b[1;33m\u001b[0m\u001b[0m\n",
      "\u001b[1;32m<ipython-input-23-4c4c1af2eaa1>\u001b[0m in \u001b[0;36mmisorientation\u001b[1;34m(euler_one, euler_two)\u001b[0m\n\u001b[0;32m     21\u001b[0m \u001b[1;33m\u001b[0m\u001b[0m\n\u001b[0;32m     22\u001b[0m     \u001b[1;31m#misorientation matrix\u001b[0m\u001b[1;33m\u001b[0m\u001b[1;33m\u001b[0m\u001b[1;33m\u001b[0m\u001b[0m\n\u001b[1;32m---> 23\u001b[1;33m     \u001b[0mdelta_g\u001b[0m\u001b[1;33m=\u001b[0m\u001b[0mnp\u001b[0m\u001b[1;33m.\u001b[0m\u001b[0mdot\u001b[0m\u001b[1;33m(\u001b[0m\u001b[0mg_one\u001b[0m\u001b[1;33m,\u001b[0m\u001b[0mnp\u001b[0m\u001b[1;33m.\u001b[0m\u001b[0mlinalg\u001b[0m\u001b[1;33m.\u001b[0m\u001b[0minv\u001b[0m\u001b[1;33m(\u001b[0m\u001b[0mg_two\u001b[0m\u001b[1;33m)\u001b[0m\u001b[1;33m)\u001b[0m\u001b[1;33m\u001b[0m\u001b[1;33m\u001b[0m\u001b[0m\n\u001b[0m\u001b[0;32m     24\u001b[0m \u001b[1;33m\u001b[0m\u001b[0m\n\u001b[0;32m     25\u001b[0m \u001b[1;33m\u001b[0m\u001b[0m\n",
      "\u001b[1;31mKeyboardInterrupt\u001b[0m: "
     ]
    }
   ],
   "source": [
    "from collections import defaultdict\n",
    "\n",
    "#build function\n",
    "\n",
    "grains = defaultdict(list)\n",
    "row_array=[]\n",
    "row_list=()\n",
    "new_key=1\n",
    "euler_one=[0,0,0]\n",
    "euler_two=[0,0,0]\n",
    "\n",
    "distance_threshold=80000\n",
    "angle_threshold=5\n",
    "\n",
    "#add keys to prevent none return\n",
    "#while x < 5000:\n",
    "    \n",
    "#or randomly initialize?\n",
    "\n",
    "#is the pixel in the grains dictionary\n",
    "def indict(row):\n",
    "    for key in grains:\n",
    "        #print(key)\n",
    "        row_array=grains[key]\n",
    "        row_list=list(row_array) \n",
    "        euler_one=[row[0],row[1],row[2]]\n",
    "        #raises error if value for key does not exist, how to handle? \n",
    "        euler_two=[row_list[0][0],row_list[0][1],row_list[0][2]]\n",
    "        if (misorientation(euler_one,euler_two)<5) and (sqrt((row[3]-row_list[0][3])**2+(row[4]-row_list[0][4])**2)<distance_threshold):\n",
    "            #print('True')\n",
    "            return True, key\n",
    "        else:\n",
    "            #print('continue')\n",
    "            continue\n",
    "    return False,key\n",
    "              \n",
    "#dictionary starting value\n",
    "row_array=data[0]\n",
    "row_list=list(row_array)\n",
    "grains[0].append(row_list)\n",
    " \n",
    "    \n",
    "#use zip?\n",
    "for row in data: \n",
    "    #print(row)\n",
    "    truu, keey = indict(row)\n",
    "    if truu is True:\n",
    "        row_list=list(row)\n",
    "        grains[keey].append(row_list) \n",
    "#         print('new pixel')\n",
    "#         print(grains)\n",
    "    if truu is False:\n",
    "        row_list=list(row)\n",
    "        grains[keey+1].append(row_list)\n",
    "#         print('new grain')\n",
    "#         print(grains)\n",
    "\n",
    "#doesn't know when to stop\n",
    "    \n",
    "print(len(grains))"
   ]
  },
  {
   "cell_type": "code",
   "execution_count": null,
   "metadata": {
    "scrolled": true
   },
   "outputs": [],
   "source": [
    "count=[]\n",
    "for key in grains:\n",
    "    count.append(len(grains[key]))"
   ]
  },
  {
   "cell_type": "code",
   "execution_count": 19,
   "metadata": {},
   "outputs": [
    {
     "data": {
      "text/plain": [
       "<matplotlib.axes._subplots.AxesSubplot at 0x1f24df86e48>"
      ]
     },
     "execution_count": 19,
     "metadata": {},
     "output_type": "execute_result"
    },
    {
     "data": {
      "image/png": "[encoded data removed]",
      "text/plain": [
       "<Figure size 432x288 with 1 Axes>"
      ]
     },
     "metadata": {},
     "output_type": "display_data"
    }
   ],
   "source": [
    "plt.xlim(0, 20)\n",
    "sns.distplot(count, bins=100)\n",
    "#clusters too small due to distance parameter\n",
    "# from statistics import mean\n",
    "# print(mean(count))"
   ]
  },
  {
   "cell_type": "code",
   "execution_count": null,
   "metadata": {},
   "outputs": [],
   "source": [
    "#d=10, mean = 2.7\n",
    "#d=100&30, mean =3\n",
    "#d=283, mean = 3.5 \n",
    "#80000,3.5"
   ]
  },
  {
   "cell_type": "code",
   "execution_count": null,
   "metadata": {},
   "outputs": [],
   "source": [
    "#normalize, create grid of x and y values, find other method to compute size, difference in pdfs (all vs some)\n",
    "#difference in shape likely due to only comparing first member of grain, biases toward smaller grain sizes\n",
    "#use normalization by area if you want a histogram to approximate a pdf, but it's already being fitted, so divide by sample size"
   ]
  }
 ],
 "metadata": {
  "kernelspec": {
   "display_name": "Python 3",
   "language": "python",
   "name": "python3"
  },
  "language_info": {
   "codemirror_mode": {
    "name": "ipython",
    "version": 3
   },
   "file_extension": ".py",
   "mimetype": "text/x-python",
   "name": "python",
   "nbconvert_exporter": "python",
   "pygments_lexer": "ipython3",
   "version": "3.7.4"
  }
 },
 "nbformat": 4,
 "nbformat_minor": 2
}
