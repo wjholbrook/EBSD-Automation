{
 "cells": [
  {
   "cell_type": "code",
   "execution_count": 314,
   "metadata": {},
   "outputs": [],
   "source": [
    "#load libraries\n",
    "import numpy as np\n",
    "import math\n",
    "from math import sqrt\n",
    "from matplotlib.image import NonUniformImage\n",
    "import matplotlib.pyplot as plt\n",
    "%matplotlib inline\n",
    "from statistics import mean\n",
    "from scipy.stats import norm, lognorm\n",
    "import seaborn as sns\n",
    "sns.set()\n",
    "sns.set_style('white')\n",
    "from sklearn.neighbors import NearestNeighbors\n",
    "from scipy.spatial import distance, Voronoi, voronoi_plot_2d, ConvexHull, Delaunay\n",
    "from collections import defaultdict\n",
    "import itertools\n",
    "from matplotlib import cm\n",
    "from matplotlib.colors import ListedColormap, LinearSegmentedColormap\n",
    "import random\n",
    "import sys\n",
    "from itertools import combinations \n",
    "import time"
   ]
  },
  {
   "cell_type": "code",
   "execution_count": 337,
   "metadata": {},
   "outputs": [],
   "source": [
    "#load data - eulers, coords, grain IDs, edges\n",
    "raw_data = np.loadtxt('Raw Data/AZ31B Ecomp 10e0 Int_3 raw1.txt', skiprows=17, usecols=(0,1,2,3,4,8,9))"
   ]
  },
  {
   "cell_type": "code",
   "execution_count": 316,
   "metadata": {},
   "outputs": [],
   "source": [
    "a=sqrt(0.75)\n",
    "\n",
    "#12 hexagonal close-packed crystal symmetry operators\n",
    "op25=np.array([[1, 0, 0],[0, 1, 0],[0, 0, 1]])\n",
    "op26=np.array([[-0.5, a, 0],[-a, -0.5, 0],[0, 0, 1]])\n",
    "op27=np.array([[-0.5, -a, 0],[a, -0.5, 0],[0, 0, 1]])\n",
    "op28=np.array([[0.5, a, 0],[-a, 0.5, 0],[0, 0, 1]])\n",
    "op29=np.array([[-1, 0, 0],[0, -1, 0],[0, 0, 1]])\n",
    "op30=np.array([[0.5, -a, 0],[a, 0.5, 0],[0, 0, 1]])\n",
    "op31=np.array([[-0.5, -a, 0],[-a, 0.5, 0],[0, 0, -1]])\n",
    "op32=np.array([[1, 0, 0],[0, -1, 0],[0, 0, -1]])\n",
    "op33=np.array([[-0.5, a, 0],[a, 0.5, 0],[0, 0, -1]])\n",
    "op34=np.array([[0.5, a, 0],[a, -0.5, 0],[0, 0, -1]])\n",
    "op35=np.array([[-1, 0, 0],[0, 1, 0],[0, 0, -1]])\n",
    "op36=np.array([[0.5, -a, 0],[-a, -0.5, 0],[0, 0, -1]])\n",
    "\n",
    "#list of hexagonal sym ops\n",
    "hex_sym_ops=[op25,op26,op27,op28,op29,op30,op31,op32,op33,op34,op35,op36]"
   ]
  },
  {
   "cell_type": "code",
   "execution_count": 317,
   "metadata": {},
   "outputs": [],
   "source": [
    "#input is an array in radians as follows euler=[angle_one,angle_two,angle_three]\n",
    "def misorientation(euler_one, euler_two,sym_op):\n",
    "    #orientation matrices\n",
    "    g_one=np.array([[((math.cos(euler_one[0]))*(math.cos(euler_one[2]))-(math.sin(euler_one[0]))*(math.sin(euler_one[2]))*(math.cos(euler_one[1]))),((math.sin(euler_one[0]))*(math.cos(euler_one[2]))+(math.cos(euler_one[0]))*(math.sin(euler_one[2]))*(math.cos(euler_one[1]))),((math.sin(euler_one[2]))*(math.sin(euler_one[1])))],\n",
    "                [(-(math.cos(euler_one[0]))*(math.sin(euler_one[2]))-(math.sin(euler_one[0]))*(math.cos(euler_one[2]))*(math.cos(euler_one[1]))),(-(math.sin(euler_one[0]))*(math.sin(euler_one[2]))+(math.cos(euler_one[0]))*(math.cos(euler_one[2]))*(math.cos(euler_one[1]))),((math.cos(euler_one[2]))*(math.sin(euler_one[1])))],\n",
    "                [((math.sin(euler_one[0]))*(math.sin(euler_one[1]))),(-(math.cos(euler_one[0]))*(math.sin(euler_one[1]))),(math.cos(euler_one[1]))]        \n",
    "                ])\n",
    "   \n",
    "    #euler_two\n",
    "    g_two=np.array([[((math.cos(euler_two[0]))*(math.cos(euler_two[2]))-(math.sin(euler_two[0]))*(math.sin(euler_two[2]))*(math.cos(euler_two[1]))),((math.sin(euler_two[0]))*(math.cos(euler_two[2]))+(math.cos(euler_two[0]))*(math.sin(euler_two[2]))*(math.cos(euler_two[1]))),((math.sin(euler_two[2]))*(math.sin(euler_two[1])))],\n",
    "                [(-(math.cos(euler_two[0]))*(math.sin(euler_two[2]))-(math.sin(euler_two[0]))*(math.cos(euler_two[2]))*(math.cos(euler_two[1]))),(-(math.sin(euler_two[0]))*(math.sin(euler_two[2]))+(math.cos(euler_two[0]))*(math.cos(euler_two[2]))*(math.cos(euler_two[1]))),((math.cos(euler_two[2]))*(math.sin(euler_two[1])))],\n",
    "                [((math.sin(euler_two[0]))*(math.sin(euler_two[1]))),(-(math.cos(euler_two[0]))*(math.sin(euler_two[1]))),(math.cos(euler_two[1]))]        \n",
    "                ])\n",
    "    \n",
    "    #misorientation matrix\n",
    "    delta_g=np.matmul(g_one,np.linalg.inv(g_two))\n",
    "    \n",
    "    #formula from powerpoint\n",
    "    delta_gd=np.matmul(sym_op,delta_g)\n",
    "    \n",
    "    #misorientation angle\n",
    "    try:\n",
    "        theta=np.arccos((np.trace(delta_gd)-1)/2)\n",
    "    #error handling for rounding errors outside of domain\n",
    "    except:\n",
    "        if (((np.trace(delta_gd)-1)/2)>1):\n",
    "            theta=0\n",
    "        else:\n",
    "            theta=180\n",
    "\n",
    "    return math.degrees(theta)"
   ]
  },
  {
   "cell_type": "code",
   "execution_count": 318,
   "metadata": {},
   "outputs": [],
   "source": [
    "#find the minimum misorientation using sym ops\n",
    "def disorientation(euler_one, euler_two,sym_ops):\n",
    "    misorientation_list=[]\n",
    "    for sym_op in sym_ops:\n",
    "        misorientation_list.append(misorientation(euler_one, euler_two,sym_op))\n",
    "        \n",
    "    return min(misorientation_list)"
   ]
  },
  {
   "cell_type": "code",
   "execution_count": 319,
   "metadata": {},
   "outputs": [],
   "source": [
    "#creates dictionary of indices and neighboring indices\n",
    "def adj_dict(data):\n",
    "    coords=data[:,[3,4]]\n",
    "    tri=Delaunay(coords)\n",
    "    neigh=defaultdict(set)\n",
    "    for p in tri.simplices:\n",
    "        for i,j in itertools.combinations(p,2):\n",
    "            neigh[i].add(j)\n",
    "            neigh[j].add(i)\n",
    "    return neigh"
   ]
  },
  {
   "cell_type": "code",
   "execution_count": 320,
   "metadata": {},
   "outputs": [],
   "source": [
    "def rand_cmap(nlabels, type='bright', first_color_black=True, last_color_black=False, verbose=True):\n",
    "    \"\"\"\n",
    "    Creates a random colormap to be used together with matplotlib. Useful for segmentation tasks\n",
    "    :param nlabels: Number of labels (size of colormap)\n",
    "    :param type: 'bright' for strong colors, 'soft' for pastel colors\n",
    "    :param first_color_black: Option to use first color as black, True or False\n",
    "    :param last_color_black: Option to use last color as black, True or False\n",
    "    :param verbose: Prints the number of labels and shows the colormap. True or False\n",
    "    :return: colormap for matplotlib\n",
    "    \"\"\"\n",
    "    from matplotlib.colors import LinearSegmentedColormap\n",
    "    import colorsys\n",
    "    import numpy as np\n",
    "\n",
    "\n",
    "    if type not in ('bright', 'soft'):\n",
    "        print ('Please choose \"bright\" or \"soft\" for type')\n",
    "        return\n",
    "\n",
    "    if verbose:\n",
    "        print('Number of labels: ' + str(nlabels))\n",
    "\n",
    "    # Generate color map for bright colors, based on hsv\n",
    "    if type == 'bright':\n",
    "        randHSVcolors = [(np.random.uniform(low=0.0, high=1),\n",
    "                          np.random.uniform(low=0.2, high=1),\n",
    "                          np.random.uniform(low=0.9, high=1)) for i in range(nlabels)]\n",
    "\n",
    "        # Convert HSV list to RGB\n",
    "        randRGBcolors = []\n",
    "        for HSVcolor in randHSVcolors:\n",
    "            randRGBcolors.append(colorsys.hsv_to_rgb(HSVcolor[0], HSVcolor[1], HSVcolor[2]))\n",
    "\n",
    "        if first_color_black:\n",
    "            randRGBcolors[0] = [0, 0, 0]\n",
    "\n",
    "        if last_color_black:\n",
    "            randRGBcolors[-1] = [0, 0, 0]\n",
    "\n",
    "        random_colormap = LinearSegmentedColormap.from_list('new_map', randRGBcolors, N=nlabels)\n",
    "\n",
    "    # Generate soft pastel colors, by limiting the RGB spectrum\n",
    "    if type == 'soft':\n",
    "        low = 0.6\n",
    "        high = 0.95\n",
    "        randRGBcolors = [(np.random.uniform(low=low, high=high),\n",
    "                          np.random.uniform(low=low, high=high),\n",
    "                          np.random.uniform(low=low, high=high)) for i in xrange(nlabels)]\n",
    "\n",
    "        if first_color_black:\n",
    "            randRGBcolors[0] = [0, 0, 0]\n",
    "\n",
    "        if last_color_black:\n",
    "            randRGBcolors[-1] = [0, 0, 0]\n",
    "        random_colormap = LinearSegmentedColormap.from_list('new_map', randRGBcolors, N=nlabels)\n",
    "\n",
    "    # Display colorbar\n",
    "    if verbose:\n",
    "        from matplotlib import colors, colorbar\n",
    "        from matplotlib import pyplot as plt\n",
    "        fig, ax = plt.subplots(1, 1, figsize=(15, 0.5))\n",
    "\n",
    "        bounds = np.linspace(0, nlabels, nlabels + 1)\n",
    "        norm = colors.BoundaryNorm(bounds, nlabels)\n",
    "\n",
    "        cb = colorbar.ColorbarBase(ax, cmap=random_colormap, norm=norm, spacing='proportional', ticks=None,\n",
    "                                   boundaries=bounds, format='%1i', orientation=u'horizontal')\n",
    "\n",
    "    return random_colormap"
   ]
  },
  {
   "cell_type": "code",
   "execution_count": 321,
   "metadata": {},
   "outputs": [],
   "source": [
    "def plot(array,mark):\n",
    "    sns.scatterplot(x=array[:,3],y=array[:,4],marker=mark,hue=array[:,5],palette=new_cmap)"
   ]
  },
  {
   "cell_type": "code",
   "execution_count": 322,
   "metadata": {},
   "outputs": [],
   "source": [
    "new_cmap = rand_cmap(100, type='bright', first_color_black=False, last_color_black=False, verbose=False)"
   ]
  },
  {
   "cell_type": "code",
   "execution_count": 323,
   "metadata": {},
   "outputs": [],
   "source": [
    "sys.setrecursionlimit(1000000) "
   ]
  },
  {
   "cell_type": "code",
   "execution_count": 324,
   "metadata": {},
   "outputs": [],
   "source": [
    "def rec_vor(row_ID,grain_ID,data_sample,angle):\n",
    "    #assign angle\n",
    "    euler_one=[data_sample[row_ID,0],data_sample[row_ID,1],data_sample[row_ID,2]]\n",
    "    #sample each surrounding point\n",
    "    for row_ID_2 in vor_adj[row_ID]:\n",
    "        #make sure grain grows outwards, 'memoization'\n",
    "        if data_sample[row_ID_2,5]==0:\n",
    "            #assign second angle\n",
    "            euler_two=[data_sample[row_ID_2,0],data_sample[row_ID_2,1],data_sample[row_ID_2,2]]\n",
    "            #if they have a similar orientation, add to the grain, recursivly search\n",
    "#             if (misorientation(euler_one,euler_two) <= angle):\n",
    "            if (disorientation(euler_one, euler_two,hex_sym_ops) <= angle):\n",
    "                # prevent infinite flip-flop recursion\n",
    "                if data_sample[row_ID_2,5] != grain_ID:\n",
    "                    data_sample[row_ID_2,5]=grain_ID\n",
    "                    rec_vor(row_ID_2,grain_ID,data_sample,angle)"
   ]
  },
  {
   "cell_type": "code",
   "execution_count": 325,
   "metadata": {},
   "outputs": [],
   "source": [
    "#label the grains in an array\n",
    "def rec_grains(data_sample,angle=15):\n",
    "    #assign first grain ID\n",
    "    grain_ID=1\n",
    "    #set all grains to 0\n",
    "    data_sample[:,5]=0\n",
    "    #loop until \n",
    "    while True:\n",
    "        #ID is 0 if unassigned\n",
    "        unassigned=np.where(data_sample[:,5]==0) \n",
    "        #if all grains are assigned\n",
    "        if len(unassigned[0])==0:\n",
    "            #returned the labeled array and plot a graph\n",
    "#             sns.scatterplot(x=data_sample[:,3],y=data_sample[:,4],marker='+',hue=data_sample[:,5],palette=new_cmap)\n",
    "            return data_sample\n",
    "        #find first\n",
    "        row_ID=unassigned[0][0]\n",
    "        data_sample[row_ID,5]=1\n",
    "        rec_vor(row_ID,grain_ID,data_sample,angle)\n",
    "        grain_ID+=1                    "
   ]
  },
  {
   "cell_type": "code",
   "execution_count": 338,
   "metadata": {},
   "outputs": [],
   "source": [
    "#create adjacency dict\n",
    "new_vor_adj=adj_dict(raw_data)"
   ]
  },
  {
   "cell_type": "code",
   "execution_count": 339,
   "metadata": {
    "scrolled": true
   },
   "outputs": [],
   "source": [
    "#algorithm generated\n",
    "labeled_raw_data=rec_grains(raw_data)"
   ]
  },
  {
   "cell_type": "code",
   "execution_count": 340,
   "metadata": {},
   "outputs": [
    {
     "name": "stdout",
     "output_type": "stream",
     "text": [
      "87017\n"
     ]
    }
   ],
   "source": [
    "print(len(labeled_raw_data))"
   ]
  },
  {
   "cell_type": "code",
   "execution_count": 168,
   "metadata": {},
   "outputs": [],
   "source": [
    "# #actual image\n",
    "# plot(raw_data,'+')"
   ]
  },
  {
   "cell_type": "code",
   "execution_count": 341,
   "metadata": {},
   "outputs": [
    {
     "name": "stdout",
     "output_type": "stream",
     "text": [
      "87017\n"
     ]
    }
   ],
   "source": [
    "#slice raw data\n",
    "coords=labeled_raw_data[:,(3,4)]\n",
    "grain_IDs=labeled_raw_data[:,5]\n",
    "print(len(grain_IDs))\n",
    "grain_IDs_and_edges=labeled_raw_data[:,(5,6)]\n",
    "coords_and_grains=labeled_raw_data[:,(3,4,5)]\n",
    "coords_and_grains_copy=np.copy(coords_and_grains)"
   ]
  },
  {
   "cell_type": "code",
   "execution_count": 152,
   "metadata": {},
   "outputs": [],
   "source": [
    "uniquegrains=np.unique(labeled_raw_data[:,5],return_counts=True)\n",
    "IDs, count = uniquegrains"
   ]
  },
  {
   "cell_type": "code",
   "execution_count": 153,
   "metadata": {},
   "outputs": [],
   "source": [
    "#go through IDs to see if they have an edge pixel\n",
    "for ID in IDs:\n",
    "    #all rows with the ID\n",
    "    ID_rows=grain_IDs_and_edges[np.where(grain_IDs_and_edges[:,0] == ID)]\n",
    "    #search for one in edge column\n",
    "    for row in ID_rows:\n",
    "        #if it's an edge\n",
    "        if row[1]==1:\n",
    "            #double count in the same index as the edge ID\n",
    "            ind=np.where(IDs == ID)\n",
    "            count[int(ind[0])]*=2\n",
    "            #only double once\n",
    "            break\n",
    "        else:\n",
    "            continue"
   ]
  },
  {
   "cell_type": "code",
   "execution_count": 170,
   "metadata": {},
   "outputs": [
    {
     "data": {
      "text/plain": [
       "Text(0, 0.5, 'Frequency')"
      ]
     },
     "execution_count": 170,
     "metadata": {},
     "output_type": "execute_result"
    },
    {
     "data": {
      "image/png": "[encoded data removed]",
      "text/plain": [
       "<Figure size 432x288 with 1 Axes>"
      ]
     },
     "metadata": {},
     "output_type": "display_data"
    }
   ],
   "source": [
    "#if density doesn't work, just normalize by sum, bin size determined by \n",
    "p_hist, p_bin_edges = np.histogram(count, bins=np.arange(249), density=True)\n",
    "p_hist = np.append(p_hist, 0)\n",
    "p=p_hist\n",
    "p[p==0]=[0.0000000000001]\n",
    "#p_hist = np.append(p_hist, 0)\n",
    "# #probability vector\n",
    "# print(p_hist)\n",
    "# #grain IDs\n",
    "# print(p_bin_edges)\n",
    "sns.distplot(count, p_bin_edges) \n",
    "plt.xlim(0, 250)\n",
    "plt.ylim(0, 0.025)\n",
    "plt.title(\"Grain Size Histogram\")\n",
    "plt.xlabel('Grain Size')\n",
    "plt.ylabel('Frequency')\n",
    "\n",
    "# plt.hist(count, bins=np.arange(249), range=(0,250), density=True)"
   ]
  },
  {
   "cell_type": "code",
   "execution_count": 155,
   "metadata": {},
   "outputs": [],
   "source": [
    "#get area of each voronoi region\n",
    "def voronoi_volumes(points):\n",
    "    #create voronoi diagram\n",
    "    v = Voronoi(points)\n",
    "    #create zeros of len points\n",
    "    vol = np.zeros(v.npoints)\n",
    "    #create vol index and get index of voronoi region for input point \n",
    "    for i, reg_num in enumerate(v.point_region):\n",
    "        #get indices of each region\n",
    "        indices = v.regions[reg_num]\n",
    "        #-1 means vertex outside diagram\n",
    "        if -1 in indices: # some regions can be opened\n",
    "            #maybe instead of inf, ignore?\n",
    "            #vol[i] = np.inf\n",
    "            vol[i] = 0\n",
    "        else:\n",
    "            #can compute area, use convex hull\n",
    "            vol[i] = ConvexHull(v.vertices[indices]).volume\n",
    "    #can use grain IDs, since areas match input point\n",
    "    return vol"
   ]
  },
  {
   "cell_type": "code",
   "execution_count": 156,
   "metadata": {},
   "outputs": [],
   "source": [
    "def random_vor(sample,binsize=249):\n",
    "    #choose random points\n",
    "    random_coords_and_grains=coords_and_grains[np.random.choice(coords_and_grains.shape[0], sample, replace=False), :]\n",
    "    random_coords=random_coords_and_grains[:,0:2]\n",
    "    random_grain_IDs=random_coords_and_grains[:,2]\n",
    "    \n",
    "    #get areas\n",
    "    vol=voronoi_volumes(random_coords)   \n",
    "    #turn area into percent of total area\n",
    "    norm_vol=(vol)/sum(vol)\n",
    "    #multiply by total number of pixels to find how many pixels in each area\n",
    "    scale_vol=norm_vol*87017\n",
    "    #round to nearest whole number\n",
    "    round_vol=np.round(scale_vol,decimals=0)\n",
    "    #create array, col1 is ID, col2 is area\n",
    "    grain_IDs_and_areas=np.stack((random_grain_IDs,round_vol),axis=1)\n",
    "    #get unique IDs and their count\n",
    "    unique_IDs,unique_IDs_count=np.unique(grain_IDs_and_areas[:,0],return_counts=True)\n",
    "    #create array to hold unique IDs and their sizes added together\n",
    "    unique_grain_IDs_and_total_areas=np.stack((unique_IDs,np.zeros(len(unique_IDs))),axis=1)\n",
    "    \n",
    "    #construct IDs and count\n",
    "    for row in unique_grain_IDs_and_total_areas:\n",
    "        grain=grain_IDs_and_areas[np.where(grain_IDs_and_areas[:,0] == row[0])]\n",
    "        total=np.sum(grain[:,1])\n",
    "        row[1]=total\n",
    "    \n",
    "    #return count for hist\n",
    "    count = unique_grain_IDs_and_total_areas[:,1]\n",
    "    \n",
    "    q_hist, q_bin_edges = np.histogram(count, bins=np.arange(binsize), range=(0,250), density=True)\n",
    "    q_hist = np.append(q_hist, 0)\n",
    "    q=q_hist\n",
    "    q[q==0]=[0.0000000000001]\n",
    "    return q"
   ]
  },
  {
   "cell_type": "code",
   "execution_count": 157,
   "metadata": {},
   "outputs": [],
   "source": [
    "def new_p(binsize):\n",
    "#     plt.xlim(0,250)\n",
    "#     plt.hist(count, bins=np.arange(249), range=(0,250), density=True)\n",
    "\n",
    "    uniquegrains=np.unique(raw_data[:,5],return_counts=True)\n",
    "    IDs, count = uniquegrains\n",
    "    \n",
    "    p_hist, p_bin_edges = np.histogram(count, bins=np.arange(binsize), range=(0,250), density=True)\n",
    "    p_hist = np.append(p_hist, 0)\n",
    "    p_hist[p_hist==0]=[0.0000000000001]\n",
    "    p=p_hist\n",
    "    return p"
   ]
  },
  {
   "cell_type": "code",
   "execution_count": 326,
   "metadata": {},
   "outputs": [],
   "source": [
    "def grain_rect_count(percent,binsize=249):\n",
    "    percent=percent/100\n",
    "    row_list=[]\n",
    "    for index in range(0,len(coords_and_grains)):\n",
    "        if (coords_and_grains_copy[index,0]<int((110*percent))) and (coords_and_grains_copy[index,1]<int((110*percent))):\n",
    "            row_list.append(coords_and_grains_copy[index])\n",
    "        else:\n",
    "            continue\n",
    "\n",
    "    row_tuple=tuple(row_list)\n",
    "    coords_and_grains_slice=np.vstack(row_tuple)\n",
    "    grains_slice=coords_and_grains_slice[:,2]\n",
    "    uniquegrains=np.unique(grains_slice,return_counts=True)\n",
    "    IDs, count = uniquegrains\n",
    "    \n",
    "    #create array to hold grain IDs and edge column\n",
    "    edges=np.zeros((len(coords_and_grains_slice),1))\n",
    "    coords_and_grain_slice_with_edges=np.concatenate((coords_and_grains_slice,edges.reshape(-1,1)),axis=1)\n",
    "    \n",
    "    #min x\n",
    "    left_edge=np.amin(coords_and_grains_slice[:,0])\n",
    "    #max x\n",
    "    right_edge=np.amax(coords_and_grains_slice[:,0])\n",
    "    #min y\n",
    "    bottom_edge=np.amin(coords_and_grains_slice[:,1])\n",
    "    #max y\n",
    "    top_edge=np.amax(coords_and_grains_slice[:,1])\n",
    "    #assign edge grains\n",
    "    for row in coords_and_grain_slice_with_edges:\n",
    "        #x values\n",
    "        if row[0] <= left_edge or row[0] >= right_edge:\n",
    "            #it's an edge\n",
    "            row[3]=1\n",
    "        #y values\n",
    "        if row[1] <= bottom_edge or row[1] >= top_edge:\n",
    "            #it's an edge\n",
    "            row[3]=1\n",
    "            \n",
    "    #plot showing edges\n",
    "#     sns.scatterplot(x=coords_and_grain_slice_with_edges[:,0],y=coords_and_grain_slice_with_edges[:,1],marker='o',hue=coords_and_grain_slice_with_edges[:,3])\n",
    "            \n",
    "    #slice array for edge calculation\n",
    "    grain_slice_and_edges=coords_and_grain_slice_with_edges[:,2:4]\n",
    "    \n",
    "    #double window edge grains\n",
    "    for ID in IDs:\n",
    "    #all rows with the ID\n",
    "        ID_rows=grain_slice_and_edges[np.where(grain_slice_and_edges[:,0] == ID)]\n",
    "        #search for one in edge column\n",
    "        for row in ID_rows:\n",
    "            #if it's an edge\n",
    "            if row[1]==1:\n",
    "                #double count in the same index as the edge ID\n",
    "                ind=np.where(IDs == ID)\n",
    "                count[int(ind[0])]*=2\n",
    "                #only double once\n",
    "                break\n",
    "            else:\n",
    "                continue\n",
    "    \n",
    "#     plt.xlim(0,250)\n",
    "#     plt.hist(count, bins=np.arange(binsize), range=(0,250), density=True)\n",
    "    \n",
    "    q_hist, q_bin_edges = np.histogram(count, bins=np.arange(binsize), range=(0,250), density=True)\n",
    "    q_hist = np.append(q_hist, 0)\n",
    "    q=q_hist\n",
    "    q[q==0]=[0.0000000000001]\n",
    "    return q\n",
    "#     return count, q_bin_edges\n",
    "#     return q,q_bin_edges"
   ]
  },
  {
   "cell_type": "code",
   "execution_count": 342,
   "metadata": {},
   "outputs": [],
   "source": [
    "def random(sample,binsize=249):\n",
    "    #random_count = np.random.choice(count, sample, replace=False)\n",
    "    random_grain_IDs=np.random.choice(grain_IDs,sample, replace=False)\n",
    "    random_unique_grains=np.unique(random_grain_IDs,return_counts=True)\n",
    "    random_ID, random_count = random_unique_grains\n",
    "    scale=(int(len(grain_IDs)))/(sample)\n",
    "    scaled_random_count=scale*random_count\n",
    "    #return scaled_random_count\n",
    "    q_hist, q_bin_edges = np.histogram(scaled_random_count, bins=np.arange(binsize), range=(0,250), density=True)\n",
    "    q_hist = np.append(q_hist, 0)\n",
    "    q=q_hist\n",
    "    q[q==0]=[0.0000000000001]\n",
    "    return q\n",
    "    #return scaled_random_count, q_bin_edges"
   ]
  },
  {
   "cell_type": "code",
   "execution_count": 328,
   "metadata": {},
   "outputs": [],
   "source": [
    "def grid(res,start=0,binsize=249):\n",
    "    grid_grain_IDs=grain_IDs[start::res]\n",
    "    grid_unique_grains=np.unique(grid_grain_IDs,return_counts=True)\n",
    "    grid_ID, grid_count = grid_unique_grains\n",
    "    scale=(int(len(grain_IDs)))/(int(len(grid_grain_IDs)))\n",
    "    scaled_grid_count=scale*grid_count\n",
    "    \n",
    "#     plt.xlim(0,250)\n",
    "#     plt.hist(scaled_grid_count, bins=np.arange(binsize), range=(0,250), density=True, rwidth=10)\n",
    "    \n",
    "    q_hist, q_bin_edges = np.histogram(scaled_grid_count, bins=np.arange(binsize), range=(0,250), density=True)\n",
    "    q_hist = np.append(q_hist, 0)\n",
    "    q=q_hist\n",
    "    q[q==0]=[0.0000000000001]\n",
    "    return q"
   ]
  },
  {
   "cell_type": "code",
   "execution_count": 329,
   "metadata": {},
   "outputs": [],
   "source": [
    "def fine_grid(res,binsize=249):\n",
    "    grid_grain_IDs=np.delete(grain_IDs, np.arange(0, grain_IDs.size, res))\n",
    "    grid_unique_grains=np.unique(grid_grain_IDs,return_counts=True)\n",
    "    grid_ID, grid_count = grid_unique_grains\n",
    "    scale=(int(len(grain_IDs)))/(int(len(grid_grain_IDs)))\n",
    "    scaled_grid_count=scale*grid_count\n",
    "    \n",
    "#     plt.xlim(0,250)\n",
    "#     plt.hist(scaled_grid_count, bins=np.arange(binsize), range=(0,250), density=True, rwidth=10)\n",
    "    \n",
    "    q_hist, q_bin_edges = np.histogram(scaled_grid_count, bins=np.arange(binsize), range=(0,250), density=True)\n",
    "    q_hist = np.append(q_hist, 0)\n",
    "    q=q_hist\n",
    "    q[q==0]=[0.0000000000001]\n",
    "    return q "
   ]
  },
  {
   "cell_type": "code",
   "execution_count": 162,
   "metadata": {},
   "outputs": [],
   "source": [
    "def kl_divergence(p, q, binsize=249):\n",
    "    return sum(p[i] * np.log2(p[i]/q[i]) for i in range(binsize))\n",
    "\n",
    "def js_divergence(p, q, binsize=249):\n",
    "    m = 0.5 * (p + q)\n",
    "    return 0.5 * kl_divergence(p, m, binsize) + 0.5 * kl_divergence(q, m, binsize)"
   ]
  },
  {
   "cell_type": "code",
   "execution_count": 163,
   "metadata": {},
   "outputs": [],
   "source": [
    "def js_divergence_scipy(hist1,hist2):\n",
    "    #square distance to find divergence, use log2\n",
    "    return (distance.jensenshannon(hist1, hist2, base=2))**2"
   ]
  },
  {
   "cell_type": "code",
   "execution_count": 345,
   "metadata": {},
   "outputs": [],
   "source": [
    "#x axis as percent\n",
    "\n",
    "random_percent=[]\n",
    "for i in range (1,87000,100):\n",
    "    random_percent.append((i/87000)*100)\n",
    "    \n",
    "grid_percent=[]\n",
    "for i in range(1,50,1):\n",
    "    grid_percent.append(((87017/i)/87017)*100)\n",
    "    \n",
    "fine_grid_percent=[]\n",
    "for i in range(2,100,1):\n",
    "    fine_grid_percent.append(((87017-(87017/i))/87017)*100)\n",
    "    \n",
    "window_percent=[]\n",
    "for i in range(2,100,1):\n",
    "    window_percent.append(i)"
   ]
  },
  {
   "cell_type": "code",
   "execution_count": 336,
   "metadata": {},
   "outputs": [
    {
     "name": "stdout",
     "output_type": "stream",
     "text": [
      "8701\n"
     ]
    }
   ],
   "source": [
    "print(len(grain_IDs))"
   ]
  },
  {
   "cell_type": "code",
   "execution_count": 343,
   "metadata": {},
   "outputs": [],
   "source": [
    "#using scipy calculation\n",
    "\n",
    "random_divergence_scipy=[]\n",
    "for i in range (1,87000,100):\n",
    "    random_divergence_scipy.append(js_divergence_scipy(new_p(249), random(i)))\n",
    "\n",
    "grid_divergence_scipy=[]\n",
    "for i in range(1,50,1):\n",
    "    grid_divergence_scipy.append(js_divergence_scipy(new_p(249),grid(i)))\n",
    "    \n",
    "fine_grid_divergence_scipy=[]\n",
    "for i in range(2,100,1):\n",
    "    fine_grid_divergence_scipy.append(js_divergence_scipy(new_p(249), fine_grid(i)))\n",
    "\n",
    "window_divergence_scipy=[]\n",
    "for i in range(2,100,1):\n",
    "    window_divergence_scipy.append(js_divergence_scipy(new_p(249), grain_rect_count(sqrt(i*100))))"
   ]
  },
  {
   "cell_type": "code",
   "execution_count": 81,
   "metadata": {},
   "outputs": [],
   "source": [
    "# vor_percent=[]\n",
    "# for i in range (100,87000,100):\n",
    "#     random_percent.append((i/87000)*100)\n",
    "    \n",
    "# vor_divergence_scipy=[]\n",
    "# for i in range (100,87000,100):\n",
    "#     random_divergence_scipy.append(js_divergence_scipy(new_p(249), random_vor(i)))"
   ]
  },
  {
   "cell_type": "code",
   "execution_count": 346,
   "metadata": {},
   "outputs": [
    {
     "data": {
      "text/plain": [
       "<matplotlib.axes._subplots.AxesSubplot at 0x1c676645e88>"
      ]
     },
     "execution_count": 346,
     "metadata": {},
     "output_type": "execute_result"
    },
    {
     "data": {
      "image/png": "[encoded data removed]",
      "text/plain": [
       "<Figure size 432x288 with 1 Axes>"
      ]
     },
     "metadata": {},
     "output_type": "display_data"
    }
   ],
   "source": [
    "plt.xlim(0, 100)\n",
    "plt.ylim(0, 1)\n",
    "# plt.title('JS Divergence of Labeling Algorithm and Actual Image')\n",
    "plt.xlabel('Percent of Total Available Data Points')\n",
    "plt.ylabel('JS Divergence')\n",
    "\n",
    "#SciPy, log2\n",
    "#random\n",
    "sns.scatterplot(random_percent, random_divergence_scipy, s=100, color=\"red\", marker=\"o\", label='random')\n",
    "#grid\n",
    "sns.scatterplot(grid_percent, grid_divergence_scipy, s=100, color=\"green\", marker=\"o\", label='grid')\n",
    "#fine grid\n",
    "sns.scatterplot(fine_grid_percent, fine_grid_divergence_scipy, s=100, color=\"blue\", marker=\"o\", label='fine grid')\n",
    "#window\n",
    "sns.scatterplot(window_percent, window_divergence_scipy, s=100, color=\"purple\", marker=\"o\", label='window')"
   ]
  },
  {
   "cell_type": "code",
   "execution_count": 310,
   "metadata": {},
   "outputs": [
    {
     "name": "stdout",
     "output_type": "stream",
     "text": [
      "888\n"
     ]
    }
   ],
   "source": [
    "print(len(random_divergence_scipy))"
   ]
  },
  {
   "cell_type": "code",
   "execution_count": 52,
   "metadata": {},
   "outputs": [],
   "source": [
    "#rewrite to support two arrays?, voronoi, grid-based, check to see if grid arrays are identical"
   ]
  },
  {
   "cell_type": "code",
   "execution_count": 233,
   "metadata": {},
   "outputs": [],
   "source": [
    "def grain_rect_count(percent,dat,binsize=249):\n",
    "    #slice raw data\n",
    "    coords=dat[:,(3,4)]\n",
    "    grain_IDs=dat[:,5]\n",
    "    grain_IDs_and_edges=dat[:,(5,6)]\n",
    "    coords_and_grains=dat[:,(3,4,5)]\n",
    "    coords_and_grains_copy=np.copy(coords_and_grains)\n",
    "    \n",
    "    percent=percent/100\n",
    "    row_list=[]\n",
    "    for index in range(0,len(_coords_and_grains)):\n",
    "        if (_coords_and_grains_copy[index,0]<int((110*percent))) and (_coords_and_grains_copy[index,1]<int((110*percent))):\n",
    "            row_list.append(_coords_and_grains_copy[index])\n",
    "        else:\n",
    "            continue\n",
    "\n",
    "    row_tuple=tuple(row_list)\n",
    "    coords_and_grains_slice=np.vstack(row_tuple)\n",
    "    grains_slice=coords_and_grains_slice[:,2]\n",
    "    uniquegrains=np.unique(grains_slice,return_counts=True)\n",
    "    IDs, count = uniquegrains\n",
    "    \n",
    "#     #create array to hold grain IDs and edge column\n",
    "#     edges=np.zeros((len(coords_and_grains_slice),1))\n",
    "#     coords_and_grain_slice_with_edges=np.concatenate((coords_and_grains_slice,edges.reshape(-1,1)),axis=1)\n",
    "    \n",
    "#     #min x\n",
    "#     left_edge=np.amin(coords_and_grains_slice[:,0])\n",
    "#     #max x\n",
    "#     right_edge=np.amax(coords_and_grains_slice[:,0])\n",
    "#     #min y\n",
    "#     bottom_edge=np.amin(coords_and_grains_slice[:,1])\n",
    "#     #max y\n",
    "#     top_edge=np.amax(coords_and_grains_slice[:,1])\n",
    "#     #assign edge grains\n",
    "#     for row in coords_and_grain_slice_with_edges:\n",
    "#         #x values\n",
    "#         if row[0] <= left_edge or row[0] >= right_edge:\n",
    "#             #it's an edge\n",
    "#             row[3]=1\n",
    "#         #y values\n",
    "#         if row[1] <= bottom_edge or row[1] >= top_edge:\n",
    "#             #it's an edge\n",
    "#             row[3]=1\n",
    "            \n",
    "#     #slice array for edge calculation\n",
    "#     grain_slice_and_edges=coords_and_grain_slice_with_edges[:,2:4]\n",
    "    \n",
    "#     #double window edge grains\n",
    "#     for ID in IDs:\n",
    "#     #all rows with the ID\n",
    "#         ID_rows=grain_slice_and_edges[np.where(grain_slice_and_edges[:,0] == ID)]\n",
    "#         #search for one in edge column\n",
    "#         for row in ID_rows:\n",
    "#             #if it's an edge\n",
    "#             if row[1]==1:\n",
    "#                 #double count in the same index as the edge ID\n",
    "#                 ind=np.where(IDs == ID)\n",
    "#                 count[int(ind[0])]*=2\n",
    "#                 #only double once\n",
    "#                 break\n",
    "#             else:\n",
    "#                 continue\n",
    "    \n",
    "#     plt.xlim(0,250)\n",
    "#     plt.hist(count, bins=np.arange(binsize), range=(0,250), density=True)\n",
    "    \n",
    "    q_hist, q_bin_edges = np.histogram(count, bins=np.arange(binsize), range=(0,250), density=True)\n",
    "    q_hist = np.append(q_hist, 0)\n",
    "    q=q_hist\n",
    "    q[q==0]=[0.0000000000001]\n",
    "    return q"
   ]
  },
  {
   "cell_type": "code",
   "execution_count": 299,
   "metadata": {},
   "outputs": [],
   "source": [
    "def sparse_random(sam,dat2,binsize=249):\n",
    "#     print(len(dat2))\n",
    "    coords=dat2[:,(3,4)]\n",
    "    grain_IDs=dat2[:,5]\n",
    "#     print(len(grain_IDs))\n",
    "    grain_IDs_and_edges=dat2[:,(5,6)]\n",
    "    coords_and_grains=dat2[:,(3,4,5)]\n",
    "    coords_and_grains_copy=np.copy(coords_and_grains)\n",
    "    \n",
    "    print(len(grain_IDs))\n",
    "    random_grain_IDs=np.random.choice(grain_IDs,sam,replace=False)\n",
    "    random_unique_grains=np.unique(random_grain_IDs,return_counts=True)\n",
    "    random_ID, random_count = random_unique_grains\n",
    "    scale=(int(len(grain_IDs)))/(sam)\n",
    "    scaled_random_count=scale*random_count\n",
    "    q_hist, q_bin_edges = np.histogram(scaled_random_count, bins=np.arange(binsize), range=(0,250), density=True)\n",
    "    q_hist = np.append(q_hist, 0)\n",
    "    q=q_hist\n",
    "    q[q==0]=[0.0000000000001]\n",
    "    return q"
   ]
  },
  {
   "cell_type": "code",
   "execution_count": 300,
   "metadata": {},
   "outputs": [],
   "source": [
    "def sparse(dat1,k,sam):\n",
    "    #label array with algorithm\n",
    "#     print(len(dat1))\n",
    "    labeled_raw_data=rec_grains(dat1)\n",
    "    \n",
    "#     print(sam)\n",
    "    \n",
    "#     #convert percent to sample size\n",
    "#     sample2=int(len(labeled_raw_data)*(k/10))\n",
    "#     print(sample2)\n",
    "\n",
    "#     #slice raw data\n",
    "#     coords=labeled_raw_data[:,(3,4)]\n",
    "#     grain_IDs=labeled_raw_data[:,5]\n",
    "#     grain_IDs_and_edges=labeled_raw_data[:,(5,6)]\n",
    "#     coords_and_grains=labeled_raw_data[:,(3,4,5)]\n",
    "#     coords_and_grains_copy=np.copy(coords_and_grains)\n",
    "\n",
    "    #return IDs and count\n",
    "#     uniquegrains=np.unique(labeled_raw_data[:,5],return_counts=True)\n",
    "#     IDs, count = uniquegrains\n",
    "\n",
    "    #add edges later  \n",
    "    \n",
    "    #i and raw_data?!\n",
    "\n",
    "    #append values to arrays\n",
    "    sparse_percent.append(k)\n",
    "#     sparse_window.append(js_divergence_scipy(new_p(249), grain_rect_count(sqrt(k*100),labeled_raw_data))) \n",
    "    sparse_random.append(js_divergence_scipy(new_p(249), sparse_random(sam,labeled_raw_data)))\n",
    "# #     if percent \n",
    "# #     sparse_grid=[]\n",
    "# #     if percent \n",
    "# #     sparse_finegrid=[]"
   ]
  },
  {
   "cell_type": "code",
   "execution_count": 301,
   "metadata": {},
   "outputs": [],
   "source": [
    "#load data - eulers, coords, grain IDs, edges\n",
    "raw_data = np.loadtxt('Raw Data/AZ31B Ecomp 10e0 Int_3 raw1.txt', skiprows=17, usecols=(0,1,2,3,4,8,9))"
   ]
  },
  {
   "cell_type": "code",
   "execution_count": 305,
   "metadata": {},
   "outputs": [
    {
     "name": "stdout",
     "output_type": "stream",
     "text": [
      "10\n"
     ]
    },
    {
     "name": "stderr",
     "output_type": "stream",
     "text": [
      "C:\\Users\\GREEN\\AppData\\Local\\Continuum\\anaconda3\\lib\\site-packages\\ipykernel_launcher.py:23: RuntimeWarning: invalid value encountered in arccos\n"
     ]
    },
    {
     "name": "stdout",
     "output_type": "stream",
     "text": [
      "8701\n",
      "20\n",
      "17402\n",
      "30\n",
      "26103\n",
      "40\n",
      "34804\n",
      "50\n",
      "43505\n",
      "60\n",
      "52206\n",
      "70\n",
      "60907\n",
      "80\n",
      "69608\n",
      "90\n",
      "78309\n",
      "100\n",
      "87010\n"
     ]
    }
   ],
   "source": [
    "#one array to hold all percents\n",
    "sparse_percent=[]\n",
    "#arrays to hold divergences\n",
    "sparse_random=[]\n",
    "sparse_grid=[]\n",
    "sparse_finegrid=[]\n",
    "sparse_window=[]\n",
    "\n",
    "#need to determine appropriate percents\n",
    "for k in range(10,110,10):\n",
    "    print(k)\n",
    "    #convert percent to sample size\n",
    "    sample1=int(len(labeled_raw_data)*(k/10))\n",
    "#     print(sample1)\n",
    "    #randomly sample raw data\n",
    "    raw_data_sample=raw_data[np.random.choice(raw_data.shape[0], sample1, replace=False), :]\n",
    "    #create adjacency dict\n",
    "    vor_adj=adj_dict(raw_data_sample)\n",
    "    #call function\n",
    "#     print(len(raw_data_sample))\n",
    "    sparse(raw_data_sample,k,sample1)"
   ]
  },
  {
   "cell_type": "code",
   "execution_count": 306,
   "metadata": {},
   "outputs": [
    {
     "name": "stdout",
     "output_type": "stream",
     "text": [
      "[10, 20, 30, 40, 50, 60, 70, 80, 90, 100]\n",
      "[0.7753529288614878, 0.5798654001290288, 0.4123104927231323, 0.2969115285169715, 0.21355350829389336, 0.16610151872416812, 0.1329923243366061, 0.09707935225515262, 0.09020272139888601, 0.09155299642811693]\n"
     ]
    }
   ],
   "source": [
    "print(sparse_percent)\n",
    "print(sparse_random)"
   ]
  },
  {
   "cell_type": "code",
   "execution_count": 312,
   "metadata": {},
   "outputs": [
    {
     "name": "stdout",
     "output_type": "stream",
     "text": [
      "1739\n"
     ]
    }
   ],
   "source": [
    "print(len(random_percent))"
   ]
  },
  {
   "cell_type": "code",
   "execution_count": 311,
   "metadata": {},
   "outputs": [
    {
     "ename": "ValueError",
     "evalue": "arrays must all be same length",
     "output_type": "error",
     "traceback": [
      "\u001b[1;31m---------------------------------------------------------------------------\u001b[0m",
      "\u001b[1;31mValueError\u001b[0m                                Traceback (most recent call last)",
      "\u001b[1;32m<ipython-input-311-b28ab3ee46d2>\u001b[0m in \u001b[0;36m<module>\u001b[1;34m\u001b[0m\n\u001b[0;32m      8\u001b[0m \u001b[0msns\u001b[0m\u001b[1;33m.\u001b[0m\u001b[0mscatterplot\u001b[0m\u001b[1;33m(\u001b[0m\u001b[0msparse_percent\u001b[0m\u001b[1;33m,\u001b[0m \u001b[0msparse_random\u001b[0m\u001b[1;33m,\u001b[0m \u001b[0ms\u001b[0m\u001b[1;33m=\u001b[0m\u001b[1;36m100\u001b[0m\u001b[1;33m,\u001b[0m \u001b[0mcolor\u001b[0m\u001b[1;33m=\u001b[0m\u001b[1;34m\"red\"\u001b[0m\u001b[1;33m,\u001b[0m \u001b[0mmarker\u001b[0m\u001b[1;33m=\u001b[0m\u001b[1;34m\"o\"\u001b[0m\u001b[1;33m,\u001b[0m \u001b[0mlabel\u001b[0m\u001b[1;33m=\u001b[0m\u001b[1;34m'random'\u001b[0m\u001b[1;33m)\u001b[0m\u001b[1;33m\u001b[0m\u001b[1;33m\u001b[0m\u001b[0m\n\u001b[0;32m      9\u001b[0m \u001b[1;31m#random\u001b[0m\u001b[1;33m\u001b[0m\u001b[1;33m\u001b[0m\u001b[1;33m\u001b[0m\u001b[0m\n\u001b[1;32m---> 10\u001b[1;33m \u001b[0msns\u001b[0m\u001b[1;33m.\u001b[0m\u001b[0mscatterplot\u001b[0m\u001b[1;33m(\u001b[0m\u001b[0mrandom_percent\u001b[0m\u001b[1;33m,\u001b[0m \u001b[0mrandom_divergence_scipy\u001b[0m\u001b[1;33m,\u001b[0m \u001b[0ms\u001b[0m\u001b[1;33m=\u001b[0m\u001b[1;36m100\u001b[0m\u001b[1;33m,\u001b[0m \u001b[0mcolor\u001b[0m\u001b[1;33m=\u001b[0m\u001b[1;34m\"pink\"\u001b[0m\u001b[1;33m,\u001b[0m \u001b[0mmarker\u001b[0m\u001b[1;33m=\u001b[0m\u001b[1;34m\"o\"\u001b[0m\u001b[1;33m,\u001b[0m \u001b[0mlabel\u001b[0m\u001b[1;33m=\u001b[0m\u001b[1;34m'random'\u001b[0m\u001b[1;33m)\u001b[0m\u001b[1;33m\u001b[0m\u001b[1;33m\u001b[0m\u001b[0m\n\u001b[0m\u001b[0;32m     11\u001b[0m \u001b[1;31m# #grid\u001b[0m\u001b[1;33m\u001b[0m\u001b[1;33m\u001b[0m\u001b[1;33m\u001b[0m\u001b[0m\n\u001b[0;32m     12\u001b[0m \u001b[1;31m# sns.scatterplot(grid_percent, grid_divergence_scipy, s=100, color=\"green\", marker=\"o\", label='grid')\u001b[0m\u001b[1;33m\u001b[0m\u001b[1;33m\u001b[0m\u001b[1;33m\u001b[0m\u001b[0m\n",
      "\u001b[1;32m~\\AppData\\Local\\Continuum\\anaconda3\\lib\\site-packages\\seaborn\\relational.py\u001b[0m in \u001b[0;36mscatterplot\u001b[1;34m(x, y, hue, style, size, data, palette, hue_order, hue_norm, sizes, size_order, size_norm, markers, style_order, x_bins, y_bins, units, estimator, ci, n_boot, alpha, x_jitter, y_jitter, legend, ax, **kwargs)\u001b[0m\n\u001b[0;32m   1333\u001b[0m         \u001b[0mx_bins\u001b[0m\u001b[1;33m=\u001b[0m\u001b[0mx_bins\u001b[0m\u001b[1;33m,\u001b[0m \u001b[0my_bins\u001b[0m\u001b[1;33m=\u001b[0m\u001b[0my_bins\u001b[0m\u001b[1;33m,\u001b[0m\u001b[1;33m\u001b[0m\u001b[1;33m\u001b[0m\u001b[0m\n\u001b[0;32m   1334\u001b[0m         \u001b[0mestimator\u001b[0m\u001b[1;33m=\u001b[0m\u001b[0mestimator\u001b[0m\u001b[1;33m,\u001b[0m \u001b[0mci\u001b[0m\u001b[1;33m=\u001b[0m\u001b[0mci\u001b[0m\u001b[1;33m,\u001b[0m \u001b[0mn_boot\u001b[0m\u001b[1;33m=\u001b[0m\u001b[0mn_boot\u001b[0m\u001b[1;33m,\u001b[0m\u001b[1;33m\u001b[0m\u001b[1;33m\u001b[0m\u001b[0m\n\u001b[1;32m-> 1335\u001b[1;33m         \u001b[0malpha\u001b[0m\u001b[1;33m=\u001b[0m\u001b[0malpha\u001b[0m\u001b[1;33m,\u001b[0m \u001b[0mx_jitter\u001b[0m\u001b[1;33m=\u001b[0m\u001b[0mx_jitter\u001b[0m\u001b[1;33m,\u001b[0m \u001b[0my_jitter\u001b[0m\u001b[1;33m=\u001b[0m\u001b[0my_jitter\u001b[0m\u001b[1;33m,\u001b[0m \u001b[0mlegend\u001b[0m\u001b[1;33m=\u001b[0m\u001b[0mlegend\u001b[0m\u001b[1;33m,\u001b[0m\u001b[1;33m\u001b[0m\u001b[1;33m\u001b[0m\u001b[0m\n\u001b[0m\u001b[0;32m   1336\u001b[0m     )\n\u001b[0;32m   1337\u001b[0m \u001b[1;33m\u001b[0m\u001b[0m\n",
      "\u001b[1;32m~\\AppData\\Local\\Continuum\\anaconda3\\lib\\site-packages\\seaborn\\relational.py\u001b[0m in \u001b[0;36m__init__\u001b[1;34m(self, x, y, hue, size, style, data, palette, hue_order, hue_norm, sizes, size_order, size_norm, dashes, markers, style_order, x_bins, y_bins, units, estimator, ci, n_boot, alpha, x_jitter, y_jitter, legend)\u001b[0m\n\u001b[0;32m    850\u001b[0m \u001b[1;33m\u001b[0m\u001b[0m\n\u001b[0;32m    851\u001b[0m         plot_data = self.establish_variables(\n\u001b[1;32m--> 852\u001b[1;33m             \u001b[0mx\u001b[0m\u001b[1;33m,\u001b[0m \u001b[0my\u001b[0m\u001b[1;33m,\u001b[0m \u001b[0mhue\u001b[0m\u001b[1;33m,\u001b[0m \u001b[0msize\u001b[0m\u001b[1;33m,\u001b[0m \u001b[0mstyle\u001b[0m\u001b[1;33m,\u001b[0m \u001b[0munits\u001b[0m\u001b[1;33m,\u001b[0m \u001b[0mdata\u001b[0m\u001b[1;33m\u001b[0m\u001b[1;33m\u001b[0m\u001b[0m\n\u001b[0m\u001b[0;32m    853\u001b[0m         )\n\u001b[0;32m    854\u001b[0m \u001b[1;33m\u001b[0m\u001b[0m\n",
      "\u001b[1;32m~\\AppData\\Local\\Continuum\\anaconda3\\lib\\site-packages\\seaborn\\relational.py\u001b[0m in \u001b[0;36mestablish_variables\u001b[1;34m(self, x, y, hue, size, style, units, data)\u001b[0m\n\u001b[0;32m    155\u001b[0m                 \u001b[0munits\u001b[0m\u001b[1;33m=\u001b[0m\u001b[0munits\u001b[0m\u001b[1;33m\u001b[0m\u001b[1;33m\u001b[0m\u001b[0m\n\u001b[0;32m    156\u001b[0m             )\n\u001b[1;32m--> 157\u001b[1;33m             \u001b[0mplot_data\u001b[0m \u001b[1;33m=\u001b[0m \u001b[0mpd\u001b[0m\u001b[1;33m.\u001b[0m\u001b[0mDataFrame\u001b[0m\u001b[1;33m(\u001b[0m\u001b[0mplot_data\u001b[0m\u001b[1;33m)\u001b[0m\u001b[1;33m\u001b[0m\u001b[1;33m\u001b[0m\u001b[0m\n\u001b[0m\u001b[0;32m    158\u001b[0m \u001b[1;33m\u001b[0m\u001b[0m\n\u001b[0;32m    159\u001b[0m         \u001b[1;31m# Option 3:\u001b[0m\u001b[1;33m\u001b[0m\u001b[1;33m\u001b[0m\u001b[1;33m\u001b[0m\u001b[0m\n",
      "\u001b[1;32m~\\AppData\\Local\\Continuum\\anaconda3\\lib\\site-packages\\pandas\\core\\frame.py\u001b[0m in \u001b[0;36m__init__\u001b[1;34m(self, data, index, columns, dtype, copy)\u001b[0m\n\u001b[0;32m    409\u001b[0m             )\n\u001b[0;32m    410\u001b[0m         \u001b[1;32melif\u001b[0m \u001b[0misinstance\u001b[0m\u001b[1;33m(\u001b[0m\u001b[0mdata\u001b[0m\u001b[1;33m,\u001b[0m \u001b[0mdict\u001b[0m\u001b[1;33m)\u001b[0m\u001b[1;33m:\u001b[0m\u001b[1;33m\u001b[0m\u001b[1;33m\u001b[0m\u001b[0m\n\u001b[1;32m--> 411\u001b[1;33m             \u001b[0mmgr\u001b[0m \u001b[1;33m=\u001b[0m \u001b[0minit_dict\u001b[0m\u001b[1;33m(\u001b[0m\u001b[0mdata\u001b[0m\u001b[1;33m,\u001b[0m \u001b[0mindex\u001b[0m\u001b[1;33m,\u001b[0m \u001b[0mcolumns\u001b[0m\u001b[1;33m,\u001b[0m \u001b[0mdtype\u001b[0m\u001b[1;33m=\u001b[0m\u001b[0mdtype\u001b[0m\u001b[1;33m)\u001b[0m\u001b[1;33m\u001b[0m\u001b[1;33m\u001b[0m\u001b[0m\n\u001b[0m\u001b[0;32m    412\u001b[0m         \u001b[1;32melif\u001b[0m \u001b[0misinstance\u001b[0m\u001b[1;33m(\u001b[0m\u001b[0mdata\u001b[0m\u001b[1;33m,\u001b[0m \u001b[0mma\u001b[0m\u001b[1;33m.\u001b[0m\u001b[0mMaskedArray\u001b[0m\u001b[1;33m)\u001b[0m\u001b[1;33m:\u001b[0m\u001b[1;33m\u001b[0m\u001b[1;33m\u001b[0m\u001b[0m\n\u001b[0;32m    413\u001b[0m             \u001b[1;32mimport\u001b[0m \u001b[0mnumpy\u001b[0m\u001b[1;33m.\u001b[0m\u001b[0mma\u001b[0m\u001b[1;33m.\u001b[0m\u001b[0mmrecords\u001b[0m \u001b[1;32mas\u001b[0m \u001b[0mmrecords\u001b[0m\u001b[1;33m\u001b[0m\u001b[1;33m\u001b[0m\u001b[0m\n",
      "\u001b[1;32m~\\AppData\\Local\\Continuum\\anaconda3\\lib\\site-packages\\pandas\\core\\internals\\construction.py\u001b[0m in \u001b[0;36minit_dict\u001b[1;34m(data, index, columns, dtype)\u001b[0m\n\u001b[0;32m    255\u001b[0m             \u001b[0marr\u001b[0m \u001b[1;32mif\u001b[0m \u001b[1;32mnot\u001b[0m \u001b[0mis_datetime64tz_dtype\u001b[0m\u001b[1;33m(\u001b[0m\u001b[0marr\u001b[0m\u001b[1;33m)\u001b[0m \u001b[1;32melse\u001b[0m \u001b[0marr\u001b[0m\u001b[1;33m.\u001b[0m\u001b[0mcopy\u001b[0m\u001b[1;33m(\u001b[0m\u001b[1;33m)\u001b[0m \u001b[1;32mfor\u001b[0m \u001b[0marr\u001b[0m \u001b[1;32min\u001b[0m \u001b[0marrays\u001b[0m\u001b[1;33m\u001b[0m\u001b[1;33m\u001b[0m\u001b[0m\n\u001b[0;32m    256\u001b[0m         ]\n\u001b[1;32m--> 257\u001b[1;33m     \u001b[1;32mreturn\u001b[0m \u001b[0marrays_to_mgr\u001b[0m\u001b[1;33m(\u001b[0m\u001b[0marrays\u001b[0m\u001b[1;33m,\u001b[0m \u001b[0mdata_names\u001b[0m\u001b[1;33m,\u001b[0m \u001b[0mindex\u001b[0m\u001b[1;33m,\u001b[0m \u001b[0mcolumns\u001b[0m\u001b[1;33m,\u001b[0m \u001b[0mdtype\u001b[0m\u001b[1;33m=\u001b[0m\u001b[0mdtype\u001b[0m\u001b[1;33m)\u001b[0m\u001b[1;33m\u001b[0m\u001b[1;33m\u001b[0m\u001b[0m\n\u001b[0m\u001b[0;32m    258\u001b[0m \u001b[1;33m\u001b[0m\u001b[0m\n\u001b[0;32m    259\u001b[0m \u001b[1;33m\u001b[0m\u001b[0m\n",
      "\u001b[1;32m~\\AppData\\Local\\Continuum\\anaconda3\\lib\\site-packages\\pandas\\core\\internals\\construction.py\u001b[0m in \u001b[0;36marrays_to_mgr\u001b[1;34m(arrays, arr_names, index, columns, dtype)\u001b[0m\n\u001b[0;32m     75\u001b[0m     \u001b[1;31m# figure out the index, if necessary\u001b[0m\u001b[1;33m\u001b[0m\u001b[1;33m\u001b[0m\u001b[1;33m\u001b[0m\u001b[0m\n\u001b[0;32m     76\u001b[0m     \u001b[1;32mif\u001b[0m \u001b[0mindex\u001b[0m \u001b[1;32mis\u001b[0m \u001b[1;32mNone\u001b[0m\u001b[1;33m:\u001b[0m\u001b[1;33m\u001b[0m\u001b[1;33m\u001b[0m\u001b[0m\n\u001b[1;32m---> 77\u001b[1;33m         \u001b[0mindex\u001b[0m \u001b[1;33m=\u001b[0m \u001b[0mextract_index\u001b[0m\u001b[1;33m(\u001b[0m\u001b[0marrays\u001b[0m\u001b[1;33m)\u001b[0m\u001b[1;33m\u001b[0m\u001b[1;33m\u001b[0m\u001b[0m\n\u001b[0m\u001b[0;32m     78\u001b[0m     \u001b[1;32melse\u001b[0m\u001b[1;33m:\u001b[0m\u001b[1;33m\u001b[0m\u001b[1;33m\u001b[0m\u001b[0m\n\u001b[0;32m     79\u001b[0m         \u001b[0mindex\u001b[0m \u001b[1;33m=\u001b[0m \u001b[0mensure_index\u001b[0m\u001b[1;33m(\u001b[0m\u001b[0mindex\u001b[0m\u001b[1;33m)\u001b[0m\u001b[1;33m\u001b[0m\u001b[1;33m\u001b[0m\u001b[0m\n",
      "\u001b[1;32m~\\AppData\\Local\\Continuum\\anaconda3\\lib\\site-packages\\pandas\\core\\internals\\construction.py\u001b[0m in \u001b[0;36mextract_index\u001b[1;34m(data)\u001b[0m\n\u001b[0;32m    366\u001b[0m             \u001b[0mlengths\u001b[0m \u001b[1;33m=\u001b[0m \u001b[0mlist\u001b[0m\u001b[1;33m(\u001b[0m\u001b[0mset\u001b[0m\u001b[1;33m(\u001b[0m\u001b[0mraw_lengths\u001b[0m\u001b[1;33m)\u001b[0m\u001b[1;33m)\u001b[0m\u001b[1;33m\u001b[0m\u001b[1;33m\u001b[0m\u001b[0m\n\u001b[0;32m    367\u001b[0m             \u001b[1;32mif\u001b[0m \u001b[0mlen\u001b[0m\u001b[1;33m(\u001b[0m\u001b[0mlengths\u001b[0m\u001b[1;33m)\u001b[0m \u001b[1;33m>\u001b[0m \u001b[1;36m1\u001b[0m\u001b[1;33m:\u001b[0m\u001b[1;33m\u001b[0m\u001b[1;33m\u001b[0m\u001b[0m\n\u001b[1;32m--> 368\u001b[1;33m                 \u001b[1;32mraise\u001b[0m \u001b[0mValueError\u001b[0m\u001b[1;33m(\u001b[0m\u001b[1;34m\"arrays must all be same length\"\u001b[0m\u001b[1;33m)\u001b[0m\u001b[1;33m\u001b[0m\u001b[1;33m\u001b[0m\u001b[0m\n\u001b[0m\u001b[0;32m    369\u001b[0m \u001b[1;33m\u001b[0m\u001b[0m\n\u001b[0;32m    370\u001b[0m             \u001b[1;32mif\u001b[0m \u001b[0mhave_dicts\u001b[0m\u001b[1;33m:\u001b[0m\u001b[1;33m\u001b[0m\u001b[1;33m\u001b[0m\u001b[0m\n",
      "\u001b[1;31mValueError\u001b[0m: arrays must all be same length"
     ]
    },
    {
     "data": {
      "image/png": "[encoded data removed]",
      "text/plain": [
       "<Figure size 432x288 with 1 Axes>"
      ]
     },
     "metadata": {},
     "output_type": "display_data"
    }
   ],
   "source": [
    "plt.xlim(0, 100)\n",
    "plt.ylim(0, 1)\n",
    "# plt.title('JS Divergence of Labeling Algorithm and Actual Image')\n",
    "plt.xlabel('Percent of Total Available Data Points Used to Construct Image')\n",
    "plt.ylabel('JS Divergence')\n",
    "\n",
    "#sparse random\n",
    "sns.scatterplot(sparse_percent, sparse_random, s=100, color=\"red\", marker=\"o\", label='random')\n",
    "#random\n",
    "sns.scatterplot(random_percent, random_divergence_scipy, s=100, color=\"pink\", marker=\"o\", label='random')\n",
    "# #grid\n",
    "# sns.scatterplot(grid_percent, grid_divergence_scipy, s=100, color=\"green\", marker=\"o\", label='grid')\n",
    "# #fine grid\n",
    "# sns.scatterplot(fine_grid_percent, fine_grid_divergence_scipy, s=100, color=\"blue\", marker=\"o\", label='fine grid')\n",
    "#window\n",
    "# sns.scatterplot(sparse_percent, sparse_window, s=100, color=\"purple\", marker=\"o\", label='window')"
   ]
  },
  {
   "cell_type": "code",
   "execution_count": null,
   "metadata": {},
   "outputs": [],
   "source": [
    "#plot four lines to check"
   ]
  }
 ],
 "metadata": {
  "kernelspec": {
   "display_name": "Python 3",
   "language": "python",
   "name": "python3"
  },
  "language_info": {
   "codemirror_mode": {
    "name": "ipython",
    "version": 3
   },
   "file_extension": ".py",
   "mimetype": "text/x-python",
   "name": "python",
   "nbconvert_exporter": "python",
   "pygments_lexer": "ipython3",
   "version": "3.7.4"
  }
 },
 "nbformat": 4,
 "nbformat_minor": 2
}
