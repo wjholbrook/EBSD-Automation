{
 "cells": [
  {
   "cell_type": "code",
   "execution_count": 2,
   "metadata": {},
   "outputs": [],
   "source": [
    "import math\n",
    "import numpy as np\n",
    "from math import sqrt\n",
    "from matplotlib.image import NonUniformImage\n",
    "import matplotlib.pyplot as plt\n",
    "%matplotlib inline\n",
    "from statistics import mean\n",
    "from scipy.stats import norm\n",
    "from scipy.stats import lognorm\n",
    "import seaborn as sns\n",
    "sns.set()\n",
    "sns.set_style('white')"
   ]
  },
  {
   "cell_type": "code",
   "execution_count": 3,
   "metadata": {},
   "outputs": [],
   "source": [
    "# load file, skip header, load angles and coordinates, also grain ID\n",
    "coords=np.loadtxt('Raw Data/AZ31B Tcomp 10e0 Int_2 raw1.txt', skiprows=17, usecols=(3,4))\n",
    "grain_IDs=np.loadtxt('Raw Data/AZ31B Tcomp 10e0 Int_2 raw1.txt', skiprows=17, usecols=(8))\n",
    "coords_and_grains=np.loadtxt('Raw Data/AZ31B Tcomp 10e0 Int_2 raw1.txt', skiprows=17, usecols=(3,4,8))\n",
    "coords_and_grains_copy=np.copy(coords_and_grains)\n",
    "#load more files or start grid in other three corners?"
   ]
  },
  {
   "cell_type": "code",
   "execution_count": 4,
   "metadata": {},
   "outputs": [],
   "source": [
    "def kl_divergence(p, q):\n",
    "    return np.sum(np.where((q != 0), p * np.log2(p / q), 0))\n",
    "def js_divergence(p, q):\n",
    "    m = 0.5 * (p + q)\n",
    "    return 0.5 * kl_divergence(p, m) + 0.5 * kl_divergence(q, m)"
   ]
  },
  {
   "cell_type": "code",
   "execution_count": 5,
   "metadata": {},
   "outputs": [],
   "source": [
    "def grain_square(percent):\n",
    "    percent=percent/100\n",
    "    row_list=[]\n",
    "    for index in range(0,len(coords_and_grains)):\n",
    "        if (coords_and_grains_copy[index,0]<=int((110*percent))) and (coords_and_grains_copy[index,1]<=int((110*percent))):\n",
    "            row_list.append(coords_and_grains_copy[index])\n",
    "        else:\n",
    "            continue\n",
    "\n",
    "    row_tuple=tuple(row_list)\n",
    "    coords_and_grains_slice=np.vstack(row_tuple)\n",
    "    uniquegrains=np.unique(coords_and_grains_slice[:,2],return_counts=True)\n",
    "    ID, count = uniquegrains\n",
    "    params = lognorm.fit(count)\n",
    "    xvals = np.linspace(0, 200, num=200)\n",
    "    pdf = lambda x: lognorm.pdf(xvals, *params)\n",
    "    s = pdf(xvals)\n",
    "    s[s==0]=[0.000001]\n",
    "    #return s\n",
    "    return coords_and_grains_slice[:,0], coords_and_grains_slice[:,1]\n",
    "    #return count"
   ]
  },
  {
   "cell_type": "code",
   "execution_count": 6,
   "metadata": {},
   "outputs": [
    {
     "data": {
      "text/plain": [
       "<matplotlib.collections.PathCollection at 0x2546341e9c8>"
      ]
     },
     "execution_count": 6,
     "metadata": {},
     "output_type": "execute_result"
    },
    {
     "data": {
      "image/png": "[encoded data removed]",
      "text/plain": [
       "<Figure size 432x288 with 1 Axes>"
      ]
     },
     "metadata": {
      "needs_background": "light"
     },
     "output_type": "display_data"
    }
   ],
   "source": [
    "xcoords, ycoords = grain_square(10)\n",
    "plt.scatter(xcoords, ycoords, marker=\"o\", alpha=0.5)"
   ]
  },
  {
   "cell_type": "code",
   "execution_count": 7,
   "metadata": {},
   "outputs": [
    {
     "name": "stdout",
     "output_type": "stream",
     "text": [
      "[[  0.4       0.     ]\n",
      " [  0.8       0.     ]\n",
      " [  1.2       0.     ]\n",
      " ...\n",
      " [104.2     104.96228]\n",
      " [104.6     104.96228]\n",
      " [105.      104.96228]]\n"
     ]
    }
   ],
   "source": [
    "print(coords)"
   ]
  },
  {
   "cell_type": "code",
   "execution_count": 35,
   "metadata": {},
   "outputs": [
    {
     "name": "stdout",
     "output_type": "stream",
     "text": [
      "[[  0.4       0.     ]\n",
      " [  0.8       0.     ]\n",
      " [  1.2       0.     ]\n",
      " ...\n",
      " [104.2     104.96228]\n",
      " [104.6     104.96228]\n",
      " [105.      104.96228]]\n"
     ]
    }
   ],
   "source": [
    "print(coords_and_grains[:,0:2])"
   ]
  },
  {
   "cell_type": "code",
   "execution_count": 38,
   "metadata": {},
   "outputs": [
    {
     "name": "stdout",
     "output_type": "stream",
     "text": [
      "[array([2.4, 0. ])]\n"
     ]
    }
   ],
   "source": [
    "print([coords[5]])"
   ]
  },
  {
   "cell_type": "code",
   "execution_count": 36,
   "metadata": {},
   "outputs": [
    {
     "name": "stdout",
     "output_type": "stream",
     "text": [
      "[0.4        0.39999986 0.         0.4        0.39999986]\n",
      "[  4 268   5   6 269]\n"
     ]
    }
   ],
   "source": [
    "import numpy as np\n",
    "samples = coords\n",
    "from sklearn.neighbors import NearestNeighbors\n",
    "neigh = NearestNeighbors(radius=0.5)\n",
    "neigh.fit(samples)\n",
    "NearestNeighbors(radius=0.5)\n",
    "rng = neigh.radius_neighbors([coords[5]])\n",
    "print(np.asarray(rng[0][0]))\n",
    "print(np.asarray(rng[1][0]))\n",
    "bite=np.asarray(rng[1][0])"
   ]
  },
  {
   "cell_type": "code",
   "execution_count": 40,
   "metadata": {},
   "outputs": [
    {
     "name": "stdout",
     "output_type": "stream",
     "text": [
      "[2. 0. 1.]\n"
     ]
    }
   ],
   "source": [
    "print(coords_and_grains[4])"
   ]
  },
  {
   "cell_type": "code",
   "execution_count": 37,
   "metadata": {},
   "outputs": [
    {
     "data": {
      "text/plain": [
       "<matplotlib.collections.PathCollection at 0x2546453ae48>"
      ]
     },
     "execution_count": 37,
     "metadata": {},
     "output_type": "execute_result"
    },
    {
     "data": {
      "image/png": "[encoded data removed]",
      "text/plain": [
       "<Figure size 432x288 with 1 Axes>"
      ]
     },
     "metadata": {
      "needs_background": "light"
     },
     "output_type": "display_data"
    }
   ],
   "source": [
    "xcoords, ycoords = grain_square(100)\n",
    "xcoords_bite=xcoords[bite]\n",
    "ycoords_bite=ycoords[bite]\n",
    "plt.scatter(xcoords_bite,  ycoords_bite, marker=\"o\", alpha=0.5)\n",
    "#0.5 gives good values"
   ]
  },
  {
   "cell_type": "code",
   "execution_count": null,
   "metadata": {},
   "outputs": [],
   "source": [
    "import numpy as np\n",
    "samples = [[0., 0., 0.], [0., .5, 0.], [1., 1., .5]]\n",
    "from sklearn.neighbors import NearestNeighbors\n",
    "neigh = NearestNeighbors(radius=1.6)\n",
    "neigh.fit(samples)\n",
    "NearestNeighbors(radius=1.6)\n",
    "rng = neigh.radius_neighbors([[1., 1., 1.]])\n",
    "print(np.asarray(rng[0][0]))\n",
    "[1.5 0.5]print(np.asarray(rng[1][0]))\n",
    "[1 2]"
   ]
  },
  {
   "cell_type": "code",
   "execution_count": 7,
   "metadata": {},
   "outputs": [],
   "source": [
    "#PDF of all pixels\n",
    "uniquegrains=np.unique(grain_IDs,return_counts=True)\n",
    "ID, count = uniquegrains\n",
    "params = lognorm.fit(count)\n",
    "xvals = np.linspace(0, 200, num=200)\n",
    "pdf = lambda x: lognorm.pdf(xvals, *params)\n",
    "t = pdf(xvals)\n",
    "t[t==0]=[0.000001]"
   ]
  },
  {
   "cell_type": "code",
   "execution_count": 9,
   "metadata": {},
   "outputs": [
    {
     "data": {
      "text/plain": [
       "Text(0, 0.5, 'Probability Density')"
      ]
     },
     "execution_count": 9,
     "metadata": {},
     "output_type": "execute_result"
    },
    {
     "data": {
      "image/png": "[encoded data removed]",
      "text/plain": [
       "<Figure size 432x288 with 1 Axes>"
      ]
     },
     "metadata": {
      "needs_background": "light"
     },
     "output_type": "display_data"
    }
   ],
   "source": [
    "fig, ax = plt.subplots()\n",
    "plt.plot(xvals, t, color='red')\n",
    "#under 20 there is odd behavior, similar to sharp oscillations out of range with JS Divergence at small values...ask\n",
    "for percent in range (20,100,10):\n",
    "    plt.plot(xvals, grain_square(percent), color='blue')\n",
    "plt.title(\"Lognormal Probability Density Function\")\n",
    "plt.xlabel('Grain Size')\n",
    "plt.ylabel('Probability Density')"
   ]
  },
  {
   "cell_type": "code",
   "execution_count": 62,
   "metadata": {},
   "outputs": [
    {
     "data": {
      "text/plain": [
       "Text(0, 0.5, 'Frequency')"
      ]
     },
     "execution_count": 62,
     "metadata": {},
     "output_type": "execute_result"
    },
    {
     "data": {
      "image/png": "[encoded data removed]",
      "text/plain": [
       "<Figure size 432x288 with 1 Axes>"
      ]
     },
     "metadata": {},
     "output_type": "display_data"
    }
   ],
   "source": [
    "#at 15, histogram loses shape\n",
    "sns.distplot(grain_square(15), hist=True, bins=250, kde=False)\n",
    "plt.xlim(0, 200)\n",
    "plt.title(\"Grain Size Histogram\")\n",
    "plt.xlabel('Grain Size')\n",
    "plt.ylabel('Frequency')"
   ]
  },
  {
   "cell_type": "code",
   "execution_count": 69,
   "metadata": {},
   "outputs": [],
   "source": [
    "x4=[]\n",
    "y4=[]\n",
    "for percent in range(20,100,1):\n",
    "    x4.append(percent)\n",
    "    y4.append(js_divergence(t,grain_square(percent)))"
   ]
  },
  {
   "cell_type": "code",
   "execution_count": 71,
   "metadata": {},
   "outputs": [
    {
     "data": {
      "text/plain": [
       "<matplotlib.axes._subplots.AxesSubplot at 0x2151f244a08>"
      ]
     },
     "execution_count": 71,
     "metadata": {},
     "output_type": "execute_result"
    },
    {
     "data": {
      "image/png": "[encoded data removed]",
      "text/plain": [
       "<Figure size 432x288 with 1 Axes>"
      ]
     },
     "metadata": {},
     "output_type": "display_data"
    }
   ],
   "source": [
    "plt.title('JS Divergence of Dataset and Area Sampled Subset')\n",
    "plt.xlabel('Percent of Total Available Data Points')\n",
    "plt.ylabel('JS Divergence')\n",
    "plt.ylim(0, 1)\n",
    "sns.scatterplot(x4, y4, s=200, color=\"blue\", marker=\"o\")\n",
    "#seems almost too good, it simply finding something close enough to the average grain size enough?"
   ]
  },
  {
   "cell_type": "code",
   "execution_count": null,
   "metadata": {},
   "outputs": [],
   "source": [
    "#see how sampling a window (ie one tenth of the area) compares tp grid sampling 10% of the image\n",
    "#go through greedy algorithm take anything around to it, go through again and merge\n",
    "#double edges, quadruple double edge, have variable to keep track of grain number, use column to show if edge\n",
    "#map=np.zeros((,))"
   ]
  },
  {
   "cell_type": "code",
   "execution_count": 14,
   "metadata": {},
   "outputs": [],
   "source": [
    "# def misorientation(euler_one, euler_two):\n",
    "#     #orientation matrices\n",
    "#     g_one=np.array([[((math.cos(euler_one[0]))*(math.cos(euler_one[2]))-(math.sin(euler_one[0]))*(math.sin(euler_one[2]))*(math.cos(euler_one[1]))),((math.sin(euler_one[0]))*(math.cos(euler_one[2]))+(math.cos(euler_one[0]))*(math.sin(euler_one[2]))*(math.cos(euler_one[1]))),((math.sin(euler_one[2]))*(math.sin(euler_one[1])))],\n",
    "#                 [(-(math.cos(euler_one[0]))*(math.sin(euler_one[2]))-(math.sin(euler_one[0]))*(math.cos(euler_one[2]))*(math.cos(euler_one[1]))),(-(math.sin(euler_one[0]))*(math.sin(euler_one[2]))+(math.cos(euler_one[0]))*(math.cos(euler_one[2]))*(math.cos(euler_one[1]))),((math.cos(euler_one[2]))*(math.sin(euler_one[1])))],\n",
    "#                 [((math.sin(euler_one[0]))*(math.sin(euler_one[1]))),(-(math.cos(euler_one[0]))*(math.sin(euler_one[1]))),(math.cos(euler_one[1]))]        \n",
    "#                 ])\n",
    "   \n",
    "#     #euler_two\n",
    "#     g_two=np.array([[((math.cos(euler_two[0]))*(math.cos(euler_two[2]))-(math.sin(euler_two[0]))*(math.sin(euler_two[2]))*(math.cos(euler_two[1]))),((math.sin(euler_two[0]))*(math.cos(euler_two[2]))+(math.cos(euler_two[0]))*(math.sin(euler_two[2]))*(math.cos(euler_two[1]))),((math.sin(euler_two[2]))*(math.sin(euler_two[1])))],\n",
    "#                 [(-(math.cos(euler_two[0]))*(math.sin(euler_two[2]))-(math.sin(euler_two[0]))*(math.cos(euler_two[2]))*(math.cos(euler_two[1]))),(-(math.sin(euler_two[0]))*(math.sin(euler_two[2]))+(math.cos(euler_two[0]))*(math.cos(euler_two[2]))*(math.cos(euler_two[1]))),((math.cos(euler_two[2]))*(math.sin(euler_two[1])))],\n",
    "#                 [((math.sin(euler_two[0]))*(math.sin(euler_two[1]))),(-(math.cos(euler_two[0]))*(math.sin(euler_two[1]))),(math.cos(euler_two[1]))]        \n",
    "#                 ])\n",
    "    \n",
    "#     #misorientation matrix\n",
    "#     delta_g=np.dot(g_one,np.linalg.inv(g_two))\n",
    "                     \n",
    "    \n",
    "#     #misorientation angle\n",
    "#     #error handling for rounding errors outside of domain\n",
    "#     try:\n",
    "#         theta=math.acos((delta_g[0,0]+delta_g[1,1]+delta_g[2,2]-1)/2)\n",
    "#     except:\n",
    "#         if (((delta_g[0,0]+delta_g[1,1]+delta_g[2,2]-1)/2)>1):\n",
    "#             theta=0\n",
    "#         else:\n",
    "#             theta=180\n",
    "\n",
    "#     return math.degrees(theta)"
   ]
  }
 ],
 "metadata": {
  "kernelspec": {
   "display_name": "Python 3",
   "language": "python",
   "name": "python3"
  },
  "language_info": {
   "codemirror_mode": {
    "name": "ipython",
    "version": 3
   },
   "file_extension": ".py",
   "mimetype": "text/x-python",
   "name": "python",
   "nbconvert_exporter": "python",
   "pygments_lexer": "ipython3",
   "version": "3.7.4"
  }
 },
 "nbformat": 4,
 "nbformat_minor": 2
}
