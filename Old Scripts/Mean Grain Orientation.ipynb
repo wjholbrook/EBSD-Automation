{
 "cells": [
  {
   "cell_type": "code",
   "execution_count": 35,
   "metadata": {},
   "outputs": [],
   "source": [
    "#load libraries\n",
    "import numpy as np\n",
    "import math\n",
    "from math import sqrt\n",
    "from matplotlib.image import NonUniformImage\n",
    "import matplotlib.pyplot as plt\n",
    "%matplotlib inline\n",
    "from statistics import mean\n",
    "from scipy.stats import norm, lognorm\n",
    "import seaborn as sns\n",
    "sns.set()\n",
    "sns.set_style('white')\n",
    "from sklearn.neighbors import NearestNeighbors\n",
    "from scipy.spatial import distance, Voronoi, voronoi_plot_2d, ConvexHull, Delaunay\n",
    "from collections import defaultdict\n",
    "import itertools\n",
    "from matplotlib import cm\n",
    "from matplotlib.colors import ListedColormap, LinearSegmentedColormap\n",
    "# import random\n",
    "import sys\n",
    "from itertools import combinations \n",
    "import time\n",
    "import numpy.matlib as npm\n",
    "from scipy.spatial.transform import Rotation as R"
   ]
  },
  {
   "cell_type": "code",
   "execution_count": 36,
   "metadata": {},
   "outputs": [],
   "source": [
    "# load file, skip header, load angles and coordinates, also grain ID\n",
    "raw_data=np.loadtxt('Raw Data/AZ31B Ecomp 10e0 Int_3 raw1.txt', skiprows=17, usecols=(0,1,2,3,4,8))\n",
    "euler_array=raw_data[:,0:3]"
   ]
  },
  {
   "cell_type": "code",
   "execution_count": 37,
   "metadata": {},
   "outputs": [
    {
     "name": "stdout",
     "output_type": "stream",
     "text": [
      "[4.7313  2.67202 0.88482]\n"
     ]
    }
   ],
   "source": [
    "euler_one=euler_array[0]\n",
    "print(euler_one)"
   ]
  },
  {
   "cell_type": "code",
   "execution_count": 38,
   "metadata": {},
   "outputs": [
    {
     "ename": "AttributeError",
     "evalue": "'Rotation' object has no attribute 'mean'",
     "output_type": "error",
     "traceback": [
      "\u001b[1;31m---------------------------------------------------------------------------\u001b[0m",
      "\u001b[1;31mAttributeError\u001b[0m                            Traceback (most recent call last)",
      "\u001b[1;32m<ipython-input-38-50438ee58c14>\u001b[0m in \u001b[0;36m<module>\u001b[1;34m\u001b[0m\n\u001b[0;32m      1\u001b[0m \u001b[1;31m#convert euler to quaternion - Check if bunge convention is appropriate\u001b[0m\u001b[1;33m\u001b[0m\u001b[1;33m\u001b[0m\u001b[1;33m\u001b[0m\u001b[0m\n\u001b[0;32m      2\u001b[0m \u001b[0mr\u001b[0m \u001b[1;33m=\u001b[0m \u001b[0mR\u001b[0m\u001b[1;33m.\u001b[0m\u001b[0mfrom_euler\u001b[0m\u001b[1;33m(\u001b[0m\u001b[1;34m'ZXZ'\u001b[0m\u001b[1;33m,\u001b[0m \u001b[0meuler_array\u001b[0m\u001b[1;33m,\u001b[0m \u001b[0mdegrees\u001b[0m\u001b[1;33m=\u001b[0m\u001b[1;32mTrue\u001b[0m\u001b[1;33m)\u001b[0m\u001b[1;33m\u001b[0m\u001b[1;33m\u001b[0m\u001b[0m\n\u001b[1;32m----> 3\u001b[1;33m \u001b[0mr\u001b[0m\u001b[1;33m.\u001b[0m\u001b[0mmean\u001b[0m\u001b[1;33m(\u001b[0m\u001b[1;33m)\u001b[0m\u001b[1;33m.\u001b[0m\u001b[0mas_euler\u001b[0m\u001b[1;33m(\u001b[0m\u001b[1;34m'ZXZ'\u001b[0m\u001b[1;33m,\u001b[0m \u001b[0mdegrees\u001b[0m\u001b[1;33m=\u001b[0m\u001b[1;32mTrue\u001b[0m\u001b[1;33m)\u001b[0m\u001b[1;33m\u001b[0m\u001b[1;33m\u001b[0m\u001b[0m\n\u001b[0m",
      "\u001b[1;31mAttributeError\u001b[0m: 'Rotation' object has no attribute 'mean'"
     ]
    }
   ],
   "source": [
    "#convert euler to quaternion - Check if bunge convention is appropriate\n",
    "r = R.from_euler('ZXZ', euler_array, degrees=True)\n",
    "r.mean().as_euler('ZXZ', degrees=True)"
   ]
  },
  {
   "cell_type": "code",
   "execution_count": 39,
   "metadata": {},
   "outputs": [
    {
     "ename": "AttributeError",
     "evalue": "'Rotation' object has no attribute 'as_matrix'",
     "output_type": "error",
     "traceback": [
      "\u001b[1;31m---------------------------------------------------------------------------\u001b[0m",
      "\u001b[1;31mAttributeError\u001b[0m                            Traceback (most recent call last)",
      "\u001b[1;32m<ipython-input-39-f38432e23b5b>\u001b[0m in \u001b[0;36m<module>\u001b[1;34m\u001b[0m\n\u001b[0;32m      1\u001b[0m \u001b[1;31m# p = np.asarray(r)\u001b[0m\u001b[1;33m\u001b[0m\u001b[1;33m\u001b[0m\u001b[1;33m\u001b[0m\u001b[0m\n\u001b[0;32m      2\u001b[0m \u001b[1;31m# print(p)\u001b[0m\u001b[1;33m\u001b[0m\u001b[1;33m\u001b[0m\u001b[1;33m\u001b[0m\u001b[0m\n\u001b[1;32m----> 3\u001b[1;33m \u001b[0mr\u001b[0m\u001b[1;33m.\u001b[0m\u001b[0mas_matrix\u001b[0m\u001b[1;33m(\u001b[0m\u001b[1;33m)\u001b[0m\u001b[1;33m\u001b[0m\u001b[1;33m\u001b[0m\u001b[0m\n\u001b[0m\u001b[0;32m      4\u001b[0m \u001b[1;31m# print(p)\u001b[0m\u001b[1;33m\u001b[0m\u001b[1;33m\u001b[0m\u001b[1;33m\u001b[0m\u001b[0m\n",
      "\u001b[1;31mAttributeError\u001b[0m: 'Rotation' object has no attribute 'as_matrix'"
     ]
    }
   ],
   "source": [
    "# p = np.asarray(r)\n",
    "# print(p)\n",
    "r.as_matrix()\n",
    "# print(p)"
   ]
  },
  {
   "cell_type": "code",
   "execution_count": 29,
   "metadata": {},
   "outputs": [],
   "source": [
    "# #average quaternion components for each grain\n",
    "# np.mean(p, axis=0)"
   ]
  },
  {
   "cell_type": "code",
   "execution_count": null,
   "metadata": {},
   "outputs": [],
   "source": [
    "# Q is a Nx4 numpy matrix and contains the quaternions to average in the rows.\n",
    "# The quaternions are arranged as (w,x,y,z), with w being the scalar\n",
    "# The result will be the average quaternion of the input. Note that the signs\n",
    "# of the output quaternion can be reversed, since q and -q describe the same orientation\n",
    "def averageQuaternions(Q):\n",
    "    # Number of quaternions to average\n",
    "    M = Q.shape[0]\n",
    "    A = npm.zeros(shape=(4,4))\n",
    "\n",
    "    for i in range(0,M):\n",
    "        q = Q[i,:]\n",
    "        # multiply q with its transposed version q' and add A\n",
    "        A = numpy.outer(q,q) + A\n",
    "\n",
    "    # scale\n",
    "    A = (1.0/M)*A\n",
    "    # compute eigenvalues and -vectors\n",
    "    eigenValues, eigenVectors = numpy.linalg.eig(A)\n",
    "    # Sort by largest eigenvalue\n",
    "    eigenVectors = eigenVectors[:,eigenValues.argsort()[::-1]]\n",
    "    # return the real part of the largest eigenvector (has only real part)\n",
    "    return numpy.real(eigenVectors[:,0].A1)"
   ]
  },
  {
   "cell_type": "code",
   "execution_count": null,
   "metadata": {},
   "outputs": [],
   "source": [
    "#convert back to euler tos see if they match"
   ]
  }
 ],
 "metadata": {
  "kernelspec": {
   "display_name": "Python 3",
   "language": "python",
   "name": "python3"
  },
  "language_info": {
   "codemirror_mode": {
    "name": "ipython",
    "version": 3
   },
   "file_extension": ".py",
   "mimetype": "text/x-python",
   "name": "python",
   "nbconvert_exporter": "python",
   "pygments_lexer": "ipython3",
   "version": "3.7.4"
  }
 },
 "nbformat": 4,
 "nbformat_minor": 2
}
