{
 "cells": [
  {
   "cell_type": "code",
   "execution_count": 125,
   "metadata": {},
   "outputs": [],
   "source": [
    "#load libraries\n",
    "import numpy as np\n",
    "import math\n",
    "from math import sqrt\n",
    "from matplotlib.image import NonUniformImage\n",
    "import matplotlib.pyplot as plt\n",
    "%matplotlib inline\n",
    "from statistics import mean\n",
    "from scipy.stats import norm, lognorm\n",
    "import seaborn as sns\n",
    "sns.set()\n",
    "sns.set_style('white')\n",
    "from sklearn.neighbors import NearestNeighbors\n",
    "from scipy.spatial import distance, Voronoi, voronoi_plot_2d, ConvexHull, Delaunay\n",
    "from collections import defaultdict\n",
    "import itertools\n",
    "from matplotlib import cm\n",
    "from matplotlib.colors import ListedColormap, LinearSegmentedColormap\n",
    "import random\n",
    "import sys\n",
    "from itertools import combinations \n",
    "import time\n",
    "from shapely.geometry import Polygon"
   ]
  },
  {
   "cell_type": "code",
   "execution_count": 3,
   "metadata": {},
   "outputs": [],
   "source": [
    "#import data\n",
    "coords_and_grain_IDs=np.loadtxt('Raw Data/AZ31B Ecomp 10e0 Int_3 raw1.txt', skiprows=17, usecols=(3,4,8))\n",
    "coords=coords_and_grain_IDs[:,0:2]"
   ]
  },
  {
   "cell_type": "code",
   "execution_count": 8,
   "metadata": {},
   "outputs": [],
   "source": [
    "#get area of each voronoi region\n",
    "def voronoi_volumes(points):\n",
    "    #create voronoi diagram\n",
    "    v = Voronoi(points)\n",
    "    #create zeros of len points\n",
    "    vol = np.zeros(v.npoints)\n",
    "    #create vol index and get index of voronoi region for input point \n",
    "    #need to see if point_region can be recreated from above\n",
    "    for i, reg_num in enumerate(v.point_region):\n",
    "        #get indices of each region\n",
    "        indices = v.regions[reg_num]\n",
    "        #-1 means vertex outside diagram\n",
    "        if -1 in indices: # some regions can be opened\n",
    "            #maybe instead of inf, ignore?\n",
    "            #vol[i] = np.inf\n",
    "            vol[i] = 0\n",
    "        else:\n",
    "            #can compute area, use convex hull\n",
    "            vol[i] = ConvexHull(v.vertices[indices]).volume\n",
    "    #can use grain IDs, since areas match input point\n",
    "    return vol"
   ]
  },
  {
   "cell_type": "code",
   "execution_count": 101,
   "metadata": {},
   "outputs": [],
   "source": [
    "#get area of each voronoi region\n",
    "def voronoi_volumes_finite(points):\n",
    "    v = Voronoi(points)\n",
    "    #create zeros of len points\n",
    "    vol = np.zeros(v.npoints)\n",
    "    #create vol index and get index of voronoi region for input point \n",
    "    for i, reg_num in enumerate(v.point_region):\n",
    "        #get indices of each region\n",
    "        indices = v.regions[reg_num]\n",
    "        #-1 means vertex outside diagram\n",
    "        if -1 in indices: # some regions can be opened\n",
    "            #ignore infinite regions\n",
    "            vol[i] = 0\n",
    "            \n",
    "        else: #can compute area, use convex hull\n",
    "            vert=v.vertices[indices]\n",
    "            edge=0\n",
    "            small=np.where(vert<0)\n",
    "            large=np.where(vert>110)\n",
    "            if ((len(small[0])) > 0 or (len(large[0])) > 0):\n",
    "                edge=1\n",
    "                vert[small]=0\n",
    "                vert[large]=110\n",
    "            \n",
    "            if edge==1: #double size of edge grains\n",
    "                vol[i] = (2*ConvexHull(vert).volume)\n",
    "            else: #all vertices are inside \n",
    "                vol[i] = ConvexHull(vert).volume\n",
    "                \n",
    "    #can use grain IDs, since areas match input point\n",
    "    return vol"
   ]
  },
  {
   "cell_type": "code",
   "execution_count": 133,
   "metadata": {},
   "outputs": [],
   "source": [
    "#get area of each voronoi region\n",
    "def voronoi_volumes_finite_timed(points):\n",
    "    start = time.time()\n",
    "    v = Voronoi(points)\n",
    "    end = time.time()\n",
    "    print(end - start)\n",
    "    print('Create Voronoi')\n",
    "    \n",
    "    #create zeros of len points\n",
    "    vol = np.zeros(v.npoints)\n",
    "    #create vol index and get index of voronoi region for input point \n",
    "    \n",
    "    start = time.time()\n",
    "    num_loops=0\n",
    "    for i, reg_num in enumerate(v.point_region):\n",
    "        num_loops+=1\n",
    "        #get indices of each region\n",
    "        indices = v.regions[reg_num]\n",
    "        #-1 means vertex outside diagram\n",
    "        if -1 in indices: # some regions can be opened\n",
    "            #ignore infinite regions\n",
    "            vol[i] = 0\n",
    "            \n",
    "        else: #can compute area, use convex hull\n",
    "            vert=v.vertices[indices]\n",
    "            edge=0\n",
    "            small=np.where(vert<0)\n",
    "            large=np.where(vert>110)\n",
    "            if ((len(small[0])) > 0 or (len(large[0])) > 0):\n",
    "                edge=1\n",
    "                vert[small]=0\n",
    "                vert[large]=110\n",
    "            \n",
    "            if edge==1: #double size of edge grains\n",
    "                vol[i] = (2*ConvexHull(vert).volume)\n",
    "            else: #all vertices are inside \n",
    "                vol[i] = ConvexHull(vert).volume\n",
    "    end = time.time()\n",
    "    print(end - start)\n",
    "    print('For Loop')\n",
    "                \n",
    "    print('Numloops: '+str(num_loops))\n",
    "    #can use grain IDs, since areas match input point\n",
    "    return vol"
   ]
  },
  {
   "cell_type": "code",
   "execution_count": 134,
   "metadata": {},
   "outputs": [
    {
     "name": "stdout",
     "output_type": "stream",
     "text": [
      "50\n"
     ]
    }
   ],
   "source": [
    "random_coords=coords[np.random.choice(coords.shape[0], 50, replace=False), :]\n",
    "print(len(random_coords))"
   ]
  },
  {
   "cell_type": "code",
   "execution_count": 135,
   "metadata": {},
   "outputs": [
    {
     "name": "stdout",
     "output_type": "stream",
     "text": [
      "0.00997304916381836\n",
      "Create Voronoi\n",
      "0.3281219005584717\n",
      "For Loop\n",
      "Numloops: 50\n",
      "0.3390941619873047\n",
      "Elapsed Time\n"
     ]
    }
   ],
   "source": [
    "start = time.time()\n",
    "voronoi_volumes_finite_timed(random_coords)\n",
    "end = time.time()\n",
    "print(end - start)\n",
    "print('Elapsed Time')"
   ]
  },
  {
   "cell_type": "code",
   "execution_count": 136,
   "metadata": {},
   "outputs": [
    {
     "name": "stdout",
     "output_type": "stream",
     "text": [
      "Sec/loop: 0.0068000000000000005\n"
     ]
    }
   ],
   "source": [
    "print('Sec/loop: '+str(0.34/50))"
   ]
  },
  {
   "cell_type": "code",
   "execution_count": null,
   "metadata": {},
   "outputs": [],
   "source": [
    "#given random_vor take an average of six min/iteration"
   ]
  },
  {
   "cell_type": "code",
   "execution_count": 138,
   "metadata": {},
   "outputs": [
    {
     "name": "stdout",
     "output_type": "stream",
     "text": [
      "120.0\n"
     ]
    }
   ],
   "source": [
    "hours=12\n",
    "minutes=hours*60\n",
    "minutes_per_loop=6\n",
    "num_loops=minutes/minutes_per_loop\n",
    "print(num_loops)"
   ]
  },
  {
   "cell_type": "code",
   "execution_count": 51,
   "metadata": {},
   "outputs": [],
   "source": [
    "def random_vor(sample,binsize=249,hist=True,mean_var=False):\n",
    "    #choose random points\n",
    "    random_coords_and_grains=coords_and_grains[np.random.choice(coords_and_grains.shape[0], sample, replace=False), :]\n",
    "    random_coords=random_coords_and_grains[:,0:2]\n",
    "    random_grain_IDs=random_coords_and_grains[:,2]\n",
    "    \n",
    "    #get areas\n",
    "    vol=voronoi_volumes(random_coords)   \n",
    "    #turn area into percent of total area\n",
    "    norm_vol=(vol)/sum(vol)\n",
    "    #multiply by total number of pixels to find how many pixels in each area\n",
    "    scale_vol=norm_vol*87017\n",
    "    #round to nearest whole number\n",
    "    round_vol=np.round(scale_vol,decimals=0)\n",
    "    #create array, col1 is ID, col2 is area\n",
    "    #this is where proper indexing is critical\n",
    "    grain_IDs_and_areas=np.stack((random_grain_IDs,round_vol),axis=1)\n",
    "    #get unique IDs and their count\n",
    "    unique_IDs,unique_IDs_count=np.unique(grain_IDs_and_areas[:,0],return_counts=True)\n",
    "    #create array to hold unique IDs and their sizes added together\n",
    "    unique_grain_IDs_and_total_areas=np.stack((unique_IDs,np.zeros(len(unique_IDs))),axis=1)\n",
    "    \n",
    "    #construct IDs and count\n",
    "    for row in unique_grain_IDs_and_total_areas:\n",
    "        grain=grain_IDs_and_areas[np.where(grain_IDs_and_areas[:,0] == row[0])]\n",
    "        total=np.sum(grain[:,1])\n",
    "        row[1]=total\n",
    "    \n",
    "    #return count for hist\n",
    "    count = unique_grain_IDs_and_total_areas[:,1]\n",
    "    \n",
    "    q_hist, q_bin_edges = np.histogram(count, bins=np.arange(binsize), range=(0,250), density=True)\n",
    "    q_hist = np.append(q_hist, 0)\n",
    "    q=q_hist\n",
    "    q[q==0]=[0.0000000000001]\n",
    "    if hist==True:\n",
    "        return q\n",
    "    \n",
    "    if mean_var==True:\n",
    "        mean=np.mean(count)\n",
    "        var=np.var(count)\n",
    "        return mean, var"
   ]
  },
  {
   "cell_type": "code",
   "execution_count": 50,
   "metadata": {},
   "outputs": [
    {
     "data": {
      "image/png": "[encoded data removed]",
      "text/plain": [
       "<Figure size 432x288 with 1 Axes>"
      ]
     },
     "metadata": {},
     "output_type": "display_data"
    }
   ],
   "source": [
    "# # make up data points\n",
    "# np.random.seed(1234)\n",
    "# points = np.random.rand(15, 2)\n",
    "\n",
    "# compute Voronoi tesselation\n",
    "vor = Voronoi(random_coords)\n",
    "\n",
    "# plot\n",
    "regions, vertices = voronoi_finite_polygons_2d(vor)\n",
    "\n",
    "min_x = vor.min_bound[0] - 0.1\n",
    "max_x = vor.max_bound[0] + 0.1\n",
    "min_y = vor.min_bound[1] - 0.1\n",
    "max_y = vor.max_bound[1] + 0.1\n",
    "\n",
    "mins = np.tile((min_x, min_y), (vertices.shape[0], 1))\n",
    "bounded_vertices = np.max((vertices, mins), axis=0)\n",
    "maxs = np.tile((max_x, max_y), (vertices.shape[0], 1))\n",
    "bounded_vertices = np.min((bounded_vertices, maxs), axis=0)\n",
    "\n",
    "\n",
    "\n",
    "box = Polygon([[min_x, min_y], [min_x, max_y], [max_x, max_y], [max_x, min_y]])\n",
    "\n",
    "# colorize\n",
    "for region in regions:\n",
    "    polygon = vertices[region]\n",
    "    # Clipping polygon\n",
    "    poly = Polygon(polygon)\n",
    "    poly = poly.intersection(box)\n",
    "    polygon = [p for p in poly.exterior.coords]\n",
    "\n",
    "    plt.fill(*zip(*polygon), alpha=0.4)\n",
    "\n",
    "plt.plot(random_coords[:, 0], random_coords[:, 1], 'ko')\n",
    "plt.axis('equal')\n",
    "plt.xlim(vor.min_bound[0] - 0.1, vor.max_bound[0] + 0.1)\n",
    "plt.ylim(vor.min_bound[1] - 0.1, vor.max_bound[1] + 0.1)\n",
    "\n",
    "plt.savefig('voro.png')\n",
    "plt.show()"
   ]
  },
  {
   "cell_type": "code",
   "execution_count": 43,
   "metadata": {},
   "outputs": [
    {
     "name": "stdout",
     "output_type": "stream",
     "text": [
      "[0. 0. 0. 0. 0. 0. 0. 0. 0. 0. 0. 0. 0. 0. 0. 0. 0. 0. 0. 0. 0. 0. 0. 0.\n",
      " 0. 0. 0. 0. 0. 0. 0. 0. 0. 0. 0. 0. 0. 0. 0. 0. 0. 0. 0. 0. 0. 0. 0. 0.\n",
      " 0. 0.]\n",
      "[0. 0. 0. 0. 0. 0. 0. 0. 0. 0. 0. 0. 0. 0. 0. 0. 0. 0. 0. 0. 0. 0. 0. 0.\n",
      " 0. 0. 0. 0. 0. 0. 0. 0. 0. 0. 0. 0. 0. 0. 0. 0. 0. 0. 0. 0. 0. 0. 0. 0.\n",
      " 0. 0.]\n"
     ]
    }
   ],
   "source": [
    "voronoi_volumes_finite(random_coords)"
   ]
  },
  {
   "cell_type": "code",
   "execution_count": 95,
   "metadata": {},
   "outputs": [
    {
     "name": "stdout",
     "output_type": "stream",
     "text": [
      "78\n"
     ]
    },
    {
     "data": {
      "text/plain": [
       "(0, 250)"
      ]
     },
     "execution_count": 95,
     "metadata": {},
     "output_type": "execute_result"
    },
    {
     "data": {
      "image/png": "[encoded data removed]",
      "text/plain": [
       "<Figure size 432x288 with 1 Axes>"
      ]
     },
     "metadata": {},
     "output_type": "display_data"
    }
   ],
   "source": [
    "#actual distribution\n",
    "uniquegrains=np.unique(coords_and_grain_IDs[:,2],return_counts=True)\n",
    "ID, count = uniquegrains\n",
    "print(mean(count))\n",
    "sns.distplot(count, hist=True, bins=250, kde=True)\n",
    "plt.xlim(0,250)"
   ]
  },
  {
   "cell_type": "code",
   "execution_count": 6,
   "metadata": {},
   "outputs": [],
   "source": [
    "def q(count):\n",
    "    params = lognorm.fit(count)\n",
    "    xvals = np.linspace(0, 250, num=250)\n",
    "    pdf = lambda x: lognorm.pdf(xvals, *params)\n",
    "    q = pdf(xvals)\n",
    "    q[q==0]=[0.000001]\n",
    "    return q"
   ]
  },
  {
   "cell_type": "code",
   "execution_count": 7,
   "metadata": {},
   "outputs": [],
   "source": [
    "def actual():\n",
    "    sns.distplot(count, hist=True, bins=250, kde=True)\n",
    "    plt.xlim(0,250)"
   ]
  },
  {
   "cell_type": "code",
   "execution_count": null,
   "metadata": {},
   "outputs": [],
   "source": [
    "regions, vertices = voronoi_finite_polygons_2d(vor)"
   ]
  },
  {
   "cell_type": "code",
   "execution_count": 9,
   "metadata": {},
   "outputs": [],
   "source": [
    "#find total area of the voronoi regions\n",
    "def vor_areas(sample):\n",
    "    random_coords_and_grain_IDs=coords_and_grain_IDs[np.random.choice(coords_and_grain_IDs.shape[0], sample, replace=False), :]\n",
    "    random_coords=random_coords_and_grain_IDs[:,0:2]\n",
    "    vol=voronoi_volumes_finite(random_coords)\n",
    "    return sum(vol)"
   ]
  },
  {
   "cell_type": "code",
   "execution_count": 10,
   "metadata": {},
   "outputs": [],
   "source": [
    "#choose random points\n",
    "random_coords_and_grain_IDs=coords_and_grain_IDs[np.random.choice(coords_and_grain_IDs.shape[0], 50, replace=False), :]\n",
    "random_coords=random_coords_and_grain_IDs[:,0:2]\n",
    "random_grain_IDs=random_coords_and_grain_IDs[:,2]"
   ]
  },
  {
   "cell_type": "code",
   "execution_count": 11,
   "metadata": {},
   "outputs": [],
   "source": [
    "def adj_dict(coords):\n",
    "    tri=Delaunay(coords)\n",
    "    neigh=defaultdict(set)\n",
    "    for p in tri.simplices:\n",
    "        for i,j in itertools.combinations(p,2):\n",
    "            neigh[i].add(j)\n",
    "            neigh[j].add(i)"
   ]
  },
  {
   "cell_type": "code",
   "execution_count": 12,
   "metadata": {},
   "outputs": [
    {
     "name": "stdout",
     "output_type": "stream",
     "text": [
      "0:6,39,45,48,19\n",
      "1:32,36,7,43,47,18,24,26\n",
      "2:5,41,10,13,49,18,27\n",
      "3:33,5,8,42,27,31\n",
      "4:11,46,14,20,23,30\n",
      "5:2,3,41,42,25,27,29\n",
      "6:0,39,45,46,16,20,22\n",
      "7:32,1,36,22\n",
      "8:33,3,35,40,42,21\n",
      "9:34,37,38,11,48,28\n",
      "10:2,43,13,18,24,26,31\n",
      "11:34,4,38,9,23,30\n",
      "12:40,44,17,21,25,28,29\n",
      "13:27,2,10,31\n",
      "14:48,4,46,30\n",
      "15:32,33,35,20,23,24\n",
      "16:36,6,22,39\n",
      "17:25,12,49\n",
      "18:1,2,10,47,49,26\n",
      "19:48,0,45\n",
      "20:32,4,6,46,15,22,23\n",
      "21:8,40,42,12,29\n",
      "22:32,36,6,7,16,20\n",
      "23:35,4,38,40,11,44,15,20\n",
      "24:32,1,33,10,43,15,31\n",
      "25:5,41,12,17,49,29\n",
      "26:1,10,43,47,18\n",
      "27:2,3,5,13,31\n",
      "28:37,38,9,12,44\n",
      "29:5,42,12,21,25\n",
      "30:34,4,11,14,48\n",
      "31:33,3,10,13,24,27\n",
      "32:1,7,15,20,22,24\n",
      "33:3,35,8,15,24,31\n",
      "34:48,9,11,30\n",
      "35:33,40,8,15,23\n",
      "36:1,7,39,16,22\n",
      "37:9,28,38\n",
      "38:37,9,11,44,23,28\n",
      "39:16,0,36,6\n",
      "40:35,8,44,12,21,23\n",
      "41:49,2,5,25\n",
      "42:3,5,8,21,29\n",
      "43:24,1,26,10\n",
      "44:38,40,12,23,28\n",
      "45:0,6,46,48,19\n",
      "46:4,6,45,14,48,20\n",
      "47:1,18,26\n",
      "48:0,34,9,45,46,14,19,30\n",
      "49:2,41,17,18,25\n",
      "{1, 10, 43, 47, 18}\n",
      "1\n",
      "10\n",
      "43\n",
      "47\n",
      "18\n"
     ]
    },
    {
     "data": {
      "image/png": "[encoded data removed]",
      "text/plain": [
       "<Figure size 432x288 with 1 Axes>"
      ]
     },
     "metadata": {
      "needs_background": "light"
     },
     "output_type": "display_data"
    }
   ],
   "source": [
    "tri=Delaunay(random_coords)\n",
    "neigh=defaultdict(set)\n",
    "for p in tri.simplices:\n",
    "    for i,j in itertools.combinations(p,2):\n",
    "        neigh[i].add(j)\n",
    "        neigh[j].add(i)\n",
    "\n",
    "for key in sorted(neigh.keys()):\n",
    "    print(\"%d:%s\" % (key,','.join([str(i) for i in neigh[key]])))\n",
    "\n",
    "print(neigh[26])\n",
    "for i in neigh[26]:\n",
    "    print(i)\n",
    "\n",
    "adj_random_coords=random_coords[[0,41,26,19,5,34,4,37,44,15,16,20],:]\n",
    "vor=Voronoi(adj_random_coords)\n",
    "voronoi_plot_2d(vor)\n",
    "# for i,p in enumerate():\n",
    "#     plt.text(p[0], p[1], '#%d' % i, ha='center')\n",
    "plt.xlim(0,110)\n",
    "plt.ylim(0,110)\n",
    "plt.show()"
   ]
  },
  {
   "cell_type": "code",
   "execution_count": 13,
   "metadata": {},
   "outputs": [
    {
     "data": {
      "image/png": "[encoded data removed]",
      "text/plain": [
       "<Figure size 432x288 with 1 Axes>"
      ]
     },
     "metadata": {
      "needs_background": "light"
     },
     "output_type": "display_data"
    }
   ],
   "source": [
    "#plot figure, note shapes outside the bounds\n",
    "vor = Voronoi(random_coords)\n",
    "import matplotlib.pyplot as plt\n",
    "fig = voronoi_plot_2d(vor)\n",
    "plt.xlim(0,110)\n",
    "plt.ylim(0,110)\n",
    "plt.show()"
   ]
  },
  {
   "cell_type": "code",
   "execution_count": null,
   "metadata": {},
   "outputs": [],
   "source": []
  },
  {
   "cell_type": "code",
   "execution_count": null,
   "metadata": {},
   "outputs": [],
   "source": []
  },
  {
   "cell_type": "code",
   "execution_count": null,
   "metadata": {},
   "outputs": [],
   "source": []
  },
  {
   "cell_type": "code",
   "execution_count": 14,
   "metadata": {},
   "outputs": [],
   "source": [
    "#choose grid points\n",
    "grid_coords_and_grain_IDs=coords_and_grain_IDs[::2000]\n",
    "grid_coords=grid_coords_and_grain_IDs[:,0:2]\n",
    "grid_grain_IDs=grid_coords_and_grain_IDs[:,2]"
   ]
  },
  {
   "cell_type": "code",
   "execution_count": 41,
   "metadata": {},
   "outputs": [
    {
     "data": {
      "image/png": "[encoded data removed]",
      "text/plain": [
       "<Figure size 432x288 with 1 Axes>"
      ]
     },
     "metadata": {},
     "output_type": "display_data"
    }
   ],
   "source": [
    "new_vor = Voronoi(grid_coords)\n",
    "import matplotlib.pyplot as plt\n",
    "fig = voronoi_plot_2d(new_vor)\n",
    "plt.xlim(0,110)\n",
    "plt.ylim(0,110)\n",
    "plt.show()"
   ]
  },
  {
   "cell_type": "code",
   "execution_count": 112,
   "metadata": {},
   "outputs": [
    {
     "data": {
      "text/plain": [
       "(array([39.,  2.,  0.,  0.,  2.,  0.,  0.,  0.,  0.,  1.]),\n",
       " array([0.00000000e+00, 2.19248757e+10, 4.38497515e+10, 6.57746272e+10,\n",
       "        8.76995030e+10, 1.09624379e+11, 1.31549254e+11, 1.53474130e+11,\n",
       "        1.75399006e+11, 1.97323882e+11, 2.19248757e+11]),\n",
       " <a list of 10 Patch objects>)"
      ]
     },
     "execution_count": 112,
     "metadata": {},
     "output_type": "execute_result"
    },
    {
     "data": {
      "image/png": "[encoded data removed]",
      "text/plain": [
       "<Figure size 432x288 with 1 Axes>"
      ]
     },
     "metadata": {},
     "output_type": "display_data"
    }
   ],
   "source": [
    "#points at infinity\n",
    "plt.hist(voronoi_volumes(grid_coords))"
   ]
  },
  {
   "cell_type": "code",
   "execution_count": 117,
   "metadata": {},
   "outputs": [
    {
     "data": {
      "text/plain": [
       "(array([12.,  0.,  0.,  0.,  0.,  0.,  0.,  0.,  0., 21.,  5.,  0.,  0.,\n",
       "         0.,  0.,  0.,  0.,  0.,  0.]),\n",
       " array([  0,  30,  60,  90, 120, 150, 180, 210, 240, 270, 300, 330, 360,\n",
       "        390, 420, 450, 480, 510, 540, 570]),\n",
       " <a list of 19 Patch objects>)"
      ]
     },
     "execution_count": 117,
     "metadata": {},
     "output_type": "execute_result"
    },
    {
     "data": {
      "image/png": "[encoded data removed]",
      "text/plain": [
       "<Figure size 432x288 with 1 Axes>"
      ]
     },
     "metadata": {},
     "output_type": "display_data"
    }
   ],
   "source": [
    "plt.xlim(0,600)\n",
    "plt.hist(voronoi_volumes(grid_coords),bins=range(0,600,30))"
   ]
  },
  {
   "cell_type": "code",
   "execution_count": 119,
   "metadata": {},
   "outputs": [
    {
     "data": {
      "text/plain": [
       "(array([12.,  0.,  0.,  0.,  0.,  0.,  0.,  1.,  0., 21.,  1.,  0.,  0.,\n",
       "         0.,  0.,  3.,  1.,  2.,  1.]),\n",
       " array([  0,  30,  60,  90, 120, 150, 180, 210, 240, 270, 300, 330, 360,\n",
       "        390, 420, 450, 480, 510, 540, 570]),\n",
       " <a list of 19 Patch objects>)"
      ]
     },
     "execution_count": 119,
     "metadata": {},
     "output_type": "execute_result"
    },
    {
     "data": {
      "image/png": "[encoded data removed]",
      "text/plain": [
       "<Figure size 432x288 with 1 Axes>"
      ]
     },
     "metadata": {},
     "output_type": "display_data"
    }
   ],
   "source": [
    "plt.xlim(0,600)\n",
    "plt.hist(voronoi_volumes_finite(grid_coords),bins=range(0,600,30))\n",
    "#note edge cases doubled"
   ]
  },
  {
   "cell_type": "code",
   "execution_count": null,
   "metadata": {},
   "outputs": [],
   "source": []
  },
  {
   "cell_type": "code",
   "execution_count": 17,
   "metadata": {},
   "outputs": [],
   "source": [
    "#turn area into percent of total area\n",
    "norm_vol=(vol)/sum(vol)\n",
    "#multiply by total number of pixels to find how many pixels in each area\n",
    "scale_vol=norm_vol*87017\n",
    "#round to nearest whole number\n",
    "round_vol=np.round(scale_vol,decimals=0)\n",
    "#create array, col1 is ID, col2 is area\n",
    "grain_IDs_and_areas=np.stack((random_grain_IDs,round_vol),axis=1)\n",
    "#get unique IDs and their count\n",
    "unique_IDs,unique_IDs_count=np.unique(grain_IDs_and_areas[:,0],return_counts=True)\n",
    "#create array to hold unique IDs and their sizes added together\n",
    "unique_grain_IDs_and_total_areas=np.stack((unique_IDs,np.zeros(len(unique_IDs))),axis=1)"
   ]
  },
  {
   "cell_type": "code",
   "execution_count": 18,
   "metadata": {},
   "outputs": [
    {
     "name": "stdout",
     "output_type": "stream",
     "text": [
      "[[3.6000e+01 3.8733e+04]\n",
      " [4.1000e+01 0.0000e+00]\n",
      " [5.2000e+01 0.0000e+00]\n",
      " [1.1100e+02 1.9900e+03]\n",
      " [1.1800e+02 6.4300e+02]\n",
      " [1.2000e+02 0.0000e+00]\n",
      " [1.3300e+02 0.0000e+00]\n",
      " [1.4600e+02 2.6800e+02]\n",
      " [1.5300e+02 3.4500e+02]\n",
      " [1.7800e+02 1.3980e+03]\n",
      " [2.2400e+02 3.1700e+02]\n",
      " [2.3300e+02 0.0000e+00]\n",
      " [2.4400e+02 1.2500e+02]\n",
      " [2.5300e+02 6.9100e+02]\n",
      " [2.6400e+02 1.0200e+03]\n",
      " [2.7700e+02 5.6400e+02]\n",
      " [2.8800e+02 4.0400e+02]\n",
      " [3.7100e+02 6.7200e+02]\n",
      " [3.8300e+02 3.6000e+03]\n",
      " [4.2700e+02 3.7300e+02]\n",
      " [4.4000e+02 7.6700e+02]\n",
      " [4.4500e+02 4.4300e+02]\n",
      " [4.4700e+02 9.6200e+02]\n",
      " [4.9000e+02 8.6200e+02]\n",
      " [5.0200e+02 2.4900e+02]\n",
      " [5.1100e+02 8.8900e+02]\n",
      " [5.4000e+02 4.3800e+02]\n",
      " [5.6100e+02 7.1690e+03]\n",
      " [5.7700e+02 1.1460e+03]\n",
      " [5.9600e+02 0.0000e+00]\n",
      " [6.8400e+02 3.9020e+03]\n",
      " [7.3200e+02 1.9090e+03]\n",
      " [7.6600e+02 4.0800e+02]\n",
      " [7.6900e+02 9.3400e+02]\n",
      " [7.9000e+02 1.9600e+02]\n",
      " [7.9600e+02 6.6900e+02]\n",
      " [8.1300e+02 2.5650e+03]\n",
      " [9.0900e+02 1.1680e+03]\n",
      " [9.1100e+02 2.9900e+02]\n",
      " [9.3800e+02 0.0000e+00]\n",
      " [9.4900e+02 5.4400e+02]\n",
      " [9.7300e+02 2.8100e+02]\n",
      " [9.8000e+02 1.0420e+03]\n",
      " [9.9100e+02 0.0000e+00]\n",
      " [1.0700e+03 9.0310e+03]\n",
      " [1.0890e+03 0.0000e+00]]\n"
     ]
    }
   ],
   "source": [
    "#construct IDs and count\n",
    "for row in unique_grain_IDs_and_total_areas:\n",
    "    grain=grain_IDs_and_areas[np.where(grain_IDs_and_areas[:,0] == row[0])]\n",
    "    total=np.sum(grain[:,1])\n",
    "    row[1]=total\n",
    "print(unique_grain_IDs_and_total_areas)"
   ]
  },
  {
   "cell_type": "code",
   "execution_count": 19,
   "metadata": {},
   "outputs": [
    {
     "data": {
      "text/plain": [
       "(0, 250)"
      ]
     },
     "execution_count": 19,
     "metadata": {},
     "output_type": "execute_result"
    },
    {
     "data": {
      "image/png": "[encoded data removed]",
      "text/plain": [
       "<Figure size 432x288 with 1 Axes>"
      ]
     },
     "metadata": {
      "needs_background": "light"
     },
     "output_type": "display_data"
    }
   ],
   "source": [
    "sns.distplot(unique_grain_IDs_and_total_areas[:,1], hist=True, bins=250, kde=True)\n",
    "plt.xlim(0,250)"
   ]
  },
  {
   "cell_type": "code",
   "execution_count": 104,
   "metadata": {},
   "outputs": [],
   "source": [
    "import time"
   ]
  },
  {
   "cell_type": "code",
   "execution_count": 120,
   "metadata": {},
   "outputs": [],
   "source": [
    "def random_vor_count(sample):\n",
    "    start = time.time()\n",
    "    #choose random points\n",
    "    random_coords_and_grain_IDs=coords_and_grain_IDs[np.random.choice(coords_and_grain_IDs.shape[0], sample, replace=False), :]\n",
    "    random_coords=random_coords_and_grain_IDs[:,0:2]\n",
    "    random_grain_IDs=random_coords_and_grain_IDs[:,2]\n",
    "    end = time.time()\n",
    "    print(end - start)\n",
    "    \n",
    "    start = time.time()\n",
    "    #get areas\n",
    "    vol=voronoi_volumes_finite(random_coords)   \n",
    "    end = time.time()\n",
    "    print(end - start)\n",
    "    \n",
    "    start = time.time()\n",
    "    #turn area into percent of total area\n",
    "    norm_vol=(vol)/sum(vol)\n",
    "    #multiply by total number of pixels to find how many pixels in each area\n",
    "    scale_vol=norm_vol*87017\n",
    "    #round to nearest whole number\n",
    "    round_vol=np.round(scale_vol,decimals=0)\n",
    "    #create array, col1 is ID, col2 is area\n",
    "    grain_IDs_and_areas=np.stack((random_grain_IDs,round_vol),axis=1)\n",
    "    #get unique IDs and their count\n",
    "    unique_IDs,unique_IDs_count=np.unique(grain_IDs_and_areas[:,0],return_counts=True)\n",
    "    #create array to hold unique IDs and their sizes added together\n",
    "    unique_grain_IDs_and_total_areas=np.stack((unique_IDs,np.zeros(len(unique_IDs))),axis=1)\n",
    "    end = time.time()\n",
    "    print(end - start)\n",
    "    \n",
    "    start = time.time()\n",
    "    #construct IDs and count\n",
    "    for row in unique_grain_IDs_and_total_areas:\n",
    "        grain=grain_IDs_and_areas[np.where(grain_IDs_and_areas[:,0] == row[0])]\n",
    "        total=np.sum(grain[:,1])\n",
    "        row[1]=total\n",
    "    end = time.time()\n",
    "    print(end - start)\n",
    "    \n",
    "    #return count for hist\n",
    "    return unique_grain_IDs_and_total_areas[:,1]"
   ]
  },
  {
   "cell_type": "code",
   "execution_count": null,
   "metadata": {},
   "outputs": [],
   "source": []
  },
  {
   "cell_type": "code",
   "execution_count": 123,
   "metadata": {},
   "outputs": [],
   "source": [
    "# start = time.time()\n",
    "# sns.distplot(random_vor_count(44000), hist=True, bins=250, kde=True)\n",
    "# plt.xlim(0,250)\n",
    "# end = time.time()\n",
    "# print(end - start)\n",
    "# #nearly 6min to generate a distribution!\n",
    "# #vor_finite_volumes takes the longest!"
   ]
  },
  {
   "cell_type": "code",
   "execution_count": 22,
   "metadata": {},
   "outputs": [],
   "source": [
    "def grid_vor_count(res):\n",
    "    #choose random points\n",
    "    grid_coords_and_grain_IDs=coords_and_grain_IDs[::res]\n",
    "    grid_coords=grid_coords_and_grain_IDs[:,0:2]\n",
    "    grid_grain_IDs=grid_coords_and_grain_IDs[:,2]\n",
    "    \n",
    "    #get areas\n",
    "    vol=voronoi_volumes(grid_coords)   \n",
    "    #turn area into percent of total area\n",
    "    norm_vol=(vol)/sum(vol)\n",
    "    #multiply by total number of pixels to find how many pixels in each area\n",
    "    scale_vol=norm_vol*87017\n",
    "    #round to nearest whole number\n",
    "    round_vol=np.round(scale_vol,decimals=0)\n",
    "    #create array, col1 is ID, col2 is area\n",
    "    grain_IDs_and_areas=np.stack((grid_grain_IDs,round_vol),axis=1)\n",
    "    #get unique IDs and their count\n",
    "    unique_IDs,unique_IDs_count=np.unique(grain_IDs_and_areas[:,0],return_counts=True)\n",
    "    #create array to hold unique IDs and their sizes added together\n",
    "    unique_grain_IDs_and_total_areas=np.stack((unique_IDs,np.zeros(len(unique_IDs))),axis=1)\n",
    "    \n",
    "    #construct IDs and count\n",
    "    for row in unique_grain_IDs_and_total_areas:\n",
    "        grain=grain_IDs_and_areas[np.where(grain_IDs_and_areas[:,0] == row[0])]\n",
    "        total=np.sum(grain[:,1])\n",
    "        row[1]=total\n",
    "    \n",
    "    #return count for hist\n",
    "    return unique_grain_IDs_and_total_areas[:,1]"
   ]
  },
  {
   "cell_type": "code",
   "execution_count": 23,
   "metadata": {},
   "outputs": [
    {
     "data": {
      "text/plain": [
       "(0, 250)"
      ]
     },
     "execution_count": 23,
     "metadata": {},
     "output_type": "execute_result"
    },
    {
     "data": {
      "image/png": "[encoded data removed]",
      "text/plain": [
       "<Figure size 432x288 with 1 Axes>"
      ]
     },
     "metadata": {
      "needs_background": "light"
     },
     "output_type": "display_data"
    }
   ],
   "source": [
    "sns.distplot(grid_vor_count(2), hist=True, bins=250, kde=True)\n",
    "plt.xlim(0,250)"
   ]
  },
  {
   "cell_type": "code",
   "execution_count": 24,
   "metadata": {},
   "outputs": [],
   "source": [
    "def fine_grid_vor_count(res):\n",
    "    #choose random points\n",
    "    fine_grid_coords_and_grain_IDs=np.delete(coords_and_grain_IDs, np.arange(0, coords_and_grain_IDs.size, res))\n",
    "    fine_grid_coords=fine_grid_coords_and_grain_IDs[:,0:2]\n",
    "    fine_grid_grain_IDs=fine_grid_coords_and_grain_IDs[:,2]\n",
    "    \n",
    "    #get areas\n",
    "    vol=voronoi_volumes(fine_grid_coords)   \n",
    "    #turn area into percent of total area\n",
    "    norm_vol=(vol)/sum(vol)\n",
    "    #multiply by total number of pixels to find how many pixels in each area\n",
    "    scale_vol=norm_vol*87017\n",
    "    #round to nearest whole number\n",
    "    round_vol=np.round(scale_vol,decimals=0)\n",
    "    #create array, col1 is ID, col2 is area\n",
    "    grain_IDs_and_areas=np.stack((fine_grid_grain_IDs,round_vol),axis=1)\n",
    "    #get unique IDs and their count\n",
    "    unique_IDs,unique_IDs_count=np.unique(grain_IDs_and_areas[:,0],return_counts=True)\n",
    "    #create array to hold unique IDs and their sizes added together\n",
    "    unique_grain_IDs_and_total_areas=np.stack((unique_IDs,np.zeros(len(unique_IDs))),axis=1)\n",
    "    \n",
    "    #construct IDs and count\n",
    "    for row in unique_grain_IDs_and_total_areas:\n",
    "        grain=grain_IDs_and_areas[np.where(grain_IDs_and_areas[:,0] == row[0])]\n",
    "        total=np.sum(grain[:,1])\n",
    "        row[1]=total\n",
    "    \n",
    "    #return count for hist\n",
    "    return unique_grain_IDs_and_total_areas[:,1]"
   ]
  },
  {
   "cell_type": "code",
   "execution_count": 25,
   "metadata": {},
   "outputs": [
    {
     "data": {
      "image/png": "[encoded data removed]",
      "text/plain": [
       "<Figure size 432x288 with 1 Axes>"
      ]
     },
     "metadata": {
      "needs_background": "light"
     },
     "output_type": "display_data"
    }
   ],
   "source": [
    "actual()"
   ]
  },
  {
   "cell_type": "code",
   "execution_count": 26,
   "metadata": {},
   "outputs": [],
   "source": [
    "random_percent=[]\n",
    "for i in range (10000,80000,10000):\n",
    "    random_percent.append((i/87000)*100)\n",
    "    \n",
    "grid_percent=[]\n",
    "for i in range(1,50,1):\n",
    "    grid_percent.append(((87017/i)/87017)*100)\n",
    "    \n",
    "fine_grid_percent=[]\n",
    "for i in range(2,100,1):\n",
    "    fine_grid_percent.append(((87017-(87017/i))/87017)*100)"
   ]
  },
  {
   "cell_type": "code",
   "execution_count": 27,
   "metadata": {},
   "outputs": [],
   "source": [
    "params = lognorm.fit(count)\n",
    "xvals = np.linspace(0, 250, num=250)\n",
    "pdf = lambda x: lognorm.pdf(xvals, *params)\n",
    "t = pdf(xvals)\n",
    "#remove 0 values to prevent KL error\n",
    "t[t==0]=[0.000001]"
   ]
  },
  {
   "cell_type": "code",
   "execution_count": 28,
   "metadata": {},
   "outputs": [],
   "source": [
    "def kl_divergence(p, q):\n",
    "    return np.sum(np.where((q != 0), p * np.log2(p / q), 0))\n",
    "def js_divergence(p, q):\n",
    "    m = 0.5 * (p + q)\n",
    "    return 0.5 * kl_divergence(p, m) + 0.5 * kl_divergence(q, m)"
   ]
  },
  {
   "cell_type": "code",
   "execution_count": 30,
   "metadata": {},
   "outputs": [],
   "source": [
    "random_divergence=[]\n",
    "for i in range (10000,80000,10000):\n",
    "    random_divergence.append(js_divergence(q(random_vor_count(i)),t))"
   ]
  },
  {
   "cell_type": "code",
   "execution_count": 1,
   "metadata": {},
   "outputs": [],
   "source": [
    "# grid_divergence=[]\n",
    "# for i in range(1,50,1):\n",
    "#     grid_divergence.append(js_divergence(q(grid_vor_count(i)),t))"
   ]
  },
  {
   "cell_type": "code",
   "execution_count": null,
   "metadata": {},
   "outputs": [],
   "source": [
    "fine_grid_divergence=[]\n",
    "for i in range(2,100,1):\n",
    "    fine_grid_divergence.append(js_divergence(q(fine_grid_vor_count(i)),t))"
   ]
  },
  {
   "cell_type": "code",
   "execution_count": null,
   "metadata": {},
   "outputs": [],
   "source": [
    "plt.xlim(0, 100)\n",
    "plt.ylim(-0.1, 1)\n",
    "#plt.title('JS Divergence of Dataset and Grid Sampled Subset')\n",
    "plt.title('JS Divergence from Actual')\n",
    "plt.xlabel('Percent of Total Available Data Points')\n",
    "plt.ylabel('JS Divergence')\n",
    "#random\n",
    "sns.scatterplot(random_percent, random_divergence, s=100, color=\"purple\", marker=\"o\", label='Random')\n",
    "#grid\n",
    "sns.scatterplot(grid_percent, grid_divergence, s=100, color=\"green\", marker=\"o\", label='Grid')\n",
    "#fine grid\n",
    "sns.scatterplot(fine_grid_percent, fine_grid_divergence, s=100, color=\"blue\", marker=\"o\", label='Fine Grid')"
   ]
  },
  {
   "cell_type": "code",
   "execution_count": null,
   "metadata": {},
   "outputs": [],
   "source": [
    "#how is area affected by sample size?\n",
    "samples=[]\n",
    "areas=[]\n",
    "for sample in range (100,1000,100):\n",
    "    samples.append(sample)\n",
    "    areas.append(vor_areas(sample))\n",
    "print(samples) \n",
    "print(areas)"
   ]
  },
  {
   "cell_type": "code",
   "execution_count": null,
   "metadata": {},
   "outputs": [],
   "source": [
    "sns.scatterplot(x=samples,y=areas)\n",
    "plt.axhline(y=120**2, color='red', linestyle='-')"
   ]
  },
  {
   "cell_type": "code",
   "execution_count": 96,
   "metadata": {},
   "outputs": [
    {
     "data": {
      "text/plain": [
       "11945.007469067443"
      ]
     },
     "execution_count": 96,
     "metadata": {},
     "output_type": "execute_result"
    }
   ],
   "source": [
    "vor_areas(87017)"
   ]
  },
  {
   "cell_type": "code",
   "execution_count": 97,
   "metadata": {},
   "outputs": [
    {
     "data": {
      "text/plain": [
       "12094.525310549416"
      ]
     },
     "execution_count": 97,
     "metadata": {},
     "output_type": "execute_result"
    }
   ],
   "source": [
    "vor_areas(44000)"
   ]
  },
  {
   "cell_type": "code",
   "execution_count": 98,
   "metadata": {},
   "outputs": [
    {
     "data": {
      "text/plain": [
       "14499.871420687698"
      ]
     },
     "execution_count": 98,
     "metadata": {},
     "output_type": "execute_result"
    }
   ],
   "source": [
    "vor_areas(22000)"
   ]
  },
  {
   "cell_type": "code",
   "execution_count": 99,
   "metadata": {},
   "outputs": [
    {
     "data": {
      "text/plain": [
       "16794.538930976276"
      ]
     },
     "execution_count": 99,
     "metadata": {},
     "output_type": "execute_result"
    }
   ],
   "source": [
    "vor_areas(11000)"
   ]
  },
  {
   "cell_type": "code",
   "execution_count": 100,
   "metadata": {},
   "outputs": [
    {
     "data": {
      "text/plain": [
       "45847.84132816208"
      ]
     },
     "execution_count": 100,
     "metadata": {},
     "output_type": "execute_result"
    }
   ],
   "source": [
    "vor_areas(5500)"
   ]
  },
  {
   "cell_type": "code",
   "execution_count": null,
   "metadata": {},
   "outputs": [],
   "source": [
    "# # generate Voronoi tessellation\n",
    "# vor = Voronoi(random_coords)\n",
    "\n",
    "# # find min/max values for normalization\n",
    "# minima = min(random_grain_IDs)\n",
    "# maxima = max(random_grain_IDs)\n",
    "\n",
    "# # normalize chosen colormap\n",
    "# norm = mpl.colors.Normalize(vmin=minima, vmax=maxima, clip=True)\n",
    "# mapper = cm.ScalarMappable(norm=norm, cmap=cm.Blues_r)\n",
    "\n",
    "# # plot Voronoi diagram, and fill finite regions with color mapped from speed value\n",
    "# voronoi_plot_2d(vor, show_points=True, show_vertices=False, s=1)\n",
    "# for r in range(len(vor.point_region)):\n",
    "#     region = vor.regions[vor.point_region[r]]\n",
    "#     if not -1 in region:\n",
    "#         polygon = [vor.vertices[i] for i in region]\n",
    "#         plt.fill(*zip(*polygon), color=mapper.to_rgba(random_grain_IDs[r]))\n",
    "# plt.show()"
   ]
  },
  {
   "cell_type": "code",
   "execution_count": null,
   "metadata": {},
   "outputs": [],
   "source": [
    "# # print(points)\n",
    "# # print(coords)\n",
    "# print(speed)\n",
    "# print(grain_IDs)"
   ]
  },
  {
   "cell_type": "code",
   "execution_count": null,
   "metadata": {},
   "outputs": [],
   "source": [
    "# # ordering vertices\n",
    "# vertices=vor.vertices\n",
    "# x_plus = np.array([1, 0]) # unit vector in i direction to measure angles from\n",
    "# theta = np.zeros(len(vertices))\n",
    "# for v_i in range(len(vertices)):\n",
    "#     ri = vertices[v_i]\n",
    "#     if ri[1]-self.r[1] >= 0: # angle from 0 to pi\n",
    "#         cosine = np.dot(ri-self.r, x_plus)/np.linalg.norm(ri-self.r)\n",
    "#         theta[v_i] = np.arccos(cosine)\n",
    "#     else: # angle from pi to 2pi\n",
    "#         cosine = np.dot(ri-self.r, x_plus)/np.linalg.norm(ri-self.r)\n",
    "#         theta[v_i] = 2*np.pi - np.arccos(cosine)\n",
    "\n",
    "# order = np.argsort(theta) # returns array of indices that give sorted order of theta\n",
    "# vertices_ordered = np.zeros(vertices.shape)\n",
    "# for o_i in range(len(order)):\n",
    "#     vertices_ordered[o_i] = vertices[order[o_i]]\n",
    "\n",
    "# # compute the area of cell using ordered vertices (shoelace formula)\n",
    "# partial_sum = 0\n",
    "# for i in range(len(vertices_ordered)-1):\n",
    "#     partial_sum += vertices_ordered[i,0]*vertices_ordered[i+1,1] - vertices_ordered[i+1,0]*vertices_ordered[i,1]\n",
    "#     partial_sum += vertices_ordered[-1,0]*vertices_ordered[0,1] - vertices_ordered[0,0]*vertices_ordered[-1,1]\n",
    "# area = 0.5 * abs(partial_sum)"
   ]
  }
 ],
 "metadata": {
  "kernelspec": {
   "display_name": "Python 3",
   "language": "python",
   "name": "python3"
  },
  "language_info": {
   "codemirror_mode": {
    "name": "ipython",
    "version": 3
   },
   "file_extension": ".py",
   "mimetype": "text/x-python",
   "name": "python",
   "nbconvert_exporter": "python",
   "pygments_lexer": "ipython3",
   "version": "3.7.4"
  }
 },
 "nbformat": 4,
 "nbformat_minor": 2
}
