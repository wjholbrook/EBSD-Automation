{
 "cells": [
  {
   "cell_type": "code",
   "execution_count": 69,
   "metadata": {},
   "outputs": [],
   "source": [
    "import math\n",
    "import numpy as np\n",
    "from math import sqrt\n",
    "from matplotlib.image import NonUniformImage\n",
    "import matplotlib.pyplot as plt\n",
    "%matplotlib inline\n",
    "from statistics import mean\n",
    "from scipy.stats import norm\n",
    "from scipy.stats import lognorm\n",
    "import seaborn as sns\n",
    "sns.set()\n",
    "sns.set_style('white')"
   ]
  },
  {
   "cell_type": "code",
   "execution_count": 5,
   "metadata": {},
   "outputs": [],
   "source": [
    "#kl/js divergence for histogram, boundary conditions (use edge column), and algorithm (new Grain ID column, use row then hexagonal search)"
   ]
  },
  {
   "cell_type": "code",
   "execution_count": null,
   "metadata": {},
   "outputs": [],
   "source": [
    "#see how sampling a window (ie one tenth of the area) compares tp grid sampling 10% of the image\n",
    "#go through greedy algorithm take anything around to it, go through again and merge\n",
    "#double edges, quadruple double edge, have variable to keep track of grain number, use column to show if edge\n",
    "#map=np.zeros((,))"
   ]
  },
  {
   "cell_type": "code",
   "execution_count": 6,
   "metadata": {},
   "outputs": [],
   "source": [
    "# load file, skip header, load angles and coordinates, also grain ID\n",
    "coords=np.loadtxt('Raw Data/AZ31B Ecomp 10e0 Int_3 raw1.txt', skiprows=17, usecols=(3,4))\n",
    "grain_IDs=np.loadtxt('Raw Data/AZ31B Ecomp 10e0 Int_3 raw1.txt', skiprows=17, usecols=(8))\n",
    "coords_and_grains=np.loadtxt('Raw Data/AZ31B Ecomp 10e0 Int_3 raw1.txt', skiprows=17, usecols=(3,4,8))\n",
    "coords_and_grains_copy=np.copy(coords_and_grains)\n",
    "#load more files or start grid in other three corners?"
   ]
  },
  {
   "cell_type": "code",
   "execution_count": 7,
   "metadata": {},
   "outputs": [],
   "source": [
    "def kl_divergence(p, q):\n",
    "    return np.sum(np.where((q != 0), p * np.log2(p / q), 0))\n",
    "def js_divergence(p, q):\n",
    "    m = 0.5 * (p + q)\n",
    "    return 0.5 * kl_divergence(p, m) + 0.5 * kl_divergence(q, m)\n",
    "\n",
    "#implement for histogram, perhaps the PDF does not have the accuracy"
   ]
  },
  {
   "cell_type": "code",
   "execution_count": 23,
   "metadata": {},
   "outputs": [],
   "source": [
    "# def grain_square(percent):\n",
    "#     percent=percent/100\n",
    "#     row_list=[]\n",
    "#     for index in range(0,len(coords_and_grains)):\n",
    "#         if (coords_and_grains_copy[index,0]<=int((110*percent))) and (coords_and_grains_copy[index,1]<=int((110*percent))):\n",
    "#             row_list.append(coords_and_grains_copy[index])\n",
    "#         else:\n",
    "#             continue\n",
    "\n",
    "#     row_tuple=tuple(row_list)\n",
    "#     coords_and_grains_slice=np.vstack(row_tuple)\n",
    "#     uniquegrains=np.unique(coords_and_grains_slice[:,2],return_counts=True)\n",
    "#     ID, count = uniquegrains\n",
    "#     params = lognorm.fit(count)\n",
    "#     xvals = np.linspace(0, 200, num=200)\n",
    "#     pdf = lambda x: lognorm.pdf(xvals, *params)\n",
    "#     s = pdf(xvals)\n",
    "#     s[s==0]=[0.000001]\n",
    "#     return s\n",
    "#     #return coords_and_grains_slice[:,0], coords_and_grains_slice[:,1]\n",
    "#     #return count\n",
    "#     #return len(grains)...revise"
   ]
  },
  {
   "cell_type": "code",
   "execution_count": 9,
   "metadata": {},
   "outputs": [],
   "source": [
    "# return coords_and_grains_slice[:,0], coords_and_grains_slice[:,1]\n",
    "# xcoords, ycoords = grain_square(100)\n",
    "# plt.scatter(xcoords, ycoords, marker=\"o\", alpha=0.5)"
   ]
  },
  {
   "cell_type": "code",
   "execution_count": 10,
   "metadata": {},
   "outputs": [],
   "source": [
    "#PDF of all pixels\n",
    "uniquegrains=np.unique(grain_IDs,return_counts=True)\n",
    "ID, count = uniquegrains\n",
    "params = lognorm.fit(count)\n",
    "xvals = np.linspace(0, 200, num=200)\n",
    "pdf = lambda x: lognorm.pdf(xvals, *params)\n",
    "t = pdf(xvals)\n",
    "t[t==0]=[0.000001]"
   ]
  },
  {
   "cell_type": "code",
   "execution_count": 11,
   "metadata": {},
   "outputs": [],
   "source": [
    "# sns.distplot(count, hist=True, bins=250, kde=True, color='red')\n",
    "# plt.xlim(0, 200)\n",
    "# plt.title(\"Grain Size Histogram, Actual\")\n",
    "# plt.xlabel('Grain Size')\n",
    "# plt.ylabel('Frequency')"
   ]
  },
  {
   "cell_type": "code",
   "execution_count": 1,
   "metadata": {},
   "outputs": [],
   "source": [
    "# fig, ax = plt.subplots()\n",
    "# plt.plot(xvals, t, color='red')\n",
    "\n",
    "# #under 20 there is odd behavior, similar to sharp oscillations out of range with JS Divergence at small values...ask\n",
    "\n",
    "# #too similar? if mean is close \n",
    "# for percent in range (15,100,10):\n",
    "#     plt.plot(xvals, grain_square(percent), color='blue')\n",
    "# plt.title(\"Lognormal Probability Density Function\")\n",
    "# plt.xlabel('Grain Size')\n",
    "# plt.ylabel('Probability Density')\n"
   ]
  },
  {
   "cell_type": "code",
   "execution_count": 19,
   "metadata": {},
   "outputs": [],
   "source": [
    "#definition used for histograms\n",
    "\n",
    "# def grain_square(percent):\n",
    "#     percent=percent/100\n",
    "#     row_list=[]\n",
    "#     for index in range(0,len(coords_and_grains)):\n",
    "#         if (coords_and_grains_copy[index,0]<=int((110*percent))) and (coords_and_grains_copy[index,1]<=int((110*percent))):\n",
    "#             row_list.append(coords_and_grains_copy[index])\n",
    "#         else:\n",
    "#             continue\n",
    "\n",
    "#     row_tuple=tuple(row_list)\n",
    "#     coords_and_grains_slice=np.vstack(row_tuple)\n",
    "#     uniquegrains=np.unique(coords_and_grains_slice[:,2],return_counts=True)\n",
    "#     ID, count = uniquegrains\n",
    "#     params = lognorm.fit(count)\n",
    "#     xvals = np.linspace(0, 200, num=200)\n",
    "#     pdf = lambda x: lognorm.pdf(xvals, *params)\n",
    "#     s = pdf(xvals)\n",
    "#     s[s==0]=[0.000001]\n",
    "#     return count\n",
    "\n",
    "# #at 15, histogram loses shape\n",
    "# sns.distplot(grain_square(10), hist=True, bins=250, kde=True, color='red')\n",
    "# plt.xlim(0, 200)\n",
    "# plt.title(\"Grain Size Histogram, 10%\")\n",
    "# plt.xlabel('Grain Size')\n",
    "# plt.ylabel('Frequency')"
   ]
  },
  {
   "cell_type": "code",
   "execution_count": 13,
   "metadata": {},
   "outputs": [],
   "source": [
    "# sns.distplot(grain_square(15), hist=True, bins=250, kde=True, color='red')\n",
    "# plt.xlim(0, 200)\n",
    "# plt.title(\"Grain Size Histogram, 15%\")\n",
    "# plt.xlabel('Grain Size')\n",
    "# plt.ylabel('Frequency')"
   ]
  },
  {
   "cell_type": "code",
   "execution_count": 14,
   "metadata": {},
   "outputs": [],
   "source": [
    "# sns.distplot(grain_square(20), hist=True, bins=250, kde=True, color='red')\n",
    "# plt.xlim(0, 200)\n",
    "# plt.title(\"Grain Size Histogram, 20%\")\n",
    "# plt.xlabel('Grain Size')\n",
    "# plt.ylabel('Frequency')"
   ]
  },
  {
   "cell_type": "code",
   "execution_count": 15,
   "metadata": {},
   "outputs": [],
   "source": [
    "# sns.distplot(grain_square(50), hist=True, bins=250, kde=True, color='red')\n",
    "# plt.xlim(0, 200)\n",
    "# plt.title(\"Grain Size Histogram, 50%\")\n",
    "# plt.xlabel('Grain Size')\n",
    "# plt.ylabel('Frequency')"
   ]
  },
  {
   "cell_type": "code",
   "execution_count": 16,
   "metadata": {},
   "outputs": [],
   "source": [
    "# sns.distplot(grain_square(75), hist=True, bins=250, kde=True, color='red')\n",
    "# plt.xlim(0, 200)\n",
    "# plt.title(\"Grain Size Histogram, 75%\")\n",
    "# plt.xlabel('Grain Size')\n",
    "# plt.ylabel('Frequency')"
   ]
  },
  {
   "cell_type": "code",
   "execution_count": 17,
   "metadata": {},
   "outputs": [],
   "source": [
    "# sns.distplot(grain_square(100), hist=True, bins=250, kde=True, color='red')\n",
    "# plt.xlim(0, 200)\n",
    "# plt.title(\"Grain Size Histogram, 100%\")\n",
    "# plt.xlabel('Grain Size')\n",
    "# plt.ylabel('Frequency')"
   ]
  },
  {
   "cell_type": "code",
   "execution_count": 20,
   "metadata": {},
   "outputs": [],
   "source": [
    "#bottom left\n",
    "def grain_square(percent):\n",
    "    percent=percent/100\n",
    "    row_list=[]\n",
    "    for index in range(0,len(coords_and_grains)):\n",
    "        if (coords_and_grains_copy[index,0]<=int((110*percent))) and (coords_and_grains_copy[index,1]<=int((110*percent))):\n",
    "            row_list.append(coords_and_grains_copy[index])\n",
    "        else:\n",
    "            continue\n",
    "\n",
    "    row_tuple=tuple(row_list)\n",
    "    coords_and_grains_slice=np.vstack(row_tuple)\n",
    "    uniquegrains=np.unique(coords_and_grains_slice[:,2],return_counts=True)\n",
    "    ID, count = uniquegrains\n",
    "    params = lognorm.fit(count)\n",
    "    xvals = np.linspace(0, 200, num=200)\n",
    "    pdf = lambda x: lognorm.pdf(xvals, *params)\n",
    "    s = pdf(xvals)\n",
    "    s[s==0]=[0.000001]\n",
    "    return s\n",
    "\n",
    "x4=[]\n",
    "y4=[]\n",
    "for percent in range(20,100,1):\n",
    "    x4.append(percent)\n",
    "    y4.append(js_divergence(t,grain_square(percent)))"
   ]
  },
  {
   "cell_type": "code",
   "execution_count": 21,
   "metadata": {},
   "outputs": [
    {
     "name": "stdout",
     "output_type": "stream",
     "text": [
      "0%: 0.4700487980308005\n",
      "10%: 1.3894029342672742\n",
      "20%: 0.02239342669642931\n",
      "30%: 0.01594710640119918\n",
      "40%: 0.016047580902467943\n",
      "50%: 0.021906208648236912\n",
      "60%: 0.015417900370640922\n",
      "70%: 0.014281785539952926\n",
      "80%: 0.008011367104766007\n",
      "90%: 0.01045908315347855\n",
      "100%: 0.0\n"
     ]
    }
   ],
   "source": [
    "for percent in range(0,110,10):\n",
    "    print(str(percent)+\"%: \"+str(js_divergence(t,grain_square(percent))))"
   ]
  },
  {
   "cell_type": "code",
   "execution_count": 22,
   "metadata": {},
   "outputs": [
    {
     "data": {
      "text/plain": [
       "<matplotlib.axes._subplots.AxesSubplot at 0x227ede66e08>"
      ]
     },
     "execution_count": 22,
     "metadata": {},
     "output_type": "execute_result"
    },
    {
     "data": {
      "image/png": "[encoded data removed]",
      "text/plain": [
       "<Figure size 432x288 with 1 Axes>"
      ]
     },
     "metadata": {
      "needs_background": "light"
     },
     "output_type": "display_data"
    }
   ],
   "source": [
    "plt.title('JS Divergence of Dataset and Area Sampled Subset')\n",
    "plt.xlabel('Percent of Total Available Data Points')\n",
    "plt.ylabel('JS Divergence')\n",
    "plt.ylim(0, 1)\n",
    "sns.scatterplot(x4, y4, s=200, color=\"blue\", marker=\"o\")\n",
    "#seems almost too good, is it simply finding something close enough to the average grain size ?"
   ]
  },
  {
   "cell_type": "code",
   "execution_count": 55,
   "metadata": {},
   "outputs": [],
   "source": [
    "def grain_square(percent):\n",
    "    percent=percent/100\n",
    "    row_list=[]\n",
    "    for index in range(0,len(coords_and_grains)):\n",
    "        if (coords_and_grains_copy[index,0]<=int((110*percent))) and (coords_and_grains_copy[index,1]>=int((110*percent))):\n",
    "            row_list.append(coords_and_grains_copy[index])\n",
    "        else:\n",
    "            continue\n",
    "\n",
    "    row_tuple=tuple(row_list)\n",
    "    coords_and_grains_slice=np.vstack(row_tuple)\n",
    "    uniquegrains=np.unique(coords_and_grains_slice[:,2],return_counts=True)\n",
    "    ID, count = uniquegrains\n",
    "    params = lognorm.fit(count)\n",
    "    xvals = np.linspace(0, 200, num=200)\n",
    "    pdf = lambda x: lognorm.pdf(xvals, *params)\n",
    "    s = pdf(xvals)\n",
    "    s[s==0]=[0.000001]\n",
    "    #return s\n",
    "    return coords_and_grains_slice[:,0], coords_and_grains_slice[:,1]"
   ]
  },
  {
   "cell_type": "code",
   "execution_count": 72,
   "metadata": {},
   "outputs": [
    {
     "data": {
      "text/plain": [
       "<matplotlib.collections.PathCollection at 0x227f1de2e08>"
      ]
     },
     "execution_count": 72,
     "metadata": {},
     "output_type": "execute_result"
    },
    {
     "data": {
      "image/png": "[encoded data removed]",
      "text/plain": [
       "<Figure size 432x288 with 1 Axes>"
      ]
     },
     "metadata": {},
     "output_type": "display_data"
    }
   ],
   "source": [
    "#top left\n",
    "xcoords, ycoords = grain_square(50)\n",
    "# plt.xlim(0, 110)\n",
    "# plt.ylim(0, 110)\n",
    "plt.scatter(xcoords, ycoords, marker=\"o\", alpha=0.5)"
   ]
  },
  {
   "cell_type": "code",
   "execution_count": 25,
   "metadata": {},
   "outputs": [],
   "source": [
    "# x5=[]\n",
    "# y5=[]\n",
    "# for percent in range(20,100,1):\n",
    "#     x5.append(percent)\n",
    "#     y5.append(js_divergence(t,grain_square(percent)))\n",
    "\n",
    "# plt.title('JS Divergence of Dataset and Area Sampled Subset')\n",
    "# plt.xlabel('Percent of Total Available Data Points')\n",
    "# plt.ylabel('JS Divergence')\n",
    "# plt.ylim(0, 1)\n",
    "# sns.scatterplot(x5, y5, s=200, color=\"blue\", marker=\"o\")"
   ]
  },
  {
   "cell_type": "code",
   "execution_count": 29,
   "metadata": {},
   "outputs": [],
   "source": [
    "#bottom right\n",
    "def grain_square(percent):\n",
    "    percent=percent/100\n",
    "    row_list=[]\n",
    "    for index in range(0,len(coords_and_grains)):\n",
    "        if (coords_and_grains_copy[index,0]>=int((110*percent))) and (coords_and_grains_copy[index,1]<=int((110*percent))):\n",
    "            row_list.append(coords_and_grains_copy[index])\n",
    "        else:\n",
    "            continue\n",
    "\n",
    "    row_tuple=tuple(row_list)\n",
    "    coords_and_grains_slice=np.vstack(row_tuple)\n",
    "    uniquegrains=np.unique(coords_and_grains_slice[:,2],return_counts=True)\n",
    "    ID, count = uniquegrains\n",
    "    params = lognorm.fit(count)\n",
    "    xvals = np.linspace(0, 200, num=200)\n",
    "    pdf = lambda x: lognorm.pdf(xvals, *params)\n",
    "    s = pdf(xvals)\n",
    "    s[s==0]=[0.000001]\n",
    "    #return s\n",
    "    return coords_and_grains_slice[:,0], coords_and_grains_slice[:,1]"
   ]
  },
  {
   "cell_type": "code",
   "execution_count": 71,
   "metadata": {},
   "outputs": [
    {
     "data": {
      "text/plain": [
       "<matplotlib.collections.PathCollection at 0x227f1e24688>"
      ]
     },
     "execution_count": 71,
     "metadata": {},
     "output_type": "execute_result"
    },
    {
     "data": {
      "image/png": "[encoded data removed]",
      "text/plain": [
       "<Figure size 432x288 with 1 Axes>"
      ]
     },
     "metadata": {},
     "output_type": "display_data"
    }
   ],
   "source": [
    "xcoords, ycoords = grain_square(50)\n",
    "plt.scatter(xcoords, ycoords, marker=\"o\", alpha=0.5)"
   ]
  },
  {
   "cell_type": "code",
   "execution_count": 26,
   "metadata": {},
   "outputs": [],
   "source": [
    "# x6=[]\n",
    "# y6=[]\n",
    "# for percent in range(20,100,1):\n",
    "#     x6.append(percent)\n",
    "#     y6.append(js_divergence(t,grain_square(percent)))\n",
    "\n",
    "# plt.title('JS Divergence of Dataset and Area Sampled Subset')\n",
    "# plt.xlabel('Percent of Total Available Data Points')\n",
    "# plt.ylabel('JS Divergence')\n",
    "# plt.ylim(0, 1)\n",
    "# sns.scatterplot(x6, y6, s=200, color=\"blue\", marker=\"o\")"
   ]
  },
  {
   "cell_type": "code",
   "execution_count": 57,
   "metadata": {},
   "outputs": [],
   "source": [
    "#bottom right\n",
    "def grain_square(percent):\n",
    "    percent=percent/100\n",
    "    row_list=[]\n",
    "    for index in range(0,len(coords_and_grains)):\n",
    "        if (coords_and_grains_copy[index,0]<=int((110*percent))) and (coords_and_grains_copy[index,1]>=int((110*percent))):\n",
    "            row_list.append(coords_and_grains_copy[index])\n",
    "        else:\n",
    "            continue\n",
    "\n",
    "    row_tuple=tuple(row_list)\n",
    "    coords_and_grains_slice=np.vstack(row_tuple)\n",
    "    uniquegrains=np.unique(coords_and_grains_slice[:,2],return_counts=True)\n",
    "    ID, count = uniquegrains\n",
    "    params = lognorm.fit(count)\n",
    "    xvals = np.linspace(0, 200, num=200)\n",
    "    pdf = lambda x: lognorm.pdf(xvals, *params)\n",
    "    s = pdf(xvals)\n",
    "    s[s==0]=[0.000001]\n",
    "    #return s\n",
    "    return coords_and_grains_slice[:,0], coords_and_grains_slice[:,1]"
   ]
  },
  {
   "cell_type": "code",
   "execution_count": 73,
   "metadata": {},
   "outputs": [
    {
     "data": {
      "text/plain": [
       "<matplotlib.collections.PathCollection at 0x227f1941b48>"
      ]
     },
     "execution_count": 73,
     "metadata": {},
     "output_type": "execute_result"
    },
    {
     "data": {
      "image/png": "[encoded data removed]",
      "text/plain": [
       "<Figure size 432x288 with 1 Axes>"
      ]
     },
     "metadata": {},
     "output_type": "display_data"
    }
   ],
   "source": [
    "xcoords, ycoords = grain_square(50)\n",
    "plt.scatter(xcoords, ycoords, marker=\"o\", alpha=0.5)"
   ]
  },
  {
   "cell_type": "code",
   "execution_count": 31,
   "metadata": {},
   "outputs": [],
   "source": [
    "# x7=[]\n",
    "# y7=[]\n",
    "# for percent in range(20,100,1):\n",
    "#     x7.append(percent)\n",
    "#     y7.append(js_divergence(t,grain_square(percent)))\n",
    "\n",
    "# plt.title('JS Divergence of Dataset and Area Sampled Subset')\n",
    "# plt.xlabel('Percent of Total Available Data Points')\n",
    "# plt.ylabel('JS Divergence')\n",
    "# plt.ylim(0, 1)\n",
    "# sns.scatterplot(x7, y7, s=200, color=\"blue\", marker=\"o\")"
   ]
  },
  {
   "cell_type": "code",
   "execution_count": 14,
   "metadata": {},
   "outputs": [],
   "source": [
    "# def misorientation(euler_one, euler_two):\n",
    "#     #orientation matrices\n",
    "#     g_one=np.array([[((math.cos(euler_one[0]))*(math.cos(euler_one[2]))-(math.sin(euler_one[0]))*(math.sin(euler_one[2]))*(math.cos(euler_one[1]))),((math.sin(euler_one[0]))*(math.cos(euler_one[2]))+(math.cos(euler_one[0]))*(math.sin(euler_one[2]))*(math.cos(euler_one[1]))),((math.sin(euler_one[2]))*(math.sin(euler_one[1])))],\n",
    "#                 [(-(math.cos(euler_one[0]))*(math.sin(euler_one[2]))-(math.sin(euler_one[0]))*(math.cos(euler_one[2]))*(math.cos(euler_one[1]))),(-(math.sin(euler_one[0]))*(math.sin(euler_one[2]))+(math.cos(euler_one[0]))*(math.cos(euler_one[2]))*(math.cos(euler_one[1]))),((math.cos(euler_one[2]))*(math.sin(euler_one[1])))],\n",
    "#                 [((math.sin(euler_one[0]))*(math.sin(euler_one[1]))),(-(math.cos(euler_one[0]))*(math.sin(euler_one[1]))),(math.cos(euler_one[1]))]        \n",
    "#                 ])\n",
    "   \n",
    "#     #euler_two\n",
    "#     g_two=np.array([[((math.cos(euler_two[0]))*(math.cos(euler_two[2]))-(math.sin(euler_two[0]))*(math.sin(euler_two[2]))*(math.cos(euler_two[1]))),((math.sin(euler_two[0]))*(math.cos(euler_two[2]))+(math.cos(euler_two[0]))*(math.sin(euler_two[2]))*(math.cos(euler_two[1]))),((math.sin(euler_two[2]))*(math.sin(euler_two[1])))],\n",
    "#                 [(-(math.cos(euler_two[0]))*(math.sin(euler_two[2]))-(math.sin(euler_two[0]))*(math.cos(euler_two[2]))*(math.cos(euler_two[1]))),(-(math.sin(euler_two[0]))*(math.sin(euler_two[2]))+(math.cos(euler_two[0]))*(math.cos(euler_two[2]))*(math.cos(euler_two[1]))),((math.cos(euler_two[2]))*(math.sin(euler_two[1])))],\n",
    "#                 [((math.sin(euler_two[0]))*(math.sin(euler_two[1]))),(-(math.cos(euler_two[0]))*(math.sin(euler_two[1]))),(math.cos(euler_two[1]))]        \n",
    "#                 ])\n",
    "    \n",
    "#     #misorientation matrix\n",
    "#     delta_g=np.dot(g_one,np.linalg.inv(g_two))\n",
    "                     \n",
    "    \n",
    "#     #misorientation angle\n",
    "#     #error handling for rounding errors outside of domain\n",
    "#     try:\n",
    "#         theta=math.acos((delta_g[0,0]+delta_g[1,1]+delta_g[2,2]-1)/2)\n",
    "#     except:\n",
    "#         if (((delta_g[0,0]+delta_g[1,1]+delta_g[2,2]-1)/2)>1):\n",
    "#             theta=0\n",
    "#         else:\n",
    "#             theta=180\n",
    "\n",
    "#     return math.degrees(theta)"
   ]
  }
 ],
 "metadata": {
  "kernelspec": {
   "display_name": "Python 3",
   "language": "python",
   "name": "python3"
  },
  "language_info": {
   "codemirror_mode": {
    "name": "ipython",
    "version": 3
   },
   "file_extension": ".py",
   "mimetype": "text/x-python",
   "name": "python",
   "nbconvert_exporter": "python",
   "pygments_lexer": "ipython3",
   "version": "3.7.4"
  }
 },
 "nbformat": 4,
 "nbformat_minor": 2
}
