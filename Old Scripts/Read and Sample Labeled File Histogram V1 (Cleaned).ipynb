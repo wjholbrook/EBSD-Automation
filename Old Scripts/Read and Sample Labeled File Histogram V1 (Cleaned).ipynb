{
 "cells": [
  {
   "cell_type": "code",
   "execution_count": 4,
   "metadata": {},
   "outputs": [],
   "source": [
    "#load libraries\n",
    "import numpy as np\n",
    "import math\n",
    "from math import sqrt\n",
    "from matplotlib.image import NonUniformImage\n",
    "import matplotlib.pyplot as plt\n",
    "%matplotlib inline\n",
    "from statistics import mean\n",
    "from scipy.stats import norm, lognorm\n",
    "import seaborn as sns\n",
    "sns.set()\n",
    "sns.set_style('white')\n",
    "from sklearn.neighbors import NearestNeighbors\n",
    "from scipy.spatial import distance, Voronoi, voronoi_plot_2d, ConvexHull, Delaunay\n",
    "from collections import defaultdict\n",
    "import itertools\n",
    "from matplotlib import cm\n",
    "from matplotlib.colors import ListedColormap, LinearSegmentedColormap\n",
    "import random\n",
    "import sys\n",
    "from itertools import combinations \n",
    "import time\n",
    "from scipy import stats\n",
    "from sklearn.svm import SVC # \"Support vector classifier\"\n",
    "import sobol_seq"
   ]
  },
  {
   "cell_type": "code",
   "execution_count": 8,
   "metadata": {},
   "outputs": [
    {
     "ename": "OSError",
     "evalue": "Mueller/Data Files/EBSD Raw Data/AZ31B Ecomp 10e0 Int_3 raw1.txt not found.",
     "output_type": "error",
     "traceback": [
      "\u001b[1;31m---------------------------------------------------------------------------\u001b[0m",
      "\u001b[1;31mOSError\u001b[0m                                   Traceback (most recent call last)",
      "\u001b[1;32m<ipython-input-8-07dd423063ba>\u001b[0m in \u001b[0;36m<module>\u001b[1;34m\u001b[0m\n\u001b[0;32m      1\u001b[0m \u001b[1;31m#load data\u001b[0m\u001b[1;33m\u001b[0m\u001b[1;33m\u001b[0m\u001b[1;33m\u001b[0m\u001b[0m\n\u001b[1;32m----> 2\u001b[1;33m \u001b[0mraw_data\u001b[0m \u001b[1;33m=\u001b[0m \u001b[0mnp\u001b[0m\u001b[1;33m.\u001b[0m\u001b[0mloadtxt\u001b[0m\u001b[1;33m(\u001b[0m\u001b[1;34m'Mueller/Data Files/EBSD Raw Data/AZ31B Ecomp 10e0 Int_3 raw1.txt'\u001b[0m\u001b[1;33m,\u001b[0m \u001b[0mskiprows\u001b[0m\u001b[1;33m=\u001b[0m\u001b[1;36m17\u001b[0m\u001b[1;33m,\u001b[0m \u001b[0musecols\u001b[0m\u001b[1;33m=\u001b[0m\u001b[1;33m(\u001b[0m\u001b[1;36m0\u001b[0m\u001b[1;33m,\u001b[0m\u001b[1;36m1\u001b[0m\u001b[1;33m,\u001b[0m\u001b[1;36m2\u001b[0m\u001b[1;33m,\u001b[0m\u001b[1;36m3\u001b[0m\u001b[1;33m,\u001b[0m\u001b[1;36m4\u001b[0m\u001b[1;33m,\u001b[0m\u001b[1;36m8\u001b[0m\u001b[1;33m)\u001b[0m\u001b[1;33m)\u001b[0m\u001b[1;33m\u001b[0m\u001b[1;33m\u001b[0m\u001b[0m\n\u001b[0m\u001b[0;32m      3\u001b[0m \u001b[0mraw_data_copy\u001b[0m\u001b[1;33m=\u001b[0m\u001b[0mnp\u001b[0m\u001b[1;33m.\u001b[0m\u001b[0mcopy\u001b[0m\u001b[1;33m(\u001b[0m\u001b[0mraw_data\u001b[0m\u001b[1;33m)\u001b[0m\u001b[1;33m\u001b[0m\u001b[1;33m\u001b[0m\u001b[0m\n\u001b[0;32m      4\u001b[0m \u001b[1;33m\u001b[0m\u001b[0m\n\u001b[0;32m      5\u001b[0m \u001b[1;31m# load file, skip header, load angles and coordinates, also grain ID\u001b[0m\u001b[1;33m\u001b[0m\u001b[1;33m\u001b[0m\u001b[1;33m\u001b[0m\u001b[0m\n",
      "\u001b[1;32m~\\AppData\\Local\\Continuum\\anaconda3\\lib\\site-packages\\numpy\\lib\\npyio.py\u001b[0m in \u001b[0;36mloadtxt\u001b[1;34m(fname, dtype, comments, delimiter, converters, skiprows, usecols, unpack, ndmin, encoding, max_rows)\u001b[0m\n\u001b[0;32m    960\u001b[0m             \u001b[0mfname\u001b[0m \u001b[1;33m=\u001b[0m \u001b[0mos_fspath\u001b[0m\u001b[1;33m(\u001b[0m\u001b[0mfname\u001b[0m\u001b[1;33m)\u001b[0m\u001b[1;33m\u001b[0m\u001b[1;33m\u001b[0m\u001b[0m\n\u001b[0;32m    961\u001b[0m         \u001b[1;32mif\u001b[0m \u001b[0m_is_string_like\u001b[0m\u001b[1;33m(\u001b[0m\u001b[0mfname\u001b[0m\u001b[1;33m)\u001b[0m\u001b[1;33m:\u001b[0m\u001b[1;33m\u001b[0m\u001b[1;33m\u001b[0m\u001b[0m\n\u001b[1;32m--> 962\u001b[1;33m             \u001b[0mfh\u001b[0m \u001b[1;33m=\u001b[0m \u001b[0mnp\u001b[0m\u001b[1;33m.\u001b[0m\u001b[0mlib\u001b[0m\u001b[1;33m.\u001b[0m\u001b[0m_datasource\u001b[0m\u001b[1;33m.\u001b[0m\u001b[0mopen\u001b[0m\u001b[1;33m(\u001b[0m\u001b[0mfname\u001b[0m\u001b[1;33m,\u001b[0m \u001b[1;34m'rt'\u001b[0m\u001b[1;33m,\u001b[0m \u001b[0mencoding\u001b[0m\u001b[1;33m=\u001b[0m\u001b[0mencoding\u001b[0m\u001b[1;33m)\u001b[0m\u001b[1;33m\u001b[0m\u001b[1;33m\u001b[0m\u001b[0m\n\u001b[0m\u001b[0;32m    963\u001b[0m             \u001b[0mfencoding\u001b[0m \u001b[1;33m=\u001b[0m \u001b[0mgetattr\u001b[0m\u001b[1;33m(\u001b[0m\u001b[0mfh\u001b[0m\u001b[1;33m,\u001b[0m \u001b[1;34m'encoding'\u001b[0m\u001b[1;33m,\u001b[0m \u001b[1;34m'latin1'\u001b[0m\u001b[1;33m)\u001b[0m\u001b[1;33m\u001b[0m\u001b[1;33m\u001b[0m\u001b[0m\n\u001b[0;32m    964\u001b[0m             \u001b[0mfh\u001b[0m \u001b[1;33m=\u001b[0m \u001b[0miter\u001b[0m\u001b[1;33m(\u001b[0m\u001b[0mfh\u001b[0m\u001b[1;33m)\u001b[0m\u001b[1;33m\u001b[0m\u001b[1;33m\u001b[0m\u001b[0m\n",
      "\u001b[1;32m~\\AppData\\Local\\Continuum\\anaconda3\\lib\\site-packages\\numpy\\lib\\_datasource.py\u001b[0m in \u001b[0;36mopen\u001b[1;34m(path, mode, destpath, encoding, newline)\u001b[0m\n\u001b[0;32m    264\u001b[0m \u001b[1;33m\u001b[0m\u001b[0m\n\u001b[0;32m    265\u001b[0m     \u001b[0mds\u001b[0m \u001b[1;33m=\u001b[0m \u001b[0mDataSource\u001b[0m\u001b[1;33m(\u001b[0m\u001b[0mdestpath\u001b[0m\u001b[1;33m)\u001b[0m\u001b[1;33m\u001b[0m\u001b[1;33m\u001b[0m\u001b[0m\n\u001b[1;32m--> 266\u001b[1;33m     \u001b[1;32mreturn\u001b[0m \u001b[0mds\u001b[0m\u001b[1;33m.\u001b[0m\u001b[0mopen\u001b[0m\u001b[1;33m(\u001b[0m\u001b[0mpath\u001b[0m\u001b[1;33m,\u001b[0m \u001b[0mmode\u001b[0m\u001b[1;33m,\u001b[0m \u001b[0mencoding\u001b[0m\u001b[1;33m=\u001b[0m\u001b[0mencoding\u001b[0m\u001b[1;33m,\u001b[0m \u001b[0mnewline\u001b[0m\u001b[1;33m=\u001b[0m\u001b[0mnewline\u001b[0m\u001b[1;33m)\u001b[0m\u001b[1;33m\u001b[0m\u001b[1;33m\u001b[0m\u001b[0m\n\u001b[0m\u001b[0;32m    267\u001b[0m \u001b[1;33m\u001b[0m\u001b[0m\n\u001b[0;32m    268\u001b[0m \u001b[1;33m\u001b[0m\u001b[0m\n",
      "\u001b[1;32m~\\AppData\\Local\\Continuum\\anaconda3\\lib\\site-packages\\numpy\\lib\\_datasource.py\u001b[0m in \u001b[0;36mopen\u001b[1;34m(self, path, mode, encoding, newline)\u001b[0m\n\u001b[0;32m    622\u001b[0m                                       encoding=encoding, newline=newline)\n\u001b[0;32m    623\u001b[0m         \u001b[1;32melse\u001b[0m\u001b[1;33m:\u001b[0m\u001b[1;33m\u001b[0m\u001b[1;33m\u001b[0m\u001b[0m\n\u001b[1;32m--> 624\u001b[1;33m             \u001b[1;32mraise\u001b[0m \u001b[0mIOError\u001b[0m\u001b[1;33m(\u001b[0m\u001b[1;34m\"%s not found.\"\u001b[0m \u001b[1;33m%\u001b[0m \u001b[0mpath\u001b[0m\u001b[1;33m)\u001b[0m\u001b[1;33m\u001b[0m\u001b[1;33m\u001b[0m\u001b[0m\n\u001b[0m\u001b[0;32m    625\u001b[0m \u001b[1;33m\u001b[0m\u001b[0m\n\u001b[0;32m    626\u001b[0m \u001b[1;33m\u001b[0m\u001b[0m\n",
      "\u001b[1;31mOSError\u001b[0m: Mueller/Data Files/EBSD Raw Data/AZ31B Ecomp 10e0 Int_3 raw1.txt not found."
     ]
    }
   ],
   "source": [
    "#load data\n",
    "raw_data = np.loadtxt('Data Files/EBSD Raw Data/AZ31B Ecomp 10e0 Int_3 raw1.txt', skiprows=17, usecols=(0,1,2,3,4,8))\n",
    "raw_data_copy=np.copy(raw_data)\n",
    "\n",
    "# load file, skip header, load angles and coordinates, also grain ID\n",
    "coords=raw_data[:,3:5] \n",
    "grain_IDs=raw_data[:,5]\n",
    "grain_IDs_and_edges=raw_data[:,5:7]\n",
    "coords_and_grains=raw_data[:,3:6]\n",
    "coords_and_grains_copy=np.copy(coords_and_grains)"
   ]
  },
  {
   "cell_type": "code",
   "execution_count": 69,
   "metadata": {},
   "outputs": [],
   "source": [
    "# vol=voronoi_volumes(coords)"
   ]
  },
  {
   "cell_type": "code",
   "execution_count": 10,
   "metadata": {
    "scrolled": true
   },
   "outputs": [],
   "source": [
    "uniquegrains=np.unique(grain_IDs,return_counts=True)\n",
    "IDs, count = uniquegrains\n",
    "\n",
    "edge_grains=grain_IDs_and_edges[np.where(grain_IDs_and_edges[:,1]==1)]"
   ]
  },
  {
   "cell_type": "code",
   "execution_count": 11,
   "metadata": {},
   "outputs": [],
   "source": [
    "#everything to calculate disorientations\n",
    "a=sqrt(0.75)\n",
    "\n",
    "#12 hexagonal close-packed crystal symmetry operators\n",
    "op25=np.array([[1, 0, 0],[0, 1, 0],[0, 0, 1]])\n",
    "op26=np.array([[-0.5, a, 0],[-a, -0.5, 0],[0, 0, 1]])\n",
    "op27=np.array([[-0.5, -a, 0],[a, -0.5, 0],[0, 0, 1]])\n",
    "op28=np.array([[0.5, a, 0],[-a, 0.5, 0],[0, 0, 1]])\n",
    "op29=np.array([[-1, 0, 0],[0, -1, 0],[0, 0, 1]])\n",
    "op30=np.array([[0.5, -a, 0],[a, 0.5, 0],[0, 0, 1]])\n",
    "op31=np.array([[-0.5, -a, 0],[-a, 0.5, 0],[0, 0, -1]])\n",
    "op32=np.array([[1, 0, 0],[0, -1, 0],[0, 0, -1]])\n",
    "op33=np.array([[-0.5, a, 0],[a, 0.5, 0],[0, 0, -1]])\n",
    "op34=np.array([[0.5, a, 0],[a, -0.5, 0],[0, 0, -1]])\n",
    "op35=np.array([[-1, 0, 0],[0, 1, 0],[0, 0, -1]])\n",
    "op36=np.array([[0.5, -a, 0],[-a, -0.5, 0],[0, 0, -1]])\n",
    "\n",
    "op25,op26,op27,op28,op29,op30,op31,op32,op33,op34,op35,op36\n",
    "\n",
    "#list of hexagonal sym ops\n",
    "hex_sym_ops=[op25,op26,op27,op28,op29,op30,op31,op32,op33,op34,op35,op36]\n",
    "\n",
    "#input is an array in radians as follows euler=[angle_one,angle_two,angle_three]\n",
    "def misorientation(euler_one, euler_two,sym_op):\n",
    "    #orientation matrices\n",
    "    g_one=np.array([[((math.cos(euler_one[0]))*(math.cos(euler_one[2]))-(math.sin(euler_one[0]))*(math.sin(euler_one[2]))*(math.cos(euler_one[1]))),((math.sin(euler_one[0]))*(math.cos(euler_one[2]))+(math.cos(euler_one[0]))*(math.sin(euler_one[2]))*(math.cos(euler_one[1]))),((math.sin(euler_one[2]))*(math.sin(euler_one[1])))],\n",
    "                [(-(math.cos(euler_one[0]))*(math.sin(euler_one[2]))-(math.sin(euler_one[0]))*(math.cos(euler_one[2]))*(math.cos(euler_one[1]))),(-(math.sin(euler_one[0]))*(math.sin(euler_one[2]))+(math.cos(euler_one[0]))*(math.cos(euler_one[2]))*(math.cos(euler_one[1]))),((math.cos(euler_one[2]))*(math.sin(euler_one[1])))],\n",
    "                [((math.sin(euler_one[0]))*(math.sin(euler_one[1]))),(-(math.cos(euler_one[0]))*(math.sin(euler_one[1]))),(math.cos(euler_one[1]))]        \n",
    "                ])\n",
    "   \n",
    "    #euler_two\n",
    "    g_two=np.array([[((math.cos(euler_two[0]))*(math.cos(euler_two[2]))-(math.sin(euler_two[0]))*(math.sin(euler_two[2]))*(math.cos(euler_two[1]))),((math.sin(euler_two[0]))*(math.cos(euler_two[2]))+(math.cos(euler_two[0]))*(math.sin(euler_two[2]))*(math.cos(euler_two[1]))),((math.sin(euler_two[2]))*(math.sin(euler_two[1])))],\n",
    "                [(-(math.cos(euler_two[0]))*(math.sin(euler_two[2]))-(math.sin(euler_two[0]))*(math.cos(euler_two[2]))*(math.cos(euler_two[1]))),(-(math.sin(euler_two[0]))*(math.sin(euler_two[2]))+(math.cos(euler_two[0]))*(math.cos(euler_two[2]))*(math.cos(euler_two[1]))),((math.cos(euler_two[2]))*(math.sin(euler_two[1])))],\n",
    "                [((math.sin(euler_two[0]))*(math.sin(euler_two[1]))),(-(math.cos(euler_two[0]))*(math.sin(euler_two[1]))),(math.cos(euler_two[1]))]        \n",
    "                ])\n",
    "    \n",
    "#     #misorientation matrix\n",
    "    delta_g=np.matmul(g_one,np.linalg.inv(g_two))\n",
    "    \n",
    "    #disorientation matrix\n",
    "    #problem here!!!\n",
    "#     delta_gd=np.matmul((np.matmul(g_two,sym_op)),(np.matmul(np.linalg.inv(sym_op),np.linalg.inv(g_one))))\n",
    "    #formula from powerpoint\n",
    "    delta_gd=np.matmul(sym_op,delta_g)\n",
    "    \n",
    "#     #angle in radians\n",
    "#     theta=np.arccos((np.trace(delta_gd)-1)/2)\n",
    "    \n",
    "    #misorientation angle\n",
    "    try:\n",
    "        theta=np.arccos((np.trace(delta_gd)-1)/2)\n",
    "    #error handling for rounding errors outside of domain\n",
    "    except:\n",
    "        if (((np.trace(delta_gd)-1)/2)>1):\n",
    "            theta=0\n",
    "        else:\n",
    "            theta=180\n",
    "\n",
    "    return math.degrees(theta)\n",
    "\n",
    "\n",
    "#find the minimum misorientation using sym ops\n",
    "def disorientation(euler_one, euler_two,sym_ops):\n",
    "    misorientation_list=[]\n",
    "    for sym_op in sym_ops:\n",
    "        misorientation_list.append(misorientation(euler_one, euler_two,sym_op))\n",
    "    \n",
    "    #disorientation is the minimum of the 24 misorientations - for cubic symmetry \n",
    "    return min(misorientation_list)\n",
    "#     return misorientation_list"
   ]
  },
  {
   "cell_type": "code",
   "execution_count": 12,
   "metadata": {},
   "outputs": [],
   "source": [
    "def js_divergence_scipy(hist1,hist2):\n",
    "    #square distance to find divergence, use log2\n",
    "    return (distance.jensenshannon(hist1, hist2, base=2))**2\n",
    "\n",
    "def hellinger_dot(p, q):\n",
    "    \"\"\"Hellinger distance between two discrete distributions. \n",
    "       Using numpy.\n",
    "       For Python >= 3.5 only\"\"\"\n",
    "    z = np.sqrt(p) - np.sqrt(q)\n",
    "    return np.sqrt(z @ z / 2)"
   ]
  },
  {
   "cell_type": "code",
   "execution_count": 13,
   "metadata": {},
   "outputs": [],
   "source": [
    "#get area of each voronoi region\n",
    "def voronoi_volumes(points):\n",
    "    v = Voronoi(points)\n",
    "    #create zeros of len points\n",
    "    vol = np.zeros(v.npoints)\n",
    "    #create vol index and get index of voronoi region for input point \n",
    "    for i, reg_num in enumerate(v.point_region):\n",
    "        #get indices of each region\n",
    "        indices = v.regions[reg_num]\n",
    "        #-1 means vertex outside diagram\n",
    "        if -1 in indices: # some regions can be opened\n",
    "            #ignore infinite regions\n",
    "            vol[i] = 0\n",
    "            \n",
    "        else: #can compute area, use convex hull\n",
    "            vert=v.vertices[indices]\n",
    "            vert[np.where(vert<0)]=0\n",
    "            vert[np.where(vert>110)]=110\n",
    "            vol[i] = ConvexHull(vert).volume\n",
    "                      \n",
    "#             edge=0\n",
    "#             small=np.where(vert<0)\n",
    "#             large=np.where(vert>110)\n",
    "#             if ((len(small[0])) > 0 or (len(large[0])) > 0):\n",
    "#                 edge=1\n",
    "#                 vert[small]=0\n",
    "#                 vert[large]=110            \n",
    "#             if edge==1: #double size of edge grains\n",
    "#                 vol[i] = (2*ConvexHull(vert).volume)\n",
    "#             else: #all vertices are inside \n",
    "#                 vol[i] = ConvexHull(vert).volume\n",
    "                \n",
    "    #can use grain IDs, since areas match input point\n",
    "    return vol"
   ]
  },
  {
   "cell_type": "code",
   "execution_count": 14,
   "metadata": {},
   "outputs": [],
   "source": [
    "def new_vor_p(num_bins=25,hist=True,mean_var=False):\n",
    "    #get areas\n",
    "    vol=voronoi_volumes(coords)   \n",
    "    #turn area into percent of total area\n",
    "    norm_vol=(vol)/sum(vol)\n",
    "    #multiply by total number of pixels to find how many pixels in each area\n",
    "    scale_vol=norm_vol*87017\n",
    "    #round to nearest whole number\n",
    "    round_vol=np.round(scale_vol,decimals=0)\n",
    "    #create array, col1 is ID, col2 is area\n",
    "    grain_IDs_and_areas=np.stack((grain_IDs,round_vol),axis=1)\n",
    "    #get unique IDs and their count\n",
    "    unique_IDs,unique_IDs_count=np.unique(grain_IDs_and_areas[:,0],return_counts=True)\n",
    "    #create array to hold unique IDs and their sizes added together\n",
    "    unique_grain_IDs_and_total_areas=np.stack((unique_IDs,np.zeros(len(unique_IDs))),axis=1)\n",
    "    \n",
    "    #construct IDs and count\n",
    "    for row in unique_grain_IDs_and_total_areas:\n",
    "        grain=grain_IDs_and_areas[np.where(grain_IDs_and_areas[:,0] == row[0])]\n",
    "        total=np.sum(grain[:,1])\n",
    "        row[1]=total\n",
    "    \n",
    "    #double edge grains\n",
    "    row_ID=0\n",
    "    for row in unique_grain_IDs_and_total_areas:\n",
    "        #if the grain ID is an edge\n",
    "        if np.isin(row[0],edge_grains[:,0]):\n",
    "            #double the total grain area\n",
    "            unique_grain_IDs_and_total_areas[row_ID,1]*=2\n",
    "        row_ID+=1\n",
    "        \n",
    "    #return count for hist\n",
    "    count = 0.138*unique_grain_IDs_and_total_areas[:,1]\n",
    "    \n",
    "#     plt.title('100% of Data')\n",
    "#     plt.xlabel('Grain Size')\n",
    "#     plt.ylabel('Frequency')\n",
    "#     plt.xlim(0,50)\n",
    "#     plt.ylim(0,0.15)\n",
    "#     plt.hist(count, bins=num_bins, range=(0,50), density=True)\n",
    "     \n",
    "    q_hist, q_bin_edges = np.histogram(count, bins=num_bins, range=(0,50), density=True)\n",
    "    q_hist = np.append(q_hist, 0)\n",
    "    q=q_hist\n",
    "    q[q==0]=[0.0000000000001]\n",
    "    \n",
    "    if hist==True:\n",
    "        return q\n",
    "    \n",
    "    if mean_var==True:\n",
    "        total_mean=np.mean(count)\n",
    "#         var=np.var(count)\n",
    "        return total_mean"
   ]
  },
  {
   "cell_type": "code",
   "execution_count": 2,
   "metadata": {},
   "outputs": [],
   "source": [
    "k3=new_vor_p(25)\n",
    "total_mean=new_vor_p(hist=False,mean_var=True)"
   ]
  },
  {
   "cell_type": "code",
   "execution_count": 10,
   "metadata": {},
   "outputs": [],
   "source": [
    "def random_vor(sample,num_bins=25,hist=True,mean_var=False,replacement=False):\n",
    "    #choose random points\n",
    "    random_coords_and_grains=coords_and_grains[np.random.choice(coords_and_grains.shape[0], sample, replace=replacement), :]\n",
    "    random_coords=random_coords_and_grains[:,0:2]\n",
    "    random_grain_IDs=random_coords_and_grains[:,2]\n",
    "    \n",
    "    #get areas\n",
    "    vol=voronoi_volumes(random_coords)   \n",
    "    #turn area into percent of total area\n",
    "    norm_vol=(vol)/sum(vol)\n",
    "    #multiply by total number of pixels to find how many pixels in each area\n",
    "    scale_vol=norm_vol*87017\n",
    "    #round to nearest whole number\n",
    "    round_vol=np.round(scale_vol,decimals=0)\n",
    "    #create array, col1 is ID, col2 is area\n",
    "    grain_IDs_and_areas=np.stack((random_grain_IDs,round_vol),axis=1)\n",
    "    #get unique IDs and their count\n",
    "    unique_IDs,unique_IDs_count=np.unique(grain_IDs_and_areas[:,0],return_counts=True)\n",
    "    #create array to hold unique IDs and their sizes added together\n",
    "    unique_grain_IDs_and_total_areas=np.stack((unique_IDs,np.zeros(len(unique_IDs))),axis=1)\n",
    "    \n",
    "    #construct IDs and count\n",
    "    for row in unique_grain_IDs_and_total_areas:\n",
    "        grain=grain_IDs_and_areas[np.where(grain_IDs_and_areas[:,0] == row[0])]\n",
    "        total=np.sum(grain[:,1])\n",
    "        row[1]=total\n",
    "    \n",
    "    #double edge grains\n",
    "    row_ID=0\n",
    "    for row in unique_grain_IDs_and_total_areas:\n",
    "        #if the grain ID is an edge\n",
    "        if np.isin(row[0],edge_grains[:,0]):\n",
    "            #double the total grain area\n",
    "            unique_grain_IDs_and_total_areas[row_ID,1]*=2\n",
    "        row_ID+=1\n",
    "        \n",
    "    #return count for hist\n",
    "    count = 0.138*unique_grain_IDs_and_total_areas[:,1]\n",
    "     \n",
    "    q_hist, q_bin_edges = np.histogram(count, bins=num_bins, range=(0,50), density=True)\n",
    "    q_hist = np.append(q_hist, 0)\n",
    "    q=q_hist\n",
    "    q[q==0]=[0.0000000000001]\n",
    "    if hist==True:\n",
    "        return q\n",
    "    \n",
    "    if mean_var==True:\n",
    "        mean=np.mean(count)\n",
    "        var=np.var(count)\n",
    "        return mean, var"
   ]
  },
  {
   "cell_type": "code",
   "execution_count": 2,
   "metadata": {},
   "outputs": [],
   "source": [
    "def random_vor_plot(sample,num_bins=25,hist=True,mean_var=False,replacement=False):\n",
    "    #choose random points\n",
    "    random_coords=coords[np.random.choice(coords.shape[0], sample, replace=replacement), :]\n",
    "    #plot\n",
    "    vor = Voronoi(random_coords)\n",
    "    voronoi_plot_2d(random_coords)\n",
    "    #color\n",
    "    for region in vor.regions:\n",
    "        if not -1 in region:\n",
    "            polygon = [vor.vertices[i] for i in region]\n",
    "            plt.fill(*zip(*polygon))"
   ]
  },
  {
   "cell_type": "code",
   "execution_count": 3,
   "metadata": {},
   "outputs": [
    {
     "ename": "NameError",
     "evalue": "name 'coords' is not defined",
     "output_type": "error",
     "traceback": [
      "\u001b[1;31m---------------------------------------------------------------------------\u001b[0m",
      "\u001b[1;31mNameError\u001b[0m                                 Traceback (most recent call last)",
      "\u001b[1;32m<ipython-input-3-6611fa7945c6>\u001b[0m in \u001b[0;36m<module>\u001b[1;34m\u001b[0m\n\u001b[1;32m----> 1\u001b[1;33m \u001b[0mrandom_vor_plot\u001b[0m\u001b[1;33m(\u001b[0m\u001b[1;36m25\u001b[0m\u001b[1;33m)\u001b[0m\u001b[1;33m\u001b[0m\u001b[1;33m\u001b[0m\u001b[0m\n\u001b[0m",
      "\u001b[1;32m<ipython-input-2-4b50a696fce0>\u001b[0m in \u001b[0;36mrandom_vor_plot\u001b[1;34m(sample, num_bins, hist, mean_var, replacement)\u001b[0m\n\u001b[0;32m      1\u001b[0m \u001b[1;32mdef\u001b[0m \u001b[0mrandom_vor_plot\u001b[0m\u001b[1;33m(\u001b[0m\u001b[0msample\u001b[0m\u001b[1;33m,\u001b[0m\u001b[0mnum_bins\u001b[0m\u001b[1;33m=\u001b[0m\u001b[1;36m25\u001b[0m\u001b[1;33m,\u001b[0m\u001b[0mhist\u001b[0m\u001b[1;33m=\u001b[0m\u001b[1;32mTrue\u001b[0m\u001b[1;33m,\u001b[0m\u001b[0mmean_var\u001b[0m\u001b[1;33m=\u001b[0m\u001b[1;32mFalse\u001b[0m\u001b[1;33m,\u001b[0m\u001b[0mreplacement\u001b[0m\u001b[1;33m=\u001b[0m\u001b[1;32mFalse\u001b[0m\u001b[1;33m)\u001b[0m\u001b[1;33m:\u001b[0m\u001b[1;33m\u001b[0m\u001b[1;33m\u001b[0m\u001b[0m\n\u001b[0;32m      2\u001b[0m     \u001b[1;31m#choose random points\u001b[0m\u001b[1;33m\u001b[0m\u001b[1;33m\u001b[0m\u001b[1;33m\u001b[0m\u001b[0m\n\u001b[1;32m----> 3\u001b[1;33m     \u001b[0mrandom_coords\u001b[0m\u001b[1;33m=\u001b[0m\u001b[0mcoords\u001b[0m\u001b[1;33m[\u001b[0m\u001b[0mnp\u001b[0m\u001b[1;33m.\u001b[0m\u001b[0mrandom\u001b[0m\u001b[1;33m.\u001b[0m\u001b[0mchoice\u001b[0m\u001b[1;33m(\u001b[0m\u001b[0mcoords\u001b[0m\u001b[1;33m.\u001b[0m\u001b[0mshape\u001b[0m\u001b[1;33m[\u001b[0m\u001b[1;36m0\u001b[0m\u001b[1;33m]\u001b[0m\u001b[1;33m,\u001b[0m \u001b[0msample\u001b[0m\u001b[1;33m,\u001b[0m \u001b[0mreplace\u001b[0m\u001b[1;33m=\u001b[0m\u001b[0mreplacement\u001b[0m\u001b[1;33m)\u001b[0m\u001b[1;33m,\u001b[0m \u001b[1;33m:\u001b[0m\u001b[1;33m]\u001b[0m\u001b[1;33m\u001b[0m\u001b[1;33m\u001b[0m\u001b[0m\n\u001b[0m\u001b[0;32m      4\u001b[0m     \u001b[1;31m#plot\u001b[0m\u001b[1;33m\u001b[0m\u001b[1;33m\u001b[0m\u001b[1;33m\u001b[0m\u001b[0m\n\u001b[0;32m      5\u001b[0m     \u001b[0mvor\u001b[0m \u001b[1;33m=\u001b[0m \u001b[0mVoronoi\u001b[0m\u001b[1;33m(\u001b[0m\u001b[0mrandom_coords\u001b[0m\u001b[1;33m)\u001b[0m\u001b[1;33m\u001b[0m\u001b[1;33m\u001b[0m\u001b[0m\n",
      "\u001b[1;31mNameError\u001b[0m: name 'coords' is not defined"
     ]
    }
   ],
   "source": [
    "random_vor_plot(25)"
   ]
  },
  {
   "cell_type": "code",
   "execution_count": null,
   "metadata": {},
   "outputs": [],
   "source": []
  },
  {
   "cell_type": "code",
   "execution_count": null,
   "metadata": {},
   "outputs": [],
   "source": []
  },
  {
   "cell_type": "code",
   "execution_count": null,
   "metadata": {},
   "outputs": [],
   "source": []
  },
  {
   "cell_type": "code",
   "execution_count": null,
   "metadata": {},
   "outputs": [],
   "source": []
  },
  {
   "cell_type": "code",
   "execution_count": null,
   "metadata": {},
   "outputs": [],
   "source": []
  },
  {
   "cell_type": "code",
   "execution_count": 11,
   "metadata": {},
   "outputs": [],
   "source": [
    "def new_grid_vor(sample,num_bins=25,square=True,hist=True,mean_var=False):\n",
    "    phi = (np.sqrt(5)+1)/2\n",
    "    ratio = np.sqrt(3)/2 # cos(60°)\n",
    "    coords = raw_data[:,3:5]\n",
    "    N = sample\n",
    "    \n",
    "    if square == True:\n",
    "        N_X = int(np.sqrt(N))\n",
    "        N_Y = N // N_X\n",
    "        xv, yv = np.meshgrid(np.arange(N_X), np.arange(N_Y), sparse=False, indexing='xy')\n",
    "        square_coords=np.concatenate((xv.reshape(-1,1), yv.reshape(-1,1)), axis=1)\n",
    "        square_coords[:,0] = square_coords[:,0] * (np.amax(raw_data[:,3]) / np.amax(square_coords[:,0]))\n",
    "        square_coords[:,1] = square_coords[:,1] * (np.amax(raw_data[:,4]) / np.amax(square_coords[:,1]))\n",
    "        grid_sample=raw_data[nearest_neighbors(square_coords,coords),3:6]\n",
    "        grid_sample=grid_sample[:,0]\n",
    "        \n",
    "    else: #hexagon\n",
    "        N_X = int(np.sqrt(N)/ratio)\n",
    "        N_Y = N // N_X\n",
    "        xv, yv = np.meshgrid(np.arange(N_X), np.arange(N_Y), sparse=False, indexing='xy')\n",
    "        xv = xv * ratio\n",
    "        xv[::2, :] += ratio/2\n",
    "        hex_coords=np.concatenate((xv.reshape(-1,1), yv.reshape(-1,1)), axis=1)\n",
    "        hex_coords[:,0] *= (np.amax(raw_data[:,3]) / np.amax(hex_coords[:,0]))\n",
    "        hex_coords[:,1] *= (np.amax(raw_data[:,4]) / np.amax(hex_coords[:,1]))\n",
    "        grid_sample=raw_data[nearest_neighbors(hex_coords,coords),3:6]\n",
    "        grid_sample=grid_sample[:,0]\n",
    "    \n",
    "    #slice raw data\n",
    "    sampled_coords=grid_sample[:,0:2]\n",
    "    sampled_grain_IDs=grid_sample[:,2]\n",
    "    \n",
    "    #get areas\n",
    "    vol=voronoi_volumes(sampled_coords)   \n",
    "    #turn area into percent of total area\n",
    "    norm_vol=(vol)/sum(vol)\n",
    "    #multiply by total number of pixels to find how many pixels in each area\n",
    "    scale_vol=norm_vol*87017\n",
    "    #round to nearest whole number\n",
    "    round_vol=np.round(scale_vol,decimals=0)\n",
    "    #create array, col1 is ID, col2 is area\n",
    "    grain_IDs_and_areas=np.stack((sampled_grain_IDs,round_vol),axis=1)\n",
    "    #get unique IDs and their count\n",
    "    unique_IDs,unique_IDs_count=np.unique(grain_IDs_and_areas[:,0],return_counts=True)\n",
    "    #create array to hold unique IDs and their sizes added together\n",
    "    unique_grain_IDs_and_total_areas=np.stack((unique_IDs,np.zeros(len(unique_IDs))),axis=1)\n",
    "    \n",
    "    #construct IDs and count\n",
    "    for row in unique_grain_IDs_and_total_areas:\n",
    "        grain=grain_IDs_and_areas[np.where(grain_IDs_and_areas[:,0] == row[0])]\n",
    "        total=np.sum(grain[:,1])\n",
    "        row[1]=total\n",
    "    \n",
    "    #double edge grains\n",
    "    row_ID=0\n",
    "    for row in unique_grain_IDs_and_total_areas:\n",
    "        #if the grain ID is an edge\n",
    "        if np.isin(row[0],edge_grains[:,0]):\n",
    "            #double the total grain area\n",
    "            unique_grain_IDs_and_total_areas[row_ID,1]*=2\n",
    "        row_ID+=1\n",
    "        \n",
    "    #return count for hist\n",
    "    count = 0.138*unique_grain_IDs_and_total_areas[:,1]\n",
    "     \n",
    "    q_hist, q_bin_edges = np.histogram(count, bins=num_bins, range=(0,50), density=True)\n",
    "    q_hist = np.append(q_hist, 0)\n",
    "    q=q_hist\n",
    "    q[q==0]=[0.0000000000001]\n",
    "    if hist==True:\n",
    "        return q\n",
    "    \n",
    "    if mean_var==True:\n",
    "        mean=np.mean(count)\n",
    "        var=np.var(count)\n",
    "        return mean, var"
   ]
  },
  {
   "cell_type": "code",
   "execution_count": 101,
   "metadata": {},
   "outputs": [],
   "source": [
    "def nearest_neighbors(values, all_values, nbr_neighbors=1):\n",
    "    nn = NearestNeighbors(nbr_neighbors, metric='euclidean', algorithm='kd_tree').fit(all_values)\n",
    "    dists, idxs = nn.kneighbors(values)\n",
    "    return idxs"
   ]
  },
  {
   "cell_type": "code",
   "execution_count": 13,
   "metadata": {},
   "outputs": [],
   "source": [
    "def golden(n,d=2):\n",
    "    g = 1.32471795724474602596 \n",
    "    \n",
    "    alpha = np.zeros(d) \n",
    "    for j in range(d): \n",
    "        alpha[j] = pow(1/g,j+1) %1 \n",
    "    \n",
    "    z = np.zeros((n, d)) \n",
    "    seed=0.5\n",
    "    for i in range(n): \n",
    "        z[i] = (seed + alpha*(i+1)) %1 \n",
    "    \n",
    "    return z"
   ]
  },
  {
   "cell_type": "code",
   "execution_count": 14,
   "metadata": {},
   "outputs": [],
   "source": [
    "def golden_vor(sample,num_bins=25,hist=True,mean_var=False,replacement=False):\n",
    "    #choose 2D golden points\n",
    "    golden_2D = golden(sample)\n",
    "    golden_2D[:,0]*=np.amax(raw_data[:,3])\n",
    "    golden_2D[:,1]*=np.amax(raw_data[:,4])\n",
    "    golden_sample=raw_data[nearest_neighbors(golden_2D,coords),3:6]\n",
    "    golden_sample=golden_sample[:,0]\n",
    "\n",
    "    random_coords=golden_sample[:,0:2]\n",
    "    random_grain_IDs=golden_sample[:,2]\n",
    "    \n",
    "    #get areas\n",
    "    vol=voronoi_volumes(random_coords)   \n",
    "    #turn area into percent of total area\n",
    "    norm_vol=(vol)/sum(vol)\n",
    "    #multiply by total number of pixels to find how many pixels in each area\n",
    "    scale_vol=norm_vol*87017\n",
    "    #round to nearest whole number\n",
    "    round_vol=np.round(scale_vol,decimals=0)\n",
    "    #create array, col1 is ID, col2 is area\n",
    "    grain_IDs_and_areas=np.stack((random_grain_IDs,round_vol),axis=1)\n",
    "    #get unique IDs and their count\n",
    "    unique_IDs,unique_IDs_count=np.unique(grain_IDs_and_areas[:,0],return_counts=True)\n",
    "    #create array to hold unique IDs and their sizes added together\n",
    "    unique_grain_IDs_and_total_areas=np.stack((unique_IDs,np.zeros(len(unique_IDs))),axis=1)\n",
    "    \n",
    "    #construct IDs and count\n",
    "    for row in unique_grain_IDs_and_total_areas:\n",
    "        grain=grain_IDs_and_areas[np.where(grain_IDs_and_areas[:,0] == row[0])]\n",
    "        total=np.sum(grain[:,1])\n",
    "        row[1]=total\n",
    "    \n",
    "    #double edge grains\n",
    "    row_ID=0\n",
    "    for row in unique_grain_IDs_and_total_areas:\n",
    "        #if the grain ID is an edge\n",
    "        if np.isin(row[0],edge_grains[:,0]):\n",
    "            #double the total grain area\n",
    "            unique_grain_IDs_and_total_areas[row_ID,1]*=2\n",
    "        row_ID+=1\n",
    "        \n",
    "    #return count for hist\n",
    "    count = 0.138*unique_grain_IDs_and_total_areas[:,1]\n",
    "     \n",
    "    q_hist, q_bin_edges = np.histogram(count, bins=num_bins, range=(0,50), density=True)\n",
    "    q_hist = np.append(q_hist, 0)\n",
    "    q=q_hist\n",
    "    q[q==0]=[0.0000000000001]\n",
    "    if hist==True:\n",
    "        return q\n",
    "    \n",
    "    if mean_var==True:\n",
    "        mean=np.mean(count)\n",
    "        var=np.var(count)\n",
    "        return mean, var"
   ]
  },
  {
   "cell_type": "code",
   "execution_count": 16,
   "metadata": {},
   "outputs": [],
   "source": [
    "#get area of each voronoi region\n",
    "def window_voronoi_volumes(points,percent=100):\n",
    "    v = Voronoi(points)\n",
    "    #create zeros of len points\n",
    "    vol = np.zeros(v.npoints)\n",
    "    #create vol index and get index of voronoi region for input point \n",
    "    for i, reg_num in enumerate(v.point_region):\n",
    "        #get indices of each region\n",
    "        indices = v.regions[reg_num]\n",
    "        #-1 means vertex outside diagram\n",
    "        if -1 in indices: # some regions can be opened\n",
    "            #ignore infinite regions\n",
    "            vol[i] = 0\n",
    "            \n",
    "        else: #can compute area, use convex hull\n",
    "            vert=v.vertices[indices]\n",
    "            vert[np.where(vert<0)]=0\n",
    "            vert[np.where(vert>(110*percent))]=(110*percent)\n",
    "            vol[i] = ConvexHull(vert).volume\n",
    "                \n",
    "    #can use grain IDs, since areas match input point\n",
    "    return vol"
   ]
  },
  {
   "cell_type": "code",
   "execution_count": 17,
   "metadata": {},
   "outputs": [],
   "source": [
    "def grain_rect_count_vor(percent,num_bins=25,hist=True,mean_var=False):\n",
    "    percent=percent/100\n",
    "    row_list=[]\n",
    "    for index in range(0,len(coords_and_grains)):\n",
    "        if (coords_and_grains_copy[index,0]<=int((110*percent))) and (coords_and_grains_copy[index,1]<=int((110*percent))):\n",
    "            row_list.append(coords_and_grains_copy[index])\n",
    "        else:\n",
    "            continue\n",
    "\n",
    "    row_tuple=tuple(row_list)\n",
    "    coords_and_grains_slice=np.vstack(row_tuple)\n",
    "    coords_slice=coords_and_grains_slice[:,0:2]\n",
    "    grains_slice=coords_and_grains_slice[:,2]\n",
    "    \n",
    "    #volume is not constant!\n",
    "    \n",
    "    #get areas\n",
    "    vol=window_voronoi_volumes(coords_slice,percent)   \n",
    "    #turn area into percent of total area\n",
    "    norm_vol=(vol)/sum(vol)\n",
    "    #multiply by total number of pixels to find how many pixels in each area\n",
    "#     scale_vol=norm_vol*87017\n",
    "    scale_vol=norm_vol*len(coords_and_grains_slice)\n",
    "    #round to nearest whole number\n",
    "    round_vol=np.round(scale_vol,decimals=0)\n",
    "    #create array, col1 is ID, col2 is area\n",
    "    grain_IDs_and_areas=np.stack((grains_slice,round_vol),axis=1)\n",
    "    #get unique IDs and their count\n",
    "    unique_IDs,unique_IDs_count=np.unique(grain_IDs_and_areas[:,0],return_counts=True)\n",
    "    #create array to hold unique IDs and their sizes added together\n",
    "    unique_grain_IDs_and_total_areas=np.stack((unique_IDs,np.zeros(len(unique_IDs))),axis=1)\n",
    "    \n",
    "    #construct IDs and count\n",
    "    for row in unique_grain_IDs_and_total_areas:\n",
    "        grain=grain_IDs_and_areas[np.where(grain_IDs_and_areas[:,0] == row[0])]\n",
    "        total=np.sum(grain[:,1])\n",
    "        row[1]=total\n",
    "    \n",
    "    #create array to hold grain IDs and edge column\n",
    "    edges=np.zeros((len(coords_and_grains_slice),1))\n",
    "    coords_and_grain_slice_with_edges=np.concatenate((coords_and_grains_slice,edges.reshape(-1,1)),axis=1)\n",
    "    \n",
    "    #min x\n",
    "    left_edge=np.amin(coords_and_grains_slice[:,0])\n",
    "    #max x\n",
    "    right_edge=np.amax(coords_and_grains_slice[:,0])\n",
    "    #min y\n",
    "    bottom_edge=np.amin(coords_and_grains_slice[:,1])\n",
    "    #max y\n",
    "    top_edge=np.amax(coords_and_grains_slice[:,1])\n",
    "    #assign edge grains\n",
    "    index=0\n",
    "    for row in coords_and_grain_slice_with_edges:\n",
    "        #x values\n",
    "        if row[0] <= left_edge or row[0] >= right_edge:\n",
    "            #it's an edge\n",
    "            row[3]=1\n",
    "        #y values\n",
    "        if row[1] <= bottom_edge or row[1] >= top_edge:\n",
    "            #it's an edge\n",
    "            row[3]=1\n",
    "        index+=1    \n",
    "    \n",
    "    #slice array for edge calculation\n",
    "    grain_slice_and_edges=coords_and_grain_slice_with_edges[:,2:4]\n",
    "    edge_grains=grain_slice_and_edges[np.where(grain_slice_and_edges[:,1]==1)]\n",
    "    \n",
    "    #double edge grains\n",
    "    row_ID=0\n",
    "    for row in unique_grain_IDs_and_total_areas:\n",
    "        #if the grain ID is an edge\n",
    "        if np.isin(row[0],edge_grains[:,0]):\n",
    "            #double the total grain area\n",
    "            unique_grain_IDs_and_total_areas[row_ID,1]*=2\n",
    "        row_ID+=1\n",
    "    \n",
    "    #create count\n",
    "    uniquegrains=np.unique(grains_slice,return_counts=True)\n",
    "    IDs, count = uniquegrains\n",
    "    \n",
    "    #return count for hist\n",
    "    count = 0.138*unique_grain_IDs_and_total_areas[:,1]\n",
    "    \n",
    "    q_hist, q_bin_edges = np.histogram(count, bins=num_bins, range=(0,50), density=True)\n",
    "    q_hist = np.append(q_hist, 0)\n",
    "    q=q_hist\n",
    "    q[q==0]=[0.0000000000001]\n",
    "    if hist==True:\n",
    "        return q\n",
    "    \n",
    "    if mean_var==True:\n",
    "        mean=np.mean(count)\n",
    "        var=np.var(count)\n",
    "        return mean, var\n",
    "#     return np.std(count)\n",
    "#     return count, q_bin_edges\n",
    "#     return q,q_bin_edges"
   ]
  },
  {
   "cell_type": "code",
   "execution_count": 18,
   "metadata": {},
   "outputs": [],
   "source": [
    "#subtract to align values"
   ]
  },
  {
   "cell_type": "code",
   "execution_count": 15,
   "metadata": {},
   "outputs": [],
   "source": [
    "x_min=np.amin(raw_data[:,3])\n",
    "x_max=np.amax(raw_data[:,3])\n",
    "y_min=np.amin(raw_data[:,4])\n",
    "y_max=np.amax(raw_data[:,4])\n",
    "#window one (bottom left)\n",
    "raw_data_slice_1 = raw_data[np.where((raw_data[:,3] <= x_max/2) & (raw_data[:,4] <= y_max/2))]\n",
    "\n",
    "# #window two (bottom right)\n",
    "raw_data_slice_2 = raw_data[np.where((raw_data[:,3] >= x_max/2) & (raw_data[:,4] <= y_max/2))]\n",
    "raw_data_slice_2[:,3] -= np.min(raw_data_slice_2[:,3])\n",
    "\n",
    "# #window three (top left)\n",
    "raw_data_slice_3 = raw_data[np.where((raw_data[:,3] <= x_max/2) & (raw_data[:,4] >= y_max/2))]\n",
    "raw_data_slice_3[:,4] -= np.min(raw_data_slice_3[:,4])\n",
    "\n",
    "# #window four (top right)\n",
    "raw_data_slice_4 = raw_data[np.where((raw_data[:,3] >= x_max/2) & (raw_data[:,4] >= y_max/2))]\n",
    "raw_data_slice_4[:,3] -= np.min(raw_data_slice_4[:,3])\n",
    "raw_data_slice_4[:,4] -= np.min(raw_data_slice_4[:,4])"
   ]
  },
  {
   "cell_type": "code",
   "execution_count": 16,
   "metadata": {},
   "outputs": [],
   "source": [
    "# grain_rect_map_2(100-sqrt(x*100),100-sqrt(x*100))"
   ]
  },
  {
   "cell_type": "code",
   "execution_count": 17,
   "metadata": {},
   "outputs": [],
   "source": [
    "# grain_rect_map_3(sqrt(x*100),100-sqrt(x*100))"
   ]
  },
  {
   "cell_type": "code",
   "execution_count": 18,
   "metadata": {},
   "outputs": [],
   "source": [
    "# grain_rect_map_4(100-sqrt(x*100),sqrt(x*100))"
   ]
  },
  {
   "cell_type": "code",
   "execution_count": 200,
   "metadata": {},
   "outputs": [],
   "source": [
    "window_percent=[]\n",
    "for x in range(2,100):\n",
    "    window_percent.append(x)"
   ]
  },
  {
   "cell_type": "code",
   "execution_count": 40,
   "metadata": {},
   "outputs": [],
   "source": [
    "window_mean=[]\n",
    "window_var=[]\n",
    "\n",
    "for x in range(2,100):\n",
    "    mean, var=grain_rect_count_vor(sqrt(x*100),hist=False,mean_var=True)\n",
    "    window_mean.append(mean)\n",
    "    window_var.append(var)\n",
    "\n",
    "window_std=np.sqrt(window_var)"
   ]
  },
  {
   "cell_type": "code",
   "execution_count": 301,
   "metadata": {},
   "outputs": [
    {
     "name": "stdout",
     "output_type": "stream",
     "text": [
      "Stored 'window_mean' (list)\n",
      "Stored 'window_var' (list)\n"
     ]
    }
   ],
   "source": [
    "%store window_mean\n",
    "%store window_var"
   ]
  },
  {
   "cell_type": "code",
   "execution_count": 201,
   "metadata": {},
   "outputs": [
    {
     "name": "stdout",
     "output_type": "stream",
     "text": [
      "98\n",
      "98\n"
     ]
    }
   ],
   "source": [
    "print(len(window_percent))\n",
    "print(len(window_var))"
   ]
  },
  {
   "cell_type": "code",
   "execution_count": 213,
   "metadata": {},
   "outputs": [
    {
     "data": {
      "text/plain": [
       "<matplotlib.lines.Line2D at 0x123fa0053c8>"
      ]
     },
     "execution_count": 213,
     "metadata": {},
     "output_type": "execute_result"
    },
    {
     "data": {
      "image/png": "[encoded data removed]",
      "text/plain": [
       "<Figure size 432x288 with 1 Axes>"
      ]
     },
     "metadata": {},
     "output_type": "display_data"
    }
   ],
   "source": [
    "plt.xlim(0, 100)\n",
    "plt.ylim(-1500,1500)\n",
    "# plt.ylim(0,25)\n",
    "plt.title('Window')\n",
    "plt.xlabel('Percent of Total Available Data Points')\n",
    "plt.ylabel('Mean Grain Size')\n",
    "\n",
    "#window mean\n",
    "sns.scatterplot(window_percent, window_mean, s=100, color=\"blue\", marker=\"o\", label='Window')\n",
    "plt.errorbar(window_percent, window_mean, yerr=window_var, fmt='o')\n",
    "#total mean\n",
    "plt.axhline(y=total_mean, color='blue', linestyle='-',label='total mean')"
   ]
  },
  {
   "cell_type": "code",
   "execution_count": 89,
   "metadata": {},
   "outputs": [],
   "source": [
    "window_percent_2=[]\n",
    "for x in range(1,26):\n",
    "    window_percent_2.append(x)"
   ]
  },
  {
   "cell_type": "code",
   "execution_count": 204,
   "metadata": {},
   "outputs": [],
   "source": [
    "#reload data 2\n",
    "raw_data = raw_data_slice_2\n",
    "coords=raw_data_slice_2[:,3:5] \n",
    "grain_IDs=raw_data_slice_2[:,5]\n",
    "grain_IDs_and_edges=raw_data_slice_2[:,5:7]\n",
    "coords_and_grains=raw_data_slice_2[:,3:6]\n",
    "coords_and_grains_copy=np.copy(coords_and_grains)\n",
    "\n",
    "window_mean_2=[]\n",
    "window_var_2=[]\n",
    "\n",
    "for x in range(1,26):\n",
    "    mean, var=grain_rect_count_vor(sqrt(x*100),hist=False,mean_var=True)\n",
    "    window_mean_2.append(mean)\n",
    "    window_var_2.append(var)\n",
    "\n",
    "window_std_2=np.sqrt(window_var)"
   ]
  },
  {
   "cell_type": "code",
   "execution_count": 205,
   "metadata": {},
   "outputs": [
    {
     "name": "stdout",
     "output_type": "stream",
     "text": [
      "25\n",
      "25\n"
     ]
    }
   ],
   "source": [
    "print(len(window_percent_2))\n",
    "print(len(window_mean_2))"
   ]
  },
  {
   "cell_type": "code",
   "execution_count": 206,
   "metadata": {},
   "outputs": [
    {
     "data": {
      "text/plain": [
       "<matplotlib.lines.Line2D at 0x123f6f6cb48>"
      ]
     },
     "execution_count": 206,
     "metadata": {},
     "output_type": "execute_result"
    },
    {
     "data": {
      "image/png": "[encoded data removed]",
      "text/plain": [
       "<Figure size 432x288 with 1 Axes>"
      ]
     },
     "metadata": {},
     "output_type": "display_data"
    }
   ],
   "source": [
    "plt.xlim(0, 25)\n",
    "# plt.ylim(-50000,50000)\n",
    "plt.ylim(0,25)\n",
    "plt.title('Window')\n",
    "plt.xlabel('Percent of Total Available Data Points')\n",
    "plt.ylabel('Mean Grain Size')\n",
    "\n",
    "#window mean\n",
    "sns.scatterplot(window_percent_2, window_mean_2, s=100, color=\"blue\", marker=\"o\", label='Window')\n",
    "# plt.errorbar(window_percent, window_mean, yerr=window_var, fmt='o')\n",
    "#total mean\n",
    "plt.axhline(y=total_mean, color='blue', linestyle='-',label='total mean')"
   ]
  },
  {
   "cell_type": "code",
   "execution_count": 310,
   "metadata": {},
   "outputs": [
    {
     "name": "stdout",
     "output_type": "stream",
     "text": [
      "Stored 'window_mean_2' (list)\n",
      "Stored 'window_var_2' (list)\n"
     ]
    }
   ],
   "source": [
    "%store window_mean_2\n",
    "%store window_var_2"
   ]
  },
  {
   "cell_type": "code",
   "execution_count": 311,
   "metadata": {},
   "outputs": [],
   "source": [
    "#reload data 3\n",
    "raw_data = raw_data_slice_3\n",
    "coords=raw_data_slice_3[:,3:5] \n",
    "grain_IDs=raw_data_slice_3[:,5]\n",
    "grain_IDs_and_edges=raw_data_slice_3[:,5:7]\n",
    "coords_and_grains=raw_data_slice_3[:,3:6]\n",
    "coords_and_grains_copy=np.copy(coords_and_grains)\n",
    "\n",
    "window_mean_3=[]\n",
    "window_var_3=[]\n",
    "\n",
    "for x in range(2,100):\n",
    "    mean, var=grain_rect_count_vor(sqrt(x*100),hist=False,mean_var=True)\n",
    "    window_mean_3.append(mean)\n",
    "    window_var_3.append(var)\n",
    "\n",
    "window_std_3=np.sqrt(window_var)"
   ]
  },
  {
   "cell_type": "code",
   "execution_count": 312,
   "metadata": {},
   "outputs": [
    {
     "name": "stdout",
     "output_type": "stream",
     "text": [
      "Stored 'window_mean_3' (list)\n",
      "Stored 'window_var_3' (list)\n"
     ]
    }
   ],
   "source": [
    "%store window_mean_3\n",
    "%store window_var_3"
   ]
  },
  {
   "cell_type": "code",
   "execution_count": null,
   "metadata": {},
   "outputs": [],
   "source": [
    "#reload data 4\n",
    "raw_data = raw_data_slice_4\n",
    "coords=raw_data_slice_4[:,3:5] \n",
    "grain_IDs=raw_data_slice_4[:,5]\n",
    "grain_IDs_and_edges=raw_data_slice_4[:,5:7]\n",
    "coords_and_grains=raw_data_slice_4[:,3:6]\n",
    "coords_and_grains_copy=np.copy(coords_and_grains)\n",
    "\n",
    "window_mean_4=[]\n",
    "window_var_4=[]\n",
    "\n",
    "for x in range(2,100):\n",
    "    mean, var=grain_rect_count_vor(sqrt(x*100),hist=False,mean_var=True)\n",
    "    window_mean_4.append(mean)\n",
    "    window_var_4.append(var)\n",
    "\n",
    "window_std_4=np.sqrt(window_var)"
   ]
  },
  {
   "cell_type": "code",
   "execution_count": null,
   "metadata": {},
   "outputs": [],
   "source": [
    "%store window_mean_4\n",
    "%store window_var_4"
   ]
  },
  {
   "cell_type": "code",
   "execution_count": 27,
   "metadata": {},
   "outputs": [
    {
     "data": {
      "text/plain": [
       "<matplotlib.lines.Line2D at 0x123f1451f88>"
      ]
     },
     "execution_count": 27,
     "metadata": {},
     "output_type": "execute_result"
    },
    {
     "data": {
      "image/png": "[encoded data removed]",
      "text/plain": [
       "<Figure size 432x288 with 1 Axes>"
      ]
     },
     "metadata": {
      "needs_background": "light"
     },
     "output_type": "display_data"
    }
   ],
   "source": [
    "plt.xlim(0, 100)\n",
    "# plt.ylim(-50000,50000)\n",
    "plt.ylim(0,25)\n",
    "plt.title('Window')\n",
    "plt.xlabel('Percent of Total Available Data Points')\n",
    "plt.ylabel('Mean Grain Size')\n",
    "\n",
    "#window mean\n",
    "sns.scatterplot(window_percent, window_mean_3, s=100, color=\"blue\", marker=\"o\", label='Window')\n",
    "# plt.errorbar(window_percent, window_mean, yerr=window_var, fmt='o')\n",
    "#total mean\n",
    "plt.axhline(y=total_mean, color='blue', linestyle='-',label='total mean')"
   ]
  },
  {
   "cell_type": "code",
   "execution_count": 28,
   "metadata": {},
   "outputs": [],
   "source": [
    "# # plt.xlim(0, 100)\n",
    "# # plt.ylim(0, 1)\n",
    "# #plt.title('JS Divergence of Dataset and Randomly Sampled Subset')\n",
    "# plt.xlabel('Percent of Total Available Data Points')\n",
    "# plt.ylabel('Mean Grain Size')\n",
    "\n",
    "# #window mean\n",
    "# # sns.scatterplot(window_percent, window_mean, s=100, color=\"red\", marker=\"o\", label='mean')\n",
    "# #window var\n",
    "# sns.scatterplot(window_percent, window_var, s=100, color=\"blue\", marker=\"o\", label='var')"
   ]
  },
  {
   "cell_type": "code",
   "execution_count": 201,
   "metadata": {},
   "outputs": [],
   "source": [
    "random_percent=[]\n",
    "for x in range (10,87000,1000):\n",
    "    random_percent.append((x/87000)*100)\n",
    "    \n",
    "grid_percent=[]\n",
    "for x in range(1,25,1):\n",
    "    grid_percent.append(((87017/x)/87017)*100)\n",
    "    \n",
    "fine_grid_percent=[]\n",
    "for x in range(2,50,1):\n",
    "    fine_grid_percent.append(((87017-(87017/x))/87017)*100)"
   ]
  },
  {
   "cell_type": "code",
   "execution_count": 51,
   "metadata": {},
   "outputs": [],
   "source": [
    "random_mean=[]\n",
    "random_var=[]\n",
    "\n",
    "for x in range (10,87000,1000):\n",
    "    mean, var=random_vor(x,hist=False,mean_var=True)\n",
    "    random_mean.append(mean)\n",
    "    random_var.append(var)\n",
    "\n",
    "random_std=np.sqrt(random_var)   "
   ]
  },
  {
   "cell_type": "code",
   "execution_count": 62,
   "metadata": {},
   "outputs": [
    {
     "name": "stdout",
     "output_type": "stream",
     "text": [
      "Stored 'random_mean' (list)\n",
      "Stored 'random_var' (list)\n"
     ]
    }
   ],
   "source": [
    "%store random_mean\n",
    "%store random_var"
   ]
  },
  {
   "cell_type": "code",
   "execution_count": 83,
   "metadata": {},
   "outputs": [
    {
     "data": {
      "text/plain": [
       "<matplotlib.lines.Line2D at 0x123f080b848>"
      ]
     },
     "execution_count": 83,
     "metadata": {},
     "output_type": "execute_result"
    },
    {
     "data": {
      "image/png": "[encoded data removed]",
      "text/plain": [
       "<Figure size 432x288 with 1 Axes>"
      ]
     },
     "metadata": {
      "needs_background": "light"
     },
     "output_type": "display_data"
    }
   ],
   "source": [
    "plt.xlim(0, 100)\n",
    "plt.ylim(-1500,1500)\n",
    "plt.title('Random')\n",
    "plt.xlabel('Percent of Total Available Data Points')\n",
    "plt.ylabel('Mean Grain Size')\n",
    "\n",
    "#window mean\n",
    "# sns.scatterplot(random_percent, random_mean, s=100, color=\"blue\", marker=\"o\")\n",
    "plt.errorbar(random_percent, random_mean, yerr=random_var, fmt='o')\n",
    "#total mean\n",
    "plt.axhline(y=total_mean, color='blue', linestyle='-',label='total mean')"
   ]
  },
  {
   "cell_type": "code",
   "execution_count": 195,
   "metadata": {},
   "outputs": [],
   "source": [
    "def sobol_vor(sample,num_bins=25,hist=True,mean_var=False,replacement=False):\n",
    "    #choose 2D sobol points\n",
    "    sobol = (sobol_seq.i4_sobol_generate(2, sample))\n",
    "    sobol[:,0]*=np.amax(raw_data[:,3])\n",
    "    sobol[:,1]*=np.amax(raw_data[:,4])\n",
    "    sobol_sample=raw_data[nearest_neighbors(sobol,coords),3:6]\n",
    "    sobol_sample=sobol_sample[:,0]\n",
    "\n",
    "    random_coords=sobol_sample[:,0:2]\n",
    "    random_grain_IDs=sobol_sample[:,2]\n",
    "    \n",
    "    #get areas\n",
    "    vol=voronoi_volumes(random_coords)   \n",
    "    #turn area into percent of total area\n",
    "    norm_vol=(vol)/sum(vol)\n",
    "    #multiply by total number of pixels to find how many pixels in each area\n",
    "    scale_vol=norm_vol*87017\n",
    "    #round to nearest whole number\n",
    "    round_vol=np.round(scale_vol,decimals=0)\n",
    "    #create array, col1 is ID, col2 is area\n",
    "    grain_IDs_and_areas=np.stack((random_grain_IDs,round_vol),axis=1)\n",
    "    #get unique IDs and their count\n",
    "    unique_IDs,unique_IDs_count=np.unique(grain_IDs_and_areas[:,0],return_counts=True)\n",
    "    #create array to hold unique IDs and their sizes added together\n",
    "    unique_grain_IDs_and_total_areas=np.stack((unique_IDs,np.zeros(len(unique_IDs))),axis=1)\n",
    "    \n",
    "    #construct IDs and count\n",
    "    for row in unique_grain_IDs_and_total_areas:\n",
    "        grain=grain_IDs_and_areas[np.where(grain_IDs_and_areas[:,0] == row[0])]\n",
    "        total=np.sum(grain[:,1])\n",
    "        row[1]=total\n",
    "    \n",
    "    #double edge grains\n",
    "    row_ID=0\n",
    "    for row in unique_grain_IDs_and_total_areas:\n",
    "        #if the grain ID is an edge\n",
    "        if np.isin(row[0],edge_grains[:,0]):\n",
    "            #double the total grain area\n",
    "            unique_grain_IDs_and_total_areas[row_ID,1]*=2\n",
    "        row_ID+=1\n",
    "        \n",
    "    #return count for hist\n",
    "    count = 0.138*unique_grain_IDs_and_total_areas[:,1]\n",
    "     \n",
    "    q_hist, q_bin_edges = np.histogram(count, bins=num_bins, range=(0,50), density=True)\n",
    "    q_hist = np.append(q_hist, 0)\n",
    "    q=q_hist\n",
    "    q[q==0]=[0.0000000000001]\n",
    "    if hist==True:\n",
    "        return q\n",
    "    \n",
    "    if mean_var==True:\n",
    "        mean=np.mean(count)\n",
    "        var=np.var(count)\n",
    "        return mean, var"
   ]
  },
  {
   "cell_type": "code",
   "execution_count": 197,
   "metadata": {},
   "outputs": [
    {
     "name": "stdout",
     "output_type": "stream",
     "text": [
      "5545.149842977524\n"
     ]
    }
   ],
   "source": [
    "start = time.time()\n",
    "\n",
    "sobol_mean=[]\n",
    "sobol_var=[]\n",
    "\n",
    "for x in range (10,87000,1000):\n",
    "    mean, var=sobol_vor(x,hist=False,mean_var=True)\n",
    "    sobol_mean.append(mean)\n",
    "    sobol_var.append(var)\n",
    "\n",
    "sobol_std=np.sqrt(sobol_var) \n",
    "\n",
    "end = time.time()\n",
    "print(end - start)"
   ]
  },
  {
   "cell_type": "code",
   "execution_count": 199,
   "metadata": {},
   "outputs": [
    {
     "data": {
      "text/plain": [
       "1.5402777777777779"
      ]
     },
     "execution_count": 199,
     "metadata": {},
     "output_type": "execute_result"
    }
   ],
   "source": [
    "5545/3600"
   ]
  },
  {
   "cell_type": "code",
   "execution_count": 215,
   "metadata": {},
   "outputs": [
    {
     "name": "stdout",
     "output_type": "stream",
     "text": [
      "Stored 'sobol_mean' (list)\n",
      "Stored 'sobol_var' (list)\n"
     ]
    }
   ],
   "source": [
    "%store sobol_mean\n",
    "%store sobol_var"
   ]
  },
  {
   "cell_type": "code",
   "execution_count": 207,
   "metadata": {},
   "outputs": [
    {
     "data": {
      "text/plain": [
       "<matplotlib.lines.Line2D at 0x2bf439a2f48>"
      ]
     },
     "execution_count": 207,
     "metadata": {},
     "output_type": "execute_result"
    },
    {
     "data": {
      "image/png": "[encoded data removed]",
      "text/plain": [
       "<Figure size 432x288 with 1 Axes>"
      ]
     },
     "metadata": {},
     "output_type": "display_data"
    }
   ],
   "source": [
    "plt.xlim(0, 100)\n",
    "plt.ylim(-1500,1500)\n",
    "# plt.ylim(0,25)\n",
    "plt.title('Sobol 2D')\n",
    "plt.xlabel('Percent of Total Available Data Points')\n",
    "plt.ylabel('Mean Grain Size')\n",
    "\n",
    "#window mean\n",
    "# sns.scatterplot(random_percent, sobol_mean, s=100, color=\"blue\", marker=\"o\")\n",
    "plt.errorbar(random_percent, sobol_mean, yerr=sobol_var, fmt='o')\n",
    "#total mean\n",
    "plt.axhline(y=total_mean, color='blue', linestyle='-',label='total mean')"
   ]
  },
  {
   "cell_type": "code",
   "execution_count": 386,
   "metadata": {},
   "outputs": [],
   "source": [
    "def jitter_2(res,array,randomness=0,num_bins=25,hist=True,mean_var=False):\n",
    "    #array of points to randomly sample after removing duplicates\n",
    "    sampled=np.zeros((len(array),1))\n",
    "    array=np.concatenate((array,sampled.reshape(-1,1)),axis=1)\n",
    "    \n",
    "    #row_IDs to access unsampled points\n",
    "    row_IDs=np.arange(0,len(array))\n",
    "    array=np.concatenate((array,row_IDs.reshape(-1,1)),axis=1)\n",
    "    \n",
    "    #total number of points to randomly sample\n",
    "    grid_row_IDs=row_IDs[::res]\n",
    "    grid_row_IDs=grid_row_IDs.reshape(-1,1)\n",
    "    \n",
    "    #introduce randomness\n",
    "    minimum=np.zeros((len(grid_row_IDs),1))\n",
    "    minimum=minimum-randomness\n",
    "    maximum=np.ones((len(grid_row_IDs),1))\n",
    "    maximum=maximum+randomness\n",
    "    min_max=np.concatenate((minimum.reshape(-1,1),maximum.reshape(-1,1)),axis=1)\n",
    "    \n",
    "    #ensure the range of values in within the array\n",
    "    \n",
    "    #add/subtract randomness\n",
    "    randomness_array=np.zeros((len(grid_row_IDs),1))\n",
    "    for row in np.arange(len(grid_row_IDs)):\n",
    "        randomness_array[row]=np.random.randint(int(min_max[row,0]),int(min_max[row,1]))\n",
    "    \n",
    "    #add array to create jitter\n",
    "    jitter_array=grid_row_IDs+randomness_array\n",
    "    \n",
    "    #remove points outside of range (0,len)...\n",
    "    in_range=np.where((jitter_array[:,0] >= 0) & (jitter_array[:,0] < len(array)))\n",
    "#     print(len(in_range[0]))\n",
    "#     out_of_range=np.where((jitter_array[:,0] < 0) | (jitter_array[:,0] >= len(array)))\n",
    "#     print(len(out_of_range[0]))\n",
    "    jitter_array=jitter_array[in_range]\n",
    "    \n",
    "    #...and add back in by random sampling\n",
    "    random_array=array[np.random.choice(array.shape[0], (len(grid_row_IDs)-len(in_range[0])), replace=True), 4]\n",
    "    random_array=random_array.reshape(-1,1)\n",
    "    jitter_array=np.append(jitter_array,random_array)\n",
    "    jitter_array=jitter_array.reshape(-1,1)\n",
    "    \n",
    "    #jitter sample data\n",
    "    jitter_coords_and_grain_IDs=array[jitter_array.astype(int).flatten(),:]\n",
    "    jitter_coords=jitter_coords_and_grain_IDs[:,0:2]\n",
    "    jitter_grain_IDs=jitter_coords_and_grain_IDs[:,2]\n",
    "    \n",
    "    #get areas\n",
    "    vol=voronoi_volumes(jitter_coords)\n",
    "    #turn area into percent of total area\n",
    "    norm_vol=(vol)/sum(vol)\n",
    "    #multiply by total number of pixels to find how many pixels in each area\n",
    "    scale_vol=norm_vol*87017\n",
    "    #round to nearest whole number\n",
    "    round_vol=np.round(scale_vol,decimals=0)\n",
    "    #create array, col1 is ID, col2 is area\n",
    "    grain_IDs_and_areas=np.stack((jitter_grain_IDs,round_vol),axis=1)\n",
    "    #get unique IDs and their count\n",
    "    unique_IDs,unique_IDs_count=np.unique(grain_IDs_and_areas[:,0],return_counts=True)\n",
    "    print(unique_IDs)\n",
    "    #create array to hold unique IDs and their sizes added together\n",
    "    unique_grain_IDs_and_total_areas=np.stack((unique_IDs,np.zeros(len(unique_IDs))),axis=1)\n",
    "    \n",
    "    #construct IDs and count\n",
    "    for row in unique_grain_IDs_and_total_areas:\n",
    "        grain=grain_IDs_and_areas[np.where(grain_IDs_and_areas[:,0] == row[0])]\n",
    "        total=np.sum(grain[:,1])\n",
    "        row[1]=total\n",
    "    \n",
    "    #double edge grains\n",
    "    row_ID=0\n",
    "    for row in unique_grain_IDs_and_total_areas:\n",
    "        #if the grain ID is an edge\n",
    "        if np.isin(row[0],edge_grains[:,0]):\n",
    "            #double the total grain area\n",
    "            unique_grain_IDs_and_total_areas[row_ID,1]*=2\n",
    "        row_ID+=1\n",
    "        \n",
    "    #return count for hist\n",
    "    count = unique_grain_IDs_and_total_areas[:,1]\n",
    "    \n",
    "    plt.title('Jitter Sampling, 50% of Data, Jitter = ' + str(randomness))\n",
    "    plt.xlabel('Grain Size')\n",
    "    plt.ylabel('Frequency')\n",
    "    plt.xlim(0,250)\n",
    "    plt.ylim(0,0.04)\n",
    "    plt.hist(count, bins=26, range=(0,250), density=True)\n",
    "     \n",
    "    q_hist, q_bin_edges = np.histogram(count, bins=num_bins, range=(0,250), density=True)\n",
    "    q_hist = np.append(q_hist, 0)\n",
    "    q=q_hist\n",
    "    q[q==0]=[0.0000000000001]\n",
    "    if hist==True:\n",
    "        return q\n",
    "    \n",
    "    if mean_var==True:\n",
    "        mean=np.mean(count)\n",
    "        var=np.var(count)\n",
    "        return mean, var"
   ]
  },
  {
   "cell_type": "code",
   "execution_count": 28,
   "metadata": {},
   "outputs": [],
   "source": [
    "#randomness is from 0 to 100, 0 is pure grid, 100 is pure random \n",
    "def jitter_grid_vor(res,randomness,binsize=249,hist=True,mean_var=False):\n",
    "    #pure grid sampling\n",
    "    grid_coords_and_grain_IDs=coords_and_grains_copy[::res]\n",
    "    grid_coords=grid_coords_and_grain_IDs[:,0:2]\n",
    "    grid_grain_IDs=grid_coords_and_grain_IDs[:,2]\n",
    "    \n",
    "    jitter_coords_and_grain_IDs=np.zeros(grid_coords_and_grain_IDs.shape[1])\n",
    "    #array to hold sampled points\n",
    "    sampled=np.zeros((len(coords_and_grains_copy),1))\n",
    "    jitter_copy=np.concatenate((coords_and_grains_copy,sampled.reshape(-1,1)),axis=1)\n",
    "    \n",
    "    while len(jitter_coords_and_grain_IDs) < len(grid_coords_and_grain_IDs):\n",
    "        jitter_array=jitter_copy[np.where(jitter_copy[:,3])==0]\n",
    "        #scale res by 1 if grid (easy)\n",
    "        #else scale res so it is inbetween start and last item (needs to be same as random)\n",
    "        new_res=res*int(len(jitter_array)*random())\n",
    "        jitter_coords_and_grain_IDs_slice=jitter_array[::res]    \n",
    "            \n",
    "            \n",
    "    jitter_coords_and_grain_IDs=np.delete(jitter_coords_and_grain_IDs, 0, 0)\n",
    "    jitter_coords=jitter_coords_and_grain_IDs[:,0:2]\n",
    "    jitter_grain_IDs=jitter_coords_and_grain_IDs[:,2]\n",
    "    \n",
    "    #get areas\n",
    "    vol=voronoi_volumes(jitter_coords)   \n",
    "    #turn area into percent of total area\n",
    "    norm_vol=(vol)/sum(vol)\n",
    "    #multiply by total number of pixels to find how many pixels in each area\n",
    "    scale_vol=norm_vol*87017\n",
    "    #round to nearest whole number\n",
    "    round_vol=np.round(scale_vol,decimals=0)\n",
    "    #create array, col1 is ID, col2 is area\n",
    "    grain_IDs_and_areas=np.stack((jitter_grain_IDs,round_vol),axis=1)\n",
    "    #get unique IDs and their count\n",
    "    unique_IDs,unique_IDs_count=np.unique(grain_IDs_and_areas[:,0],return_counts=True)\n",
    "    #create array to hold unique IDs and their sizes added together\n",
    "    unique_grain_IDs_and_total_areas=np.stack((unique_IDs,np.zeros(len(unique_IDs))),axis=1)\n",
    "    \n",
    "    #construct IDs and count\n",
    "    for row in unique_grain_IDs_and_total_areas:\n",
    "        grain=grain_IDs_and_areas[np.where(grain_IDs_and_areas[:,0] == row[0])]\n",
    "        total=np.sum(grain[:,1])\n",
    "        row[1]=total\n",
    "    \n",
    "    #double edge grains\n",
    "    row_ID=0\n",
    "    for row in unique_grain_IDs_and_total_areas:\n",
    "        #if the grain ID is an edge\n",
    "        if np.isin(row[0],edge_grains[:,0]):\n",
    "            #double the total grain area\n",
    "            unique_grain_IDs_and_total_areas[row_ID,1]*=2\n",
    "        row_ID+=1\n",
    "        \n",
    "    #return count for hist\n",
    "    count = unique_grain_IDs_and_total_areas[:,1]\n",
    "    \n",
    "    q_hist, q_bin_edges = np.histogram(count, bins=np.arange(binsize), range=(0,250), density=True)\n",
    "    q_hist = np.append(q_hist, 0)\n",
    "    q=q_hist\n",
    "    q[q==0]=[0.0000000000001]\n",
    "    if hist==True:\n",
    "        return q\n",
    "    \n",
    "    if mean_var==True:\n",
    "        mean=np.mean(count)\n",
    "        var=np.var(count)\n",
    "        return mean, var"
   ]
  },
  {
   "cell_type": "code",
   "execution_count": 45,
   "metadata": {},
   "outputs": [],
   "source": [
    "grid_mean=[]\n",
    "grid_var=[]\n",
    "\n",
    "for x in range(1,25,1):\n",
    "    mean, var=grid_vor(x,hist=False,mean_var=True)\n",
    "    grid_mean.append(mean)\n",
    "    grid_var.append(var)\n",
    "\n",
    "grid_std=np.sqrt(grid_var)   "
   ]
  },
  {
   "cell_type": "code",
   "execution_count": 63,
   "metadata": {},
   "outputs": [
    {
     "name": "stdout",
     "output_type": "stream",
     "text": [
      "Stored 'grid_mean' (list)\n",
      "Stored 'grid_var' (list)\n"
     ]
    }
   ],
   "source": [
    "%store grid_mean\n",
    "%store grid_var"
   ]
  },
  {
   "cell_type": "code",
   "execution_count": 84,
   "metadata": {},
   "outputs": [
    {
     "data": {
      "text/plain": [
       "<matplotlib.lines.Line2D at 0x123f0ee0dc8>"
      ]
     },
     "execution_count": 84,
     "metadata": {},
     "output_type": "execute_result"
    },
    {
     "data": {
      "image/png": "[encoded data removed]",
      "text/plain": [
       "<Figure size 432x288 with 1 Axes>"
      ]
     },
     "metadata": {
      "needs_background": "light"
     },
     "output_type": "display_data"
    }
   ],
   "source": [
    "plt.xlim(0, 100)\n",
    "plt.ylim(-1500,1500)\n",
    "# plt.ylim(0,25)\n",
    "plt.title('Grid')\n",
    "plt.xlabel('Percent of Total Available Data Points')\n",
    "plt.ylabel('Mean Grain Size')\n",
    "\n",
    "#window mean\n",
    "# sns.scatterplot(grid_percent, grid_mean, s=100, color=\"blue\", marker=\"o\")\n",
    "plt.errorbar(grid_percent, grid_mean, yerr=grid_var, fmt='o')\n",
    "#total mean\n",
    "plt.axhline(y=total_mean, color='blue', linestyle='-',label='total mean')"
   ]
  },
  {
   "cell_type": "code",
   "execution_count": 271,
   "metadata": {},
   "outputs": [],
   "source": [
    "fine_grid_mean=[]\n",
    "fine_grid_var=[]\n",
    "\n",
    "for x in range(2,25,1):\n",
    "    mean, var=fine_grid_vor(x,hist=False,mean_var=True)\n",
    "    fine_grid_mean.append(mean)\n",
    "    fine_grid_var.append(var)\n",
    "\n",
    "fine_grid_std=np.sqrt(fine_grid_var)   "
   ]
  },
  {
   "cell_type": "code",
   "execution_count": 276,
   "metadata": {},
   "outputs": [
    {
     "data": {
      "text/plain": [
       "<matplotlib.lines.Line2D at 0x2500982d7c8>"
      ]
     },
     "execution_count": 276,
     "metadata": {},
     "output_type": "execute_result"
    },
    {
     "data": {
      "image/png": "[encoded data removed]",
      "text/plain": [
       "<Figure size 432x288 with 1 Axes>"
      ]
     },
     "metadata": {},
     "output_type": "display_data"
    }
   ],
   "source": [
    "plt.xlim(0, 100)\n",
    "plt.ylim(0,200)\n",
    "plt.title('Fine Grid')\n",
    "plt.xlabel('Percent of Total Available Data Points')\n",
    "plt.ylabel('Mean Grain Size')\n",
    "\n",
    "#window mean\n",
    "sns.scatterplot(fine_grid_percent, fine_grid_mean, s=100, color=\"blue\", marker=\"o\")\n",
    "# plt.errorbar(fine_grid_percent, fine_grid_mean, yerr=fine_grid_var, fmt='o')\n",
    "#total mean\n",
    "plt.axhline(y=total_mean, color='blue', linestyle='-',label='total mean')"
   ]
  },
  {
   "cell_type": "code",
   "execution_count": 50,
   "metadata": {},
   "outputs": [],
   "source": [
    "random_divergence_scipy=[]\n",
    "for i in range (1,87000,100):\n",
    "    random_divergence_scipy.append(js_divergence_scipy(new_p(249), random(i)))"
   ]
  },
  {
   "cell_type": "code",
   "execution_count": 116,
   "metadata": {},
   "outputs": [],
   "source": [
    "grid_divergence_scipy=[]\n",
    "for i in range(1,50,1):\n",
    "    grid_divergence_scipy.append(js_divergence_scipy(new_p(249),grid(i)))"
   ]
  },
  {
   "cell_type": "code",
   "execution_count": 391,
   "metadata": {},
   "outputs": [],
   "source": [
    "fine_grid_divergence_scipy=[]\n",
    "for i in range(2,100,1):\n",
    "    fine_grid_divergence_scipy.append(js_divergence_scipy(new_p(249), fine_grid(i)))"
   ]
  },
  {
   "cell_type": "code",
   "execution_count": null,
   "metadata": {},
   "outputs": [],
   "source": [
    "window_divergence_scipy=[]\n",
    "for i in range(2,100,1):\n",
    "    window_divergence_scipy.append(js_divergence_scipy(new_p(249), grain_rect_count(sqrt(i*100))))"
   ]
  },
  {
   "cell_type": "code",
   "execution_count": null,
   "metadata": {},
   "outputs": [],
   "source": [
    "random_divergence_scipy=[]\n",
    "for i in range (1,87000,100):\n",
    "    random_divergence_scipy.append(js_divergence_scipy(new_p(249), random(i)))"
   ]
  },
  {
   "cell_type": "code",
   "execution_count": 390,
   "metadata": {},
   "outputs": [],
   "source": [
    "# plt.xlim(0, 100)\n",
    "# plt.ylim(0, 1)\n",
    "# #plt.title('JS Divergence of Dataset and Randomly Sampled Subset')\n",
    "# plt.xlabel('Percent of Total Available Data Points')\n",
    "# plt.ylabel('JS Divergence')\n",
    "# plt.title('Proportional Scaling')\n",
    "\n",
    "# #SciPy, log2\n",
    "# #random\n",
    "# sns.scatterplot(random_percent, random_divergence_scipy, s=100, color=\"blue\", marker=\"o\", label='Random')\n",
    "# #grid\n",
    "# sns.scatterplot(grid_percent, grid_divergence_scipy, s=100, color=\"red\", marker=\"o\", label='Grid')\n",
    "# #fine grid\n",
    "# sns.scatterplot(fine_grid_percent, fine_grid_divergence_scipy, s=100, color=\"green\", marker=\"o\", label='Fine Grid')\n",
    "# #window\n",
    "# sns.scatterplot(window_percent_two, window_avg, s=100, color=\"gold\", marker=\"o\", label='Window')\n",
    "\n",
    "# # #window\n",
    "# # #top left\n",
    "# # plt.axhline(y=tld, color='purple', linestyle='-',label='top left')\n",
    "# # #top right\n",
    "# # plt.axhline(y=trd, color='purple', linestyle='-',label='top right')\n",
    "# # #bottom right\n",
    "# # plt.axhline(y=brd, color='purple', linestyle='-',label='bottom right')\n",
    "# # #bottom left\n",
    "# # plt.axhline(y=bld, color='purple', linestyle='-',label='bottom left')\n",
    "\n",
    "# # #grid\n",
    "# # #top left\n",
    "# # plt.axhline(y=zero, color='green', linestyle='-',label='zero')\n",
    "# # #top right\n",
    "# # plt.axhline(y=one, color='green', linestyle='-',label='one')\n",
    "# # #bottom right\n",
    "# # plt.axhline(y=two, color='green', linestyle='-',label='two')\n",
    "# # #bottom left\n",
    "# # plt.axhline(y=three, color='green', linestyle='-',label='three')"
   ]
  },
  {
   "cell_type": "code",
   "execution_count": 16,
   "metadata": {},
   "outputs": [],
   "source": [
    "window_percent_two=[]\n",
    "for x in range (1,101,1):\n",
    "    window_percent_two.append(x)"
   ]
  },
  {
   "cell_type": "code",
   "execution_count": 280,
   "metadata": {},
   "outputs": [],
   "source": [
    "window_divergence_one=[]\n",
    "for x in range (1,101,1):\n",
    "    window_divergence_one.append(js_divergence_scipy(new_p(249), grain_rect_count_1(sqrt(x*100),sqrt(x*100))))"
   ]
  },
  {
   "cell_type": "code",
   "execution_count": 281,
   "metadata": {},
   "outputs": [],
   "source": [
    "window_divergence_two=[]\n",
    "for x in range (1,101,1):\n",
    "    window_divergence_two.append(js_divergence_scipy(new_p(249), grain_rect_count_2(100-sqrt(x*100),100-sqrt(x*100))))"
   ]
  },
  {
   "cell_type": "code",
   "execution_count": 282,
   "metadata": {},
   "outputs": [],
   "source": [
    "window_divergence_three=[]\n",
    "for x in range (1,101,1):\n",
    "    window_divergence_three.append(js_divergence_scipy(new_p(249), grain_rect_count_3(sqrt(x*100),100-sqrt(x*100))))"
   ]
  },
  {
   "cell_type": "code",
   "execution_count": 283,
   "metadata": {},
   "outputs": [],
   "source": [
    "window_divergence_four=[]\n",
    "for x in range (1,101,1):\n",
    "    window_divergence_four.append(js_divergence_scipy(new_p(249), grain_rect_count_4(100-sqrt(x*100),sqrt(x*100))))"
   ]
  },
  {
   "cell_type": "code",
   "execution_count": 408,
   "metadata": {},
   "outputs": [],
   "source": [
    "#top left\n",
    "tld=js_divergence(new_p(249),grain_rect_count_3(50,50))\n",
    "#top right\n",
    "trd=js_divergence(new_p(249),grain_rect_count_2(50,50))\n",
    "#bottom right\n",
    "brd=js_divergence(grain_rect_count_4(50,50),new_p(249))\n",
    "#bottom left\n",
    "bld=js_divergence(grain_rect_count_1(50,50),new_p(249))"
   ]
  },
  {
   "cell_type": "code",
   "execution_count": 389,
   "metadata": {},
   "outputs": [],
   "source": [
    "# plt.xlim(0, 100)\n",
    "# plt.ylim(0, 1)\n",
    "# plt.title('Window Divergences Compared')\n",
    "# plt.xlabel('Percent of Total Available Data Points')\n",
    "# plt.ylabel('JS Divergence')\n",
    "\n",
    "# #window one\n",
    "# sns.scatterplot(window_percent_two, window_divergence_one, s=100, color=\"red\", marker=\"o\", label='Window One')\n",
    "# # #bottom left\n",
    "# # plt.axhline(y=bld, color='red', linestyle='-',label='bottom left')\n",
    "\n",
    "# #window two\n",
    "# sns.scatterplot(window_percent_two, window_divergence_two, s=100, color=\"green\", marker=\"o\", label='Window Two')\n",
    "# # #top right\n",
    "# # plt.axhline(y=trd, color='green', linestyle='-',label='top right')\n",
    "\n",
    "# #window three\n",
    "# sns.scatterplot(window_percent_two, window_divergence_three, s=100, color=\"blue\", marker=\"o\", label='Window Three')\n",
    "# # #top left\n",
    "# # plt.axhline(y=tld, color='blue', linestyle='-',label='top left')\n",
    "\n",
    "# #window four\n",
    "# sns.scatterplot(window_percent_two, window_divergence_four, s=100, color=\"purple\", marker=\"o\", label='Window Four')\n",
    "# # #bottom right\n",
    "# # plt.axhline(y=brd, color='purple', linestyle='-',label='bottom right')\n",
    "\n",
    "# #Voronoi\n",
    "# sns.scatterplot(vor_random_percent, voronoi_random_divergence, s=100, color=\"gold\", marker=\"o\", label='Voronoi Random')"
   ]
  },
  {
   "cell_type": "code",
   "execution_count": 388,
   "metadata": {},
   "outputs": [],
   "source": [
    "# #window avg\n",
    "# window_array=np.array([window_divergence_one,window_divergence_two,window_divergence_three,window_divergence_four])\n",
    "# # print(window_array)\n",
    "# window_avg=(window_array.sum(axis=0))/4\n",
    "# sns.scatterplot(window_percent_two, window_avg, s=100, color=\"blue\", marker=\"o\", label='Window Average')"
   ]
  },
  {
   "cell_type": "code",
   "execution_count": 85,
   "metadata": {},
   "outputs": [],
   "source": [
    "window_percent_two=[]\n",
    "for x in range (1,101,1):\n",
    "    window_percent_two.append(x)"
   ]
  },
  {
   "cell_type": "code",
   "execution_count": 459,
   "metadata": {},
   "outputs": [],
   "source": [
    "# plt.xlim(0, 100)\n",
    "# plt.ylim(0, 1)\n",
    "# plt.title('Voronoi Scaling')\n",
    "# plt.xlabel('Percent of Total Available Data Points')\n",
    "# plt.ylabel('JS Divergence')\n",
    "\n",
    "# #Random\n",
    "# # sns.scatterplot(vor_random_percent, voronoi_random_divergence, s=100, color=\"blue\", marker=\"o\", label='Random')\n",
    "# sns.lineplot(vor_random_percent, voronoi_random_divergence, color=\"blue\", label='Random, No Replacement')\n",
    "# #Random wtih duplicates\n",
    "# # # sns.scatterplot(vor_random_percent_2, voronoi_random_divergence_replace, s=100, color=\"blue\", marker=\"o\", label='Random, Duplicates')\n",
    "# # sns.lineplot(vor_random_percent_2, voronoi_random_divergence_replace, color=\"blue\", label='Random, Replacement')\n",
    "# #Grid\n",
    "# # sns.scatterplot(vor_grid_percent, voronoi_grid_divergence, s=100, color=\"red\", marker=\"o\", label='Grid')\n",
    "# sns.lineplot(vor_grid_percent, voronoi_grid_divergence, color=\"red\", label='Grid')\n",
    "# #Fine Grid\n",
    "# # # sns.scatterplot(vor_fine_grid_percent, voronoi_fine_grid_divergence, s=100, color=\"red\", marker=\"o\", label='Grid')\n",
    "# sns.lineplot(vor_fine_grid_percent, voronoi_fine_grid_divergence, color=\"red\", label='Fine Grid')\n",
    "# # # #Jitter One\n",
    "# # # sns.scatterplot(vor_jitter_percent, voronoi_jitter_divergence_1, s=100, color=\"purple\", marker=\"o\", label='Jitter=0')\n",
    "# # sns.lineplot(vor_jitter_percent, voronoi_jitter_divergence_1, color=\"purple\", label='Jitter=0')\n",
    "# # # #Jitter 9\n",
    "# # # sns.scatterplot(vor_jitter_percent, voronoi_jitter_divergence_9, s=100, color=\"purple\", marker=\"o\", label='Jitter=1')\n",
    "# # sns.lineplot(vor_jitter_percent_2, voronoi_jitter_divergence_9, color=\"purple\", label='Jitter=1')\n",
    "# # # #Jitter 8\n",
    "# # # sns.scatterplot(vor_jitter_percent, voronoi_jitter_divergence_8, s=100, color=\"purple\", marker=\"o\", label='Jitter=2')\n",
    "# # # sns.lineplot(vor_jitter_percent, voronoi_jitter_divergence_8, color=\"purple\", label='Jitter=2')"
   ]
  },
  {
   "cell_type": "code",
   "execution_count": 387,
   "metadata": {},
   "outputs": [],
   "source": [
    "# plt.xlim(0, 100)\n",
    "# plt.ylim(0, 0.95)\n",
    "# plt.title('Voronoi Scaling')\n",
    "# plt.xlabel('Percent of Total Available Data Points')\n",
    "# plt.ylabel('JS Divergence')\n",
    "\n",
    "# #Voronoi\n",
    "# sns.scatterplot(vor_random_percent, voronoi_random_divergence, s=100, color=\"blue\", marker=\"o\", label='Random')\n",
    "# # #Scaled\n",
    "# # # sns.scatterplot(random_percent, random_divergence_scipy, s=100, color=\"blue\", marker=\"+\", label='Scaled Random')\n",
    "# # #Voronoi\n",
    "# sns.scatterplot(vor_grid_percent, voronoi_grid_divergence, s=100, color=\"red\", marker=\"o\", label='Grid')\n",
    "# # #Scaled\n",
    "# # # sns.scatterplot(grid_percent, grid_divergence_scipy, s=100, color=\"red\", marker=\"+\", label='Scaled Grid')\n",
    "# # #Voronoi\n",
    "# sns.scatterplot(vor_fine_grid_percent, voronoi_fine_grid_divergence, s=100, color=\"green\", marker=\"o\", label='Fine Grid')\n",
    "# # #Scaled\n",
    "# # # sns.scatterplot(fine_grid_percent, fine_grid_divergence_scipy, s=100, color=\"green\", marker=\"+\", label='Scaled Fine Grid')\n",
    "# # #Window \n",
    "# sns.scatterplot(window_percent_two, window_avg, s=100, color=\"gold\", marker=\"o\", label='Window')"
   ]
  },
  {
   "cell_type": "code",
   "execution_count": null,
   "metadata": {},
   "outputs": [],
   "source": [
    "# vor_jitter_percent=[]\n",
    "# for x in range(1,25,1):\n",
    "#     vor_jitter_percent.append(((87017/x)/87017)*100)\n",
    "\n",
    "# voronoi_jitter_divergence_2=[]\n",
    "# for x in range(1,25,1):\n",
    "#     voronoi_jitter_divergence_2.append(js_divergence_scipy(k3, jitter_2(x,coords_and_grains_copy,100)))\n",
    "\n",
    "# voronoi_jitter_divergence_3=[]\n",
    "# for x in range(1,25,1):\n",
    "#     voronoi_jitter_divergence_3.append(js_divergence_scipy(k3, jitter_2(x,coords_and_grains_copy,50)))\n",
    "\n",
    "# voronoi_jitter_divergence_4=[]\n",
    "# for x in range(1,25,1):\n",
    "#     voronoi_jitter_divergence_4.append(js_divergence_scipy(k3, jitter_2(x,coords_and_grains_copy,25)))\n",
    "\n",
    "# voronoi_jitter_divergence_5=[]\n",
    "# for x in range(1,25,1):\n",
    "#     voronoi_jitter_divergence_5.append(js_divergence_scipy(k3, jitter_2(x,coords_and_grains_copy,12)))\n",
    "\n",
    "# voronoi_jitter_divergence_6=[]\n",
    "# for x in range(1,25,1):\n",
    "#     voronoi_jitter_divergence_6.append(js_divergence_scipy(k3, jitter_2(x,coords_and_grains_copy,6)))\n",
    "\n",
    "# voronoi_jitter_divergence_7=[]\n",
    "# for x in range(1,25,1):\n",
    "#     voronoi_jitter_divergence_7.append(js_divergence_scipy(k3, jitter_2(x,coords_and_grains_copy,3)))\n",
    "\n",
    "# voronoi_jitter_divergence_8=[]\n",
    "# for x in range(1,25,1):\n",
    "#     voronoi_jitter_divergence_8.append(js_divergence_scipy(k3, jitter_2(x,coords_and_grains_copy,2)))\n",
    "\n",
    "# voronoi_jitter_divergence_9=[]\n",
    "# for x in range(1,25,1):\n",
    "#     try:\n",
    "#         voronoi_jitter_divergence_9.append(js_divergence_scipy(k3, jitter_2(x,coords_and_grains_copy,1)))\n",
    "#     except:\n",
    "#         print('Exception at x = '+str(x))\n",
    "\n",
    "# voronoi_jitter_divergence_9.remove(0)\n",
    "\n",
    "# vor_jitter_percent_2=[]\n",
    "# for x in range(1,25,1):\n",
    "#     vor_jitter_percent_2.append(((87017/x)/87017)*100)\n",
    "    \n",
    "# vor_jitter_percent_2.remove(vor_jitter_percent_2[12])\n",
    "# vor_jitter_percent_2.remove(vor_jitter_percent_2[22])\n",
    "\n",
    "# voronoi_jitter_divergence_1=[]\n",
    "# for x in range(1,25,1):\n",
    "#     voronoi_jitter_divergence_1.append(js_divergence_scipy(k3, jitter_2(x,coords_and_grains_copy,0)))\n",
    "\n",
    "# %store voronoi_jitter_divergence_8\n",
    "# %store voronoi_jitter_divergence_9"
   ]
  },
  {
   "cell_type": "code",
   "execution_count": 69,
   "metadata": {},
   "outputs": [],
   "source": [
    "window_percent=[]\n",
    "for x in range (1,26,1):\n",
    "    window_percent.append(x)\n",
    "    \n",
    "#reload data\n",
    "raw_data = raw_data_slice_1\n",
    "coords=raw_data_slice_1[:,3:5] \n",
    "grain_IDs=raw_data_slice_1[:,5]\n",
    "# grain_IDs_and_edges=raw_data_slice_1[:,5:7]\n",
    "coords_and_grains=raw_data_slice_1[:,3:6]\n",
    "coords_and_grains_copy=np.copy(coords_and_grains)\n",
    "\n",
    "window_divergence_one=[]\n",
    "for x in range (1,26,1):\n",
    "    window_divergence_one.append(js_divergence_scipy(k3, grain_rect_count_vor(sqrt(x*100))))\n",
    "\n",
    "#reload data\n",
    "raw_data = raw_data_slice_2\n",
    "coords=raw_data_slice_2[:,3:5] \n",
    "grain_IDs=raw_data_slice_2[:,5]\n",
    "# grain_IDs_and_edges=raw_data_slice_2[:,5:7]\n",
    "coords_and_grains=raw_data_slice_2[:,3:6]\n",
    "coords_and_grains_copy=np.copy(coords_and_grains)\n",
    "\n",
    "window_divergence_two=[]\n",
    "for x in range (1,26,1):\n",
    "    window_divergence_two.append(js_divergence_scipy(k3, grain_rect_count_vor(sqrt(x*100))))\n",
    "\n",
    "#reload data\n",
    "raw_data = raw_data_slice_3\n",
    "coords=raw_data_slice_3[:,3:5] \n",
    "grain_IDs=raw_data_slice_3[:,5]\n",
    "# grain_IDs_and_edges=raw_data_slice_3[:,5:7]\n",
    "coords_and_grains=raw_data_slice_3[:,3:6]\n",
    "coords_and_grains_copy=np.copy(coords_and_grains)\n",
    "\n",
    "window_divergence_three=[]\n",
    "for x in range (1,26,1):\n",
    "    window_divergence_three.append(js_divergence_scipy(k3, grain_rect_count_vor(sqrt(x*100))))\n",
    "    \n",
    "#reload data\n",
    "raw_data = raw_data_slice_4\n",
    "coords=raw_data_slice_4[:,3:5] \n",
    "grain_IDs=raw_data_slice_4[:,5]\n",
    "# grain_IDs_and_edges=raw_data_slice_4[:,5:7]\n",
    "coords_and_grains=raw_data_slice_4[:,3:6]\n",
    "coords_and_grains_copy=np.copy(coords_and_grains)\n",
    "\n",
    "window_divergence_four=[]\n",
    "for x in range (1,26,1):\n",
    "    window_divergence_four.append(js_divergence_scipy(k3, grain_rect_count_vor(sqrt(x*100))))\n",
    "\n",
    "plt.xlim(0, 25)\n",
    "plt.ylim(0, 1)\n",
    "plt.title('Window Divergences Compared')\n",
    "plt.xlabel('Percent of Total Available Data Points')\n",
    "plt.ylabel('JS Divergence')\n",
    "\n",
    "#window one\n",
    "sns.scatterplot(window_percent, window_divergence_one, s=100, color=\"red\", marker=\"o\", label='Window One')\n",
    "\n",
    "#window two\n",
    "sns.scatterplot(window_percent, window_divergence_two, s=100, color=\"green\", marker=\"o\", label='Window Two')\n",
    "\n",
    "#window three\n",
    "sns.scatterplot(window_percent, window_divergence_three, s=100, color=\"blue\", marker=\"o\", label='Window Three')\n",
    "\n",
    "#window four\n",
    "sns.scatterplot(window_percent, window_divergence_four, s=100, color=\"purple\", marker=\"o\", label='Window Four')\n",
    "\n",
    "#window avg\n",
    "window_array=np.array([window_divergence_one,window_divergence_two,window_divergence_three,window_divergence_four])\n",
    "window_avg=(window_array.sum(axis=0))/4\n",
    "\n",
    "sns.scatterplot(window_percent, window_avg, s=100, color=\"blue\", marker=\"o\", label='Window Average')"
   ]
  },
  {
   "cell_type": "code",
   "execution_count": 246,
   "metadata": {},
   "outputs": [],
   "source": [
    "vor_grid_percent=[]\n",
    "for i in range(1,25,1):\n",
    "    vor_grid_percent.append(((87017/i)/87017)*100)\n",
    "    \n",
    "# vor_fine_grid_percent=[]\n",
    "# for i in range(2,25,1):\n",
    "#     vor_fine_grid_percent.append(((87017-(87017/i))/87017)*100)\n",
    "    \n",
    "vor_random_percent=[]\n",
    "for i in range (100,26000,1000):\n",
    "    vor_random_percent.append((i/87000)*100)\n",
    "\n",
    "vor_random_percent_2=[]\n",
    "for i in range (100,88000,1000):\n",
    "    vor_random_percent_2.append((i/87000)*100)\n",
    "    \n",
    "window_percent=[]\n",
    "for x in range (1,26,1):\n",
    "    window_percent.append(x)"
   ]
  },
  {
   "cell_type": "code",
   "execution_count": 38,
   "metadata": {},
   "outputs": [],
   "source": [
    "voronoi_grid_divergence=[]\n",
    "for x in range(1,25,1):\n",
    "    voronoi_grid_divergence.append(js_divergence_scipy(k3, grid_vor(x)))"
   ]
  },
  {
   "cell_type": "code",
   "execution_count": 402,
   "metadata": {},
   "outputs": [],
   "source": [
    "# voronoi_fine_grid_divergence=[]\n",
    "# for x in range(2,25,1):\n",
    "#     voronoi_fine_grid_divergence.append(js_divergence_scipy(k3, fine_grid_vor(x)))"
   ]
  },
  {
   "cell_type": "code",
   "execution_count": 66,
   "metadata": {},
   "outputs": [],
   "source": [
    "voronoi_random_divergence=[]\n",
    "for x in range (100,26000,1000):\n",
    "    voronoi_random_divergence.append(js_divergence_scipy(k3, new_grid_vor(x)))"
   ]
  },
  {
   "cell_type": "code",
   "execution_count": 67,
   "metadata": {},
   "outputs": [],
   "source": [
    "voronoi_square_grid_divergence=[]\n",
    "for x in range (100,26000,1000):\n",
    "    voronoi_square_grid_divergence.append(js_divergence_scipy(k3, new_grid_vor(x)))"
   ]
  },
  {
   "cell_type": "code",
   "execution_count": 28,
   "metadata": {},
   "outputs": [],
   "source": [
    "voronoi_hexagonal_grid_divergence=[]\n",
    "for x in range (100,26000,1000):\n",
    "    voronoi_hexagonal_grid_divergence.append(js_divergence_scipy(k3, new_grid_vor(x,square=False)))"
   ]
  },
  {
   "cell_type": "code",
   "execution_count": 35,
   "metadata": {},
   "outputs": [],
   "source": [
    "window_divergence_vor=[]\n",
    "for x in range (1,26,1):\n",
    "    window_divergence_vor.append(js_divergence_scipy(k3, grain_rect_count_vor(sqrt(x*100))))"
   ]
  },
  {
   "cell_type": "code",
   "execution_count": 57,
   "metadata": {},
   "outputs": [],
   "source": [
    "window_avg=list(window_avg)"
   ]
  },
  {
   "cell_type": "code",
   "execution_count": 34,
   "metadata": {},
   "outputs": [
    {
     "ename": "AttributeError",
     "evalue": "'numpy.ndarray' object has no attribute 'append'",
     "output_type": "error",
     "traceback": [
      "\u001b[1;31m---------------------------------------------------------------------------\u001b[0m",
      "\u001b[1;31mAttributeError\u001b[0m                            Traceback (most recent call last)",
      "\u001b[1;32m<ipython-input-34-1e2d15fc907c>\u001b[0m in \u001b[0;36m<module>\u001b[1;34m\u001b[0m\n\u001b[0;32m      5\u001b[0m \u001b[1;33m\u001b[0m\u001b[0m\n\u001b[0;32m      6\u001b[0m \u001b[0mwindow_percent\u001b[0m\u001b[1;33m.\u001b[0m\u001b[0mappend\u001b[0m\u001b[1;33m(\u001b[0m\u001b[1;36m0\u001b[0m\u001b[1;33m)\u001b[0m\u001b[1;33m\u001b[0m\u001b[1;33m\u001b[0m\u001b[0m\n\u001b[1;32m----> 7\u001b[1;33m \u001b[0mwindow_avg\u001b[0m\u001b[1;33m.\u001b[0m\u001b[0mappend\u001b[0m\u001b[1;33m(\u001b[0m\u001b[1;36m1\u001b[0m\u001b[1;33m)\u001b[0m\u001b[1;33m\u001b[0m\u001b[1;33m\u001b[0m\u001b[0m\n\u001b[0m\u001b[0;32m      8\u001b[0m \u001b[1;33m\u001b[0m\u001b[0m\n\u001b[0;32m      9\u001b[0m \u001b[0mvor_grid_percent\u001b[0m\u001b[1;33m.\u001b[0m\u001b[0mappend\u001b[0m\u001b[1;33m(\u001b[0m\u001b[1;36m0\u001b[0m\u001b[1;33m)\u001b[0m\u001b[1;33m\u001b[0m\u001b[1;33m\u001b[0m\u001b[0m\n",
      "\u001b[1;31mAttributeError\u001b[0m: 'numpy.ndarray' object has no attribute 'append'"
     ]
    }
   ],
   "source": [
    "#add divergence at 100%\n",
    "vor_random_percent.append(100)\n",
    "voronoi_random_divergence.append(0)\n",
    "# voronoi_random_divergence_replace.append(0.08420902459423057)\n",
    "\n",
    "window_percent.append(0)\n",
    "window_avg.append(1)\n",
    "\n",
    "vor_grid_percent.append(0)\n",
    "voronoi_grid_divergence.append(1)\n",
    "\n",
    "vor_grid_percent.append(1)\n",
    "voronoi_grid_divergence.append(0.7380891294936394)"
   ]
  },
  {
   "cell_type": "code",
   "execution_count": 35,
   "metadata": {},
   "outputs": [],
   "source": [
    "vor_grid_percent.append(0)\n",
    "voronoi_grid_divergence.append(1)\n",
    "\n",
    "vor_grid_percent.append(1)\n",
    "voronoi_grid_divergence.append(0.7380891294936394)"
   ]
  },
  {
   "cell_type": "code",
   "execution_count": 68,
   "metadata": {},
   "outputs": [],
   "source": [
    "%store -r"
   ]
  },
  {
   "cell_type": "code",
   "execution_count": 179,
   "metadata": {},
   "outputs": [
    {
     "data": {
      "text/plain": [
       "1"
      ]
     },
     "execution_count": 179,
     "metadata": {},
     "output_type": "execute_result"
    }
   ],
   "source": [
    "voronoi_grid_divergence.pop()"
   ]
  },
  {
   "cell_type": "code",
   "execution_count": 171,
   "metadata": {},
   "outputs": [
    {
     "name": "stdout",
     "output_type": "stream",
     "text": [
      "[0.21135671980396326, 0.13292139797566815, 0.11925692756903228, 0.0998172473905786, 0.08366611089918022, 0.07776819870294414, 0.0683201626151837, 0.053606384244009125, 0.04662248610223341, 0.057497931425388525, 0.05017228334512001, 0.045157421580581995, 0.0399202241843094, 0.03433829011116121, 0.03149856286327021, 0.03134094699886755, 0.030982287220210562, 0.031548700832625315, 0.02897745195714175, 0.021706068767716365, 0.022544644799190702, 0.02702233892781504, 0.02201078868276705, 0.024629042655885516, 0.017755442281225803, 1]\n"
     ]
    }
   ],
   "source": [
    "print(window_avg)"
   ]
  },
  {
   "cell_type": "code",
   "execution_count": 172,
   "metadata": {},
   "outputs": [],
   "source": [
    "window_percent.append(0)"
   ]
  },
  {
   "cell_type": "code",
   "execution_count": 183,
   "metadata": {},
   "outputs": [
    {
     "name": "stdout",
     "output_type": "stream",
     "text": [
      "26\n",
      "26\n"
     ]
    }
   ],
   "source": [
    "print(len(vor_grid_percent))\n",
    "print(len(voronoi_grid_divergence))"
   ]
  },
  {
   "cell_type": "code",
   "execution_count": 30,
   "metadata": {},
   "outputs": [],
   "source": [
    "%store -r"
   ]
  },
  {
   "cell_type": "code",
   "execution_count": 70,
   "metadata": {},
   "outputs": [],
   "source": [
    "voronoi_square_grid_divergence.append(0)\n",
    "voronoi_hexagonal_grid_divergence.append(0)"
   ]
  },
  {
   "cell_type": "code",
   "execution_count": 75,
   "metadata": {},
   "outputs": [],
   "source": [
    "voronoi_random_divergence.append(0)"
   ]
  },
  {
   "cell_type": "code",
   "execution_count": 81,
   "metadata": {},
   "outputs": [
    {
     "name": "stdout",
     "output_type": "stream",
     "text": [
      "27\n",
      "24\n"
     ]
    }
   ],
   "source": [
    "print(len(vor_random_percent))\n",
    "print(len(voronoi_hexagonal_grid_divergence))"
   ]
  },
  {
   "cell_type": "code",
   "execution_count": 84,
   "metadata": {},
   "outputs": [],
   "source": [
    "voronoi_hexagonal_grid_divergence.append(0)"
   ]
  },
  {
   "cell_type": "code",
   "execution_count": 94,
   "metadata": {},
   "outputs": [
    {
     "name": "stdout",
     "output_type": "stream",
     "text": [
      "28\n",
      "27\n"
     ]
    }
   ],
   "source": [
    "print(len(vor_random_percent))\n",
    "print(len(golden_divergence))"
   ]
  },
  {
   "cell_type": "code",
   "execution_count": 248,
   "metadata": {},
   "outputs": [],
   "source": [
    "%store -r"
   ]
  },
  {
   "cell_type": "code",
   "execution_count": null,
   "metadata": {},
   "outputs": [],
   "source": [
    "plt.xlim(0, 10)\n",
    "plt.ylim(0, 1)\n",
    "plt.title('Grain Area Distribution')\n",
    "plt.xlabel('Percent of Total Available Data Points')\n",
    "plt.ylabel('JS Divergence')\n",
    "\n",
    "#Random wtih duplicates\n",
    "# sns.scatterplot(vor_random_percent_2, voronoi_random_divergence_replace, s=100, color=\"purple\", marker=\"o\", label='Random, Duplicates')\n",
    "#Window \n",
    "# sns.scatterplot(window_percent, window_divergence_vor, s=100, color=\"gold\", marker=\"o\", label='Window')\n",
    "sns.lineplot(window_percent, window_avg, color=\"black\", label='Window')\n",
    "#Grid\n",
    "# sns.scatterplot(vor_grid_percent, voronoi_grid_divergence, s=100, color=\"red\", marker=\"o\", label='Grid')\n",
    "# sns.lineplot(vor_grid_percent, voronoi_grid_divergence, color=\"yellow\", label='1D Grid')\n",
    "#Random, Replacement\n",
    "# sns.lineplot(vor_random_percent_2, voronoi_random_divergence_replace, color=\"blue\", label='Random, Replacement')\n",
    "#1D Golden Ratio \n",
    "sns.lineplot(vor_random_percent, golden_divergence, color=\"gold\", label='2D Golden Ratio')\n",
    "#2D Sobol\n",
    "sns.lineplot(vor_random_percent, sobol_divergence, color=\"purple\", label='2D Sobol')\n",
    "#Square Grid\n",
    "sns.lineplot(vor_random_percent, voronoi_square_grid_divergence, color=\"red\", label='Square Grid')\n",
    "#Hex Grid\n",
    "sns.lineplot(vor_random_percent, voronoi_hexagonal_grid_divergence, color=\"green\", label='Hex Grid')\n",
    "#Random\n",
    "# sns.scatterplot(vor_random_percent, voronoi_random_divergence, s=100, color=\"blue\", marker=\"o\", label='Random')\n",
    "sns.lineplot(vor_random_percent, voronoi_random_divergence, color=\"blue\", label='Random, No Replacement')"
   ]
  },
  {
   "cell_type": "code",
   "execution_count": 86,
   "metadata": {},
   "outputs": [
    {
     "name": "stdout",
     "output_type": "stream",
     "text": [
      "Stored 'vor_random_percent' (list)\n",
      "Stored 'window_percent' (list)\n",
      "Stored 'vor_grid_percent' (list)\n",
      "Stored 'voronoi_random_divergence' (list)\n",
      "Stored 'window_avg' (ndarray)\n",
      "Stored 'voronoi_grid_divergence' (list)\n",
      "Stored 'golden_divergence' (list)\n",
      "Stored 'sobol_divergence' (list)\n",
      "Stored 'voronoi_square_grid_divergence' (list)\n",
      "Stored 'voronoi_hexagonal_grid_divergence' (list)\n"
     ]
    }
   ],
   "source": [
    "%store vor_random_percent\n",
    "%store window_percent\n",
    "%store vor_grid_percent\n",
    "%store voronoi_random_divergence\n",
    "%store window_avg\n",
    "%store voronoi_grid_divergence\n",
    "%store golden_divergence\n",
    "%store sobol_divergence\n",
    "%store voronoi_square_grid_divergence\n",
    "%store voronoi_hexagonal_grid_divergence"
   ]
  },
  {
   "cell_type": "code",
   "execution_count": 133,
   "metadata": {},
   "outputs": [],
   "source": [
    "voronoi_random_divergence_replace=[]\n",
    "for x in range (100,26000,1000):\n",
    "    try:\n",
    "        voronoi_random_divergence_replace.append(js_divergence_scipy(k3, random_vor(x,replacement=True)))\n",
    "    except:\n",
    "        print('Exception at x = '+str(x))"
   ]
  },
  {
   "cell_type": "code",
   "execution_count": 232,
   "metadata": {},
   "outputs": [],
   "source": [
    "sobol_divergence=[]\n",
    "for x in range (100,26000,1000):\n",
    "    try:\n",
    "        sobol_divergence.append(js_divergence_scipy(k3, sobol_vor(x)))\n",
    "    except:\n",
    "        print('Exception at x = '+str(x))"
   ]
  },
  {
   "cell_type": "code",
   "execution_count": 233,
   "metadata": {},
   "outputs": [],
   "source": [
    "golden_divergence=[]\n",
    "for x in range (100,26000,1000):\n",
    "    try:\n",
    "        golden_divergence.append(js_divergence_scipy(k3, golden_vor(x)))\n",
    "    except:\n",
    "        print('Exception at x = '+str(x))"
   ]
  },
  {
   "cell_type": "code",
   "execution_count": 234,
   "metadata": {},
   "outputs": [],
   "source": [
    "# voronoi_random_divergence_replace.append(1)\n",
    "sobol_divergence.append(1)\n",
    "golden_divergence.append(1)"
   ]
  },
  {
   "cell_type": "code",
   "execution_count": 242,
   "metadata": {},
   "outputs": [],
   "source": [
    "voronoi_random_divergence_replace.append(1)"
   ]
  },
  {
   "cell_type": "code",
   "execution_count": 243,
   "metadata": {},
   "outputs": [
    {
     "data": {
      "text/plain": [
       "<matplotlib.axes._subplots.AxesSubplot at 0x12381af2cc8>"
      ]
     },
     "execution_count": 243,
     "metadata": {},
     "output_type": "execute_result"
    },
    {
     "data": {
      "image/png": "[encoded data removed]",
      "text/plain": [
       "<Figure size 432x288 with 1 Axes>"
      ]
     },
     "metadata": {},
     "output_type": "display_data"
    }
   ],
   "source": [
    "plt.xlim(0, 20)\n",
    "plt.ylim(0, 1)\n",
    "plt.title('Voronoi Scaling')\n",
    "plt.xlabel('Percent of Total Available Data Points')\n",
    "plt.ylabel('JS Divergence')\n",
    "\n",
    "#Random, Replacement\n",
    "sns.lineplot(vor_random_percent, voronoi_random_divergence_replace, color=\"blue\", label='Random, Replacement')\n",
    "#1D Golden Ratio \n",
    "sns.lineplot(vor_random_percent, golden_divergence, color=\"green\", label='2D Golden Ratio')\n",
    "#2D Sobol\n",
    "sns.lineplot(vor_random_percent, sobol_divergence, color=\"purple\", label='2D Sobol')"
   ]
  },
  {
   "cell_type": "code",
   "execution_count": 244,
   "metadata": {},
   "outputs": [
    {
     "name": "stdout",
     "output_type": "stream",
     "text": [
      "Stored 'sobol_divergence' (list)\n",
      "Stored 'golden_divergence' (list)\n"
     ]
    }
   ],
   "source": [
    "%store sobol_divergence\n",
    "%store golden_divergence"
   ]
  },
  {
   "cell_type": "code",
   "execution_count": 31,
   "metadata": {},
   "outputs": [],
   "source": [
    "def jitter(array,num_boxes,percent,binsize=249,hist=True,mean_var=False): \n",
    "    \n",
    "    #array to hold (un)sampled points\n",
    "    sampled=np.zeros((len(raw_data),1))\n",
    "    array=np.concatenate((array,sampled.reshape(-1,1)),axis=1)\n",
    "    \n",
    "    #row_IDs to access unsampled points\n",
    "    row_IDs=np.arange(0,len(raw_data))\n",
    "    array=np.concatenate((array,row_IDs.reshape(-1,1)),axis=1)\n",
    "    \n",
    "    #total number of points to randomly sample\n",
    "    num_points=len(array)*(percent/100)\n",
    "    \n",
    "    #number of points to randomly sample in each box\n",
    "    num_box_points=int(num_points/num_boxes)\n",
    "    \n",
    "    #a=l^2 (i.e. 22, 4x4 etc)\n",
    "    square_dim=np.sqrt(num_boxes)\n",
    "    \n",
    "    #side length of the square\n",
    "    x_total_side_len=float(max(raw_data[:,3]))\n",
    "    y_total_side_len=float(max(raw_data[:,4]))\n",
    "    \n",
    "    #side length of each jitter square\n",
    "    x_side_len=x_total_side_len/square_dim\n",
    "    y_side_len=y_total_side_len/square_dim\n",
    "    \n",
    "    #number of sides to iterate for loop\n",
    "    num_sides=int(round(x_total_side_len/x_side_len))\n",
    "    \n",
    "    #create array to hold the result\n",
    "    jittered_array=np.zeros(array.shape[1])\n",
    "    \n",
    "    num_points_lost=0\n",
    "    \n",
    "    #break down into gridded sample \n",
    "    lower_x_bound=0\n",
    "    lower_y_bound=0\n",
    "    \n",
    "    new_x_side_len=x_side_len\n",
    "    for x in range(0,num_sides,1): \n",
    "        x_slice=array[np.where((lower_x_bound<=array[:,3]) & (array[:,3]<new_x_side_len))]\n",
    "#         print(str(lower_x_bound)+', '+str(new_x_side_len))\n",
    "        lower_x_bound+=x_side_len\n",
    "        new_x_side_len+=x_side_len\n",
    "        \n",
    "#         print(len(x_slice))\n",
    "        \n",
    "        lower_y_bound=0\n",
    "        new_y_side_len=y_side_len\n",
    "        for y in range(0,num_sides,1):\n",
    "            y_slice=array[np.where((lower_y_bound<=x_slice[:,4]) & (x_slice[:,4]<new_y_side_len))]\n",
    "#             print(str(lower_y_bound)+', '+str(new_y_side_len))\n",
    "            lower_y_bound+=y_side_len\n",
    "            new_y_side_len+=y_side_len\n",
    "        \n",
    "#             print(len(y_slice))\n",
    "            \n",
    "            #randomly sample points in box, box might have less than avg number of points, throwing an exception\n",
    "            try:\n",
    "                random_boxed_points=y_slice[np.random.choice(y_slice.shape[0], num_box_points, replace=False), :]\n",
    "            #if exception, just use all of the points\n",
    "            except:\n",
    "                random_boxed_points=y_slice\n",
    "                num_points_lost+=num_box_points-len(y_slice)\n",
    "\n",
    "            array[[y_slice[:,7].astype(int)],6]=1\n",
    "            jittered_array=np.vstack((jittered_array,random_boxed_points))\n",
    "            \n",
    "    #delete the placeholder first row of the answer     \n",
    "    jittered_array=np.delete(jittered_array, 0, 0)\n",
    "    \n",
    "    #randomly sample the unsampled points (due to rounding errors, irregularities, etc)\n",
    "    unsampled=array[np.where(array[:,6]!=1)]\n",
    "    unsampled=unsampled[np.random.choice(unsampled.shape[0], num_points_lost, replace=False), :]\n",
    "    jittered_array=np.vstack((jittered_array,unsampled))\n",
    "\n",
    "#     print(len(jittered_array))\n",
    "\n",
    "\n",
    "\n",
    "\n",
    "\n",
    "\n",
    "\n",
    "\n",
    "    \n",
    "    #turn into prob vec\n",
    "    jitter_coords=jittered_array[:,[3,4]]\n",
    "    jitter_grain_IDs=jittered_array[:,5]\n",
    "    \n",
    "    #get areas\n",
    "    vol=voronoi_volumes(jitter_coords)   \n",
    "    #turn area into percent of total area\n",
    "    norm_vol=(vol)/sum(vol)\n",
    "    #multiply by total number of pixels to find how many pixels in each area\n",
    "    scale_vol=norm_vol*87017\n",
    "    #round to nearest whole number\n",
    "    round_vol=np.round(scale_vol,decimals=0)\n",
    "    #create array, col1 is ID, col2 is area\n",
    "    grain_IDs_and_areas=np.stack((jitter_grain_IDs,round_vol),axis=1)\n",
    "    #get unique IDs and their count\n",
    "    unique_IDs,unique_IDs_count=np.unique(grain_IDs_and_areas[:,0],return_counts=True)\n",
    "    #create array to hold unique IDs and their sizes added together\n",
    "    unique_grain_IDs_and_total_areas=np.stack((unique_IDs,np.zeros(len(unique_IDs))),axis=1)\n",
    "    \n",
    "    #construct IDs and count\n",
    "    for row in unique_grain_IDs_and_total_areas:\n",
    "        grain=grain_IDs_and_areas[np.where(grain_IDs_and_areas[:,0] == row[0])]\n",
    "        total=np.sum(grain[:,1])\n",
    "        row[1]=total\n",
    "    \n",
    "    #double edge grains\n",
    "    row_ID=0\n",
    "    for row in unique_grain_IDs_and_total_areas:\n",
    "        #if the grain ID is an edge\n",
    "        if np.isin(row[0],edge_grains[:,0]):\n",
    "            #double the total grain area\n",
    "            unique_grain_IDs_and_total_areas[row_ID,1]*=2\n",
    "        row_ID+=1\n",
    "        \n",
    "    #return count for hist\n",
    "    count = unique_grain_IDs_and_total_areas[:,1]\n",
    "     \n",
    "    q_hist, q_bin_edges = np.histogram(count, bins=np.arange(binsize), range=(0,250), density=True)\n",
    "    q_hist = np.append(q_hist, 0)\n",
    "    q=q_hist\n",
    "    q[q==0]=[0.0000000000001]\n",
    "    if hist==True:\n",
    "        return q\n",
    "    \n",
    "    if mean_var==True:\n",
    "        mean=np.mean(count)\n",
    "        var=np.var(count)\n",
    "        return mean, var"
   ]
  },
  {
   "cell_type": "code",
   "execution_count": 112,
   "metadata": {},
   "outputs": [
    {
     "data": {
      "text/plain": [
       "0.0"
      ]
     },
     "execution_count": 112,
     "metadata": {},
     "output_type": "execute_result"
    }
   ],
   "source": [
    "js_divergence_scipy(k2,jitter(raw_data,1,100))"
   ]
  },
  {
   "cell_type": "code",
   "execution_count": 114,
   "metadata": {},
   "outputs": [],
   "source": [
    "#Create curves using different box sizes (with randomly sampled points within)\n",
    "#Box size of point dim should be same as grid, one box (total of len(array) boxes) should be like random\n",
    "\n",
    "vor_jitter_percent=[]\n",
    "for x in range(1,101,2):\n",
    "    vor_jitter_percent.append(x)\n",
    "\n",
    "voronoi_jitter_divergence_1=[]\n",
    "for x in range(1,101,2):\n",
    "    voronoi_jitter_divergence_1.append(js_divergence_scipy(k2, jitter(raw_data,1,x)))\n",
    "\n",
    "voronoi_jitter_divergence_16=[]\n",
    "for x in range(1,101,2):\n",
    "    voronoi_jitter_divergence_16.append(js_divergence_scipy(k2, jitter(raw_data,16,x)))\n",
    "\n",
    "voronoi_jitter_divergence_484=[]\n",
    "for x in range(1,101,2):\n",
    "    voronoi_jitter_divergence_484.append(js_divergence_scipy(k2, jitter(raw_data,484,x)))\n",
    "\n",
    "voronoi_jitter_divergence_3136=[]\n",
    "for x in range(1,101,3):\n",
    "    voronoi_jitter_divergence_3136.append(js_divergence_scipy(k2, jitter(raw_data,3136,x)))\n",
    "\n",
    "voronoi_jitter_divergence_12544=[]\n",
    "for x in range(1,101,3):\n",
    "    voronoi_jitter_divergence_12544.append(js_divergence_scipy(k2, jitter(raw_data,12544,x)))\n",
    "\n",
    "voronoi_jitter_divergence_86436=[]\n",
    "for x in range(1,101,4):\n",
    "    voronoi_jitter_divergence_86436.append(js_divergence_scipy(k2, jitter(raw_data,86436,x)))\n",
    "\n",
    "%store voronoi_jitter_divergence_1\n",
    "%store voronoi_jitter_divergence_16\n",
    "%store voronoi_jitter_divergence_484\n",
    "%store voronoi_jitter_divergence_3136\n",
    "%store voronoi_jitter_divergence_12544\n",
    "%store voronoi_jitter_divergence_86436"
   ]
  },
  {
   "cell_type": "code",
   "execution_count": 172,
   "metadata": {},
   "outputs": [
    {
     "data": {
      "text/plain": [
       "<matplotlib.axes._subplots.AxesSubplot at 0x2d6e654d7c8>"
      ]
     },
     "execution_count": 172,
     "metadata": {},
     "output_type": "execute_result"
    },
    {
     "data": {
      "image/png": "[encoded data removed]",
      "text/plain": [
       "<Figure size 432x288 with 1 Axes>"
      ]
     },
     "metadata": {},
     "output_type": "display_data"
    }
   ],
   "source": [
    "plt.xlim(0, 100)\n",
    "plt.ylim(0, 1)\n",
    "plt.title('Voronoi Scaling')\n",
    "plt.xlabel('Percent of Total Available Data Points')\n",
    "plt.ylabel('JS Divergence')\n",
    "\n",
    "#Random\n",
    "sns.scatterplot(vor_random_percent, voronoi_random_divergence, s=100, color=\"blue\", marker=\"o\", label='Random')\n",
    "# sns.lineplot(vor_random_percent, voronoi_random_divergence, color=\"blue\", label='Random')\n",
    "#Random wtih duplicates\n",
    "sns.scatterplot(vor_random_percent, voronoi_random_divergence, s=100, color=\"blue\", marker=\"o\", label='Random')\n",
    "#Window \n",
    "sns.scatterplot(window_percent, window_divergence_vor, s=100, color=\"gold\", marker=\"o\", label='Window')\n",
    "#Grid\n",
    "sns.scatterplot(vor_grid_percent, voronoi_grid_divergence, s=100, color=\"red\", marker=\"o\", label='Grid')\n",
    "#Fine Grid\n",
    "sns.scatterplot(vor_fine_grid_percent, voronoi_fine_grid_divergence, s=100, color=\"green\", marker=\"o\", label='Fine Grid')\n",
    "#Jitter (1 subsquare)\n",
    "# sns.scatterplot(vor_jitter_percent, voronoi_jitter_divergence_1, s=100, color=\"pink\", marker=\"o\", label='Jitter 1')\n",
    "#Jitter (16 subsquares)\n",
    "# sns.scatterplot(vor_jitter_percent, voronoi_jitter_divergence_16, s=100, color=\"pink\", marker=\"o\", label='Jitter 16')\n",
    "#Jitter (484 subsquares)\n",
    "# sns.scatterplot(vor_jitter_percent, voronoi_jitter_divergence_484, s=100, color=\"pink\", marker=\"o\", label='Jitter 484')\n",
    "# #Jitter (3136 subsquares)\n",
    "# sns.scatterplot(vor_jitter_percent, voronoi_jitter_divergence_3136, s=100, color=\"pink\", marker=\"o\", label='Jitter 3136')\n",
    "# #Jitter (12544 subsquares)\n",
    "# sns.scatterplot(vor_jitter_percent, voronoi_jitter_divergence_12544, s=100, color=\"pink\", marker=\"o\", label='Jitter 12544')\n",
    "# #Jitter (86436 subsquares)\n",
    "# sns.scatterplot(vor_jitter_percent, voronoi_jitter_divergence_86436, s=100, color=\"pink\", marker=\"o\", label='Jitter 86436')"
   ]
  },
  {
   "cell_type": "code",
   "execution_count": 410,
   "metadata": {},
   "outputs": [],
   "source": [
    "voronoi_random_divergence_2=[]\n",
    "for x in range (100,87000,1000):\n",
    "#     print(x)\n",
    "    voronoi_random_divergence_2.append(js_divergence_scipy(k2, random_vor(x)))"
   ]
  },
  {
   "cell_type": "code",
   "execution_count": 411,
   "metadata": {},
   "outputs": [],
   "source": [
    "window_divergence_vor_2=[]\n",
    "for x in range (1,101,3):\n",
    "    window_divergence_vor_2.append(js_divergence_scipy(k2, grain_rect_count_vor(sqrt(x*100))))"
   ]
  },
  {
   "cell_type": "code",
   "execution_count": 414,
   "metadata": {},
   "outputs": [
    {
     "data": {
      "text/plain": [
       "<matplotlib.axes._subplots.AxesSubplot at 0x1948d335fc8>"
      ]
     },
     "execution_count": 414,
     "metadata": {},
     "output_type": "execute_result"
    },
    {
     "data": {
      "image/png": "[encoded data removed]",
      "text/plain": [
       "<Figure size 432x288 with 1 Axes>"
      ]
     },
     "metadata": {
      "needs_background": "light"
     },
     "output_type": "display_data"
    }
   ],
   "source": [
    "plt.xlim(0, 100)\n",
    "plt.ylim(0, 1)\n",
    "plt.title('Voronoi Scaling')\n",
    "plt.xlabel('Percent of Total Available Data Points')\n",
    "plt.ylabel('JS Divergence')\n",
    "\n",
    "#Voronoi\n",
    "sns.scatterplot(vor_random_percent, voronoi_random_divergence_2, s=100, color=\"blue\", marker=\"o\", label='Random')\n",
    "# #Window \n",
    "sns.scatterplot(window_percent_two, window_divergence_vor_2, s=100, color=\"gold\", marker=\"o\", label='Window')\n",
    "#Grid\n",
    "# sns.scatterplot(vor_grid_percent, voronoi_grid_divergence, s=100, color=\"red\", marker=\"o\", label='Grid')\n",
    "#Fine Grid\n",
    "# sns.scatterplot(vor_fine_grid_percent, voronoi_fine_grid_divergence, s=100, color=\"green\", marker=\"o\", label='Fine Grid')"
   ]
  },
  {
   "cell_type": "code",
   "execution_count": 37,
   "metadata": {},
   "outputs": [],
   "source": [
    "def divergence_graph(binsize):\n",
    "    p=new_p(binsize)\n",
    "\n",
    "    random_divergence=[]\n",
    "    for i in range (1,87000,100):\n",
    "        random_divergence.append(js_divergence(p, random(i,binsize), binsize))\n",
    "    \n",
    "    grid_divergence=[]\n",
    "    for i in range(1,50,1):\n",
    "        grid_divergence.append(js_divergence(p,grid(i,binsize), binsize))\n",
    "    \n",
    "    fine_grid_divergence=[]\n",
    "    for i in range(2,100,1):\n",
    "        fine_grid_divergence.append(js_divergence(p, fine_grid(i,binsize), binsize))\n",
    "    \n",
    "    #plot\n",
    "    plt.xlim(0, 100)\n",
    "    plt.ylim(0, 1)\n",
    "    #plt.title('JS Divergence of Dataset and Randomly Sampled Subset')\n",
    "    plt.xlabel('Percent of Total Available Data Points')\n",
    "    plt.ylabel('JS Divergence')\n",
    "\n",
    "    #random\n",
    "    sns.scatterplot(random_percent, random_divergence, s=100, color=\"purple\", marker=\"o\")\n",
    "    #grid\n",
    "    sns.scatterplot(grid_percent, grid_divergence, s=100, color=\"green\", marker=\"o\")\n",
    "    #fine grid\n",
    "    sns.scatterplot(fine_grid_percent, fine_grid_divergence, s=100, color=\"blue\", marker=\"o\")\n",
    "    #window\n",
    "    sns.scatterplot(window_percent, window_divergence_scipy, s=100, color=\"purple\", marker=\"o\", label='window')\n",
    "\n",
    "    #top and bottom rectangles\n",
    "    plt.axhline(y=tbd, color='orange', linestyle='-')\n",
    "    #right and left rectangles\n",
    "    plt.axhline(y=lrd, color='yellow', linestyle='-')\n",
    "    #top right and bottom left squares - smaller and higher divergence\n",
    "    plt.axhline(y=trbl, color='red', linestyle='-')\n",
    "    #could try from bottom left and top right if we want more data points"
   ]
  },
  {
   "cell_type": "code",
   "execution_count": 17,
   "metadata": {},
   "outputs": [],
   "source": [
    "#load data\n",
    "raw_data = np.loadtxt('Raw Data/AZ31B Ecomp 10e0 Int_3 raw1.txt', skiprows=17, usecols=(0,1,2,3,4,8))\n",
    "raw_data_copy=np.copy(raw_data)"
   ]
  },
  {
   "cell_type": "code",
   "execution_count": 70,
   "metadata": {},
   "outputs": [],
   "source": [
    "a=sqrt(0.75)\n",
    "\n",
    "#12 hexagonal close-packed crystal symmetry operators\n",
    "op25=np.array([[1, 0, 0],[0, 1, 0],[0, 0, 1]])\n",
    "op26=np.array([[-0.5, a, 0],[-a, -0.5, 0],[0, 0, 1]])\n",
    "op27=np.array([[-0.5, -a, 0],[a, -0.5, 0],[0, 0, 1]])\n",
    "op28=np.array([[0.5, a, 0],[-a, 0.5, 0],[0, 0, 1]])\n",
    "op29=np.array([[-1, 0, 0],[0, -1, 0],[0, 0, 1]])\n",
    "op30=np.array([[0.5, -a, 0],[a, 0.5, 0],[0, 0, 1]])\n",
    "op31=np.array([[-0.5, -a, 0],[-a, 0.5, 0],[0, 0, -1]])\n",
    "op32=np.array([[1, 0, 0],[0, -1, 0],[0, 0, -1]])\n",
    "op33=np.array([[-0.5, a, 0],[a, 0.5, 0],[0, 0, -1]])\n",
    "op34=np.array([[0.5, a, 0],[a, -0.5, 0],[0, 0, -1]])\n",
    "op35=np.array([[-1, 0, 0],[0, 1, 0],[0, 0, -1]])\n",
    "op36=np.array([[0.5, -a, 0],[-a, -0.5, 0],[0, 0, -1]])\n",
    "\n",
    "op25,op26,op27,op28,op29,op30,op31,op32,op33,op34,op35,op36\n",
    "\n",
    "#list of hexagonal sym ops\n",
    "hex_sym_ops=[op25,op26,op27,op28,op29,op30,op31,op32,op33,op34,op35,op36]"
   ]
  },
  {
   "cell_type": "code",
   "execution_count": 71,
   "metadata": {},
   "outputs": [],
   "source": [
    "#input is an array in radians as follows euler=[angle_one,angle_two,angle_three]\n",
    "def misorientation(euler_one, euler_two,sym_op):\n",
    "    #orientation matrices\n",
    "    g_one=np.array([[((math.cos(euler_one[0]))*(math.cos(euler_one[2]))-(math.sin(euler_one[0]))*(math.sin(euler_one[2]))*(math.cos(euler_one[1]))),((math.sin(euler_one[0]))*(math.cos(euler_one[2]))+(math.cos(euler_one[0]))*(math.sin(euler_one[2]))*(math.cos(euler_one[1]))),((math.sin(euler_one[2]))*(math.sin(euler_one[1])))],\n",
    "                [(-(math.cos(euler_one[0]))*(math.sin(euler_one[2]))-(math.sin(euler_one[0]))*(math.cos(euler_one[2]))*(math.cos(euler_one[1]))),(-(math.sin(euler_one[0]))*(math.sin(euler_one[2]))+(math.cos(euler_one[0]))*(math.cos(euler_one[2]))*(math.cos(euler_one[1]))),((math.cos(euler_one[2]))*(math.sin(euler_one[1])))],\n",
    "                [((math.sin(euler_one[0]))*(math.sin(euler_one[1]))),(-(math.cos(euler_one[0]))*(math.sin(euler_one[1]))),(math.cos(euler_one[1]))]        \n",
    "                ])\n",
    "   \n",
    "    #euler_two\n",
    "    g_two=np.array([[((math.cos(euler_two[0]))*(math.cos(euler_two[2]))-(math.sin(euler_two[0]))*(math.sin(euler_two[2]))*(math.cos(euler_two[1]))),((math.sin(euler_two[0]))*(math.cos(euler_two[2]))+(math.cos(euler_two[0]))*(math.sin(euler_two[2]))*(math.cos(euler_two[1]))),((math.sin(euler_two[2]))*(math.sin(euler_two[1])))],\n",
    "                [(-(math.cos(euler_two[0]))*(math.sin(euler_two[2]))-(math.sin(euler_two[0]))*(math.cos(euler_two[2]))*(math.cos(euler_two[1]))),(-(math.sin(euler_two[0]))*(math.sin(euler_two[2]))+(math.cos(euler_two[0]))*(math.cos(euler_two[2]))*(math.cos(euler_two[1]))),((math.cos(euler_two[2]))*(math.sin(euler_two[1])))],\n",
    "                [((math.sin(euler_two[0]))*(math.sin(euler_two[1]))),(-(math.cos(euler_two[0]))*(math.sin(euler_two[1]))),(math.cos(euler_two[1]))]        \n",
    "                ])\n",
    "    \n",
    "#     #misorientation matrix\n",
    "    delta_g=np.matmul(g_one,np.linalg.inv(g_two))\n",
    "    \n",
    "    #disorientation matrix\n",
    "    #problem here!!!\n",
    "#     delta_gd=np.matmul((np.matmul(g_two,sym_op)),(np.matmul(np.linalg.inv(sym_op),np.linalg.inv(g_one))))\n",
    "    #formula from powerpoint\n",
    "    delta_gd=np.matmul(sym_op,delta_g)\n",
    "    \n",
    "#     #angle in radians\n",
    "#     theta=np.arccos((np.trace(delta_gd)-1)/2)\n",
    "    \n",
    "    #misorientation angle\n",
    "    try:\n",
    "        theta=np.arccos((np.trace(delta_gd)-1)/2)\n",
    "    #error handling for rounding errors outside of domain\n",
    "    except:\n",
    "        if (((np.trace(delta_gd)-1)/2)>1):\n",
    "            theta=0\n",
    "        else:\n",
    "            theta=180\n",
    "\n",
    "    return math.degrees(theta)\n"
   ]
  },
  {
   "cell_type": "code",
   "execution_count": 72,
   "metadata": {},
   "outputs": [],
   "source": [
    "#find the minimum misorientation using sym ops\n",
    "def disorientation(euler_one, euler_two,sym_ops):\n",
    "    misorientation_list=[]\n",
    "    for sym_op in sym_ops:\n",
    "        misorientation_list.append(misorientation(euler_one, euler_two,sym_op))\n",
    "    \n",
    "    #disorientation is the minimum of the 24 misorientations - for cubic symmetry \n",
    "    return min(misorientation_list)\n",
    "#     return misorientation_list"
   ]
  },
  {
   "cell_type": "code",
   "execution_count": 73,
   "metadata": {},
   "outputs": [],
   "source": [
    "def adj_dict(data):\n",
    "    coords=data[:,[3,4]]\n",
    "    tri=Delaunay(coords)\n",
    "    neigh=defaultdict(set)\n",
    "    for p in tri.simplices:\n",
    "        for i,j in itertools.combinations(p,2):\n",
    "            neigh[i].add(j)\n",
    "            neigh[j].add(i)\n",
    "    return neigh"
   ]
  },
  {
   "cell_type": "code",
   "execution_count": null,
   "metadata": {},
   "outputs": [],
   "source": []
  },
  {
   "cell_type": "code",
   "execution_count": 74,
   "metadata": {},
   "outputs": [],
   "source": [
    "def grain_centers(array):\n",
    "    unique_grain_IDs=np.unique(array[:,5])\n",
    "    centers=np.array([0,0,0])\n",
    "\n",
    "    for grain_ID in unique_grain_IDs:\n",
    "        grain_xvals=array[np.where(array[:,5]==grain_ID),3]\n",
    "        grain_yvals=array[np.where(array[:,5]==grain_ID),4]\n",
    "        x_avg=np.mean(grain_xvals)\n",
    "        y_avg=np.mean(grain_yvals)\n",
    "        center=np.array([grain_ID,x_avg,y_avg])\n",
    "        centers=np.vstack((centers,center))\n",
    "    \n",
    "    centers=np.delete(centers, 0, 0)\n",
    "    \n",
    "#     plt.xlim(0,11)\n",
    "#     plt.ylim(0,11)\n",
    "#     sns.scatterplot(x=centers[:,1],y=centers[:,2],marker='o',color='red')\n",
    "    \n",
    "    return centers[:,1:3]"
   ]
  },
  {
   "cell_type": "code",
   "execution_count": 75,
   "metadata": {},
   "outputs": [],
   "source": [
    "#plot js divergence of boundary dist\n",
    "def boundaries_and_centers(array,binsize=249,boundary_plot=False,hist=False):\n",
    "    boundaries=np.zeros((len(array),1))\n",
    "    raw_data_and_boundaries=np.concatenate((array,boundaries.reshape(-1,1)),axis=1)\n",
    "    \n",
    "    #create ajd dict\n",
    "    modified_vor_adj=mod_adj_dict(array)\n",
    "    \n",
    "    #create list of boundary disorientations\n",
    "    boundaries=[]\n",
    "    for key in modified_vor_adj:\n",
    "        euler_one=[array[key][0],array[key][1],array[key][2]]\n",
    "        for value in modified_vor_adj[key]:\n",
    "            euler_two=[raw_data[value][0],array[value][1],array[value][2]]\n",
    "            vor_disorient=disorientation(euler_one,euler_two,hex_sym_ops)\n",
    "            if vor_disorient > 15:\n",
    "                boundaries.append(vor_disorient)\n",
    "                raw_data_and_boundaries[key,6]=1\n",
    "                raw_data_and_boundaries[value,6]=1\n",
    "    \n",
    "    raw_data_and_boundaries_slice=raw_data_and_boundaries[np.where(raw_data_and_boundaries[:,6]==1)]\n",
    "    \n",
    "    plt.xlim(0,11)\n",
    "    plt.ylim(0,11)\n",
    "    sns.scatterplot(x=raw_data_and_boundaries_slice[:,3],y=raw_data_and_boundaries_slice[:,4],marker='+')\n",
    "    plt.scatterplot()\n"
   ]
  },
  {
   "cell_type": "code",
   "execution_count": 130,
   "metadata": {},
   "outputs": [
    {
     "data": {
      "image/png": "[encoded data removed]",
      "text/plain": [
       "<Figure size 432x288 with 1 Axes>"
      ]
     },
     "metadata": {
      "needs_background": "light"
     },
     "output_type": "display_data"
    }
   ],
   "source": [
    "vor = Voronoi(grain_centers(raw_data))\n",
    "fig = voronoi_plot_2d(vor)\n",
    "plt.xlim(0,11)\n",
    "plt.ylim(0,11)\n",
    "plt.show()"
   ]
  },
  {
   "cell_type": "code",
   "execution_count": null,
   "metadata": {},
   "outputs": [],
   "source": []
  },
  {
   "cell_type": "code",
   "execution_count": 76,
   "metadata": {},
   "outputs": [],
   "source": [
    "def mod_adj_dict(data):\n",
    "    coords=data[:,[3,4]]\n",
    "    tri=Delaunay(coords)\n",
    "    neigh=defaultdict(set)\n",
    "    for p in tri.simplices:\n",
    "        for i,j in itertools.combinations(p,2):\n",
    "            neigh[i].add(j)\n",
    "            #remove to prevent duplicates\n",
    "#             neigh[j].add(i)\n",
    "    return neigh"
   ]
  },
  {
   "cell_type": "code",
   "execution_count": 77,
   "metadata": {},
   "outputs": [],
   "source": [
    "#plot js divergence of boundary dist\n",
    "def boundary_hist(array,boundary_plot=False,hist=False):    \n",
    "    boundaries=np.zeros((len(array),1))\n",
    "    raw_data_and_boundaries=np.concatenate((array,boundaries.reshape(-1,1)),axis=1)\n",
    "    \n",
    "    #create ajd dict\n",
    "    modified_vor_adj=mod_adj_dict(array)\n",
    "    \n",
    "    #create list of boundary disorientations\n",
    "    boundaries=[]\n",
    "    for key in modified_vor_adj:\n",
    "        euler_one=[array[key][0],array[key][1],array[key][2]]\n",
    "        for value in modified_vor_adj[key]:\n",
    "            euler_two=[array[value][0],array[value][1],array[value][2]]\n",
    "            vor_disorient=disorientation(euler_one,euler_two,hex_sym_ops)\n",
    "            if vor_disorient > 15:\n",
    "                boundaries.append(vor_disorient)\n",
    "                raw_data_and_boundaries[key,6]=1\n",
    "                raw_data_and_boundaries[value,6]=1\n",
    "    \n",
    "    if boundary_plot==True:\n",
    "        raw_data_and_boundaries_slice=raw_data_and_boundaries[np.where(raw_data_and_boundaries[:,6]==1)]\n",
    "        plt.xlim(0,11)\n",
    "        plt.ylim(0,11)\n",
    "        sns.scatterplot(x=raw_data_and_boundaries_slice[:,3],y=raw_data_and_boundaries_slice[:,4],marker='+')\n",
    "    \n",
    "    if hist==True:\n",
    "        plt.hist(boundaries, bins=np.arange(15,100,5), range=(15,100), density=True) \n",
    "        \n",
    "    return boundaries\n",
    "        \n",
    "#     q_hist, q_bin_edges = np.histogram(boundaries, bins=np.arange(15,100), range=(15,100), density=True)\n",
    "#     q_hist = np.append(q_hist, 0)\n",
    "#     q=q_hist\n",
    "#     q[q==0]=[0.0000000000001]\n",
    "#     return q\n",
    "\n",
    "# #     #if none, return zeros?"
   ]
  },
  {
   "cell_type": "code",
   "execution_count": 273,
   "metadata": {},
   "outputs": [
    {
     "name": "stderr",
     "output_type": "stream",
     "text": [
      "C:\\Users\\GREEN\\AppData\\Local\\Continuum\\anaconda3\\lib\\site-packages\\ipykernel_launcher.py:51: RuntimeWarning: invalid value encountered in arccos\n"
     ]
    }
   ],
   "source": [
    "boundaries=boundary_hist(raw_data)"
   ]
  },
  {
   "cell_type": "code",
   "execution_count": 275,
   "metadata": {},
   "outputs": [
    {
     "name": "stdout",
     "output_type": "stream",
     "text": [
      "52.726246105853086\n"
     ]
    }
   ],
   "source": [
    "print(np.mean(boundaries))"
   ]
  },
  {
   "cell_type": "code",
   "execution_count": 423,
   "metadata": {},
   "outputs": [
    {
     "data": {
      "text/plain": [
       "(array([0.01175337, 0.01490762, 0.01814341, 0.01855483, 0.01368817,\n",
       "        0.01098983, 0.00942568, 0.00883263, 0.01096388, 0.01138642,\n",
       "        0.01020034, 0.01272077, 0.01162735, 0.01452214, 0.01892919,\n",
       "        0.0033544 ]),\n",
       " array([15, 20, 25, 30, 35, 40, 45, 50, 55, 60, 65, 70, 75, 80, 85, 90, 95]),\n",
       " <a list of 16 Patch objects>)"
      ]
     },
     "execution_count": 423,
     "metadata": {},
     "output_type": "execute_result"
    },
    {
     "data": {
      "image/png": "[encoded data removed]",
      "text/plain": [
       "<Figure size 432x288 with 1 Axes>"
      ]
     },
     "metadata": {},
     "output_type": "display_data"
    }
   ],
   "source": [
    "plt.title(\"Misorientation Distribution\")\n",
    "plt.xlabel('Misorientation Angle (Degrees)')\n",
    "plt.ylabel('Normalized Frequency')\n",
    "plt.hist(boundaries, bins=np.arange(15,100,5), range=(15,100), density=True) "
   ]
  },
  {
   "cell_type": "code",
   "execution_count": 309,
   "metadata": {},
   "outputs": [
    {
     "name": "stderr",
     "output_type": "stream",
     "text": [
      "C:\\Users\\GREEN\\AppData\\Local\\Continuum\\anaconda3\\lib\\site-packages\\ipykernel_launcher.py:29: RuntimeWarning: invalid value encountered in arccos\n"
     ]
    },
    {
     "data": {
      "image/png": "[encoded data removed]",
      "text/plain": [
       "<Figure size 432x288 with 1 Axes>"
      ]
     },
     "metadata": {
      "needs_background": "light"
     },
     "output_type": "display_data"
    }
   ],
   "source": [
    "boundary_p=boundary_hist(raw_data,hist=True)"
   ]
  },
  {
   "cell_type": "code",
   "execution_count": 78,
   "metadata": {},
   "outputs": [],
   "source": [
    "def random_boundary(sample):\n",
    "    random_raw_data=raw_data[np.random.choice(raw_data.shape[0], sample, replace=False), :]\n",
    "    return boundary_hist(random_raw_data,hist=True)"
   ]
  },
  {
   "cell_type": "code",
   "execution_count": 79,
   "metadata": {},
   "outputs": [],
   "source": [
    "def grid_boundary(res,start=0):\n",
    "    grid_raw_data=raw_data[start::res]\n",
    "    return boundary_hist(grid_raw_data)"
   ]
  },
  {
   "cell_type": "code",
   "execution_count": 80,
   "metadata": {},
   "outputs": [],
   "source": [
    "def fine_grid_boundary(res):\n",
    "    arr = np.arange(0,len(raw_data),res)\n",
    "    mask = np.ones(len(raw_data), dtype=bool)\n",
    "    mask[arr] = False\n",
    "    fine_grid_raw_data = raw_data[mask]\n",
    "    return boundary_hist(fine_grid_raw_data)"
   ]
  },
  {
   "cell_type": "code",
   "execution_count": 81,
   "metadata": {},
   "outputs": [],
   "source": [
    "def window_boundary(percent):\n",
    "    percent=percent/100\n",
    "    row_list=[]\n",
    "    for index in range(0,len(raw_data)):\n",
    "        if (raw_data[index,0]<int((110*percent))) and (raw_data[index,1]<int((110*percent))):\n",
    "            row_list.append(raw_data[index])\n",
    "        else:\n",
    "            continue\n",
    "\n",
    "    row_tuple=tuple(row_list)\n",
    "    raw_data_slice=np.vstack(row_tuple)\n",
    "    \n",
    "    return boundary_hist(raw_data_slice, hist=True)"
   ]
  },
  {
   "cell_type": "code",
   "execution_count": 191,
   "metadata": {},
   "outputs": [],
   "source": [
    "random_boundary_percent=[]\n",
    "for x in range (100,87000,1000):\n",
    "    random_boundary_percent.append((x/87000)*100)\n",
    "    \n",
    "grid_boundary_percent=[]\n",
    "for x in range(1,25,1):\n",
    "    grid_boundary_percent.append(((87017/x)/87017)*100)\n",
    "    \n",
    "fine_grid_boundary_percent=[]\n",
    "for x in range(2,25,1):\n",
    "    fine_grid_boundary_percent.append(((87017-(87017/x))/87017)*100)\n",
    "    \n",
    "window_boundary_percent=[]\n",
    "for x in range(1,100,1):\n",
    "    window_boundary_percent.append(x)"
   ]
  },
  {
   "cell_type": "code",
   "execution_count": 1,
   "metadata": {},
   "outputs": [],
   "source": [
    "random_boundaries=[]\n",
    "for x in range (100,87000,1000):\n",
    "    random_boundaries.append(js_divergence_scipy(boundary_p, random_boundary(x)))"
   ]
  },
  {
   "cell_type": "code",
   "execution_count": 193,
   "metadata": {},
   "outputs": [
    {
     "name": "stderr",
     "output_type": "stream",
     "text": [
      "C:\\Users\\GREEN\\AppData\\Local\\Continuum\\anaconda3\\lib\\site-packages\\ipykernel_launcher.py:29: RuntimeWarning: invalid value encountered in arccos\n"
     ]
    }
   ],
   "source": [
    "grid_boundaries=[]\n",
    "for x in range(1,25,1):\n",
    "    grid_boundaries.append(js_divergence_scipy(boundary_p, grid_boundary(x)))"
   ]
  },
  {
   "cell_type": "code",
   "execution_count": 194,
   "metadata": {},
   "outputs": [
    {
     "name": "stderr",
     "output_type": "stream",
     "text": [
      "C:\\Users\\GREEN\\AppData\\Local\\Continuum\\anaconda3\\lib\\site-packages\\ipykernel_launcher.py:29: RuntimeWarning: invalid value encountered in arccos\n"
     ]
    }
   ],
   "source": [
    "fine_grid_boundaries=[]\n",
    "for x in range(2,25,1):\n",
    "    fine_grid_boundaries.append(js_divergence_scipy(boundary_p, fine_grid_boundary(x)))"
   ]
  },
  {
   "cell_type": "code",
   "execution_count": 195,
   "metadata": {},
   "outputs": [
    {
     "name": "stderr",
     "output_type": "stream",
     "text": [
      "C:\\Users\\GREEN\\AppData\\Local\\Continuum\\anaconda3\\lib\\site-packages\\ipykernel_launcher.py:29: RuntimeWarning: invalid value encountered in arccos\n"
     ]
    }
   ],
   "source": [
    "window_boundaries=[]\n",
    "for x in range(1,100,1):\n",
    "    window_boundaries.append(js_divergence_scipy(boundary_p, window_boundary(sqrt(x*100))))"
   ]
  },
  {
   "cell_type": "code",
   "execution_count": 199,
   "metadata": {},
   "outputs": [
    {
     "data": {
      "text/plain": [
       "<matplotlib.axes._subplots.AxesSubplot at 0x19485b73148>"
      ]
     },
     "execution_count": 199,
     "metadata": {},
     "output_type": "execute_result"
    },
    {
     "data": {
      "image/png": "[encoded data removed]",
      "text/plain": [
       "<Figure size 432x288 with 1 Axes>"
      ]
     },
     "metadata": {
      "needs_background": "light"
     },
     "output_type": "display_data"
    }
   ],
   "source": [
    "plt.xlim(0, 100)\n",
    "plt.ylim(0, 1)\n",
    "#plt.title('JS Divergence of Dataset and Grid Sampled Subset')\n",
    "plt.title('Boundary Distribution')\n",
    "plt.xlabel('Percent of Total Available Data Points')\n",
    "plt.ylabel('JS Divergence')\n",
    "#Random\n",
    "sns.scatterplot(random_boundary_percent, random_boundaries, s=100, color=\"blue\", marker=\"o\", label='Random')\n",
    "#Window\n",
    "sns.scatterplot(window_boundary_percent, window_boundaries, s=100, color=\"gold\", marker=\"o\", label='Window')\n",
    "#Grid\n",
    "sns.scatterplot(grid_boundary_percent, grid_boundaries, s=100, color=\"red\", marker=\"o\", label='Grid')\n",
    "#Fine Grid\n",
    "sns.scatterplot(fine_grid_boundary_percent, fine_grid_boundaries, s=100, color=\"green\", marker=\"o\", label='Fine Grid')"
   ]
  },
  {
   "cell_type": "code",
   "execution_count": 315,
   "metadata": {},
   "outputs": [
    {
     "data": {
      "text/plain": [
       "<matplotlib.axes._subplots.AxesSubplot at 0x1948f111748>"
      ]
     },
     "execution_count": 315,
     "metadata": {},
     "output_type": "execute_result"
    },
    {
     "data": {
      "image/png": "[encoded data removed]",
      "text/plain": [
       "<Figure size 432x288 with 1 Axes>"
      ]
     },
     "metadata": {
      "needs_background": "light"
     },
     "output_type": "display_data"
    }
   ],
   "source": [
    "plt.xlim(0, 100)\n",
    "plt.ylim(0, 0.02)\n",
    "#plt.title('JS Divergence of Dataset and Grid Sampled Subset')\n",
    "plt.title('Boundary Distribution')\n",
    "plt.xlabel('Percent of Total Available Data Points')\n",
    "plt.ylabel('JS Divergence')\n",
    "#Random\n",
    "sns.scatterplot(random_boundary_percent, random_boundaries, s=100, color=\"blue\", marker=\"o\", label='Random')\n",
    "#Window\n",
    "sns.scatterplot(window_boundary_percent, window_boundaries, s=100, color=\"gold\", marker=\"o\", label='Window')\n",
    "#Grid\n",
    "sns.scatterplot(grid_boundary_percent, grid_boundaries, s=100, color=\"red\", marker=\"o\", label='Grid')\n",
    "#Fine Grid\n",
    "sns.scatterplot(fine_grid_boundary_percent, fine_grid_boundaries, s=100, color=\"green\", marker=\"o\", label='Fine Grid')"
   ]
  },
  {
   "cell_type": "code",
   "execution_count": 20,
   "metadata": {},
   "outputs": [],
   "source": [
    "#start with nucleus\n",
    "def rec_vor(row_ID,grain_ID,data_sample,angle):\n",
    "    #assign angle\n",
    "    euler_one=[data_sample[row_ID,0],data_sample[row_ID,1],data_sample[row_ID,2]]\n",
    "    #sample each surrounding point\n",
    "    for row_ID_2 in new_vor_adj[row_ID]:\n",
    "        #make sure grain grows outwards, 'memoization'\n",
    "        if data_sample[row_ID_2,5]==0:\n",
    "            #assign second angle\n",
    "            euler_two=[data_sample[row_ID_2,0],data_sample[row_ID_2,1],data_sample[row_ID_2,2]]\n",
    "            #if they have a similar orientation, add to the grain, recursivly search\n",
    "#             if (misorientation(euler_one,euler_two) <= angle):\n",
    "            if (disorientation(euler_one, euler_two,hex_sym_ops) <= angle):\n",
    "                # prevent infinite flip-flop recursion\n",
    "                if data_sample[row_ID_2,5] != grain_ID:\n",
    "                    data_sample[row_ID_2,5]=grain_ID\n",
    "                    rec_vor(row_ID_2,grain_ID,data_sample,angle)\n",
    "            #label edges\n",
    "            else:\n",
    "                data_sample[row_ID,6]=1\n",
    "                data_sample[row_ID_2,6]=1"
   ]
  },
  {
   "cell_type": "code",
   "execution_count": 21,
   "metadata": {},
   "outputs": [],
   "source": [
    "#label the grains in an array\n",
    "def rec_grains(data_sample,angle=15):\n",
    "    #assign first grain ID\n",
    "    grain_ID=1\n",
    "    #set all grains to 0\n",
    "    data_sample[:,5]=0\n",
    "    #loop until \n",
    "    while True:\n",
    "        #ID is 0 if unassigned\n",
    "        unassigned=np.where(data_sample[:,5]==0) \n",
    "        #if all grains are assigned\n",
    "        if len(unassigned[0])==0:\n",
    "            #returned the labeled array and plot a graph\n",
    "#             sns.scatterplot(x=data_sample[:,3],y=data_sample[:,4],marker='o',hue=data_sample[:,5],palette=new_cmap)\n",
    "            return data_sample\n",
    "        #find first\n",
    "        row_ID=unassigned[0][0]\n",
    "        data_sample[row_ID,5]=1\n",
    "        rec_vor(row_ID,grain_ID,data_sample,angle)\n",
    "        grain_ID+=1                    "
   ]
  },
  {
   "cell_type": "code",
   "execution_count": 22,
   "metadata": {},
   "outputs": [],
   "source": [
    "#start with nucleus\n",
    "def rec_neigh_vor(row_ID,grain_ID,data_sample,angle):\n",
    "    #assign angle\n",
    "    euler_one=[data_sample[row_ID,0],data_sample[row_ID,1],data_sample[row_ID,2]]\n",
    "    #sample each surrounding point\n",
    "    for row_ID_2 in new_vor_adj[row_ID]:\n",
    "        #make sure grain grows outwards, 'memoization'\n",
    "        if data_sample[row_ID_2,7]==0:\n",
    "            #assign second angle\n",
    "            euler_two=[data_sample[row_ID_2,0],data_sample[row_ID_2,1],data_sample[row_ID_2,2]]\n",
    "            #if they have a similar orientation, add to the grain, recursivly search\n",
    "            if (disorientation(euler_one, euler_two,hex_sym_ops) <= angle):\n",
    "                # prevent infinite flip-flop recursion\n",
    "                if data_sample[row_ID_2,7] != grain_ID:\n",
    "                    data_sample[row_ID_2,7]=grain_ID\n",
    "                    rec_vor(row_ID_2,grain_ID,data_sample,angle)\n",
    "\n",
    "            else:\n",
    "                #label edges\n",
    "                data_sample[row_ID,6]=1\n",
    "                data_sample[row_ID_2,6]=1\n",
    "                \n",
    "                #create adj grain dict\n",
    "                grain_ID_one=data_sample[row_ID,5]\n",
    "                grain_ID_two=data_sample[row_ID_2,5]\n",
    "                grain_neigh[int(grain_ID_one)].add(int(grain_ID_two))\n",
    "                \n",
    "                #add adj grains to a point\n",
    "                data_sample[row_ID,8]=data_sample[row_ID_2,5]\n",
    "                data_sample[row_ID_2,8]=data_sample[row_ID,5]"
   ]
  },
  {
   "cell_type": "code",
   "execution_count": 23,
   "metadata": {},
   "outputs": [],
   "source": [
    "#label the grains in an array\n",
    "def rec_neighbors(data_sample,angle=15):\n",
    "    #assign first grain ID\n",
    "    grain_ID=1\n",
    "    #set all grains to 0\n",
    "    data_sample[:,7]=0\n",
    "    #loop until \n",
    "    while True:\n",
    "        #ID is 0 if unassigned\n",
    "        unassigned=np.where(data_sample[:,7]==0) \n",
    "        #if all grains are assigned\n",
    "        if len(unassigned[0])==0:\n",
    "            #returned the labeled array and plot a graph\n",
    "#             sns.scatterplot(x=data_sample[:,3],y=data_sample[:,4],marker='o',hue=data_sample[:,5],palette=new_cmap)\n",
    "            return data_sample\n",
    "        #find first\n",
    "        row_ID=unassigned[0][0]\n",
    "        data_sample[row_ID,7]=1\n",
    "        rec_neigh_vor(row_ID,grain_ID,data_sample,angle)\n",
    "        grain_ID+=1                    "
   ]
  },
  {
   "cell_type": "code",
   "execution_count": 77,
   "metadata": {},
   "outputs": [],
   "source": [
    "#see if relabeling is neccessary"
   ]
  },
  {
   "cell_type": "code",
   "execution_count": 119,
   "metadata": {},
   "outputs": [],
   "source": [
    "#load and configure data\n",
    "raw_data = np.loadtxt('Raw Data/AZ31B Ecomp 10e0 Int_3 raw1.txt', skiprows=17, usecols=(0,1,2,3,4,8))\n",
    "\n",
    "#add boundaries - 6\n",
    "boundaries=np.zeros((len(raw_data),1))\n",
    "raw_data_and_boundaries=np.concatenate((raw_data,boundaries.reshape(-1,1)),axis=1)\n",
    "\n",
    "#add neighbors for rec_neighbors - 7\n",
    "neighbors=np.zeros((len(raw_data),1))\n",
    "raw_data_and_boundaries=np.concatenate((raw_data_and_boundaries,neighbors.reshape(-1,1)),axis=1)\n",
    "\n",
    "#add neighbors for points/grains - 8\n",
    "raw_data_and_boundaries=np.concatenate((raw_data_and_boundaries,neighbors.reshape(-1,1)),axis=1)\n",
    "\n",
    "#add row_IDs for adj dict - 9\n",
    "row_IDs=np.arange(1,len(raw_data)+1)\n",
    "raw_data_and_boundaries=np.concatenate((raw_data_and_boundaries,row_IDs.reshape(-1,1)),axis=1)\n",
    "\n",
    "#add column for len calculation - 10\n",
    "length=np.zeros((len(raw_data),1))\n",
    "raw_data_and_boundaries=np.concatenate((raw_data_and_boundaries,length.reshape(-1,1)),axis=1)"
   ]
  },
  {
   "cell_type": "code",
   "execution_count": 79,
   "metadata": {},
   "outputs": [],
   "source": [
    "# #get rid of grain ID 1, something wrong\n",
    "# # raw_data_and_boundaries=raw_data_and_boundaries[np.where(raw_data_and_boundaries[:,5] != 1)]\n",
    "\n",
    "# #create adj dict\n",
    "# new_vor_adj=adj_dict(raw_data_and_boundaries)\n",
    "\n",
    "# rdb=raw_data_and_boundaries\n",
    "\n",
    "# #label grains and edges\n",
    "# #!!!go through pointwise without relabeling\n",
    "# rdb=rec_grains(rdb)\n",
    "\n",
    "# # create grain adj dict\n",
    "# #!!! can replace with other function\n",
    "# grain_neigh=defaultdict(set)\n",
    "\n",
    "# rdb=rec_neighbors(rdb)"
   ]
  },
  {
   "cell_type": "code",
   "execution_count": null,
   "metadata": {},
   "outputs": [],
   "source": []
  },
  {
   "cell_type": "code",
   "execution_count": 19,
   "metadata": {},
   "outputs": [],
   "source": [
    "#creates dictionary of indices and neighboring indices\n",
    "def adj_dict(data):\n",
    "    coords=data[:,[3,4]]\n",
    "    tri=Delaunay(coords)\n",
    "    neigh=defaultdict(set)\n",
    "    for p in tri.simplices:\n",
    "        for i,j in itertools.combinations(p,2):\n",
    "            neigh[i].add(j)\n",
    "            neigh[j].add(i)\n",
    "    return neigh"
   ]
  },
  {
   "cell_type": "code",
   "execution_count": 82,
   "metadata": {},
   "outputs": [],
   "source": [
    "def svc_decision_boundary(model,x_lim=(0,10),y_lim=(0,10),numb=30):\n",
    "    \"\"\"Return the decision boundary coordinates for a 2D SVC\"\"\"\n",
    "\n",
    "#     x_lim=(2,8)\n",
    "#     y_lim=(0,4)\n",
    "    \n",
    "    # create grid to evaluate model\n",
    "    x = np.linspace(x_lim[0], x_lim[1], numb)\n",
    "    y = np.linspace(y_lim[0], y_lim[1], numb)\n",
    "    Y, X = np.meshgrid(y, x)\n",
    "    xy = np.vstack([X.ravel(), Y.ravel()]).T\n",
    "    P = model.decision_function(xy).reshape(X.shape)\n",
    "    \n",
    "    \n",
    "    boundary=plt.contour(X, Y, P, colors='k',\n",
    "               levels=[0], alpha=0.5,\n",
    "               linestyles=['-'])\n",
    "    plt.close()\n",
    "    \n",
    "    p = boundary.collections[0].get_paths()[0]\n",
    "    v = p.vertices\n",
    "    boundary_coords = v[:,[0,1]]\n",
    "    \n",
    "    return boundary_coords"
   ]
  },
  {
   "cell_type": "code",
   "execution_count": 83,
   "metadata": {},
   "outputs": [],
   "source": [
    "def plot_svc_decision_function(model, ax=None, plot_support=True):\n",
    "    \"\"\"Plot the decision function for a 2D SVC\"\"\"\n",
    "    if ax is None:\n",
    "        ax = plt.gca()\n",
    "    xlim = ax.get_xlim()\n",
    "    ylim = ax.get_ylim()\n",
    "    \n",
    "    # create grid to evaluate model\n",
    "    x = np.linspace(xlim[0], xlim[1], 200)\n",
    "    y = np.linspace(ylim[0], ylim[1], 200)\n",
    "    Y, X = np.meshgrid(y, x)\n",
    "    xy = np.vstack([X.ravel(), Y.ravel()]).T\n",
    "    P = model.decision_function(xy).reshape(X.shape)\n",
    "    \n",
    "    # plot decision boundary and margins\n",
    "    ax.contour(X, Y, P, colors='k',\n",
    "#                levels=[-1, 0, 1], alpha=0.5,\n",
    "#                linestyles=['--', '-', '--'])\n",
    "               levels=[0], alpha=0.5,\n",
    "               linestyles=['-'])\n",
    "    \n",
    "    # plot support vectors\n",
    "    if plot_support:\n",
    "        ax.scatter(model.support_vectors_[:, 0],\n",
    "                   model.support_vectors_[:, 1],\n",
    "                   s=300, linewidth=1, facecolors='none');\n",
    "    ax.set_xlim(xlim)\n",
    "    ax.set_ylim(ylim)\n"
   ]
  },
  {
   "cell_type": "code",
   "execution_count": 84,
   "metadata": {},
   "outputs": [],
   "source": [
    "def svc_decision_boundary_length(model,x_lim=(0,10),y_lim=(0,10),numb=300):\n",
    "    \"\"\"Return the decision boundary coordinates for a 2D SVC\"\"\"\n",
    "\n",
    "#     x_lim=(2,8)\n",
    "#     y_lim=(0,4)\n",
    "    \n",
    "    # create grid to evaluate model\n",
    "    x = np.linspace(x_lim[0], x_lim[1], numb)\n",
    "    y = np.linspace(y_lim[0], y_lim[1], numb)\n",
    "    Y, X = np.meshgrid(y, x)\n",
    "    xy = np.vstack([X.ravel(), Y.ravel()]).T\n",
    "    P = model.decision_function(xy).reshape(X.shape)\n",
    "    \n",
    "    \n",
    "    boundary=plt.contour(X, Y, P, colors='k',\n",
    "               levels=[0], alpha=0.5,\n",
    "               linestyles=['-'])\n",
    "    plt.close()\n",
    "    \n",
    "    p = boundary.collections[0].get_paths()[0]\n",
    "    v = p.vertices\n",
    "    boundary_coords = v[:,[0,1]]\n",
    "    \n",
    "    x = np.ravel(boundary_coords[:,0])\n",
    "    y = np.ravel(boundary_coords[:,1])\n",
    "\n",
    "    dist_array = (x[:-1]-x[1:])**2 + (y[:-1]-y[1:])**2\n",
    "\n",
    "    return np.sum(np.sqrt(dist_array))"
   ]
  },
  {
   "cell_type": "code",
   "execution_count": 85,
   "metadata": {},
   "outputs": [],
   "source": [
    "def svc_decision_boundary_length_and_coords(model,x_lim=(0,10),y_lim=(0,10),numb=300):\n",
    "    \"\"\"Return the decision boundary coordinates for a 2D SVC\"\"\"\n",
    "\n",
    "#     x_lim=(2,8)\n",
    "#     y_lim=(0,4)\n",
    "    \n",
    "    # create grid to evaluate model\n",
    "    x = np.linspace(x_lim[0], x_lim[1], numb)\n",
    "    y = np.linspace(y_lim[0], y_lim[1], numb)\n",
    "    Y, X = np.meshgrid(y, x)\n",
    "    xy = np.vstack([X.ravel(), Y.ravel()]).T\n",
    "    P = model.decision_function(xy).reshape(X.shape)\n",
    "    \n",
    "    \n",
    "    boundary=plt.contour(X, Y, P, colors='k',\n",
    "               levels=[0], alpha=0.5,\n",
    "               linestyles=['-'])\n",
    "    plt.close()\n",
    "    \n",
    "    p = boundary.collections[0].get_paths()[0]\n",
    "    v = p.vertices\n",
    "    boundary_coords = v[:,[0,1]]\n",
    "    \n",
    "    x = np.ravel(boundary_coords[:,0])\n",
    "    y = np.ravel(boundary_coords[:,1])\n",
    "\n",
    "    dist_array = (x[:-1]-x[1:])**2 + (y[:-1]-y[1:])**2\n",
    "\n",
    "    return np.sum(np.sqrt(dist_array)), boundary_coords"
   ]
  },
  {
   "cell_type": "code",
   "execution_count": 86,
   "metadata": {},
   "outputs": [],
   "source": [
    "#create a grain adj dict\n",
    "def label_rdb_and_create_grainadj(array,misorient_angle=15):    \n",
    "    #create point adj dict\n",
    "    vor_adj=adj_dict(array)\n",
    "    \n",
    "    # create grain adj dict\n",
    "    grain_neigh=defaultdict(set)\n",
    "    \n",
    "    #create grain adj dict\n",
    "    for key in vor_adj:\n",
    "        euler_one=[array[key][0],array[key][1],array[key][2]]\n",
    "        for value in vor_adj[key]:\n",
    "            euler_two=[array[value][0],array[value][1],array[value][2]]\n",
    "            vor_disorient=disorientation(euler_one,euler_two,hex_sym_ops)\n",
    "            if vor_disorient > misorient_angle:    \n",
    "                #add to adj grain dict\n",
    "                grain_ID_one=array[key,5]\n",
    "                grain_ID_two=array[value,5]\n",
    "                grain_ID_one=int(grain_ID_one)\n",
    "                grain_ID_two=int(grain_ID_two)\n",
    "                grain_neigh[int(grain_ID_one)].add(grain_ID_two)\n",
    "                grain_neigh[int(grain_ID_two)].add(grain_ID_one)\n",
    "                \n",
    "                #relabel array\n",
    "                #label edges\n",
    "                array[key,6]=1\n",
    "                array[value,6]=1\n",
    "                \n",
    "                #add adj grains to a point\n",
    "                array[key,8]=array[value,5]\n",
    "                array[value,8]=array[key,5]\n",
    "                \n",
    "    return grain_neigh"
   ]
  },
  {
   "cell_type": "code",
   "execution_count": 120,
   "metadata": {},
   "outputs": [
    {
     "name": "stderr",
     "output_type": "stream",
     "text": [
      "C:\\Users\\GREEN\\AppData\\Local\\Continuum\\anaconda3\\lib\\site-packages\\ipykernel_launcher.py:29: RuntimeWarning: invalid value encountered in arccos\n"
     ]
    }
   ],
   "source": [
    "rdb=raw_data_and_boundaries\n",
    "grain_neigh=label_rdb_and_create_grainadj(rdb)"
   ]
  },
  {
   "cell_type": "code",
   "execution_count": 121,
   "metadata": {},
   "outputs": [
    {
     "name": "stdout",
     "output_type": "stream",
     "text": [
      "37104\n"
     ]
    },
    {
     "data": {
      "text/plain": [
       "<matplotlib.axes._subplots.AxesSubplot at 0x2c1d55b7d48>"
      ]
     },
     "execution_count": 121,
     "metadata": {},
     "output_type": "execute_result"
    },
    {
     "data": {
      "image/png": "[encoded data removed]",
      "text/plain": [
       "<Figure size 432x288 with 1 Axes>"
      ]
     },
     "metadata": {},
     "output_type": "display_data"
    }
   ],
   "source": [
    "#plot labeled edges\n",
    "rdb_slice=rdb[np.where(rdb[:,6]==1)]\n",
    "print(len(rdb_slice))\n",
    "plt.xlim(0,11)\n",
    "plt.ylim(0,11)\n",
    "sns.scatterplot(x=rdb_slice[:,3],y=rdb_slice[:,4],marker='+')"
   ]
  },
  {
   "cell_type": "code",
   "execution_count": 67,
   "metadata": {},
   "outputs": [],
   "source": [
    "# #create array to minimize memory requirement\n",
    "# x=0\n",
    "# for grain_ID_1_ in np.unique(rdb[:,5]):\n",
    "#     for grain_ID_2_ in grain_neigh[grain_ID_1_]:\n",
    "#         x+=1\n",
    "# print(x)"
   ]
  },
  {
   "cell_type": "code",
   "execution_count": 245,
   "metadata": {},
   "outputs": [
    {
     "name": "stderr",
     "output_type": "stream",
     "text": [
      "C:\\Users\\GREEN\\AppData\\Local\\Continuum\\anaconda3\\lib\\site-packages\\ipykernel_launcher.py:51: RuntimeWarning: invalid value encountered in arccos\n",
      "C:\\Users\\GREEN\\AppData\\Local\\Continuum\\anaconda3\\lib\\site-packages\\ipykernel_launcher.py:51: RuntimeWarning: invalid value encountered in arccos\n",
      "C:\\Users\\GREEN\\AppData\\Local\\Continuum\\anaconda3\\lib\\site-packages\\ipykernel_launcher.py:51: RuntimeWarning: invalid value encountered in arccos\n",
      "C:\\Users\\GREEN\\AppData\\Local\\Continuum\\anaconda3\\lib\\site-packages\\ipykernel_launcher.py:51: RuntimeWarning: invalid value encountered in arccos\n",
      "C:\\Users\\GREEN\\AppData\\Local\\Continuum\\anaconda3\\lib\\site-packages\\ipykernel_launcher.py:51: RuntimeWarning: invalid value encountered in arccos\n",
      "C:\\Users\\GREEN\\AppData\\Local\\Continuum\\anaconda3\\lib\\site-packages\\ipykernel_launcher.py:51: RuntimeWarning: invalid value encountered in arccos\n",
      "C:\\Users\\GREEN\\AppData\\Local\\Continuum\\anaconda3\\lib\\site-packages\\ipykernel_launcher.py:51: RuntimeWarning: invalid value encountered in arccos\n",
      "C:\\Users\\GREEN\\AppData\\Local\\Continuum\\anaconda3\\lib\\site-packages\\ipykernel_launcher.py:51: RuntimeWarning: invalid value encountered in arccos\n",
      "C:\\Users\\GREEN\\AppData\\Local\\Continuum\\anaconda3\\lib\\site-packages\\ipykernel_launcher.py:51: RuntimeWarning: invalid value encountered in arccos\n",
      "C:\\Users\\GREEN\\AppData\\Local\\Continuum\\anaconda3\\lib\\site-packages\\ipykernel_launcher.py:51: RuntimeWarning: invalid value encountered in arccos\n",
      "C:\\Users\\GREEN\\AppData\\Local\\Continuum\\anaconda3\\lib\\site-packages\\ipykernel_launcher.py:51: RuntimeWarning: invalid value encountered in arccos\n",
      "C:\\Users\\GREEN\\AppData\\Local\\Continuum\\anaconda3\\lib\\site-packages\\ipykernel_launcher.py:51: RuntimeWarning: invalid value encountered in arccos\n",
      "C:\\Users\\GREEN\\AppData\\Local\\Continuum\\anaconda3\\lib\\site-packages\\ipykernel_launcher.py:51: RuntimeWarning: invalid value encountered in arccos\n",
      "C:\\Users\\GREEN\\AppData\\Local\\Continuum\\anaconda3\\lib\\site-packages\\ipykernel_launcher.py:51: RuntimeWarning: invalid value encountered in arccos\n",
      "C:\\Users\\GREEN\\AppData\\Local\\Continuum\\anaconda3\\lib\\site-packages\\ipykernel_launcher.py:51: RuntimeWarning: invalid value encountered in arccos\n",
      "C:\\Users\\GREEN\\AppData\\Local\\Continuum\\anaconda3\\lib\\site-packages\\ipykernel_launcher.py:51: RuntimeWarning: invalid value encountered in arccos\n",
      "C:\\Users\\GREEN\\AppData\\Local\\Continuum\\anaconda3\\lib\\site-packages\\ipykernel_launcher.py:51: RuntimeWarning: invalid value encountered in arccos\n",
      "C:\\Users\\GREEN\\AppData\\Local\\Continuum\\anaconda3\\lib\\site-packages\\ipykernel_launcher.py:51: RuntimeWarning: invalid value encountered in arccos\n",
      "C:\\Users\\GREEN\\AppData\\Local\\Continuum\\anaconda3\\lib\\site-packages\\ipykernel_launcher.py:51: RuntimeWarning: invalid value encountered in arccos\n",
      "C:\\Users\\GREEN\\AppData\\Local\\Continuum\\anaconda3\\lib\\site-packages\\ipykernel_launcher.py:51: RuntimeWarning: invalid value encountered in arccos\n",
      "C:\\Users\\GREEN\\AppData\\Local\\Continuum\\anaconda3\\lib\\site-packages\\ipykernel_launcher.py:51: RuntimeWarning: invalid value encountered in arccos\n",
      "C:\\Users\\GREEN\\AppData\\Local\\Continuum\\anaconda3\\lib\\site-packages\\ipykernel_launcher.py:51: RuntimeWarning: invalid value encountered in arccos\n",
      "C:\\Users\\GREEN\\AppData\\Local\\Continuum\\anaconda3\\lib\\site-packages\\ipykernel_launcher.py:51: RuntimeWarning: invalid value encountered in arccos\n",
      "C:\\Users\\GREEN\\AppData\\Local\\Continuum\\anaconda3\\lib\\site-packages\\ipykernel_launcher.py:51: RuntimeWarning: invalid value encountered in arccos\n",
      "C:\\Users\\GREEN\\AppData\\Local\\Continuum\\anaconda3\\lib\\site-packages\\ipykernel_launcher.py:51: RuntimeWarning: invalid value encountered in arccos\n",
      "C:\\Users\\GREEN\\AppData\\Local\\Continuum\\anaconda3\\lib\\site-packages\\ipykernel_launcher.py:51: RuntimeWarning: invalid value encountered in arccos\n",
      "C:\\Users\\GREEN\\AppData\\Local\\Continuum\\anaconda3\\lib\\site-packages\\ipykernel_launcher.py:51: RuntimeWarning: invalid value encountered in arccos\n",
      "C:\\Users\\GREEN\\AppData\\Local\\Continuum\\anaconda3\\lib\\site-packages\\ipykernel_launcher.py:51: RuntimeWarning: invalid value encountered in arccos\n",
      "C:\\Users\\GREEN\\AppData\\Local\\Continuum\\anaconda3\\lib\\site-packages\\ipykernel_launcher.py:51: RuntimeWarning: invalid value encountered in arccos\n",
      "C:\\Users\\GREEN\\AppData\\Local\\Continuum\\anaconda3\\lib\\site-packages\\ipykernel_launcher.py:51: RuntimeWarning: invalid value encountered in arccos\n",
      "C:\\Users\\GREEN\\AppData\\Local\\Continuum\\anaconda3\\lib\\site-packages\\ipykernel_launcher.py:51: RuntimeWarning: invalid value encountered in arccos\n",
      "C:\\Users\\GREEN\\AppData\\Local\\Continuum\\anaconda3\\lib\\site-packages\\ipykernel_launcher.py:51: RuntimeWarning: invalid value encountered in arccos\n",
      "C:\\Users\\GREEN\\AppData\\Local\\Continuum\\anaconda3\\lib\\site-packages\\ipykernel_launcher.py:51: RuntimeWarning: invalid value encountered in arccos\n",
      "C:\\Users\\GREEN\\AppData\\Local\\Continuum\\anaconda3\\lib\\site-packages\\ipykernel_launcher.py:51: RuntimeWarning: invalid value encountered in arccos\n",
      "C:\\Users\\GREEN\\AppData\\Local\\Continuum\\anaconda3\\lib\\site-packages\\ipykernel_launcher.py:51: RuntimeWarning: invalid value encountered in arccos\n",
      "C:\\Users\\GREEN\\AppData\\Local\\Continuum\\anaconda3\\lib\\site-packages\\ipykernel_launcher.py:51: RuntimeWarning: invalid value encountered in arccos\n",
      "C:\\Users\\GREEN\\AppData\\Local\\Continuum\\anaconda3\\lib\\site-packages\\ipykernel_launcher.py:51: RuntimeWarning: invalid value encountered in arccos\n",
      "C:\\Users\\GREEN\\AppData\\Local\\Continuum\\anaconda3\\lib\\site-packages\\ipykernel_launcher.py:51: RuntimeWarning: invalid value encountered in arccos\n",
      "C:\\Users\\GREEN\\AppData\\Local\\Continuum\\anaconda3\\lib\\site-packages\\ipykernel_launcher.py:51: RuntimeWarning: invalid value encountered in arccos\n",
      "C:\\Users\\GREEN\\AppData\\Local\\Continuum\\anaconda3\\lib\\site-packages\\ipykernel_launcher.py:51: RuntimeWarning: invalid value encountered in arccos\n",
      "C:\\Users\\GREEN\\AppData\\Local\\Continuum\\anaconda3\\lib\\site-packages\\ipykernel_launcher.py:51: RuntimeWarning: invalid value encountered in arccos\n",
      "C:\\Users\\GREEN\\AppData\\Local\\Continuum\\anaconda3\\lib\\site-packages\\ipykernel_launcher.py:51: RuntimeWarning: invalid value encountered in arccos\n",
      "C:\\Users\\GREEN\\AppData\\Local\\Continuum\\anaconda3\\lib\\site-packages\\ipykernel_launcher.py:51: RuntimeWarning: invalid value encountered in arccos\n",
      "C:\\Users\\GREEN\\AppData\\Local\\Continuum\\anaconda3\\lib\\site-packages\\ipykernel_launcher.py:51: RuntimeWarning: invalid value encountered in arccos\n",
      "C:\\Users\\GREEN\\AppData\\Local\\Continuum\\anaconda3\\lib\\site-packages\\ipykernel_launcher.py:51: RuntimeWarning: invalid value encountered in arccos\n",
      "C:\\Users\\GREEN\\AppData\\Local\\Continuum\\anaconda3\\lib\\site-packages\\ipykernel_launcher.py:51: RuntimeWarning: invalid value encountered in arccos\n",
      "C:\\Users\\GREEN\\AppData\\Local\\Continuum\\anaconda3\\lib\\site-packages\\ipykernel_launcher.py:51: RuntimeWarning: invalid value encountered in arccos\n",
      "C:\\Users\\GREEN\\AppData\\Local\\Continuum\\anaconda3\\lib\\site-packages\\ipykernel_launcher.py:51: RuntimeWarning: invalid value encountered in arccos\n",
      "C:\\Users\\GREEN\\AppData\\Local\\Continuum\\anaconda3\\lib\\site-packages\\ipykernel_launcher.py:51: RuntimeWarning: invalid value encountered in arccos\n",
      "C:\\Users\\GREEN\\AppData\\Local\\Continuum\\anaconda3\\lib\\site-packages\\ipykernel_launcher.py:51: RuntimeWarning: invalid value encountered in arccos\n",
      "C:\\Users\\GREEN\\AppData\\Local\\Continuum\\anaconda3\\lib\\site-packages\\ipykernel_launcher.py:51: RuntimeWarning: invalid value encountered in arccos\n",
      "C:\\Users\\GREEN\\AppData\\Local\\Continuum\\anaconda3\\lib\\site-packages\\ipykernel_launcher.py:51: RuntimeWarning: invalid value encountered in arccos\n",
      "C:\\Users\\GREEN\\AppData\\Local\\Continuum\\anaconda3\\lib\\site-packages\\ipykernel_launcher.py:51: RuntimeWarning: invalid value encountered in arccos\n",
      "C:\\Users\\GREEN\\AppData\\Local\\Continuum\\anaconda3\\lib\\site-packages\\ipykernel_launcher.py:51: RuntimeWarning: invalid value encountered in arccos\n",
      "C:\\Users\\GREEN\\AppData\\Local\\Continuum\\anaconda3\\lib\\site-packages\\ipykernel_launcher.py:51: RuntimeWarning: invalid value encountered in arccos\n",
      "C:\\Users\\GREEN\\AppData\\Local\\Continuum\\anaconda3\\lib\\site-packages\\ipykernel_launcher.py:51: RuntimeWarning: invalid value encountered in arccos\n",
      "C:\\Users\\GREEN\\AppData\\Local\\Continuum\\anaconda3\\lib\\site-packages\\ipykernel_launcher.py:51: RuntimeWarning: invalid value encountered in arccos\n"
     ]
    },
    {
     "name": "stderr",
     "output_type": "stream",
     "text": [
      "C:\\Users\\GREEN\\AppData\\Local\\Continuum\\anaconda3\\lib\\site-packages\\ipykernel_launcher.py:51: RuntimeWarning: invalid value encountered in arccos\n",
      "C:\\Users\\GREEN\\AppData\\Local\\Continuum\\anaconda3\\lib\\site-packages\\ipykernel_launcher.py:51: RuntimeWarning: invalid value encountered in arccos\n",
      "C:\\Users\\GREEN\\AppData\\Local\\Continuum\\anaconda3\\lib\\site-packages\\ipykernel_launcher.py:51: RuntimeWarning: invalid value encountered in arccos\n",
      "C:\\Users\\GREEN\\AppData\\Local\\Continuum\\anaconda3\\lib\\site-packages\\ipykernel_launcher.py:51: RuntimeWarning: invalid value encountered in arccos\n",
      "C:\\Users\\GREEN\\AppData\\Local\\Continuum\\anaconda3\\lib\\site-packages\\ipykernel_launcher.py:51: RuntimeWarning: invalid value encountered in arccos\n",
      "C:\\Users\\GREEN\\AppData\\Local\\Continuum\\anaconda3\\lib\\site-packages\\ipykernel_launcher.py:51: RuntimeWarning: invalid value encountered in arccos\n",
      "C:\\Users\\GREEN\\AppData\\Local\\Continuum\\anaconda3\\lib\\site-packages\\ipykernel_launcher.py:51: RuntimeWarning: invalid value encountered in arccos\n",
      "C:\\Users\\GREEN\\AppData\\Local\\Continuum\\anaconda3\\lib\\site-packages\\ipykernel_launcher.py:51: RuntimeWarning: invalid value encountered in arccos\n",
      "C:\\Users\\GREEN\\AppData\\Local\\Continuum\\anaconda3\\lib\\site-packages\\ipykernel_launcher.py:51: RuntimeWarning: invalid value encountered in arccos\n",
      "C:\\Users\\GREEN\\AppData\\Local\\Continuum\\anaconda3\\lib\\site-packages\\ipykernel_launcher.py:51: RuntimeWarning: invalid value encountered in arccos\n",
      "C:\\Users\\GREEN\\AppData\\Local\\Continuum\\anaconda3\\lib\\site-packages\\ipykernel_launcher.py:51: RuntimeWarning: invalid value encountered in arccos\n",
      "C:\\Users\\GREEN\\AppData\\Local\\Continuum\\anaconda3\\lib\\site-packages\\ipykernel_launcher.py:51: RuntimeWarning: invalid value encountered in arccos\n",
      "C:\\Users\\GREEN\\AppData\\Local\\Continuum\\anaconda3\\lib\\site-packages\\ipykernel_launcher.py:51: RuntimeWarning: invalid value encountered in arccos\n",
      "C:\\Users\\GREEN\\AppData\\Local\\Continuum\\anaconda3\\lib\\site-packages\\ipykernel_launcher.py:51: RuntimeWarning: invalid value encountered in arccos\n",
      "C:\\Users\\GREEN\\AppData\\Local\\Continuum\\anaconda3\\lib\\site-packages\\ipykernel_launcher.py:51: RuntimeWarning: invalid value encountered in arccos\n",
      "C:\\Users\\GREEN\\AppData\\Local\\Continuum\\anaconda3\\lib\\site-packages\\ipykernel_launcher.py:51: RuntimeWarning: invalid value encountered in arccos\n",
      "C:\\Users\\GREEN\\AppData\\Local\\Continuum\\anaconda3\\lib\\site-packages\\ipykernel_launcher.py:51: RuntimeWarning: invalid value encountered in arccos\n",
      "C:\\Users\\GREEN\\AppData\\Local\\Continuum\\anaconda3\\lib\\site-packages\\ipykernel_launcher.py:51: RuntimeWarning: invalid value encountered in arccos\n",
      "C:\\Users\\GREEN\\AppData\\Local\\Continuum\\anaconda3\\lib\\site-packages\\ipykernel_launcher.py:51: RuntimeWarning: invalid value encountered in arccos\n",
      "C:\\Users\\GREEN\\AppData\\Local\\Continuum\\anaconda3\\lib\\site-packages\\ipykernel_launcher.py:51: RuntimeWarning: invalid value encountered in arccos\n",
      "C:\\Users\\GREEN\\AppData\\Local\\Continuum\\anaconda3\\lib\\site-packages\\ipykernel_launcher.py:51: RuntimeWarning: invalid value encountered in arccos\n",
      "C:\\Users\\GREEN\\AppData\\Local\\Continuum\\anaconda3\\lib\\site-packages\\ipykernel_launcher.py:51: RuntimeWarning: invalid value encountered in arccos\n",
      "C:\\Users\\GREEN\\AppData\\Local\\Continuum\\anaconda3\\lib\\site-packages\\ipykernel_launcher.py:51: RuntimeWarning: invalid value encountered in arccos\n",
      "C:\\Users\\GREEN\\AppData\\Local\\Continuum\\anaconda3\\lib\\site-packages\\ipykernel_launcher.py:51: RuntimeWarning: invalid value encountered in arccos\n",
      "C:\\Users\\GREEN\\AppData\\Local\\Continuum\\anaconda3\\lib\\site-packages\\ipykernel_launcher.py:51: RuntimeWarning: invalid value encountered in arccos\n",
      "C:\\Users\\GREEN\\AppData\\Local\\Continuum\\anaconda3\\lib\\site-packages\\ipykernel_launcher.py:51: RuntimeWarning: invalid value encountered in arccos\n",
      "C:\\Users\\GREEN\\AppData\\Local\\Continuum\\anaconda3\\lib\\site-packages\\ipykernel_launcher.py:51: RuntimeWarning: invalid value encountered in arccos\n",
      "C:\\Users\\GREEN\\AppData\\Local\\Continuum\\anaconda3\\lib\\site-packages\\ipykernel_launcher.py:51: RuntimeWarning: invalid value encountered in arccos\n",
      "C:\\Users\\GREEN\\AppData\\Local\\Continuum\\anaconda3\\lib\\site-packages\\ipykernel_launcher.py:51: RuntimeWarning: invalid value encountered in arccos\n",
      "C:\\Users\\GREEN\\AppData\\Local\\Continuum\\anaconda3\\lib\\site-packages\\ipykernel_launcher.py:51: RuntimeWarning: invalid value encountered in arccos\n",
      "C:\\Users\\GREEN\\AppData\\Local\\Continuum\\anaconda3\\lib\\site-packages\\ipykernel_launcher.py:51: RuntimeWarning: invalid value encountered in arccos\n",
      "C:\\Users\\GREEN\\AppData\\Local\\Continuum\\anaconda3\\lib\\site-packages\\ipykernel_launcher.py:51: RuntimeWarning: invalid value encountered in arccos\n",
      "C:\\Users\\GREEN\\AppData\\Local\\Continuum\\anaconda3\\lib\\site-packages\\ipykernel_launcher.py:51: RuntimeWarning: invalid value encountered in arccos\n",
      "C:\\Users\\GREEN\\AppData\\Local\\Continuum\\anaconda3\\lib\\site-packages\\ipykernel_launcher.py:51: RuntimeWarning: invalid value encountered in arccos\n",
      "C:\\Users\\GREEN\\AppData\\Local\\Continuum\\anaconda3\\lib\\site-packages\\ipykernel_launcher.py:51: RuntimeWarning: invalid value encountered in arccos\n",
      "C:\\Users\\GREEN\\AppData\\Local\\Continuum\\anaconda3\\lib\\site-packages\\ipykernel_launcher.py:51: RuntimeWarning: invalid value encountered in arccos\n",
      "C:\\Users\\GREEN\\AppData\\Local\\Continuum\\anaconda3\\lib\\site-packages\\ipykernel_launcher.py:51: RuntimeWarning: invalid value encountered in arccos\n",
      "C:\\Users\\GREEN\\AppData\\Local\\Continuum\\anaconda3\\lib\\site-packages\\ipykernel_launcher.py:51: RuntimeWarning: invalid value encountered in arccos\n",
      "C:\\Users\\GREEN\\AppData\\Local\\Continuum\\anaconda3\\lib\\site-packages\\ipykernel_launcher.py:51: RuntimeWarning: invalid value encountered in arccos\n",
      "C:\\Users\\GREEN\\AppData\\Local\\Continuum\\anaconda3\\lib\\site-packages\\ipykernel_launcher.py:51: RuntimeWarning: invalid value encountered in arccos\n",
      "C:\\Users\\GREEN\\AppData\\Local\\Continuum\\anaconda3\\lib\\site-packages\\ipykernel_launcher.py:51: RuntimeWarning: invalid value encountered in arccos\n",
      "C:\\Users\\GREEN\\AppData\\Local\\Continuum\\anaconda3\\lib\\site-packages\\ipykernel_launcher.py:51: RuntimeWarning: invalid value encountered in arccos\n",
      "C:\\Users\\GREEN\\AppData\\Local\\Continuum\\anaconda3\\lib\\site-packages\\ipykernel_launcher.py:51: RuntimeWarning: invalid value encountered in arccos\n",
      "C:\\Users\\GREEN\\AppData\\Local\\Continuum\\anaconda3\\lib\\site-packages\\ipykernel_launcher.py:51: RuntimeWarning: invalid value encountered in arccos\n",
      "C:\\Users\\GREEN\\AppData\\Local\\Continuum\\anaconda3\\lib\\site-packages\\ipykernel_launcher.py:51: RuntimeWarning: invalid value encountered in arccos\n",
      "C:\\Users\\GREEN\\AppData\\Local\\Continuum\\anaconda3\\lib\\site-packages\\ipykernel_launcher.py:51: RuntimeWarning: invalid value encountered in arccos\n",
      "C:\\Users\\GREEN\\AppData\\Local\\Continuum\\anaconda3\\lib\\site-packages\\ipykernel_launcher.py:51: RuntimeWarning: invalid value encountered in arccos\n",
      "C:\\Users\\GREEN\\AppData\\Local\\Continuum\\anaconda3\\lib\\site-packages\\ipykernel_launcher.py:51: RuntimeWarning: invalid value encountered in arccos\n",
      "C:\\Users\\GREEN\\AppData\\Local\\Continuum\\anaconda3\\lib\\site-packages\\ipykernel_launcher.py:51: RuntimeWarning: invalid value encountered in arccos\n",
      "C:\\Users\\GREEN\\AppData\\Local\\Continuum\\anaconda3\\lib\\site-packages\\ipykernel_launcher.py:51: RuntimeWarning: invalid value encountered in arccos\n",
      "C:\\Users\\GREEN\\AppData\\Local\\Continuum\\anaconda3\\lib\\site-packages\\ipykernel_launcher.py:51: RuntimeWarning: invalid value encountered in arccos\n",
      "C:\\Users\\GREEN\\AppData\\Local\\Continuum\\anaconda3\\lib\\site-packages\\ipykernel_launcher.py:51: RuntimeWarning: invalid value encountered in arccos\n",
      "C:\\Users\\GREEN\\AppData\\Local\\Continuum\\anaconda3\\lib\\site-packages\\ipykernel_launcher.py:51: RuntimeWarning: invalid value encountered in arccos\n",
      "C:\\Users\\GREEN\\AppData\\Local\\Continuum\\anaconda3\\lib\\site-packages\\ipykernel_launcher.py:51: RuntimeWarning: invalid value encountered in arccos\n",
      "C:\\Users\\GREEN\\AppData\\Local\\Continuum\\anaconda3\\lib\\site-packages\\ipykernel_launcher.py:51: RuntimeWarning: invalid value encountered in arccos\n",
      "C:\\Users\\GREEN\\AppData\\Local\\Continuum\\anaconda3\\lib\\site-packages\\ipykernel_launcher.py:51: RuntimeWarning: invalid value encountered in arccos\n",
      "C:\\Users\\GREEN\\AppData\\Local\\Continuum\\anaconda3\\lib\\site-packages\\ipykernel_launcher.py:51: RuntimeWarning: invalid value encountered in arccos\n",
      "C:\\Users\\GREEN\\AppData\\Local\\Continuum\\anaconda3\\lib\\site-packages\\ipykernel_launcher.py:51: RuntimeWarning: invalid value encountered in arccos\n"
     ]
    },
    {
     "name": "stderr",
     "output_type": "stream",
     "text": [
      "C:\\Users\\GREEN\\AppData\\Local\\Continuum\\anaconda3\\lib\\site-packages\\ipykernel_launcher.py:51: RuntimeWarning: invalid value encountered in arccos\n",
      "C:\\Users\\GREEN\\AppData\\Local\\Continuum\\anaconda3\\lib\\site-packages\\ipykernel_launcher.py:51: RuntimeWarning: invalid value encountered in arccos\n",
      "C:\\Users\\GREEN\\AppData\\Local\\Continuum\\anaconda3\\lib\\site-packages\\ipykernel_launcher.py:51: RuntimeWarning: invalid value encountered in arccos\n",
      "C:\\Users\\GREEN\\AppData\\Local\\Continuum\\anaconda3\\lib\\site-packages\\ipykernel_launcher.py:51: RuntimeWarning: invalid value encountered in arccos\n",
      "C:\\Users\\GREEN\\AppData\\Local\\Continuum\\anaconda3\\lib\\site-packages\\ipykernel_launcher.py:51: RuntimeWarning: invalid value encountered in arccos\n",
      "C:\\Users\\GREEN\\AppData\\Local\\Continuum\\anaconda3\\lib\\site-packages\\ipykernel_launcher.py:51: RuntimeWarning: invalid value encountered in arccos\n",
      "C:\\Users\\GREEN\\AppData\\Local\\Continuum\\anaconda3\\lib\\site-packages\\ipykernel_launcher.py:51: RuntimeWarning: invalid value encountered in arccos\n",
      "C:\\Users\\GREEN\\AppData\\Local\\Continuum\\anaconda3\\lib\\site-packages\\ipykernel_launcher.py:51: RuntimeWarning: invalid value encountered in arccos\n",
      "C:\\Users\\GREEN\\AppData\\Local\\Continuum\\anaconda3\\lib\\site-packages\\ipykernel_launcher.py:51: RuntimeWarning: invalid value encountered in arccos\n",
      "C:\\Users\\GREEN\\AppData\\Local\\Continuum\\anaconda3\\lib\\site-packages\\ipykernel_launcher.py:51: RuntimeWarning: invalid value encountered in arccos\n",
      "C:\\Users\\GREEN\\AppData\\Local\\Continuum\\anaconda3\\lib\\site-packages\\ipykernel_launcher.py:51: RuntimeWarning: invalid value encountered in arccos\n",
      "C:\\Users\\GREEN\\AppData\\Local\\Continuum\\anaconda3\\lib\\site-packages\\ipykernel_launcher.py:51: RuntimeWarning: invalid value encountered in arccos\n",
      "C:\\Users\\GREEN\\AppData\\Local\\Continuum\\anaconda3\\lib\\site-packages\\ipykernel_launcher.py:51: RuntimeWarning: invalid value encountered in arccos\n",
      "C:\\Users\\GREEN\\AppData\\Local\\Continuum\\anaconda3\\lib\\site-packages\\ipykernel_launcher.py:51: RuntimeWarning: invalid value encountered in arccos\n",
      "C:\\Users\\GREEN\\AppData\\Local\\Continuum\\anaconda3\\lib\\site-packages\\ipykernel_launcher.py:51: RuntimeWarning: invalid value encountered in arccos\n",
      "C:\\Users\\GREEN\\AppData\\Local\\Continuum\\anaconda3\\lib\\site-packages\\ipykernel_launcher.py:51: RuntimeWarning: invalid value encountered in arccos\n",
      "C:\\Users\\GREEN\\AppData\\Local\\Continuum\\anaconda3\\lib\\site-packages\\ipykernel_launcher.py:51: RuntimeWarning: invalid value encountered in arccos\n",
      "C:\\Users\\GREEN\\AppData\\Local\\Continuum\\anaconda3\\lib\\site-packages\\ipykernel_launcher.py:51: RuntimeWarning: invalid value encountered in arccos\n",
      "C:\\Users\\GREEN\\AppData\\Local\\Continuum\\anaconda3\\lib\\site-packages\\ipykernel_launcher.py:51: RuntimeWarning: invalid value encountered in arccos\n",
      "C:\\Users\\GREEN\\AppData\\Local\\Continuum\\anaconda3\\lib\\site-packages\\ipykernel_launcher.py:51: RuntimeWarning: invalid value encountered in arccos\n",
      "C:\\Users\\GREEN\\AppData\\Local\\Continuum\\anaconda3\\lib\\site-packages\\ipykernel_launcher.py:51: RuntimeWarning: invalid value encountered in arccos\n",
      "C:\\Users\\GREEN\\AppData\\Local\\Continuum\\anaconda3\\lib\\site-packages\\ipykernel_launcher.py:51: RuntimeWarning: invalid value encountered in arccos\n",
      "C:\\Users\\GREEN\\AppData\\Local\\Continuum\\anaconda3\\lib\\site-packages\\ipykernel_launcher.py:51: RuntimeWarning: invalid value encountered in arccos\n",
      "C:\\Users\\GREEN\\AppData\\Local\\Continuum\\anaconda3\\lib\\site-packages\\ipykernel_launcher.py:51: RuntimeWarning: invalid value encountered in arccos\n",
      "C:\\Users\\GREEN\\AppData\\Local\\Continuum\\anaconda3\\lib\\site-packages\\ipykernel_launcher.py:51: RuntimeWarning: invalid value encountered in arccos\n",
      "C:\\Users\\GREEN\\AppData\\Local\\Continuum\\anaconda3\\lib\\site-packages\\ipykernel_launcher.py:51: RuntimeWarning: invalid value encountered in arccos\n",
      "C:\\Users\\GREEN\\AppData\\Local\\Continuum\\anaconda3\\lib\\site-packages\\ipykernel_launcher.py:51: RuntimeWarning: invalid value encountered in arccos\n",
      "C:\\Users\\GREEN\\AppData\\Local\\Continuum\\anaconda3\\lib\\site-packages\\ipykernel_launcher.py:51: RuntimeWarning: invalid value encountered in arccos\n",
      "C:\\Users\\GREEN\\AppData\\Local\\Continuum\\anaconda3\\lib\\site-packages\\ipykernel_launcher.py:51: RuntimeWarning: invalid value encountered in arccos\n",
      "C:\\Users\\GREEN\\AppData\\Local\\Continuum\\anaconda3\\lib\\site-packages\\ipykernel_launcher.py:51: RuntimeWarning: invalid value encountered in arccos\n",
      "C:\\Users\\GREEN\\AppData\\Local\\Continuum\\anaconda3\\lib\\site-packages\\ipykernel_launcher.py:51: RuntimeWarning: invalid value encountered in arccos\n",
      "C:\\Users\\GREEN\\AppData\\Local\\Continuum\\anaconda3\\lib\\site-packages\\ipykernel_launcher.py:51: RuntimeWarning: invalid value encountered in arccos\n",
      "C:\\Users\\GREEN\\AppData\\Local\\Continuum\\anaconda3\\lib\\site-packages\\ipykernel_launcher.py:51: RuntimeWarning: invalid value encountered in arccos\n",
      "C:\\Users\\GREEN\\AppData\\Local\\Continuum\\anaconda3\\lib\\site-packages\\ipykernel_launcher.py:51: RuntimeWarning: invalid value encountered in arccos\n",
      "C:\\Users\\GREEN\\AppData\\Local\\Continuum\\anaconda3\\lib\\site-packages\\ipykernel_launcher.py:51: RuntimeWarning: invalid value encountered in arccos\n",
      "C:\\Users\\GREEN\\AppData\\Local\\Continuum\\anaconda3\\lib\\site-packages\\ipykernel_launcher.py:51: RuntimeWarning: invalid value encountered in arccos\n",
      "C:\\Users\\GREEN\\AppData\\Local\\Continuum\\anaconda3\\lib\\site-packages\\ipykernel_launcher.py:51: RuntimeWarning: invalid value encountered in arccos\n",
      "C:\\Users\\GREEN\\AppData\\Local\\Continuum\\anaconda3\\lib\\site-packages\\ipykernel_launcher.py:51: RuntimeWarning: invalid value encountered in arccos\n",
      "C:\\Users\\GREEN\\AppData\\Local\\Continuum\\anaconda3\\lib\\site-packages\\ipykernel_launcher.py:51: RuntimeWarning: invalid value encountered in arccos\n",
      "C:\\Users\\GREEN\\AppData\\Local\\Continuum\\anaconda3\\lib\\site-packages\\ipykernel_launcher.py:51: RuntimeWarning: invalid value encountered in arccos\n",
      "C:\\Users\\GREEN\\AppData\\Local\\Continuum\\anaconda3\\lib\\site-packages\\ipykernel_launcher.py:51: RuntimeWarning: invalid value encountered in arccos\n",
      "C:\\Users\\GREEN\\AppData\\Local\\Continuum\\anaconda3\\lib\\site-packages\\ipykernel_launcher.py:51: RuntimeWarning: invalid value encountered in arccos\n",
      "C:\\Users\\GREEN\\AppData\\Local\\Continuum\\anaconda3\\lib\\site-packages\\ipykernel_launcher.py:51: RuntimeWarning: invalid value encountered in arccos\n",
      "C:\\Users\\GREEN\\AppData\\Local\\Continuum\\anaconda3\\lib\\site-packages\\ipykernel_launcher.py:51: RuntimeWarning: invalid value encountered in arccos\n",
      "C:\\Users\\GREEN\\AppData\\Local\\Continuum\\anaconda3\\lib\\site-packages\\ipykernel_launcher.py:51: RuntimeWarning: invalid value encountered in arccos\n",
      "C:\\Users\\GREEN\\AppData\\Local\\Continuum\\anaconda3\\lib\\site-packages\\ipykernel_launcher.py:51: RuntimeWarning: invalid value encountered in arccos\n",
      "C:\\Users\\GREEN\\AppData\\Local\\Continuum\\anaconda3\\lib\\site-packages\\ipykernel_launcher.py:51: RuntimeWarning: invalid value encountered in arccos\n",
      "C:\\Users\\GREEN\\AppData\\Local\\Continuum\\anaconda3\\lib\\site-packages\\ipykernel_launcher.py:51: RuntimeWarning: invalid value encountered in arccos\n",
      "C:\\Users\\GREEN\\AppData\\Local\\Continuum\\anaconda3\\lib\\site-packages\\ipykernel_launcher.py:51: RuntimeWarning: invalid value encountered in arccos\n",
      "C:\\Users\\GREEN\\AppData\\Local\\Continuum\\anaconda3\\lib\\site-packages\\ipykernel_launcher.py:51: RuntimeWarning: invalid value encountered in arccos\n",
      "C:\\Users\\GREEN\\AppData\\Local\\Continuum\\anaconda3\\lib\\site-packages\\ipykernel_launcher.py:51: RuntimeWarning: invalid value encountered in arccos\n",
      "C:\\Users\\GREEN\\AppData\\Local\\Continuum\\anaconda3\\lib\\site-packages\\ipykernel_launcher.py:51: RuntimeWarning: invalid value encountered in arccos\n",
      "C:\\Users\\GREEN\\AppData\\Local\\Continuum\\anaconda3\\lib\\site-packages\\ipykernel_launcher.py:51: RuntimeWarning: invalid value encountered in arccos\n",
      "C:\\Users\\GREEN\\AppData\\Local\\Continuum\\anaconda3\\lib\\site-packages\\ipykernel_launcher.py:51: RuntimeWarning: invalid value encountered in arccos\n",
      "C:\\Users\\GREEN\\AppData\\Local\\Continuum\\anaconda3\\lib\\site-packages\\ipykernel_launcher.py:51: RuntimeWarning: invalid value encountered in arccos\n",
      "C:\\Users\\GREEN\\AppData\\Local\\Continuum\\anaconda3\\lib\\site-packages\\ipykernel_launcher.py:51: RuntimeWarning: invalid value encountered in arccos\n",
      "C:\\Users\\GREEN\\AppData\\Local\\Continuum\\anaconda3\\lib\\site-packages\\ipykernel_launcher.py:51: RuntimeWarning: invalid value encountered in arccos\n",
      "C:\\Users\\GREEN\\AppData\\Local\\Continuum\\anaconda3\\lib\\site-packages\\ipykernel_launcher.py:51: RuntimeWarning: invalid value encountered in arccos\n"
     ]
    },
    {
     "name": "stderr",
     "output_type": "stream",
     "text": [
      "C:\\Users\\GREEN\\AppData\\Local\\Continuum\\anaconda3\\lib\\site-packages\\ipykernel_launcher.py:51: RuntimeWarning: invalid value encountered in arccos\n",
      "C:\\Users\\GREEN\\AppData\\Local\\Continuum\\anaconda3\\lib\\site-packages\\ipykernel_launcher.py:51: RuntimeWarning: invalid value encountered in arccos\n",
      "C:\\Users\\GREEN\\AppData\\Local\\Continuum\\anaconda3\\lib\\site-packages\\ipykernel_launcher.py:51: RuntimeWarning: invalid value encountered in arccos\n",
      "C:\\Users\\GREEN\\AppData\\Local\\Continuum\\anaconda3\\lib\\site-packages\\ipykernel_launcher.py:51: RuntimeWarning: invalid value encountered in arccos\n",
      "C:\\Users\\GREEN\\AppData\\Local\\Continuum\\anaconda3\\lib\\site-packages\\ipykernel_launcher.py:51: RuntimeWarning: invalid value encountered in arccos\n",
      "C:\\Users\\GREEN\\AppData\\Local\\Continuum\\anaconda3\\lib\\site-packages\\ipykernel_launcher.py:51: RuntimeWarning: invalid value encountered in arccos\n",
      "C:\\Users\\GREEN\\AppData\\Local\\Continuum\\anaconda3\\lib\\site-packages\\ipykernel_launcher.py:51: RuntimeWarning: invalid value encountered in arccos\n",
      "C:\\Users\\GREEN\\AppData\\Local\\Continuum\\anaconda3\\lib\\site-packages\\ipykernel_launcher.py:51: RuntimeWarning: invalid value encountered in arccos\n",
      "C:\\Users\\GREEN\\AppData\\Local\\Continuum\\anaconda3\\lib\\site-packages\\ipykernel_launcher.py:51: RuntimeWarning: invalid value encountered in arccos\n",
      "C:\\Users\\GREEN\\AppData\\Local\\Continuum\\anaconda3\\lib\\site-packages\\ipykernel_launcher.py:51: RuntimeWarning: invalid value encountered in arccos\n",
      "C:\\Users\\GREEN\\AppData\\Local\\Continuum\\anaconda3\\lib\\site-packages\\ipykernel_launcher.py:51: RuntimeWarning: invalid value encountered in arccos\n",
      "C:\\Users\\GREEN\\AppData\\Local\\Continuum\\anaconda3\\lib\\site-packages\\ipykernel_launcher.py:51: RuntimeWarning: invalid value encountered in arccos\n",
      "C:\\Users\\GREEN\\AppData\\Local\\Continuum\\anaconda3\\lib\\site-packages\\ipykernel_launcher.py:51: RuntimeWarning: invalid value encountered in arccos\n",
      "C:\\Users\\GREEN\\AppData\\Local\\Continuum\\anaconda3\\lib\\site-packages\\ipykernel_launcher.py:51: RuntimeWarning: invalid value encountered in arccos\n",
      "C:\\Users\\GREEN\\AppData\\Local\\Continuum\\anaconda3\\lib\\site-packages\\ipykernel_launcher.py:51: RuntimeWarning: invalid value encountered in arccos\n",
      "C:\\Users\\GREEN\\AppData\\Local\\Continuum\\anaconda3\\lib\\site-packages\\ipykernel_launcher.py:51: RuntimeWarning: invalid value encountered in arccos\n",
      "C:\\Users\\GREEN\\AppData\\Local\\Continuum\\anaconda3\\lib\\site-packages\\ipykernel_launcher.py:51: RuntimeWarning: invalid value encountered in arccos\n",
      "C:\\Users\\GREEN\\AppData\\Local\\Continuum\\anaconda3\\lib\\site-packages\\ipykernel_launcher.py:51: RuntimeWarning: invalid value encountered in arccos\n",
      "C:\\Users\\GREEN\\AppData\\Local\\Continuum\\anaconda3\\lib\\site-packages\\ipykernel_launcher.py:51: RuntimeWarning: invalid value encountered in arccos\n",
      "C:\\Users\\GREEN\\AppData\\Local\\Continuum\\anaconda3\\lib\\site-packages\\ipykernel_launcher.py:51: RuntimeWarning: invalid value encountered in arccos\n",
      "C:\\Users\\GREEN\\AppData\\Local\\Continuum\\anaconda3\\lib\\site-packages\\ipykernel_launcher.py:51: RuntimeWarning: invalid value encountered in arccos\n",
      "C:\\Users\\GREEN\\AppData\\Local\\Continuum\\anaconda3\\lib\\site-packages\\ipykernel_launcher.py:51: RuntimeWarning: invalid value encountered in arccos\n",
      "C:\\Users\\GREEN\\AppData\\Local\\Continuum\\anaconda3\\lib\\site-packages\\ipykernel_launcher.py:51: RuntimeWarning: invalid value encountered in arccos\n",
      "C:\\Users\\GREEN\\AppData\\Local\\Continuum\\anaconda3\\lib\\site-packages\\ipykernel_launcher.py:51: RuntimeWarning: invalid value encountered in arccos\n",
      "C:\\Users\\GREEN\\AppData\\Local\\Continuum\\anaconda3\\lib\\site-packages\\ipykernel_launcher.py:51: RuntimeWarning: invalid value encountered in arccos\n",
      "C:\\Users\\GREEN\\AppData\\Local\\Continuum\\anaconda3\\lib\\site-packages\\ipykernel_launcher.py:51: RuntimeWarning: invalid value encountered in arccos\n",
      "C:\\Users\\GREEN\\AppData\\Local\\Continuum\\anaconda3\\lib\\site-packages\\ipykernel_launcher.py:51: RuntimeWarning: invalid value encountered in arccos\n",
      "C:\\Users\\GREEN\\AppData\\Local\\Continuum\\anaconda3\\lib\\site-packages\\ipykernel_launcher.py:51: RuntimeWarning: invalid value encountered in arccos\n",
      "C:\\Users\\GREEN\\AppData\\Local\\Continuum\\anaconda3\\lib\\site-packages\\ipykernel_launcher.py:51: RuntimeWarning: invalid value encountered in arccos\n",
      "C:\\Users\\GREEN\\AppData\\Local\\Continuum\\anaconda3\\lib\\site-packages\\ipykernel_launcher.py:51: RuntimeWarning: invalid value encountered in arccos\n",
      "C:\\Users\\GREEN\\AppData\\Local\\Continuum\\anaconda3\\lib\\site-packages\\ipykernel_launcher.py:51: RuntimeWarning: invalid value encountered in arccos\n",
      "C:\\Users\\GREEN\\AppData\\Local\\Continuum\\anaconda3\\lib\\site-packages\\ipykernel_launcher.py:51: RuntimeWarning: invalid value encountered in arccos\n",
      "C:\\Users\\GREEN\\AppData\\Local\\Continuum\\anaconda3\\lib\\site-packages\\ipykernel_launcher.py:51: RuntimeWarning: invalid value encountered in arccos\n",
      "C:\\Users\\GREEN\\AppData\\Local\\Continuum\\anaconda3\\lib\\site-packages\\ipykernel_launcher.py:51: RuntimeWarning: invalid value encountered in arccos\n",
      "C:\\Users\\GREEN\\AppData\\Local\\Continuum\\anaconda3\\lib\\site-packages\\ipykernel_launcher.py:51: RuntimeWarning: invalid value encountered in arccos\n",
      "C:\\Users\\GREEN\\AppData\\Local\\Continuum\\anaconda3\\lib\\site-packages\\ipykernel_launcher.py:51: RuntimeWarning: invalid value encountered in arccos\n",
      "C:\\Users\\GREEN\\AppData\\Local\\Continuum\\anaconda3\\lib\\site-packages\\ipykernel_launcher.py:51: RuntimeWarning: invalid value encountered in arccos\n",
      "C:\\Users\\GREEN\\AppData\\Local\\Continuum\\anaconda3\\lib\\site-packages\\ipykernel_launcher.py:51: RuntimeWarning: invalid value encountered in arccos\n",
      "C:\\Users\\GREEN\\AppData\\Local\\Continuum\\anaconda3\\lib\\site-packages\\ipykernel_launcher.py:51: RuntimeWarning: invalid value encountered in arccos\n",
      "C:\\Users\\GREEN\\AppData\\Local\\Continuum\\anaconda3\\lib\\site-packages\\ipykernel_launcher.py:51: RuntimeWarning: invalid value encountered in arccos\n",
      "C:\\Users\\GREEN\\AppData\\Local\\Continuum\\anaconda3\\lib\\site-packages\\ipykernel_launcher.py:51: RuntimeWarning: invalid value encountered in arccos\n",
      "C:\\Users\\GREEN\\AppData\\Local\\Continuum\\anaconda3\\lib\\site-packages\\ipykernel_launcher.py:51: RuntimeWarning: invalid value encountered in arccos\n",
      "C:\\Users\\GREEN\\AppData\\Local\\Continuum\\anaconda3\\lib\\site-packages\\ipykernel_launcher.py:51: RuntimeWarning: invalid value encountered in arccos\n",
      "C:\\Users\\GREEN\\AppData\\Local\\Continuum\\anaconda3\\lib\\site-packages\\ipykernel_launcher.py:51: RuntimeWarning: invalid value encountered in arccos\n",
      "C:\\Users\\GREEN\\AppData\\Local\\Continuum\\anaconda3\\lib\\site-packages\\ipykernel_launcher.py:51: RuntimeWarning: invalid value encountered in arccos\n",
      "C:\\Users\\GREEN\\AppData\\Local\\Continuum\\anaconda3\\lib\\site-packages\\ipykernel_launcher.py:51: RuntimeWarning: invalid value encountered in arccos\n",
      "C:\\Users\\GREEN\\AppData\\Local\\Continuum\\anaconda3\\lib\\site-packages\\ipykernel_launcher.py:51: RuntimeWarning: invalid value encountered in arccos\n",
      "C:\\Users\\GREEN\\AppData\\Local\\Continuum\\anaconda3\\lib\\site-packages\\ipykernel_launcher.py:51: RuntimeWarning: invalid value encountered in arccos\n",
      "C:\\Users\\GREEN\\AppData\\Local\\Continuum\\anaconda3\\lib\\site-packages\\ipykernel_launcher.py:51: RuntimeWarning: invalid value encountered in arccos\n",
      "C:\\Users\\GREEN\\AppData\\Local\\Continuum\\anaconda3\\lib\\site-packages\\ipykernel_launcher.py:51: RuntimeWarning: invalid value encountered in arccos\n",
      "C:\\Users\\GREEN\\AppData\\Local\\Continuum\\anaconda3\\lib\\site-packages\\ipykernel_launcher.py:51: RuntimeWarning: invalid value encountered in arccos\n",
      "C:\\Users\\GREEN\\AppData\\Local\\Continuum\\anaconda3\\lib\\site-packages\\ipykernel_launcher.py:51: RuntimeWarning: invalid value encountered in arccos\n",
      "C:\\Users\\GREEN\\AppData\\Local\\Continuum\\anaconda3\\lib\\site-packages\\ipykernel_launcher.py:51: RuntimeWarning: invalid value encountered in arccos\n",
      "C:\\Users\\GREEN\\AppData\\Local\\Continuum\\anaconda3\\lib\\site-packages\\ipykernel_launcher.py:51: RuntimeWarning: invalid value encountered in arccos\n",
      "C:\\Users\\GREEN\\AppData\\Local\\Continuum\\anaconda3\\lib\\site-packages\\ipykernel_launcher.py:51: RuntimeWarning: invalid value encountered in arccos\n",
      "C:\\Users\\GREEN\\AppData\\Local\\Continuum\\anaconda3\\lib\\site-packages\\ipykernel_launcher.py:51: RuntimeWarning: invalid value encountered in arccos\n",
      "C:\\Users\\GREEN\\AppData\\Local\\Continuum\\anaconda3\\lib\\site-packages\\ipykernel_launcher.py:51: RuntimeWarning: invalid value encountered in arccos\n",
      "C:\\Users\\GREEN\\AppData\\Local\\Continuum\\anaconda3\\lib\\site-packages\\ipykernel_launcher.py:51: RuntimeWarning: invalid value encountered in arccos\n",
      "C:\\Users\\GREEN\\AppData\\Local\\Continuum\\anaconda3\\lib\\site-packages\\ipykernel_launcher.py:51: RuntimeWarning: invalid value encountered in arccos\n",
      "C:\\Users\\GREEN\\AppData\\Local\\Continuum\\anaconda3\\lib\\site-packages\\ipykernel_launcher.py:51: RuntimeWarning: invalid value encountered in arccos\n",
      "C:\\Users\\GREEN\\AppData\\Local\\Continuum\\anaconda3\\lib\\site-packages\\ipykernel_launcher.py:51: RuntimeWarning: invalid value encountered in arccos\n"
     ]
    },
    {
     "name": "stderr",
     "output_type": "stream",
     "text": [
      "C:\\Users\\GREEN\\AppData\\Local\\Continuum\\anaconda3\\lib\\site-packages\\ipykernel_launcher.py:51: RuntimeWarning: invalid value encountered in arccos\n",
      "C:\\Users\\GREEN\\AppData\\Local\\Continuum\\anaconda3\\lib\\site-packages\\ipykernel_launcher.py:51: RuntimeWarning: invalid value encountered in arccos\n",
      "C:\\Users\\GREEN\\AppData\\Local\\Continuum\\anaconda3\\lib\\site-packages\\ipykernel_launcher.py:51: RuntimeWarning: invalid value encountered in arccos\n",
      "C:\\Users\\GREEN\\AppData\\Local\\Continuum\\anaconda3\\lib\\site-packages\\ipykernel_launcher.py:51: RuntimeWarning: invalid value encountered in arccos\n",
      "C:\\Users\\GREEN\\AppData\\Local\\Continuum\\anaconda3\\lib\\site-packages\\ipykernel_launcher.py:51: RuntimeWarning: invalid value encountered in arccos\n",
      "C:\\Users\\GREEN\\AppData\\Local\\Continuum\\anaconda3\\lib\\site-packages\\ipykernel_launcher.py:51: RuntimeWarning: invalid value encountered in arccos\n",
      "C:\\Users\\GREEN\\AppData\\Local\\Continuum\\anaconda3\\lib\\site-packages\\ipykernel_launcher.py:51: RuntimeWarning: invalid value encountered in arccos\n",
      "C:\\Users\\GREEN\\AppData\\Local\\Continuum\\anaconda3\\lib\\site-packages\\ipykernel_launcher.py:51: RuntimeWarning: invalid value encountered in arccos\n",
      "C:\\Users\\GREEN\\AppData\\Local\\Continuum\\anaconda3\\lib\\site-packages\\ipykernel_launcher.py:51: RuntimeWarning: invalid value encountered in arccos\n",
      "C:\\Users\\GREEN\\AppData\\Local\\Continuum\\anaconda3\\lib\\site-packages\\ipykernel_launcher.py:51: RuntimeWarning: invalid value encountered in arccos\n",
      "C:\\Users\\GREEN\\AppData\\Local\\Continuum\\anaconda3\\lib\\site-packages\\ipykernel_launcher.py:51: RuntimeWarning: invalid value encountered in arccos\n",
      "C:\\Users\\GREEN\\AppData\\Local\\Continuum\\anaconda3\\lib\\site-packages\\ipykernel_launcher.py:51: RuntimeWarning: invalid value encountered in arccos\n",
      "C:\\Users\\GREEN\\AppData\\Local\\Continuum\\anaconda3\\lib\\site-packages\\ipykernel_launcher.py:51: RuntimeWarning: invalid value encountered in arccos\n",
      "C:\\Users\\GREEN\\AppData\\Local\\Continuum\\anaconda3\\lib\\site-packages\\ipykernel_launcher.py:51: RuntimeWarning: invalid value encountered in arccos\n",
      "C:\\Users\\GREEN\\AppData\\Local\\Continuum\\anaconda3\\lib\\site-packages\\ipykernel_launcher.py:51: RuntimeWarning: invalid value encountered in arccos\n",
      "C:\\Users\\GREEN\\AppData\\Local\\Continuum\\anaconda3\\lib\\site-packages\\ipykernel_launcher.py:51: RuntimeWarning: invalid value encountered in arccos\n",
      "C:\\Users\\GREEN\\AppData\\Local\\Continuum\\anaconda3\\lib\\site-packages\\ipykernel_launcher.py:51: RuntimeWarning: invalid value encountered in arccos\n",
      "C:\\Users\\GREEN\\AppData\\Local\\Continuum\\anaconda3\\lib\\site-packages\\ipykernel_launcher.py:51: RuntimeWarning: invalid value encountered in arccos\n",
      "C:\\Users\\GREEN\\AppData\\Local\\Continuum\\anaconda3\\lib\\site-packages\\ipykernel_launcher.py:51: RuntimeWarning: invalid value encountered in arccos\n",
      "C:\\Users\\GREEN\\AppData\\Local\\Continuum\\anaconda3\\lib\\site-packages\\ipykernel_launcher.py:51: RuntimeWarning: invalid value encountered in arccos\n",
      "C:\\Users\\GREEN\\AppData\\Local\\Continuum\\anaconda3\\lib\\site-packages\\ipykernel_launcher.py:51: RuntimeWarning: invalid value encountered in arccos\n",
      "C:\\Users\\GREEN\\AppData\\Local\\Continuum\\anaconda3\\lib\\site-packages\\ipykernel_launcher.py:51: RuntimeWarning: invalid value encountered in arccos\n",
      "C:\\Users\\GREEN\\AppData\\Local\\Continuum\\anaconda3\\lib\\site-packages\\ipykernel_launcher.py:51: RuntimeWarning: invalid value encountered in arccos\n",
      "C:\\Users\\GREEN\\AppData\\Local\\Continuum\\anaconda3\\lib\\site-packages\\ipykernel_launcher.py:51: RuntimeWarning: invalid value encountered in arccos\n",
      "C:\\Users\\GREEN\\AppData\\Local\\Continuum\\anaconda3\\lib\\site-packages\\ipykernel_launcher.py:51: RuntimeWarning: invalid value encountered in arccos\n",
      "C:\\Users\\GREEN\\AppData\\Local\\Continuum\\anaconda3\\lib\\site-packages\\ipykernel_launcher.py:51: RuntimeWarning: invalid value encountered in arccos\n",
      "C:\\Users\\GREEN\\AppData\\Local\\Continuum\\anaconda3\\lib\\site-packages\\ipykernel_launcher.py:51: RuntimeWarning: invalid value encountered in arccos\n",
      "C:\\Users\\GREEN\\AppData\\Local\\Continuum\\anaconda3\\lib\\site-packages\\ipykernel_launcher.py:51: RuntimeWarning: invalid value encountered in arccos\n",
      "C:\\Users\\GREEN\\AppData\\Local\\Continuum\\anaconda3\\lib\\site-packages\\ipykernel_launcher.py:51: RuntimeWarning: invalid value encountered in arccos\n",
      "C:\\Users\\GREEN\\AppData\\Local\\Continuum\\anaconda3\\lib\\site-packages\\ipykernel_launcher.py:51: RuntimeWarning: invalid value encountered in arccos\n",
      "C:\\Users\\GREEN\\AppData\\Local\\Continuum\\anaconda3\\lib\\site-packages\\ipykernel_launcher.py:51: RuntimeWarning: invalid value encountered in arccos\n",
      "C:\\Users\\GREEN\\AppData\\Local\\Continuum\\anaconda3\\lib\\site-packages\\ipykernel_launcher.py:51: RuntimeWarning: invalid value encountered in arccos\n",
      "C:\\Users\\GREEN\\AppData\\Local\\Continuum\\anaconda3\\lib\\site-packages\\ipykernel_launcher.py:51: RuntimeWarning: invalid value encountered in arccos\n",
      "C:\\Users\\GREEN\\AppData\\Local\\Continuum\\anaconda3\\lib\\site-packages\\ipykernel_launcher.py:51: RuntimeWarning: invalid value encountered in arccos\n",
      "C:\\Users\\GREEN\\AppData\\Local\\Continuum\\anaconda3\\lib\\site-packages\\ipykernel_launcher.py:51: RuntimeWarning: invalid value encountered in arccos\n",
      "C:\\Users\\GREEN\\AppData\\Local\\Continuum\\anaconda3\\lib\\site-packages\\ipykernel_launcher.py:51: RuntimeWarning: invalid value encountered in arccos\n",
      "C:\\Users\\GREEN\\AppData\\Local\\Continuum\\anaconda3\\lib\\site-packages\\ipykernel_launcher.py:51: RuntimeWarning: invalid value encountered in arccos\n",
      "C:\\Users\\GREEN\\AppData\\Local\\Continuum\\anaconda3\\lib\\site-packages\\ipykernel_launcher.py:51: RuntimeWarning: invalid value encountered in arccos\n",
      "C:\\Users\\GREEN\\AppData\\Local\\Continuum\\anaconda3\\lib\\site-packages\\ipykernel_launcher.py:51: RuntimeWarning: invalid value encountered in arccos\n",
      "C:\\Users\\GREEN\\AppData\\Local\\Continuum\\anaconda3\\lib\\site-packages\\ipykernel_launcher.py:51: RuntimeWarning: invalid value encountered in arccos\n",
      "C:\\Users\\GREEN\\AppData\\Local\\Continuum\\anaconda3\\lib\\site-packages\\ipykernel_launcher.py:51: RuntimeWarning: invalid value encountered in arccos\n",
      "C:\\Users\\GREEN\\AppData\\Local\\Continuum\\anaconda3\\lib\\site-packages\\ipykernel_launcher.py:51: RuntimeWarning: invalid value encountered in arccos\n",
      "C:\\Users\\GREEN\\AppData\\Local\\Continuum\\anaconda3\\lib\\site-packages\\ipykernel_launcher.py:51: RuntimeWarning: invalid value encountered in arccos\n",
      "C:\\Users\\GREEN\\AppData\\Local\\Continuum\\anaconda3\\lib\\site-packages\\ipykernel_launcher.py:51: RuntimeWarning: invalid value encountered in arccos\n",
      "C:\\Users\\GREEN\\AppData\\Local\\Continuum\\anaconda3\\lib\\site-packages\\ipykernel_launcher.py:51: RuntimeWarning: invalid value encountered in arccos\n",
      "C:\\Users\\GREEN\\AppData\\Local\\Continuum\\anaconda3\\lib\\site-packages\\ipykernel_launcher.py:51: RuntimeWarning: invalid value encountered in arccos\n",
      "C:\\Users\\GREEN\\AppData\\Local\\Continuum\\anaconda3\\lib\\site-packages\\ipykernel_launcher.py:51: RuntimeWarning: invalid value encountered in arccos\n",
      "C:\\Users\\GREEN\\AppData\\Local\\Continuum\\anaconda3\\lib\\site-packages\\ipykernel_launcher.py:51: RuntimeWarning: invalid value encountered in arccos\n",
      "C:\\Users\\GREEN\\AppData\\Local\\Continuum\\anaconda3\\lib\\site-packages\\ipykernel_launcher.py:51: RuntimeWarning: invalid value encountered in arccos\n",
      "C:\\Users\\GREEN\\AppData\\Local\\Continuum\\anaconda3\\lib\\site-packages\\ipykernel_launcher.py:51: RuntimeWarning: invalid value encountered in arccos\n",
      "C:\\Users\\GREEN\\AppData\\Local\\Continuum\\anaconda3\\lib\\site-packages\\ipykernel_launcher.py:51: RuntimeWarning: invalid value encountered in arccos\n",
      "C:\\Users\\GREEN\\AppData\\Local\\Continuum\\anaconda3\\lib\\site-packages\\ipykernel_launcher.py:51: RuntimeWarning: invalid value encountered in arccos\n",
      "C:\\Users\\GREEN\\AppData\\Local\\Continuum\\anaconda3\\lib\\site-packages\\ipykernel_launcher.py:51: RuntimeWarning: invalid value encountered in arccos\n",
      "C:\\Users\\GREEN\\AppData\\Local\\Continuum\\anaconda3\\lib\\site-packages\\ipykernel_launcher.py:51: RuntimeWarning: invalid value encountered in arccos\n",
      "C:\\Users\\GREEN\\AppData\\Local\\Continuum\\anaconda3\\lib\\site-packages\\ipykernel_launcher.py:51: RuntimeWarning: invalid value encountered in arccos\n",
      "C:\\Users\\GREEN\\AppData\\Local\\Continuum\\anaconda3\\lib\\site-packages\\ipykernel_launcher.py:51: RuntimeWarning: invalid value encountered in arccos\n",
      "C:\\Users\\GREEN\\AppData\\Local\\Continuum\\anaconda3\\lib\\site-packages\\ipykernel_launcher.py:51: RuntimeWarning: invalid value encountered in arccos\n",
      "C:\\Users\\GREEN\\AppData\\Local\\Continuum\\anaconda3\\lib\\site-packages\\ipykernel_launcher.py:51: RuntimeWarning: invalid value encountered in arccos\n",
      "C:\\Users\\GREEN\\AppData\\Local\\Continuum\\anaconda3\\lib\\site-packages\\ipykernel_launcher.py:51: RuntimeWarning: invalid value encountered in arccos\n",
      "C:\\Users\\GREEN\\AppData\\Local\\Continuum\\anaconda3\\lib\\site-packages\\ipykernel_launcher.py:51: RuntimeWarning: invalid value encountered in arccos\n"
     ]
    },
    {
     "name": "stderr",
     "output_type": "stream",
     "text": [
      "C:\\Users\\GREEN\\AppData\\Local\\Continuum\\anaconda3\\lib\\site-packages\\ipykernel_launcher.py:51: RuntimeWarning: invalid value encountered in arccos\n",
      "C:\\Users\\GREEN\\AppData\\Local\\Continuum\\anaconda3\\lib\\site-packages\\ipykernel_launcher.py:51: RuntimeWarning: invalid value encountered in arccos\n",
      "C:\\Users\\GREEN\\AppData\\Local\\Continuum\\anaconda3\\lib\\site-packages\\ipykernel_launcher.py:51: RuntimeWarning: invalid value encountered in arccos\n",
      "C:\\Users\\GREEN\\AppData\\Local\\Continuum\\anaconda3\\lib\\site-packages\\ipykernel_launcher.py:51: RuntimeWarning: invalid value encountered in arccos\n",
      "C:\\Users\\GREEN\\AppData\\Local\\Continuum\\anaconda3\\lib\\site-packages\\ipykernel_launcher.py:51: RuntimeWarning: invalid value encountered in arccos\n",
      "C:\\Users\\GREEN\\AppData\\Local\\Continuum\\anaconda3\\lib\\site-packages\\ipykernel_launcher.py:51: RuntimeWarning: invalid value encountered in arccos\n",
      "C:\\Users\\GREEN\\AppData\\Local\\Continuum\\anaconda3\\lib\\site-packages\\ipykernel_launcher.py:51: RuntimeWarning: invalid value encountered in arccos\n",
      "C:\\Users\\GREEN\\AppData\\Local\\Continuum\\anaconda3\\lib\\site-packages\\ipykernel_launcher.py:51: RuntimeWarning: invalid value encountered in arccos\n",
      "C:\\Users\\GREEN\\AppData\\Local\\Continuum\\anaconda3\\lib\\site-packages\\ipykernel_launcher.py:51: RuntimeWarning: invalid value encountered in arccos\n",
      "C:\\Users\\GREEN\\AppData\\Local\\Continuum\\anaconda3\\lib\\site-packages\\ipykernel_launcher.py:51: RuntimeWarning: invalid value encountered in arccos\n",
      "C:\\Users\\GREEN\\AppData\\Local\\Continuum\\anaconda3\\lib\\site-packages\\ipykernel_launcher.py:51: RuntimeWarning: invalid value encountered in arccos\n",
      "C:\\Users\\GREEN\\AppData\\Local\\Continuum\\anaconda3\\lib\\site-packages\\ipykernel_launcher.py:51: RuntimeWarning: invalid value encountered in arccos\n",
      "C:\\Users\\GREEN\\AppData\\Local\\Continuum\\anaconda3\\lib\\site-packages\\ipykernel_launcher.py:51: RuntimeWarning: invalid value encountered in arccos\n",
      "C:\\Users\\GREEN\\AppData\\Local\\Continuum\\anaconda3\\lib\\site-packages\\ipykernel_launcher.py:51: RuntimeWarning: invalid value encountered in arccos\n",
      "C:\\Users\\GREEN\\AppData\\Local\\Continuum\\anaconda3\\lib\\site-packages\\ipykernel_launcher.py:51: RuntimeWarning: invalid value encountered in arccos\n",
      "C:\\Users\\GREEN\\AppData\\Local\\Continuum\\anaconda3\\lib\\site-packages\\ipykernel_launcher.py:51: RuntimeWarning: invalid value encountered in arccos\n",
      "C:\\Users\\GREEN\\AppData\\Local\\Continuum\\anaconda3\\lib\\site-packages\\ipykernel_launcher.py:51: RuntimeWarning: invalid value encountered in arccos\n",
      "C:\\Users\\GREEN\\AppData\\Local\\Continuum\\anaconda3\\lib\\site-packages\\ipykernel_launcher.py:51: RuntimeWarning: invalid value encountered in arccos\n",
      "C:\\Users\\GREEN\\AppData\\Local\\Continuum\\anaconda3\\lib\\site-packages\\ipykernel_launcher.py:51: RuntimeWarning: invalid value encountered in arccos\n",
      "C:\\Users\\GREEN\\AppData\\Local\\Continuum\\anaconda3\\lib\\site-packages\\ipykernel_launcher.py:51: RuntimeWarning: invalid value encountered in arccos\n",
      "C:\\Users\\GREEN\\AppData\\Local\\Continuum\\anaconda3\\lib\\site-packages\\ipykernel_launcher.py:51: RuntimeWarning: invalid value encountered in arccos\n",
      "C:\\Users\\GREEN\\AppData\\Local\\Continuum\\anaconda3\\lib\\site-packages\\ipykernel_launcher.py:51: RuntimeWarning: invalid value encountered in arccos\n",
      "C:\\Users\\GREEN\\AppData\\Local\\Continuum\\anaconda3\\lib\\site-packages\\ipykernel_launcher.py:51: RuntimeWarning: invalid value encountered in arccos\n",
      "C:\\Users\\GREEN\\AppData\\Local\\Continuum\\anaconda3\\lib\\site-packages\\ipykernel_launcher.py:51: RuntimeWarning: invalid value encountered in arccos\n",
      "C:\\Users\\GREEN\\AppData\\Local\\Continuum\\anaconda3\\lib\\site-packages\\ipykernel_launcher.py:51: RuntimeWarning: invalid value encountered in arccos\n",
      "C:\\Users\\GREEN\\AppData\\Local\\Continuum\\anaconda3\\lib\\site-packages\\ipykernel_launcher.py:51: RuntimeWarning: invalid value encountered in arccos\n",
      "C:\\Users\\GREEN\\AppData\\Local\\Continuum\\anaconda3\\lib\\site-packages\\ipykernel_launcher.py:51: RuntimeWarning: invalid value encountered in arccos\n",
      "C:\\Users\\GREEN\\AppData\\Local\\Continuum\\anaconda3\\lib\\site-packages\\ipykernel_launcher.py:51: RuntimeWarning: invalid value encountered in arccos\n",
      "C:\\Users\\GREEN\\AppData\\Local\\Continuum\\anaconda3\\lib\\site-packages\\ipykernel_launcher.py:51: RuntimeWarning: invalid value encountered in arccos\n",
      "C:\\Users\\GREEN\\AppData\\Local\\Continuum\\anaconda3\\lib\\site-packages\\ipykernel_launcher.py:51: RuntimeWarning: invalid value encountered in arccos\n",
      "C:\\Users\\GREEN\\AppData\\Local\\Continuum\\anaconda3\\lib\\site-packages\\ipykernel_launcher.py:51: RuntimeWarning: invalid value encountered in arccos\n",
      "C:\\Users\\GREEN\\AppData\\Local\\Continuum\\anaconda3\\lib\\site-packages\\ipykernel_launcher.py:51: RuntimeWarning: invalid value encountered in arccos\n",
      "C:\\Users\\GREEN\\AppData\\Local\\Continuum\\anaconda3\\lib\\site-packages\\ipykernel_launcher.py:51: RuntimeWarning: invalid value encountered in arccos\n",
      "C:\\Users\\GREEN\\AppData\\Local\\Continuum\\anaconda3\\lib\\site-packages\\ipykernel_launcher.py:51: RuntimeWarning: invalid value encountered in arccos\n",
      "C:\\Users\\GREEN\\AppData\\Local\\Continuum\\anaconda3\\lib\\site-packages\\ipykernel_launcher.py:51: RuntimeWarning: invalid value encountered in arccos\n",
      "C:\\Users\\GREEN\\AppData\\Local\\Continuum\\anaconda3\\lib\\site-packages\\ipykernel_launcher.py:51: RuntimeWarning: invalid value encountered in arccos\n",
      "C:\\Users\\GREEN\\AppData\\Local\\Continuum\\anaconda3\\lib\\site-packages\\ipykernel_launcher.py:51: RuntimeWarning: invalid value encountered in arccos\n",
      "C:\\Users\\GREEN\\AppData\\Local\\Continuum\\anaconda3\\lib\\site-packages\\ipykernel_launcher.py:51: RuntimeWarning: invalid value encountered in arccos\n",
      "C:\\Users\\GREEN\\AppData\\Local\\Continuum\\anaconda3\\lib\\site-packages\\ipykernel_launcher.py:51: RuntimeWarning: invalid value encountered in arccos\n",
      "C:\\Users\\GREEN\\AppData\\Local\\Continuum\\anaconda3\\lib\\site-packages\\ipykernel_launcher.py:51: RuntimeWarning: invalid value encountered in arccos\n",
      "C:\\Users\\GREEN\\AppData\\Local\\Continuum\\anaconda3\\lib\\site-packages\\ipykernel_launcher.py:51: RuntimeWarning: invalid value encountered in arccos\n",
      "C:\\Users\\GREEN\\AppData\\Local\\Continuum\\anaconda3\\lib\\site-packages\\ipykernel_launcher.py:51: RuntimeWarning: invalid value encountered in arccos\n",
      "C:\\Users\\GREEN\\AppData\\Local\\Continuum\\anaconda3\\lib\\site-packages\\ipykernel_launcher.py:51: RuntimeWarning: invalid value encountered in arccos\n",
      "C:\\Users\\GREEN\\AppData\\Local\\Continuum\\anaconda3\\lib\\site-packages\\ipykernel_launcher.py:51: RuntimeWarning: invalid value encountered in arccos\n",
      "C:\\Users\\GREEN\\AppData\\Local\\Continuum\\anaconda3\\lib\\site-packages\\ipykernel_launcher.py:51: RuntimeWarning: invalid value encountered in arccos\n",
      "C:\\Users\\GREEN\\AppData\\Local\\Continuum\\anaconda3\\lib\\site-packages\\ipykernel_launcher.py:51: RuntimeWarning: invalid value encountered in arccos\n",
      "C:\\Users\\GREEN\\AppData\\Local\\Continuum\\anaconda3\\lib\\site-packages\\ipykernel_launcher.py:51: RuntimeWarning: invalid value encountered in arccos\n",
      "C:\\Users\\GREEN\\AppData\\Local\\Continuum\\anaconda3\\lib\\site-packages\\ipykernel_launcher.py:51: RuntimeWarning: invalid value encountered in arccos\n",
      "C:\\Users\\GREEN\\AppData\\Local\\Continuum\\anaconda3\\lib\\site-packages\\ipykernel_launcher.py:51: RuntimeWarning: invalid value encountered in arccos\n",
      "C:\\Users\\GREEN\\AppData\\Local\\Continuum\\anaconda3\\lib\\site-packages\\ipykernel_launcher.py:51: RuntimeWarning: invalid value encountered in arccos\n",
      "C:\\Users\\GREEN\\AppData\\Local\\Continuum\\anaconda3\\lib\\site-packages\\ipykernel_launcher.py:51: RuntimeWarning: invalid value encountered in arccos\n",
      "C:\\Users\\GREEN\\AppData\\Local\\Continuum\\anaconda3\\lib\\site-packages\\ipykernel_launcher.py:51: RuntimeWarning: invalid value encountered in arccos\n",
      "C:\\Users\\GREEN\\AppData\\Local\\Continuum\\anaconda3\\lib\\site-packages\\ipykernel_launcher.py:51: RuntimeWarning: invalid value encountered in arccos\n",
      "C:\\Users\\GREEN\\AppData\\Local\\Continuum\\anaconda3\\lib\\site-packages\\ipykernel_launcher.py:51: RuntimeWarning: invalid value encountered in arccos\n",
      "C:\\Users\\GREEN\\AppData\\Local\\Continuum\\anaconda3\\lib\\site-packages\\ipykernel_launcher.py:51: RuntimeWarning: invalid value encountered in arccos\n",
      "C:\\Users\\GREEN\\AppData\\Local\\Continuum\\anaconda3\\lib\\site-packages\\ipykernel_launcher.py:51: RuntimeWarning: invalid value encountered in arccos\n",
      "C:\\Users\\GREEN\\AppData\\Local\\Continuum\\anaconda3\\lib\\site-packages\\ipykernel_launcher.py:51: RuntimeWarning: invalid value encountered in arccos\n",
      "C:\\Users\\GREEN\\AppData\\Local\\Continuum\\anaconda3\\lib\\site-packages\\ipykernel_launcher.py:51: RuntimeWarning: invalid value encountered in arccos\n",
      "C:\\Users\\GREEN\\AppData\\Local\\Continuum\\anaconda3\\lib\\site-packages\\ipykernel_launcher.py:51: RuntimeWarning: invalid value encountered in arccos\n"
     ]
    },
    {
     "name": "stderr",
     "output_type": "stream",
     "text": [
      "C:\\Users\\GREEN\\AppData\\Local\\Continuum\\anaconda3\\lib\\site-packages\\ipykernel_launcher.py:51: RuntimeWarning: invalid value encountered in arccos\n",
      "C:\\Users\\GREEN\\AppData\\Local\\Continuum\\anaconda3\\lib\\site-packages\\ipykernel_launcher.py:51: RuntimeWarning: invalid value encountered in arccos\n",
      "C:\\Users\\GREEN\\AppData\\Local\\Continuum\\anaconda3\\lib\\site-packages\\ipykernel_launcher.py:51: RuntimeWarning: invalid value encountered in arccos\n",
      "C:\\Users\\GREEN\\AppData\\Local\\Continuum\\anaconda3\\lib\\site-packages\\ipykernel_launcher.py:51: RuntimeWarning: invalid value encountered in arccos\n",
      "C:\\Users\\GREEN\\AppData\\Local\\Continuum\\anaconda3\\lib\\site-packages\\ipykernel_launcher.py:51: RuntimeWarning: invalid value encountered in arccos\n",
      "C:\\Users\\GREEN\\AppData\\Local\\Continuum\\anaconda3\\lib\\site-packages\\ipykernel_launcher.py:51: RuntimeWarning: invalid value encountered in arccos\n",
      "C:\\Users\\GREEN\\AppData\\Local\\Continuum\\anaconda3\\lib\\site-packages\\ipykernel_launcher.py:51: RuntimeWarning: invalid value encountered in arccos\n",
      "C:\\Users\\GREEN\\AppData\\Local\\Continuum\\anaconda3\\lib\\site-packages\\ipykernel_launcher.py:51: RuntimeWarning: invalid value encountered in arccos\n",
      "C:\\Users\\GREEN\\AppData\\Local\\Continuum\\anaconda3\\lib\\site-packages\\ipykernel_launcher.py:51: RuntimeWarning: invalid value encountered in arccos\n",
      "C:\\Users\\GREEN\\AppData\\Local\\Continuum\\anaconda3\\lib\\site-packages\\ipykernel_launcher.py:51: RuntimeWarning: invalid value encountered in arccos\n",
      "C:\\Users\\GREEN\\AppData\\Local\\Continuum\\anaconda3\\lib\\site-packages\\ipykernel_launcher.py:51: RuntimeWarning: invalid value encountered in arccos\n",
      "C:\\Users\\GREEN\\AppData\\Local\\Continuum\\anaconda3\\lib\\site-packages\\ipykernel_launcher.py:51: RuntimeWarning: invalid value encountered in arccos\n",
      "C:\\Users\\GREEN\\AppData\\Local\\Continuum\\anaconda3\\lib\\site-packages\\ipykernel_launcher.py:51: RuntimeWarning: invalid value encountered in arccos\n",
      "C:\\Users\\GREEN\\AppData\\Local\\Continuum\\anaconda3\\lib\\site-packages\\ipykernel_launcher.py:51: RuntimeWarning: invalid value encountered in arccos\n",
      "C:\\Users\\GREEN\\AppData\\Local\\Continuum\\anaconda3\\lib\\site-packages\\ipykernel_launcher.py:51: RuntimeWarning: invalid value encountered in arccos\n",
      "C:\\Users\\GREEN\\AppData\\Local\\Continuum\\anaconda3\\lib\\site-packages\\ipykernel_launcher.py:51: RuntimeWarning: invalid value encountered in arccos\n",
      "C:\\Users\\GREEN\\AppData\\Local\\Continuum\\anaconda3\\lib\\site-packages\\ipykernel_launcher.py:51: RuntimeWarning: invalid value encountered in arccos\n",
      "C:\\Users\\GREEN\\AppData\\Local\\Continuum\\anaconda3\\lib\\site-packages\\ipykernel_launcher.py:51: RuntimeWarning: invalid value encountered in arccos\n",
      "C:\\Users\\GREEN\\AppData\\Local\\Continuum\\anaconda3\\lib\\site-packages\\ipykernel_launcher.py:51: RuntimeWarning: invalid value encountered in arccos\n",
      "C:\\Users\\GREEN\\AppData\\Local\\Continuum\\anaconda3\\lib\\site-packages\\ipykernel_launcher.py:51: RuntimeWarning: invalid value encountered in arccos\n",
      "C:\\Users\\GREEN\\AppData\\Local\\Continuum\\anaconda3\\lib\\site-packages\\ipykernel_launcher.py:51: RuntimeWarning: invalid value encountered in arccos\n",
      "C:\\Users\\GREEN\\AppData\\Local\\Continuum\\anaconda3\\lib\\site-packages\\ipykernel_launcher.py:51: RuntimeWarning: invalid value encountered in arccos\n",
      "C:\\Users\\GREEN\\AppData\\Local\\Continuum\\anaconda3\\lib\\site-packages\\ipykernel_launcher.py:51: RuntimeWarning: invalid value encountered in arccos\n",
      "C:\\Users\\GREEN\\AppData\\Local\\Continuum\\anaconda3\\lib\\site-packages\\ipykernel_launcher.py:51: RuntimeWarning: invalid value encountered in arccos\n",
      "C:\\Users\\GREEN\\AppData\\Local\\Continuum\\anaconda3\\lib\\site-packages\\ipykernel_launcher.py:51: RuntimeWarning: invalid value encountered in arccos\n",
      "C:\\Users\\GREEN\\AppData\\Local\\Continuum\\anaconda3\\lib\\site-packages\\ipykernel_launcher.py:51: RuntimeWarning: invalid value encountered in arccos\n",
      "C:\\Users\\GREEN\\AppData\\Local\\Continuum\\anaconda3\\lib\\site-packages\\ipykernel_launcher.py:51: RuntimeWarning: invalid value encountered in arccos\n",
      "C:\\Users\\GREEN\\AppData\\Local\\Continuum\\anaconda3\\lib\\site-packages\\ipykernel_launcher.py:51: RuntimeWarning: invalid value encountered in arccos\n",
      "C:\\Users\\GREEN\\AppData\\Local\\Continuum\\anaconda3\\lib\\site-packages\\ipykernel_launcher.py:51: RuntimeWarning: invalid value encountered in arccos\n",
      "C:\\Users\\GREEN\\AppData\\Local\\Continuum\\anaconda3\\lib\\site-packages\\ipykernel_launcher.py:51: RuntimeWarning: invalid value encountered in arccos\n",
      "C:\\Users\\GREEN\\AppData\\Local\\Continuum\\anaconda3\\lib\\site-packages\\ipykernel_launcher.py:51: RuntimeWarning: invalid value encountered in arccos\n",
      "C:\\Users\\GREEN\\AppData\\Local\\Continuum\\anaconda3\\lib\\site-packages\\ipykernel_launcher.py:51: RuntimeWarning: invalid value encountered in arccos\n",
      "C:\\Users\\GREEN\\AppData\\Local\\Continuum\\anaconda3\\lib\\site-packages\\ipykernel_launcher.py:51: RuntimeWarning: invalid value encountered in arccos\n",
      "C:\\Users\\GREEN\\AppData\\Local\\Continuum\\anaconda3\\lib\\site-packages\\ipykernel_launcher.py:51: RuntimeWarning: invalid value encountered in arccos\n",
      "C:\\Users\\GREEN\\AppData\\Local\\Continuum\\anaconda3\\lib\\site-packages\\ipykernel_launcher.py:51: RuntimeWarning: invalid value encountered in arccos\n",
      "C:\\Users\\GREEN\\AppData\\Local\\Continuum\\anaconda3\\lib\\site-packages\\ipykernel_launcher.py:51: RuntimeWarning: invalid value encountered in arccos\n",
      "C:\\Users\\GREEN\\AppData\\Local\\Continuum\\anaconda3\\lib\\site-packages\\ipykernel_launcher.py:51: RuntimeWarning: invalid value encountered in arccos\n",
      "C:\\Users\\GREEN\\AppData\\Local\\Continuum\\anaconda3\\lib\\site-packages\\ipykernel_launcher.py:51: RuntimeWarning: invalid value encountered in arccos\n",
      "C:\\Users\\GREEN\\AppData\\Local\\Continuum\\anaconda3\\lib\\site-packages\\ipykernel_launcher.py:51: RuntimeWarning: invalid value encountered in arccos\n",
      "C:\\Users\\GREEN\\AppData\\Local\\Continuum\\anaconda3\\lib\\site-packages\\ipykernel_launcher.py:51: RuntimeWarning: invalid value encountered in arccos\n",
      "C:\\Users\\GREEN\\AppData\\Local\\Continuum\\anaconda3\\lib\\site-packages\\ipykernel_launcher.py:51: RuntimeWarning: invalid value encountered in arccos\n",
      "C:\\Users\\GREEN\\AppData\\Local\\Continuum\\anaconda3\\lib\\site-packages\\ipykernel_launcher.py:51: RuntimeWarning: invalid value encountered in arccos\n",
      "C:\\Users\\GREEN\\AppData\\Local\\Continuum\\anaconda3\\lib\\site-packages\\ipykernel_launcher.py:51: RuntimeWarning: invalid value encountered in arccos\n",
      "C:\\Users\\GREEN\\AppData\\Local\\Continuum\\anaconda3\\lib\\site-packages\\ipykernel_launcher.py:51: RuntimeWarning: invalid value encountered in arccos\n",
      "C:\\Users\\GREEN\\AppData\\Local\\Continuum\\anaconda3\\lib\\site-packages\\ipykernel_launcher.py:51: RuntimeWarning: invalid value encountered in arccos\n",
      "C:\\Users\\GREEN\\AppData\\Local\\Continuum\\anaconda3\\lib\\site-packages\\ipykernel_launcher.py:51: RuntimeWarning: invalid value encountered in arccos\n",
      "C:\\Users\\GREEN\\AppData\\Local\\Continuum\\anaconda3\\lib\\site-packages\\ipykernel_launcher.py:51: RuntimeWarning: invalid value encountered in arccos\n",
      "C:\\Users\\GREEN\\AppData\\Local\\Continuum\\anaconda3\\lib\\site-packages\\ipykernel_launcher.py:51: RuntimeWarning: invalid value encountered in arccos\n",
      "C:\\Users\\GREEN\\AppData\\Local\\Continuum\\anaconda3\\lib\\site-packages\\ipykernel_launcher.py:51: RuntimeWarning: invalid value encountered in arccos\n",
      "C:\\Users\\GREEN\\AppData\\Local\\Continuum\\anaconda3\\lib\\site-packages\\ipykernel_launcher.py:51: RuntimeWarning: invalid value encountered in arccos\n",
      "C:\\Users\\GREEN\\AppData\\Local\\Continuum\\anaconda3\\lib\\site-packages\\ipykernel_launcher.py:51: RuntimeWarning: invalid value encountered in arccos\n",
      "C:\\Users\\GREEN\\AppData\\Local\\Continuum\\anaconda3\\lib\\site-packages\\ipykernel_launcher.py:51: RuntimeWarning: invalid value encountered in arccos\n",
      "C:\\Users\\GREEN\\AppData\\Local\\Continuum\\anaconda3\\lib\\site-packages\\ipykernel_launcher.py:51: RuntimeWarning: invalid value encountered in arccos\n",
      "C:\\Users\\GREEN\\AppData\\Local\\Continuum\\anaconda3\\lib\\site-packages\\ipykernel_launcher.py:51: RuntimeWarning: invalid value encountered in arccos\n",
      "C:\\Users\\GREEN\\AppData\\Local\\Continuum\\anaconda3\\lib\\site-packages\\ipykernel_launcher.py:51: RuntimeWarning: invalid value encountered in arccos\n",
      "C:\\Users\\GREEN\\AppData\\Local\\Continuum\\anaconda3\\lib\\site-packages\\ipykernel_launcher.py:51: RuntimeWarning: invalid value encountered in arccos\n",
      "C:\\Users\\GREEN\\AppData\\Local\\Continuum\\anaconda3\\lib\\site-packages\\ipykernel_launcher.py:51: RuntimeWarning: invalid value encountered in arccos\n",
      "C:\\Users\\GREEN\\AppData\\Local\\Continuum\\anaconda3\\lib\\site-packages\\ipykernel_launcher.py:51: RuntimeWarning: invalid value encountered in arccos\n"
     ]
    },
    {
     "name": "stderr",
     "output_type": "stream",
     "text": [
      "C:\\Users\\GREEN\\AppData\\Local\\Continuum\\anaconda3\\lib\\site-packages\\ipykernel_launcher.py:51: RuntimeWarning: invalid value encountered in arccos\n",
      "C:\\Users\\GREEN\\AppData\\Local\\Continuum\\anaconda3\\lib\\site-packages\\ipykernel_launcher.py:51: RuntimeWarning: invalid value encountered in arccos\n",
      "C:\\Users\\GREEN\\AppData\\Local\\Continuum\\anaconda3\\lib\\site-packages\\ipykernel_launcher.py:51: RuntimeWarning: invalid value encountered in arccos\n",
      "C:\\Users\\GREEN\\AppData\\Local\\Continuum\\anaconda3\\lib\\site-packages\\ipykernel_launcher.py:51: RuntimeWarning: invalid value encountered in arccos\n",
      "C:\\Users\\GREEN\\AppData\\Local\\Continuum\\anaconda3\\lib\\site-packages\\ipykernel_launcher.py:51: RuntimeWarning: invalid value encountered in arccos\n",
      "C:\\Users\\GREEN\\AppData\\Local\\Continuum\\anaconda3\\lib\\site-packages\\ipykernel_launcher.py:51: RuntimeWarning: invalid value encountered in arccos\n",
      "C:\\Users\\GREEN\\AppData\\Local\\Continuum\\anaconda3\\lib\\site-packages\\ipykernel_launcher.py:51: RuntimeWarning: invalid value encountered in arccos\n",
      "C:\\Users\\GREEN\\AppData\\Local\\Continuum\\anaconda3\\lib\\site-packages\\ipykernel_launcher.py:51: RuntimeWarning: invalid value encountered in arccos\n",
      "C:\\Users\\GREEN\\AppData\\Local\\Continuum\\anaconda3\\lib\\site-packages\\ipykernel_launcher.py:51: RuntimeWarning: invalid value encountered in arccos\n",
      "C:\\Users\\GREEN\\AppData\\Local\\Continuum\\anaconda3\\lib\\site-packages\\ipykernel_launcher.py:51: RuntimeWarning: invalid value encountered in arccos\n",
      "C:\\Users\\GREEN\\AppData\\Local\\Continuum\\anaconda3\\lib\\site-packages\\ipykernel_launcher.py:51: RuntimeWarning: invalid value encountered in arccos\n",
      "C:\\Users\\GREEN\\AppData\\Local\\Continuum\\anaconda3\\lib\\site-packages\\ipykernel_launcher.py:51: RuntimeWarning: invalid value encountered in arccos\n",
      "C:\\Users\\GREEN\\AppData\\Local\\Continuum\\anaconda3\\lib\\site-packages\\ipykernel_launcher.py:51: RuntimeWarning: invalid value encountered in arccos\n",
      "C:\\Users\\GREEN\\AppData\\Local\\Continuum\\anaconda3\\lib\\site-packages\\ipykernel_launcher.py:51: RuntimeWarning: invalid value encountered in arccos\n",
      "C:\\Users\\GREEN\\AppData\\Local\\Continuum\\anaconda3\\lib\\site-packages\\ipykernel_launcher.py:51: RuntimeWarning: invalid value encountered in arccos\n",
      "C:\\Users\\GREEN\\AppData\\Local\\Continuum\\anaconda3\\lib\\site-packages\\ipykernel_launcher.py:51: RuntimeWarning: invalid value encountered in arccos\n",
      "C:\\Users\\GREEN\\AppData\\Local\\Continuum\\anaconda3\\lib\\site-packages\\ipykernel_launcher.py:51: RuntimeWarning: invalid value encountered in arccos\n",
      "C:\\Users\\GREEN\\AppData\\Local\\Continuum\\anaconda3\\lib\\site-packages\\ipykernel_launcher.py:51: RuntimeWarning: invalid value encountered in arccos\n",
      "C:\\Users\\GREEN\\AppData\\Local\\Continuum\\anaconda3\\lib\\site-packages\\ipykernel_launcher.py:51: RuntimeWarning: invalid value encountered in arccos\n",
      "C:\\Users\\GREEN\\AppData\\Local\\Continuum\\anaconda3\\lib\\site-packages\\ipykernel_launcher.py:51: RuntimeWarning: invalid value encountered in arccos\n",
      "C:\\Users\\GREEN\\AppData\\Local\\Continuum\\anaconda3\\lib\\site-packages\\ipykernel_launcher.py:51: RuntimeWarning: invalid value encountered in arccos\n",
      "C:\\Users\\GREEN\\AppData\\Local\\Continuum\\anaconda3\\lib\\site-packages\\ipykernel_launcher.py:51: RuntimeWarning: invalid value encountered in arccos\n",
      "C:\\Users\\GREEN\\AppData\\Local\\Continuum\\anaconda3\\lib\\site-packages\\ipykernel_launcher.py:51: RuntimeWarning: invalid value encountered in arccos\n",
      "C:\\Users\\GREEN\\AppData\\Local\\Continuum\\anaconda3\\lib\\site-packages\\ipykernel_launcher.py:51: RuntimeWarning: invalid value encountered in arccos\n",
      "C:\\Users\\GREEN\\AppData\\Local\\Continuum\\anaconda3\\lib\\site-packages\\ipykernel_launcher.py:51: RuntimeWarning: invalid value encountered in arccos\n",
      "C:\\Users\\GREEN\\AppData\\Local\\Continuum\\anaconda3\\lib\\site-packages\\ipykernel_launcher.py:51: RuntimeWarning: invalid value encountered in arccos\n",
      "C:\\Users\\GREEN\\AppData\\Local\\Continuum\\anaconda3\\lib\\site-packages\\ipykernel_launcher.py:51: RuntimeWarning: invalid value encountered in arccos\n",
      "C:\\Users\\GREEN\\AppData\\Local\\Continuum\\anaconda3\\lib\\site-packages\\ipykernel_launcher.py:51: RuntimeWarning: invalid value encountered in arccos\n",
      "C:\\Users\\GREEN\\AppData\\Local\\Continuum\\anaconda3\\lib\\site-packages\\ipykernel_launcher.py:51: RuntimeWarning: invalid value encountered in arccos\n",
      "C:\\Users\\GREEN\\AppData\\Local\\Continuum\\anaconda3\\lib\\site-packages\\ipykernel_launcher.py:51: RuntimeWarning: invalid value encountered in arccos\n",
      "C:\\Users\\GREEN\\AppData\\Local\\Continuum\\anaconda3\\lib\\site-packages\\ipykernel_launcher.py:51: RuntimeWarning: invalid value encountered in arccos\n",
      "C:\\Users\\GREEN\\AppData\\Local\\Continuum\\anaconda3\\lib\\site-packages\\ipykernel_launcher.py:51: RuntimeWarning: invalid value encountered in arccos\n",
      "C:\\Users\\GREEN\\AppData\\Local\\Continuum\\anaconda3\\lib\\site-packages\\ipykernel_launcher.py:51: RuntimeWarning: invalid value encountered in arccos\n",
      "C:\\Users\\GREEN\\AppData\\Local\\Continuum\\anaconda3\\lib\\site-packages\\ipykernel_launcher.py:51: RuntimeWarning: invalid value encountered in arccos\n",
      "C:\\Users\\GREEN\\AppData\\Local\\Continuum\\anaconda3\\lib\\site-packages\\ipykernel_launcher.py:51: RuntimeWarning: invalid value encountered in arccos\n",
      "C:\\Users\\GREEN\\AppData\\Local\\Continuum\\anaconda3\\lib\\site-packages\\ipykernel_launcher.py:51: RuntimeWarning: invalid value encountered in arccos\n",
      "C:\\Users\\GREEN\\AppData\\Local\\Continuum\\anaconda3\\lib\\site-packages\\ipykernel_launcher.py:51: RuntimeWarning: invalid value encountered in arccos\n",
      "C:\\Users\\GREEN\\AppData\\Local\\Continuum\\anaconda3\\lib\\site-packages\\ipykernel_launcher.py:51: RuntimeWarning: invalid value encountered in arccos\n",
      "C:\\Users\\GREEN\\AppData\\Local\\Continuum\\anaconda3\\lib\\site-packages\\ipykernel_launcher.py:51: RuntimeWarning: invalid value encountered in arccos\n",
      "C:\\Users\\GREEN\\AppData\\Local\\Continuum\\anaconda3\\lib\\site-packages\\ipykernel_launcher.py:51: RuntimeWarning: invalid value encountered in arccos\n",
      "C:\\Users\\GREEN\\AppData\\Local\\Continuum\\anaconda3\\lib\\site-packages\\ipykernel_launcher.py:51: RuntimeWarning: invalid value encountered in arccos\n",
      "C:\\Users\\GREEN\\AppData\\Local\\Continuum\\anaconda3\\lib\\site-packages\\ipykernel_launcher.py:51: RuntimeWarning: invalid value encountered in arccos\n",
      "C:\\Users\\GREEN\\AppData\\Local\\Continuum\\anaconda3\\lib\\site-packages\\ipykernel_launcher.py:51: RuntimeWarning: invalid value encountered in arccos\n",
      "C:\\Users\\GREEN\\AppData\\Local\\Continuum\\anaconda3\\lib\\site-packages\\ipykernel_launcher.py:51: RuntimeWarning: invalid value encountered in arccos\n",
      "C:\\Users\\GREEN\\AppData\\Local\\Continuum\\anaconda3\\lib\\site-packages\\ipykernel_launcher.py:51: RuntimeWarning: invalid value encountered in arccos\n",
      "C:\\Users\\GREEN\\AppData\\Local\\Continuum\\anaconda3\\lib\\site-packages\\ipykernel_launcher.py:51: RuntimeWarning: invalid value encountered in arccos\n",
      "C:\\Users\\GREEN\\AppData\\Local\\Continuum\\anaconda3\\lib\\site-packages\\ipykernel_launcher.py:51: RuntimeWarning: invalid value encountered in arccos\n",
      "C:\\Users\\GREEN\\AppData\\Local\\Continuum\\anaconda3\\lib\\site-packages\\ipykernel_launcher.py:51: RuntimeWarning: invalid value encountered in arccos\n",
      "C:\\Users\\GREEN\\AppData\\Local\\Continuum\\anaconda3\\lib\\site-packages\\ipykernel_launcher.py:51: RuntimeWarning: invalid value encountered in arccos\n",
      "C:\\Users\\GREEN\\AppData\\Local\\Continuum\\anaconda3\\lib\\site-packages\\ipykernel_launcher.py:51: RuntimeWarning: invalid value encountered in arccos\n",
      "C:\\Users\\GREEN\\AppData\\Local\\Continuum\\anaconda3\\lib\\site-packages\\ipykernel_launcher.py:51: RuntimeWarning: invalid value encountered in arccos\n",
      "C:\\Users\\GREEN\\AppData\\Local\\Continuum\\anaconda3\\lib\\site-packages\\ipykernel_launcher.py:51: RuntimeWarning: invalid value encountered in arccos\n",
      "C:\\Users\\GREEN\\AppData\\Local\\Continuum\\anaconda3\\lib\\site-packages\\ipykernel_launcher.py:51: RuntimeWarning: invalid value encountered in arccos\n",
      "C:\\Users\\GREEN\\AppData\\Local\\Continuum\\anaconda3\\lib\\site-packages\\ipykernel_launcher.py:51: RuntimeWarning: invalid value encountered in arccos\n",
      "C:\\Users\\GREEN\\AppData\\Local\\Continuum\\anaconda3\\lib\\site-packages\\ipykernel_launcher.py:51: RuntimeWarning: invalid value encountered in arccos\n",
      "C:\\Users\\GREEN\\AppData\\Local\\Continuum\\anaconda3\\lib\\site-packages\\ipykernel_launcher.py:51: RuntimeWarning: invalid value encountered in arccos\n",
      "C:\\Users\\GREEN\\AppData\\Local\\Continuum\\anaconda3\\lib\\site-packages\\ipykernel_launcher.py:51: RuntimeWarning: invalid value encountered in arccos\n"
     ]
    },
    {
     "name": "stderr",
     "output_type": "stream",
     "text": [
      "C:\\Users\\GREEN\\AppData\\Local\\Continuum\\anaconda3\\lib\\site-packages\\ipykernel_launcher.py:51: RuntimeWarning: invalid value encountered in arccos\n",
      "C:\\Users\\GREEN\\AppData\\Local\\Continuum\\anaconda3\\lib\\site-packages\\ipykernel_launcher.py:51: RuntimeWarning: invalid value encountered in arccos\n",
      "C:\\Users\\GREEN\\AppData\\Local\\Continuum\\anaconda3\\lib\\site-packages\\ipykernel_launcher.py:51: RuntimeWarning: invalid value encountered in arccos\n",
      "C:\\Users\\GREEN\\AppData\\Local\\Continuum\\anaconda3\\lib\\site-packages\\ipykernel_launcher.py:51: RuntimeWarning: invalid value encountered in arccos\n",
      "C:\\Users\\GREEN\\AppData\\Local\\Continuum\\anaconda3\\lib\\site-packages\\ipykernel_launcher.py:51: RuntimeWarning: invalid value encountered in arccos\n",
      "C:\\Users\\GREEN\\AppData\\Local\\Continuum\\anaconda3\\lib\\site-packages\\ipykernel_launcher.py:51: RuntimeWarning: invalid value encountered in arccos\n",
      "C:\\Users\\GREEN\\AppData\\Local\\Continuum\\anaconda3\\lib\\site-packages\\ipykernel_launcher.py:51: RuntimeWarning: invalid value encountered in arccos\n",
      "C:\\Users\\GREEN\\AppData\\Local\\Continuum\\anaconda3\\lib\\site-packages\\ipykernel_launcher.py:51: RuntimeWarning: invalid value encountered in arccos\n",
      "C:\\Users\\GREEN\\AppData\\Local\\Continuum\\anaconda3\\lib\\site-packages\\ipykernel_launcher.py:51: RuntimeWarning: invalid value encountered in arccos\n",
      "C:\\Users\\GREEN\\AppData\\Local\\Continuum\\anaconda3\\lib\\site-packages\\ipykernel_launcher.py:51: RuntimeWarning: invalid value encountered in arccos\n",
      "C:\\Users\\GREEN\\AppData\\Local\\Continuum\\anaconda3\\lib\\site-packages\\ipykernel_launcher.py:51: RuntimeWarning: invalid value encountered in arccos\n",
      "C:\\Users\\GREEN\\AppData\\Local\\Continuum\\anaconda3\\lib\\site-packages\\ipykernel_launcher.py:51: RuntimeWarning: invalid value encountered in arccos\n",
      "C:\\Users\\GREEN\\AppData\\Local\\Continuum\\anaconda3\\lib\\site-packages\\ipykernel_launcher.py:51: RuntimeWarning: invalid value encountered in arccos\n",
      "C:\\Users\\GREEN\\AppData\\Local\\Continuum\\anaconda3\\lib\\site-packages\\ipykernel_launcher.py:51: RuntimeWarning: invalid value encountered in arccos\n",
      "C:\\Users\\GREEN\\AppData\\Local\\Continuum\\anaconda3\\lib\\site-packages\\ipykernel_launcher.py:51: RuntimeWarning: invalid value encountered in arccos\n",
      "C:\\Users\\GREEN\\AppData\\Local\\Continuum\\anaconda3\\lib\\site-packages\\ipykernel_launcher.py:51: RuntimeWarning: invalid value encountered in arccos\n",
      "C:\\Users\\GREEN\\AppData\\Local\\Continuum\\anaconda3\\lib\\site-packages\\ipykernel_launcher.py:51: RuntimeWarning: invalid value encountered in arccos\n",
      "C:\\Users\\GREEN\\AppData\\Local\\Continuum\\anaconda3\\lib\\site-packages\\ipykernel_launcher.py:51: RuntimeWarning: invalid value encountered in arccos\n",
      "C:\\Users\\GREEN\\AppData\\Local\\Continuum\\anaconda3\\lib\\site-packages\\ipykernel_launcher.py:51: RuntimeWarning: invalid value encountered in arccos\n",
      "C:\\Users\\GREEN\\AppData\\Local\\Continuum\\anaconda3\\lib\\site-packages\\ipykernel_launcher.py:51: RuntimeWarning: invalid value encountered in arccos\n",
      "C:\\Users\\GREEN\\AppData\\Local\\Continuum\\anaconda3\\lib\\site-packages\\ipykernel_launcher.py:51: RuntimeWarning: invalid value encountered in arccos\n",
      "C:\\Users\\GREEN\\AppData\\Local\\Continuum\\anaconda3\\lib\\site-packages\\ipykernel_launcher.py:51: RuntimeWarning: invalid value encountered in arccos\n",
      "C:\\Users\\GREEN\\AppData\\Local\\Continuum\\anaconda3\\lib\\site-packages\\ipykernel_launcher.py:51: RuntimeWarning: invalid value encountered in arccos\n",
      "C:\\Users\\GREEN\\AppData\\Local\\Continuum\\anaconda3\\lib\\site-packages\\ipykernel_launcher.py:51: RuntimeWarning: invalid value encountered in arccos\n",
      "C:\\Users\\GREEN\\AppData\\Local\\Continuum\\anaconda3\\lib\\site-packages\\ipykernel_launcher.py:51: RuntimeWarning: invalid value encountered in arccos\n",
      "C:\\Users\\GREEN\\AppData\\Local\\Continuum\\anaconda3\\lib\\site-packages\\ipykernel_launcher.py:51: RuntimeWarning: invalid value encountered in arccos\n",
      "C:\\Users\\GREEN\\AppData\\Local\\Continuum\\anaconda3\\lib\\site-packages\\ipykernel_launcher.py:51: RuntimeWarning: invalid value encountered in arccos\n",
      "C:\\Users\\GREEN\\AppData\\Local\\Continuum\\anaconda3\\lib\\site-packages\\ipykernel_launcher.py:51: RuntimeWarning: invalid value encountered in arccos\n",
      "C:\\Users\\GREEN\\AppData\\Local\\Continuum\\anaconda3\\lib\\site-packages\\ipykernel_launcher.py:51: RuntimeWarning: invalid value encountered in arccos\n",
      "C:\\Users\\GREEN\\AppData\\Local\\Continuum\\anaconda3\\lib\\site-packages\\ipykernel_launcher.py:51: RuntimeWarning: invalid value encountered in arccos\n",
      "C:\\Users\\GREEN\\AppData\\Local\\Continuum\\anaconda3\\lib\\site-packages\\ipykernel_launcher.py:51: RuntimeWarning: invalid value encountered in arccos\n",
      "C:\\Users\\GREEN\\AppData\\Local\\Continuum\\anaconda3\\lib\\site-packages\\ipykernel_launcher.py:51: RuntimeWarning: invalid value encountered in arccos\n",
      "C:\\Users\\GREEN\\AppData\\Local\\Continuum\\anaconda3\\lib\\site-packages\\ipykernel_launcher.py:51: RuntimeWarning: invalid value encountered in arccos\n",
      "C:\\Users\\GREEN\\AppData\\Local\\Continuum\\anaconda3\\lib\\site-packages\\ipykernel_launcher.py:51: RuntimeWarning: invalid value encountered in arccos\n",
      "C:\\Users\\GREEN\\AppData\\Local\\Continuum\\anaconda3\\lib\\site-packages\\ipykernel_launcher.py:51: RuntimeWarning: invalid value encountered in arccos\n",
      "C:\\Users\\GREEN\\AppData\\Local\\Continuum\\anaconda3\\lib\\site-packages\\ipykernel_launcher.py:51: RuntimeWarning: invalid value encountered in arccos\n",
      "C:\\Users\\GREEN\\AppData\\Local\\Continuum\\anaconda3\\lib\\site-packages\\ipykernel_launcher.py:51: RuntimeWarning: invalid value encountered in arccos\n",
      "C:\\Users\\GREEN\\AppData\\Local\\Continuum\\anaconda3\\lib\\site-packages\\ipykernel_launcher.py:51: RuntimeWarning: invalid value encountered in arccos\n",
      "C:\\Users\\GREEN\\AppData\\Local\\Continuum\\anaconda3\\lib\\site-packages\\ipykernel_launcher.py:51: RuntimeWarning: invalid value encountered in arccos\n",
      "C:\\Users\\GREEN\\AppData\\Local\\Continuum\\anaconda3\\lib\\site-packages\\ipykernel_launcher.py:51: RuntimeWarning: invalid value encountered in arccos\n",
      "C:\\Users\\GREEN\\AppData\\Local\\Continuum\\anaconda3\\lib\\site-packages\\ipykernel_launcher.py:51: RuntimeWarning: invalid value encountered in arccos\n",
      "C:\\Users\\GREEN\\AppData\\Local\\Continuum\\anaconda3\\lib\\site-packages\\ipykernel_launcher.py:51: RuntimeWarning: invalid value encountered in arccos\n",
      "C:\\Users\\GREEN\\AppData\\Local\\Continuum\\anaconda3\\lib\\site-packages\\ipykernel_launcher.py:51: RuntimeWarning: invalid value encountered in arccos\n",
      "C:\\Users\\GREEN\\AppData\\Local\\Continuum\\anaconda3\\lib\\site-packages\\ipykernel_launcher.py:51: RuntimeWarning: invalid value encountered in arccos\n",
      "C:\\Users\\GREEN\\AppData\\Local\\Continuum\\anaconda3\\lib\\site-packages\\ipykernel_launcher.py:51: RuntimeWarning: invalid value encountered in arccos\n",
      "C:\\Users\\GREEN\\AppData\\Local\\Continuum\\anaconda3\\lib\\site-packages\\ipykernel_launcher.py:51: RuntimeWarning: invalid value encountered in arccos\n",
      "C:\\Users\\GREEN\\AppData\\Local\\Continuum\\anaconda3\\lib\\site-packages\\ipykernel_launcher.py:51: RuntimeWarning: invalid value encountered in arccos\n",
      "C:\\Users\\GREEN\\AppData\\Local\\Continuum\\anaconda3\\lib\\site-packages\\ipykernel_launcher.py:51: RuntimeWarning: invalid value encountered in arccos\n",
      "C:\\Users\\GREEN\\AppData\\Local\\Continuum\\anaconda3\\lib\\site-packages\\ipykernel_launcher.py:51: RuntimeWarning: invalid value encountered in arccos\n",
      "C:\\Users\\GREEN\\AppData\\Local\\Continuum\\anaconda3\\lib\\site-packages\\ipykernel_launcher.py:51: RuntimeWarning: invalid value encountered in arccos\n",
      "C:\\Users\\GREEN\\AppData\\Local\\Continuum\\anaconda3\\lib\\site-packages\\ipykernel_launcher.py:51: RuntimeWarning: invalid value encountered in arccos\n",
      "C:\\Users\\GREEN\\AppData\\Local\\Continuum\\anaconda3\\lib\\site-packages\\ipykernel_launcher.py:51: RuntimeWarning: invalid value encountered in arccos\n",
      "C:\\Users\\GREEN\\AppData\\Local\\Continuum\\anaconda3\\lib\\site-packages\\ipykernel_launcher.py:51: RuntimeWarning: invalid value encountered in arccos\n",
      "C:\\Users\\GREEN\\AppData\\Local\\Continuum\\anaconda3\\lib\\site-packages\\ipykernel_launcher.py:51: RuntimeWarning: invalid value encountered in arccos\n",
      "C:\\Users\\GREEN\\AppData\\Local\\Continuum\\anaconda3\\lib\\site-packages\\ipykernel_launcher.py:51: RuntimeWarning: invalid value encountered in arccos\n",
      "C:\\Users\\GREEN\\AppData\\Local\\Continuum\\anaconda3\\lib\\site-packages\\ipykernel_launcher.py:51: RuntimeWarning: invalid value encountered in arccos\n",
      "C:\\Users\\GREEN\\AppData\\Local\\Continuum\\anaconda3\\lib\\site-packages\\ipykernel_launcher.py:51: RuntimeWarning: invalid value encountered in arccos\n",
      "C:\\Users\\GREEN\\AppData\\Local\\Continuum\\anaconda3\\lib\\site-packages\\ipykernel_launcher.py:51: RuntimeWarning: invalid value encountered in arccos\n",
      "C:\\Users\\GREEN\\AppData\\Local\\Continuum\\anaconda3\\lib\\site-packages\\ipykernel_launcher.py:51: RuntimeWarning: invalid value encountered in arccos\n"
     ]
    },
    {
     "name": "stderr",
     "output_type": "stream",
     "text": [
      "C:\\Users\\GREEN\\AppData\\Local\\Continuum\\anaconda3\\lib\\site-packages\\ipykernel_launcher.py:51: RuntimeWarning: invalid value encountered in arccos\n",
      "C:\\Users\\GREEN\\AppData\\Local\\Continuum\\anaconda3\\lib\\site-packages\\ipykernel_launcher.py:51: RuntimeWarning: invalid value encountered in arccos\n",
      "C:\\Users\\GREEN\\AppData\\Local\\Continuum\\anaconda3\\lib\\site-packages\\ipykernel_launcher.py:51: RuntimeWarning: invalid value encountered in arccos\n",
      "C:\\Users\\GREEN\\AppData\\Local\\Continuum\\anaconda3\\lib\\site-packages\\ipykernel_launcher.py:51: RuntimeWarning: invalid value encountered in arccos\n",
      "C:\\Users\\GREEN\\AppData\\Local\\Continuum\\anaconda3\\lib\\site-packages\\ipykernel_launcher.py:51: RuntimeWarning: invalid value encountered in arccos\n",
      "C:\\Users\\GREEN\\AppData\\Local\\Continuum\\anaconda3\\lib\\site-packages\\ipykernel_launcher.py:51: RuntimeWarning: invalid value encountered in arccos\n",
      "C:\\Users\\GREEN\\AppData\\Local\\Continuum\\anaconda3\\lib\\site-packages\\ipykernel_launcher.py:51: RuntimeWarning: invalid value encountered in arccos\n",
      "C:\\Users\\GREEN\\AppData\\Local\\Continuum\\anaconda3\\lib\\site-packages\\ipykernel_launcher.py:51: RuntimeWarning: invalid value encountered in arccos\n",
      "C:\\Users\\GREEN\\AppData\\Local\\Continuum\\anaconda3\\lib\\site-packages\\ipykernel_launcher.py:51: RuntimeWarning: invalid value encountered in arccos\n",
      "C:\\Users\\GREEN\\AppData\\Local\\Continuum\\anaconda3\\lib\\site-packages\\ipykernel_launcher.py:51: RuntimeWarning: invalid value encountered in arccos\n",
      "C:\\Users\\GREEN\\AppData\\Local\\Continuum\\anaconda3\\lib\\site-packages\\ipykernel_launcher.py:51: RuntimeWarning: invalid value encountered in arccos\n",
      "C:\\Users\\GREEN\\AppData\\Local\\Continuum\\anaconda3\\lib\\site-packages\\ipykernel_launcher.py:51: RuntimeWarning: invalid value encountered in arccos\n",
      "C:\\Users\\GREEN\\AppData\\Local\\Continuum\\anaconda3\\lib\\site-packages\\ipykernel_launcher.py:51: RuntimeWarning: invalid value encountered in arccos\n",
      "C:\\Users\\GREEN\\AppData\\Local\\Continuum\\anaconda3\\lib\\site-packages\\ipykernel_launcher.py:51: RuntimeWarning: invalid value encountered in arccos\n",
      "C:\\Users\\GREEN\\AppData\\Local\\Continuum\\anaconda3\\lib\\site-packages\\ipykernel_launcher.py:51: RuntimeWarning: invalid value encountered in arccos\n",
      "C:\\Users\\GREEN\\AppData\\Local\\Continuum\\anaconda3\\lib\\site-packages\\ipykernel_launcher.py:51: RuntimeWarning: invalid value encountered in arccos\n",
      "C:\\Users\\GREEN\\AppData\\Local\\Continuum\\anaconda3\\lib\\site-packages\\ipykernel_launcher.py:51: RuntimeWarning: invalid value encountered in arccos\n",
      "C:\\Users\\GREEN\\AppData\\Local\\Continuum\\anaconda3\\lib\\site-packages\\ipykernel_launcher.py:51: RuntimeWarning: invalid value encountered in arccos\n",
      "C:\\Users\\GREEN\\AppData\\Local\\Continuum\\anaconda3\\lib\\site-packages\\ipykernel_launcher.py:51: RuntimeWarning: invalid value encountered in arccos\n",
      "C:\\Users\\GREEN\\AppData\\Local\\Continuum\\anaconda3\\lib\\site-packages\\ipykernel_launcher.py:51: RuntimeWarning: invalid value encountered in arccos\n",
      "C:\\Users\\GREEN\\AppData\\Local\\Continuum\\anaconda3\\lib\\site-packages\\ipykernel_launcher.py:51: RuntimeWarning: invalid value encountered in arccos\n",
      "C:\\Users\\GREEN\\AppData\\Local\\Continuum\\anaconda3\\lib\\site-packages\\ipykernel_launcher.py:51: RuntimeWarning: invalid value encountered in arccos\n",
      "C:\\Users\\GREEN\\AppData\\Local\\Continuum\\anaconda3\\lib\\site-packages\\ipykernel_launcher.py:51: RuntimeWarning: invalid value encountered in arccos\n",
      "C:\\Users\\GREEN\\AppData\\Local\\Continuum\\anaconda3\\lib\\site-packages\\ipykernel_launcher.py:51: RuntimeWarning: invalid value encountered in arccos\n",
      "C:\\Users\\GREEN\\AppData\\Local\\Continuum\\anaconda3\\lib\\site-packages\\ipykernel_launcher.py:51: RuntimeWarning: invalid value encountered in arccos\n",
      "C:\\Users\\GREEN\\AppData\\Local\\Continuum\\anaconda3\\lib\\site-packages\\ipykernel_launcher.py:51: RuntimeWarning: invalid value encountered in arccos\n",
      "C:\\Users\\GREEN\\AppData\\Local\\Continuum\\anaconda3\\lib\\site-packages\\ipykernel_launcher.py:51: RuntimeWarning: invalid value encountered in arccos\n",
      "C:\\Users\\GREEN\\AppData\\Local\\Continuum\\anaconda3\\lib\\site-packages\\ipykernel_launcher.py:51: RuntimeWarning: invalid value encountered in arccos\n",
      "C:\\Users\\GREEN\\AppData\\Local\\Continuum\\anaconda3\\lib\\site-packages\\ipykernel_launcher.py:51: RuntimeWarning: invalid value encountered in arccos\n",
      "C:\\Users\\GREEN\\AppData\\Local\\Continuum\\anaconda3\\lib\\site-packages\\ipykernel_launcher.py:51: RuntimeWarning: invalid value encountered in arccos\n",
      "C:\\Users\\GREEN\\AppData\\Local\\Continuum\\anaconda3\\lib\\site-packages\\ipykernel_launcher.py:51: RuntimeWarning: invalid value encountered in arccos\n",
      "C:\\Users\\GREEN\\AppData\\Local\\Continuum\\anaconda3\\lib\\site-packages\\ipykernel_launcher.py:51: RuntimeWarning: invalid value encountered in arccos\n",
      "C:\\Users\\GREEN\\AppData\\Local\\Continuum\\anaconda3\\lib\\site-packages\\ipykernel_launcher.py:51: RuntimeWarning: invalid value encountered in arccos\n",
      "C:\\Users\\GREEN\\AppData\\Local\\Continuum\\anaconda3\\lib\\site-packages\\ipykernel_launcher.py:51: RuntimeWarning: invalid value encountered in arccos\n",
      "C:\\Users\\GREEN\\AppData\\Local\\Continuum\\anaconda3\\lib\\site-packages\\ipykernel_launcher.py:51: RuntimeWarning: invalid value encountered in arccos\n",
      "C:\\Users\\GREEN\\AppData\\Local\\Continuum\\anaconda3\\lib\\site-packages\\ipykernel_launcher.py:51: RuntimeWarning: invalid value encountered in arccos\n",
      "C:\\Users\\GREEN\\AppData\\Local\\Continuum\\anaconda3\\lib\\site-packages\\ipykernel_launcher.py:51: RuntimeWarning: invalid value encountered in arccos\n",
      "C:\\Users\\GREEN\\AppData\\Local\\Continuum\\anaconda3\\lib\\site-packages\\ipykernel_launcher.py:51: RuntimeWarning: invalid value encountered in arccos\n",
      "C:\\Users\\GREEN\\AppData\\Local\\Continuum\\anaconda3\\lib\\site-packages\\ipykernel_launcher.py:51: RuntimeWarning: invalid value encountered in arccos\n",
      "C:\\Users\\GREEN\\AppData\\Local\\Continuum\\anaconda3\\lib\\site-packages\\ipykernel_launcher.py:51: RuntimeWarning: invalid value encountered in arccos\n",
      "C:\\Users\\GREEN\\AppData\\Local\\Continuum\\anaconda3\\lib\\site-packages\\ipykernel_launcher.py:51: RuntimeWarning: invalid value encountered in arccos\n",
      "C:\\Users\\GREEN\\AppData\\Local\\Continuum\\anaconda3\\lib\\site-packages\\ipykernel_launcher.py:51: RuntimeWarning: invalid value encountered in arccos\n",
      "C:\\Users\\GREEN\\AppData\\Local\\Continuum\\anaconda3\\lib\\site-packages\\ipykernel_launcher.py:51: RuntimeWarning: invalid value encountered in arccos\n",
      "C:\\Users\\GREEN\\AppData\\Local\\Continuum\\anaconda3\\lib\\site-packages\\ipykernel_launcher.py:51: RuntimeWarning: invalid value encountered in arccos\n",
      "C:\\Users\\GREEN\\AppData\\Local\\Continuum\\anaconda3\\lib\\site-packages\\ipykernel_launcher.py:51: RuntimeWarning: invalid value encountered in arccos\n",
      "C:\\Users\\GREEN\\AppData\\Local\\Continuum\\anaconda3\\lib\\site-packages\\ipykernel_launcher.py:51: RuntimeWarning: invalid value encountered in arccos\n",
      "C:\\Users\\GREEN\\AppData\\Local\\Continuum\\anaconda3\\lib\\site-packages\\ipykernel_launcher.py:51: RuntimeWarning: invalid value encountered in arccos\n",
      "C:\\Users\\GREEN\\AppData\\Local\\Continuum\\anaconda3\\lib\\site-packages\\ipykernel_launcher.py:51: RuntimeWarning: invalid value encountered in arccos\n",
      "C:\\Users\\GREEN\\AppData\\Local\\Continuum\\anaconda3\\lib\\site-packages\\ipykernel_launcher.py:51: RuntimeWarning: invalid value encountered in arccos\n",
      "C:\\Users\\GREEN\\AppData\\Local\\Continuum\\anaconda3\\lib\\site-packages\\ipykernel_launcher.py:51: RuntimeWarning: invalid value encountered in arccos\n",
      "C:\\Users\\GREEN\\AppData\\Local\\Continuum\\anaconda3\\lib\\site-packages\\ipykernel_launcher.py:51: RuntimeWarning: invalid value encountered in arccos\n",
      "C:\\Users\\GREEN\\AppData\\Local\\Continuum\\anaconda3\\lib\\site-packages\\ipykernel_launcher.py:51: RuntimeWarning: invalid value encountered in arccos\n",
      "C:\\Users\\GREEN\\AppData\\Local\\Continuum\\anaconda3\\lib\\site-packages\\ipykernel_launcher.py:51: RuntimeWarning: invalid value encountered in arccos\n",
      "C:\\Users\\GREEN\\AppData\\Local\\Continuum\\anaconda3\\lib\\site-packages\\ipykernel_launcher.py:51: RuntimeWarning: invalid value encountered in arccos\n",
      "C:\\Users\\GREEN\\AppData\\Local\\Continuum\\anaconda3\\lib\\site-packages\\ipykernel_launcher.py:51: RuntimeWarning: invalid value encountered in arccos\n",
      "C:\\Users\\GREEN\\AppData\\Local\\Continuum\\anaconda3\\lib\\site-packages\\ipykernel_launcher.py:51: RuntimeWarning: invalid value encountered in arccos\n",
      "C:\\Users\\GREEN\\AppData\\Local\\Continuum\\anaconda3\\lib\\site-packages\\ipykernel_launcher.py:51: RuntimeWarning: invalid value encountered in arccos\n"
     ]
    },
    {
     "name": "stderr",
     "output_type": "stream",
     "text": [
      "C:\\Users\\GREEN\\AppData\\Local\\Continuum\\anaconda3\\lib\\site-packages\\ipykernel_launcher.py:51: RuntimeWarning: invalid value encountered in arccos\n",
      "C:\\Users\\GREEN\\AppData\\Local\\Continuum\\anaconda3\\lib\\site-packages\\ipykernel_launcher.py:51: RuntimeWarning: invalid value encountered in arccos\n",
      "C:\\Users\\GREEN\\AppData\\Local\\Continuum\\anaconda3\\lib\\site-packages\\ipykernel_launcher.py:51: RuntimeWarning: invalid value encountered in arccos\n",
      "C:\\Users\\GREEN\\AppData\\Local\\Continuum\\anaconda3\\lib\\site-packages\\ipykernel_launcher.py:51: RuntimeWarning: invalid value encountered in arccos\n",
      "C:\\Users\\GREEN\\AppData\\Local\\Continuum\\anaconda3\\lib\\site-packages\\ipykernel_launcher.py:51: RuntimeWarning: invalid value encountered in arccos\n",
      "C:\\Users\\GREEN\\AppData\\Local\\Continuum\\anaconda3\\lib\\site-packages\\ipykernel_launcher.py:51: RuntimeWarning: invalid value encountered in arccos\n",
      "C:\\Users\\GREEN\\AppData\\Local\\Continuum\\anaconda3\\lib\\site-packages\\ipykernel_launcher.py:51: RuntimeWarning: invalid value encountered in arccos\n",
      "C:\\Users\\GREEN\\AppData\\Local\\Continuum\\anaconda3\\lib\\site-packages\\ipykernel_launcher.py:51: RuntimeWarning: invalid value encountered in arccos\n",
      "C:\\Users\\GREEN\\AppData\\Local\\Continuum\\anaconda3\\lib\\site-packages\\ipykernel_launcher.py:51: RuntimeWarning: invalid value encountered in arccos\n",
      "C:\\Users\\GREEN\\AppData\\Local\\Continuum\\anaconda3\\lib\\site-packages\\ipykernel_launcher.py:51: RuntimeWarning: invalid value encountered in arccos\n",
      "C:\\Users\\GREEN\\AppData\\Local\\Continuum\\anaconda3\\lib\\site-packages\\ipykernel_launcher.py:51: RuntimeWarning: invalid value encountered in arccos\n",
      "C:\\Users\\GREEN\\AppData\\Local\\Continuum\\anaconda3\\lib\\site-packages\\ipykernel_launcher.py:51: RuntimeWarning: invalid value encountered in arccos\n",
      "C:\\Users\\GREEN\\AppData\\Local\\Continuum\\anaconda3\\lib\\site-packages\\ipykernel_launcher.py:51: RuntimeWarning: invalid value encountered in arccos\n",
      "C:\\Users\\GREEN\\AppData\\Local\\Continuum\\anaconda3\\lib\\site-packages\\ipykernel_launcher.py:51: RuntimeWarning: invalid value encountered in arccos\n",
      "C:\\Users\\GREEN\\AppData\\Local\\Continuum\\anaconda3\\lib\\site-packages\\ipykernel_launcher.py:51: RuntimeWarning: invalid value encountered in arccos\n",
      "C:\\Users\\GREEN\\AppData\\Local\\Continuum\\anaconda3\\lib\\site-packages\\ipykernel_launcher.py:51: RuntimeWarning: invalid value encountered in arccos\n",
      "C:\\Users\\GREEN\\AppData\\Local\\Continuum\\anaconda3\\lib\\site-packages\\ipykernel_launcher.py:51: RuntimeWarning: invalid value encountered in arccos\n",
      "C:\\Users\\GREEN\\AppData\\Local\\Continuum\\anaconda3\\lib\\site-packages\\ipykernel_launcher.py:51: RuntimeWarning: invalid value encountered in arccos\n",
      "C:\\Users\\GREEN\\AppData\\Local\\Continuum\\anaconda3\\lib\\site-packages\\ipykernel_launcher.py:51: RuntimeWarning: invalid value encountered in arccos\n",
      "C:\\Users\\GREEN\\AppData\\Local\\Continuum\\anaconda3\\lib\\site-packages\\ipykernel_launcher.py:51: RuntimeWarning: invalid value encountered in arccos\n",
      "C:\\Users\\GREEN\\AppData\\Local\\Continuum\\anaconda3\\lib\\site-packages\\ipykernel_launcher.py:51: RuntimeWarning: invalid value encountered in arccos\n",
      "C:\\Users\\GREEN\\AppData\\Local\\Continuum\\anaconda3\\lib\\site-packages\\ipykernel_launcher.py:51: RuntimeWarning: invalid value encountered in arccos\n",
      "C:\\Users\\GREEN\\AppData\\Local\\Continuum\\anaconda3\\lib\\site-packages\\ipykernel_launcher.py:51: RuntimeWarning: invalid value encountered in arccos\n",
      "C:\\Users\\GREEN\\AppData\\Local\\Continuum\\anaconda3\\lib\\site-packages\\ipykernel_launcher.py:51: RuntimeWarning: invalid value encountered in arccos\n",
      "C:\\Users\\GREEN\\AppData\\Local\\Continuum\\anaconda3\\lib\\site-packages\\ipykernel_launcher.py:51: RuntimeWarning: invalid value encountered in arccos\n",
      "C:\\Users\\GREEN\\AppData\\Local\\Continuum\\anaconda3\\lib\\site-packages\\ipykernel_launcher.py:51: RuntimeWarning: invalid value encountered in arccos\n",
      "C:\\Users\\GREEN\\AppData\\Local\\Continuum\\anaconda3\\lib\\site-packages\\ipykernel_launcher.py:51: RuntimeWarning: invalid value encountered in arccos\n",
      "C:\\Users\\GREEN\\AppData\\Local\\Continuum\\anaconda3\\lib\\site-packages\\ipykernel_launcher.py:51: RuntimeWarning: invalid value encountered in arccos\n",
      "C:\\Users\\GREEN\\AppData\\Local\\Continuum\\anaconda3\\lib\\site-packages\\ipykernel_launcher.py:51: RuntimeWarning: invalid value encountered in arccos\n",
      "C:\\Users\\GREEN\\AppData\\Local\\Continuum\\anaconda3\\lib\\site-packages\\ipykernel_launcher.py:51: RuntimeWarning: invalid value encountered in arccos\n",
      "C:\\Users\\GREEN\\AppData\\Local\\Continuum\\anaconda3\\lib\\site-packages\\ipykernel_launcher.py:51: RuntimeWarning: invalid value encountered in arccos\n",
      "C:\\Users\\GREEN\\AppData\\Local\\Continuum\\anaconda3\\lib\\site-packages\\ipykernel_launcher.py:51: RuntimeWarning: invalid value encountered in arccos\n",
      "C:\\Users\\GREEN\\AppData\\Local\\Continuum\\anaconda3\\lib\\site-packages\\ipykernel_launcher.py:51: RuntimeWarning: invalid value encountered in arccos\n",
      "C:\\Users\\GREEN\\AppData\\Local\\Continuum\\anaconda3\\lib\\site-packages\\ipykernel_launcher.py:51: RuntimeWarning: invalid value encountered in arccos\n",
      "C:\\Users\\GREEN\\AppData\\Local\\Continuum\\anaconda3\\lib\\site-packages\\ipykernel_launcher.py:51: RuntimeWarning: invalid value encountered in arccos\n",
      "C:\\Users\\GREEN\\AppData\\Local\\Continuum\\anaconda3\\lib\\site-packages\\ipykernel_launcher.py:51: RuntimeWarning: invalid value encountered in arccos\n",
      "C:\\Users\\GREEN\\AppData\\Local\\Continuum\\anaconda3\\lib\\site-packages\\ipykernel_launcher.py:51: RuntimeWarning: invalid value encountered in arccos\n",
      "C:\\Users\\GREEN\\AppData\\Local\\Continuum\\anaconda3\\lib\\site-packages\\ipykernel_launcher.py:51: RuntimeWarning: invalid value encountered in arccos\n",
      "C:\\Users\\GREEN\\AppData\\Local\\Continuum\\anaconda3\\lib\\site-packages\\ipykernel_launcher.py:51: RuntimeWarning: invalid value encountered in arccos\n",
      "C:\\Users\\GREEN\\AppData\\Local\\Continuum\\anaconda3\\lib\\site-packages\\ipykernel_launcher.py:51: RuntimeWarning: invalid value encountered in arccos\n",
      "C:\\Users\\GREEN\\AppData\\Local\\Continuum\\anaconda3\\lib\\site-packages\\ipykernel_launcher.py:51: RuntimeWarning: invalid value encountered in arccos\n",
      "C:\\Users\\GREEN\\AppData\\Local\\Continuum\\anaconda3\\lib\\site-packages\\ipykernel_launcher.py:51: RuntimeWarning: invalid value encountered in arccos\n",
      "C:\\Users\\GREEN\\AppData\\Local\\Continuum\\anaconda3\\lib\\site-packages\\ipykernel_launcher.py:51: RuntimeWarning: invalid value encountered in arccos\n",
      "C:\\Users\\GREEN\\AppData\\Local\\Continuum\\anaconda3\\lib\\site-packages\\ipykernel_launcher.py:51: RuntimeWarning: invalid value encountered in arccos\n",
      "C:\\Users\\GREEN\\AppData\\Local\\Continuum\\anaconda3\\lib\\site-packages\\ipykernel_launcher.py:51: RuntimeWarning: invalid value encountered in arccos\n",
      "C:\\Users\\GREEN\\AppData\\Local\\Continuum\\anaconda3\\lib\\site-packages\\ipykernel_launcher.py:51: RuntimeWarning: invalid value encountered in arccos\n",
      "C:\\Users\\GREEN\\AppData\\Local\\Continuum\\anaconda3\\lib\\site-packages\\ipykernel_launcher.py:51: RuntimeWarning: invalid value encountered in arccos\n",
      "C:\\Users\\GREEN\\AppData\\Local\\Continuum\\anaconda3\\lib\\site-packages\\ipykernel_launcher.py:51: RuntimeWarning: invalid value encountered in arccos\n",
      "C:\\Users\\GREEN\\AppData\\Local\\Continuum\\anaconda3\\lib\\site-packages\\ipykernel_launcher.py:51: RuntimeWarning: invalid value encountered in arccos\n",
      "C:\\Users\\GREEN\\AppData\\Local\\Continuum\\anaconda3\\lib\\site-packages\\ipykernel_launcher.py:51: RuntimeWarning: invalid value encountered in arccos\n",
      "C:\\Users\\GREEN\\AppData\\Local\\Continuum\\anaconda3\\lib\\site-packages\\ipykernel_launcher.py:51: RuntimeWarning: invalid value encountered in arccos\n",
      "C:\\Users\\GREEN\\AppData\\Local\\Continuum\\anaconda3\\lib\\site-packages\\ipykernel_launcher.py:51: RuntimeWarning: invalid value encountered in arccos\n",
      "C:\\Users\\GREEN\\AppData\\Local\\Continuum\\anaconda3\\lib\\site-packages\\ipykernel_launcher.py:51: RuntimeWarning: invalid value encountered in arccos\n",
      "C:\\Users\\GREEN\\AppData\\Local\\Continuum\\anaconda3\\lib\\site-packages\\ipykernel_launcher.py:51: RuntimeWarning: invalid value encountered in arccos\n",
      "C:\\Users\\GREEN\\AppData\\Local\\Continuum\\anaconda3\\lib\\site-packages\\ipykernel_launcher.py:51: RuntimeWarning: invalid value encountered in arccos\n",
      "C:\\Users\\GREEN\\AppData\\Local\\Continuum\\anaconda3\\lib\\site-packages\\ipykernel_launcher.py:51: RuntimeWarning: invalid value encountered in arccos\n",
      "C:\\Users\\GREEN\\AppData\\Local\\Continuum\\anaconda3\\lib\\site-packages\\ipykernel_launcher.py:51: RuntimeWarning: invalid value encountered in arccos\n"
     ]
    },
    {
     "name": "stderr",
     "output_type": "stream",
     "text": [
      "C:\\Users\\GREEN\\AppData\\Local\\Continuum\\anaconda3\\lib\\site-packages\\ipykernel_launcher.py:51: RuntimeWarning: invalid value encountered in arccos\n",
      "C:\\Users\\GREEN\\AppData\\Local\\Continuum\\anaconda3\\lib\\site-packages\\ipykernel_launcher.py:51: RuntimeWarning: invalid value encountered in arccos\n",
      "C:\\Users\\GREEN\\AppData\\Local\\Continuum\\anaconda3\\lib\\site-packages\\ipykernel_launcher.py:51: RuntimeWarning: invalid value encountered in arccos\n",
      "C:\\Users\\GREEN\\AppData\\Local\\Continuum\\anaconda3\\lib\\site-packages\\ipykernel_launcher.py:51: RuntimeWarning: invalid value encountered in arccos\n",
      "C:\\Users\\GREEN\\AppData\\Local\\Continuum\\anaconda3\\lib\\site-packages\\ipykernel_launcher.py:51: RuntimeWarning: invalid value encountered in arccos\n",
      "C:\\Users\\GREEN\\AppData\\Local\\Continuum\\anaconda3\\lib\\site-packages\\ipykernel_launcher.py:51: RuntimeWarning: invalid value encountered in arccos\n",
      "C:\\Users\\GREEN\\AppData\\Local\\Continuum\\anaconda3\\lib\\site-packages\\ipykernel_launcher.py:51: RuntimeWarning: invalid value encountered in arccos\n",
      "C:\\Users\\GREEN\\AppData\\Local\\Continuum\\anaconda3\\lib\\site-packages\\ipykernel_launcher.py:51: RuntimeWarning: invalid value encountered in arccos\n",
      "C:\\Users\\GREEN\\AppData\\Local\\Continuum\\anaconda3\\lib\\site-packages\\ipykernel_launcher.py:51: RuntimeWarning: invalid value encountered in arccos\n",
      "C:\\Users\\GREEN\\AppData\\Local\\Continuum\\anaconda3\\lib\\site-packages\\ipykernel_launcher.py:51: RuntimeWarning: invalid value encountered in arccos\n",
      "C:\\Users\\GREEN\\AppData\\Local\\Continuum\\anaconda3\\lib\\site-packages\\ipykernel_launcher.py:51: RuntimeWarning: invalid value encountered in arccos\n",
      "C:\\Users\\GREEN\\AppData\\Local\\Continuum\\anaconda3\\lib\\site-packages\\ipykernel_launcher.py:51: RuntimeWarning: invalid value encountered in arccos\n",
      "C:\\Users\\GREEN\\AppData\\Local\\Continuum\\anaconda3\\lib\\site-packages\\ipykernel_launcher.py:51: RuntimeWarning: invalid value encountered in arccos\n",
      "C:\\Users\\GREEN\\AppData\\Local\\Continuum\\anaconda3\\lib\\site-packages\\ipykernel_launcher.py:51: RuntimeWarning: invalid value encountered in arccos\n",
      "C:\\Users\\GREEN\\AppData\\Local\\Continuum\\anaconda3\\lib\\site-packages\\ipykernel_launcher.py:51: RuntimeWarning: invalid value encountered in arccos\n",
      "C:\\Users\\GREEN\\AppData\\Local\\Continuum\\anaconda3\\lib\\site-packages\\ipykernel_launcher.py:51: RuntimeWarning: invalid value encountered in arccos\n",
      "C:\\Users\\GREEN\\AppData\\Local\\Continuum\\anaconda3\\lib\\site-packages\\ipykernel_launcher.py:51: RuntimeWarning: invalid value encountered in arccos\n",
      "C:\\Users\\GREEN\\AppData\\Local\\Continuum\\anaconda3\\lib\\site-packages\\ipykernel_launcher.py:51: RuntimeWarning: invalid value encountered in arccos\n",
      "C:\\Users\\GREEN\\AppData\\Local\\Continuum\\anaconda3\\lib\\site-packages\\ipykernel_launcher.py:51: RuntimeWarning: invalid value encountered in arccos\n",
      "C:\\Users\\GREEN\\AppData\\Local\\Continuum\\anaconda3\\lib\\site-packages\\ipykernel_launcher.py:51: RuntimeWarning: invalid value encountered in arccos\n",
      "C:\\Users\\GREEN\\AppData\\Local\\Continuum\\anaconda3\\lib\\site-packages\\ipykernel_launcher.py:51: RuntimeWarning: invalid value encountered in arccos\n",
      "C:\\Users\\GREEN\\AppData\\Local\\Continuum\\anaconda3\\lib\\site-packages\\ipykernel_launcher.py:51: RuntimeWarning: invalid value encountered in arccos\n",
      "C:\\Users\\GREEN\\AppData\\Local\\Continuum\\anaconda3\\lib\\site-packages\\ipykernel_launcher.py:51: RuntimeWarning: invalid value encountered in arccos\n",
      "C:\\Users\\GREEN\\AppData\\Local\\Continuum\\anaconda3\\lib\\site-packages\\ipykernel_launcher.py:51: RuntimeWarning: invalid value encountered in arccos\n",
      "C:\\Users\\GREEN\\AppData\\Local\\Continuum\\anaconda3\\lib\\site-packages\\ipykernel_launcher.py:51: RuntimeWarning: invalid value encountered in arccos\n",
      "C:\\Users\\GREEN\\AppData\\Local\\Continuum\\anaconda3\\lib\\site-packages\\ipykernel_launcher.py:51: RuntimeWarning: invalid value encountered in arccos\n",
      "C:\\Users\\GREEN\\AppData\\Local\\Continuum\\anaconda3\\lib\\site-packages\\ipykernel_launcher.py:51: RuntimeWarning: invalid value encountered in arccos\n",
      "C:\\Users\\GREEN\\AppData\\Local\\Continuum\\anaconda3\\lib\\site-packages\\ipykernel_launcher.py:51: RuntimeWarning: invalid value encountered in arccos\n",
      "C:\\Users\\GREEN\\AppData\\Local\\Continuum\\anaconda3\\lib\\site-packages\\ipykernel_launcher.py:51: RuntimeWarning: invalid value encountered in arccos\n",
      "C:\\Users\\GREEN\\AppData\\Local\\Continuum\\anaconda3\\lib\\site-packages\\ipykernel_launcher.py:51: RuntimeWarning: invalid value encountered in arccos\n",
      "C:\\Users\\GREEN\\AppData\\Local\\Continuum\\anaconda3\\lib\\site-packages\\ipykernel_launcher.py:51: RuntimeWarning: invalid value encountered in arccos\n",
      "C:\\Users\\GREEN\\AppData\\Local\\Continuum\\anaconda3\\lib\\site-packages\\ipykernel_launcher.py:51: RuntimeWarning: invalid value encountered in arccos\n",
      "C:\\Users\\GREEN\\AppData\\Local\\Continuum\\anaconda3\\lib\\site-packages\\ipykernel_launcher.py:51: RuntimeWarning: invalid value encountered in arccos\n",
      "C:\\Users\\GREEN\\AppData\\Local\\Continuum\\anaconda3\\lib\\site-packages\\ipykernel_launcher.py:51: RuntimeWarning: invalid value encountered in arccos\n",
      "C:\\Users\\GREEN\\AppData\\Local\\Continuum\\anaconda3\\lib\\site-packages\\ipykernel_launcher.py:51: RuntimeWarning: invalid value encountered in arccos\n",
      "C:\\Users\\GREEN\\AppData\\Local\\Continuum\\anaconda3\\lib\\site-packages\\ipykernel_launcher.py:51: RuntimeWarning: invalid value encountered in arccos\n",
      "C:\\Users\\GREEN\\AppData\\Local\\Continuum\\anaconda3\\lib\\site-packages\\ipykernel_launcher.py:51: RuntimeWarning: invalid value encountered in arccos\n",
      "C:\\Users\\GREEN\\AppData\\Local\\Continuum\\anaconda3\\lib\\site-packages\\ipykernel_launcher.py:51: RuntimeWarning: invalid value encountered in arccos\n",
      "C:\\Users\\GREEN\\AppData\\Local\\Continuum\\anaconda3\\lib\\site-packages\\ipykernel_launcher.py:51: RuntimeWarning: invalid value encountered in arccos\n",
      "C:\\Users\\GREEN\\AppData\\Local\\Continuum\\anaconda3\\lib\\site-packages\\ipykernel_launcher.py:51: RuntimeWarning: invalid value encountered in arccos\n",
      "C:\\Users\\GREEN\\AppData\\Local\\Continuum\\anaconda3\\lib\\site-packages\\ipykernel_launcher.py:51: RuntimeWarning: invalid value encountered in arccos\n",
      "C:\\Users\\GREEN\\AppData\\Local\\Continuum\\anaconda3\\lib\\site-packages\\ipykernel_launcher.py:51: RuntimeWarning: invalid value encountered in arccos\n",
      "C:\\Users\\GREEN\\AppData\\Local\\Continuum\\anaconda3\\lib\\site-packages\\ipykernel_launcher.py:51: RuntimeWarning: invalid value encountered in arccos\n",
      "C:\\Users\\GREEN\\AppData\\Local\\Continuum\\anaconda3\\lib\\site-packages\\ipykernel_launcher.py:51: RuntimeWarning: invalid value encountered in arccos\n",
      "C:\\Users\\GREEN\\AppData\\Local\\Continuum\\anaconda3\\lib\\site-packages\\ipykernel_launcher.py:51: RuntimeWarning: invalid value encountered in arccos\n",
      "C:\\Users\\GREEN\\AppData\\Local\\Continuum\\anaconda3\\lib\\site-packages\\ipykernel_launcher.py:51: RuntimeWarning: invalid value encountered in arccos\n",
      "C:\\Users\\GREEN\\AppData\\Local\\Continuum\\anaconda3\\lib\\site-packages\\ipykernel_launcher.py:51: RuntimeWarning: invalid value encountered in arccos\n",
      "C:\\Users\\GREEN\\AppData\\Local\\Continuum\\anaconda3\\lib\\site-packages\\ipykernel_launcher.py:51: RuntimeWarning: invalid value encountered in arccos\n",
      "C:\\Users\\GREEN\\AppData\\Local\\Continuum\\anaconda3\\lib\\site-packages\\ipykernel_launcher.py:51: RuntimeWarning: invalid value encountered in arccos\n",
      "C:\\Users\\GREEN\\AppData\\Local\\Continuum\\anaconda3\\lib\\site-packages\\ipykernel_launcher.py:51: RuntimeWarning: invalid value encountered in arccos\n",
      "C:\\Users\\GREEN\\AppData\\Local\\Continuum\\anaconda3\\lib\\site-packages\\ipykernel_launcher.py:51: RuntimeWarning: invalid value encountered in arccos\n",
      "C:\\Users\\GREEN\\AppData\\Local\\Continuum\\anaconda3\\lib\\site-packages\\ipykernel_launcher.py:51: RuntimeWarning: invalid value encountered in arccos\n",
      "C:\\Users\\GREEN\\AppData\\Local\\Continuum\\anaconda3\\lib\\site-packages\\ipykernel_launcher.py:51: RuntimeWarning: invalid value encountered in arccos\n",
      "C:\\Users\\GREEN\\AppData\\Local\\Continuum\\anaconda3\\lib\\site-packages\\ipykernel_launcher.py:51: RuntimeWarning: invalid value encountered in arccos\n",
      "C:\\Users\\GREEN\\AppData\\Local\\Continuum\\anaconda3\\lib\\site-packages\\ipykernel_launcher.py:51: RuntimeWarning: invalid value encountered in arccos\n",
      "C:\\Users\\GREEN\\AppData\\Local\\Continuum\\anaconda3\\lib\\site-packages\\ipykernel_launcher.py:51: RuntimeWarning: invalid value encountered in arccos\n",
      "C:\\Users\\GREEN\\AppData\\Local\\Continuum\\anaconda3\\lib\\site-packages\\ipykernel_launcher.py:51: RuntimeWarning: invalid value encountered in arccos\n"
     ]
    },
    {
     "name": "stderr",
     "output_type": "stream",
     "text": [
      "C:\\Users\\GREEN\\AppData\\Local\\Continuum\\anaconda3\\lib\\site-packages\\ipykernel_launcher.py:51: RuntimeWarning: invalid value encountered in arccos\n",
      "C:\\Users\\GREEN\\AppData\\Local\\Continuum\\anaconda3\\lib\\site-packages\\ipykernel_launcher.py:51: RuntimeWarning: invalid value encountered in arccos\n",
      "C:\\Users\\GREEN\\AppData\\Local\\Continuum\\anaconda3\\lib\\site-packages\\ipykernel_launcher.py:51: RuntimeWarning: invalid value encountered in arccos\n",
      "C:\\Users\\GREEN\\AppData\\Local\\Continuum\\anaconda3\\lib\\site-packages\\ipykernel_launcher.py:51: RuntimeWarning: invalid value encountered in arccos\n",
      "C:\\Users\\GREEN\\AppData\\Local\\Continuum\\anaconda3\\lib\\site-packages\\ipykernel_launcher.py:51: RuntimeWarning: invalid value encountered in arccos\n",
      "C:\\Users\\GREEN\\AppData\\Local\\Continuum\\anaconda3\\lib\\site-packages\\ipykernel_launcher.py:51: RuntimeWarning: invalid value encountered in arccos\n",
      "C:\\Users\\GREEN\\AppData\\Local\\Continuum\\anaconda3\\lib\\site-packages\\ipykernel_launcher.py:51: RuntimeWarning: invalid value encountered in arccos\n",
      "C:\\Users\\GREEN\\AppData\\Local\\Continuum\\anaconda3\\lib\\site-packages\\ipykernel_launcher.py:51: RuntimeWarning: invalid value encountered in arccos\n",
      "C:\\Users\\GREEN\\AppData\\Local\\Continuum\\anaconda3\\lib\\site-packages\\ipykernel_launcher.py:51: RuntimeWarning: invalid value encountered in arccos\n",
      "C:\\Users\\GREEN\\AppData\\Local\\Continuum\\anaconda3\\lib\\site-packages\\ipykernel_launcher.py:51: RuntimeWarning: invalid value encountered in arccos\n",
      "C:\\Users\\GREEN\\AppData\\Local\\Continuum\\anaconda3\\lib\\site-packages\\ipykernel_launcher.py:51: RuntimeWarning: invalid value encountered in arccos\n",
      "C:\\Users\\GREEN\\AppData\\Local\\Continuum\\anaconda3\\lib\\site-packages\\ipykernel_launcher.py:51: RuntimeWarning: invalid value encountered in arccos\n",
      "C:\\Users\\GREEN\\AppData\\Local\\Continuum\\anaconda3\\lib\\site-packages\\ipykernel_launcher.py:51: RuntimeWarning: invalid value encountered in arccos\n",
      "C:\\Users\\GREEN\\AppData\\Local\\Continuum\\anaconda3\\lib\\site-packages\\ipykernel_launcher.py:51: RuntimeWarning: invalid value encountered in arccos\n",
      "C:\\Users\\GREEN\\AppData\\Local\\Continuum\\anaconda3\\lib\\site-packages\\ipykernel_launcher.py:51: RuntimeWarning: invalid value encountered in arccos\n",
      "C:\\Users\\GREEN\\AppData\\Local\\Continuum\\anaconda3\\lib\\site-packages\\ipykernel_launcher.py:51: RuntimeWarning: invalid value encountered in arccos\n",
      "C:\\Users\\GREEN\\AppData\\Local\\Continuum\\anaconda3\\lib\\site-packages\\ipykernel_launcher.py:51: RuntimeWarning: invalid value encountered in arccos\n",
      "C:\\Users\\GREEN\\AppData\\Local\\Continuum\\anaconda3\\lib\\site-packages\\ipykernel_launcher.py:51: RuntimeWarning: invalid value encountered in arccos\n",
      "C:\\Users\\GREEN\\AppData\\Local\\Continuum\\anaconda3\\lib\\site-packages\\ipykernel_launcher.py:51: RuntimeWarning: invalid value encountered in arccos\n",
      "C:\\Users\\GREEN\\AppData\\Local\\Continuum\\anaconda3\\lib\\site-packages\\ipykernel_launcher.py:51: RuntimeWarning: invalid value encountered in arccos\n",
      "C:\\Users\\GREEN\\AppData\\Local\\Continuum\\anaconda3\\lib\\site-packages\\ipykernel_launcher.py:51: RuntimeWarning: invalid value encountered in arccos\n",
      "C:\\Users\\GREEN\\AppData\\Local\\Continuum\\anaconda3\\lib\\site-packages\\ipykernel_launcher.py:51: RuntimeWarning: invalid value encountered in arccos\n",
      "C:\\Users\\GREEN\\AppData\\Local\\Continuum\\anaconda3\\lib\\site-packages\\ipykernel_launcher.py:51: RuntimeWarning: invalid value encountered in arccos\n",
      "C:\\Users\\GREEN\\AppData\\Local\\Continuum\\anaconda3\\lib\\site-packages\\ipykernel_launcher.py:51: RuntimeWarning: invalid value encountered in arccos\n",
      "C:\\Users\\GREEN\\AppData\\Local\\Continuum\\anaconda3\\lib\\site-packages\\ipykernel_launcher.py:51: RuntimeWarning: invalid value encountered in arccos\n",
      "C:\\Users\\GREEN\\AppData\\Local\\Continuum\\anaconda3\\lib\\site-packages\\ipykernel_launcher.py:51: RuntimeWarning: invalid value encountered in arccos\n",
      "C:\\Users\\GREEN\\AppData\\Local\\Continuum\\anaconda3\\lib\\site-packages\\ipykernel_launcher.py:51: RuntimeWarning: invalid value encountered in arccos\n",
      "C:\\Users\\GREEN\\AppData\\Local\\Continuum\\anaconda3\\lib\\site-packages\\ipykernel_launcher.py:51: RuntimeWarning: invalid value encountered in arccos\n",
      "C:\\Users\\GREEN\\AppData\\Local\\Continuum\\anaconda3\\lib\\site-packages\\ipykernel_launcher.py:51: RuntimeWarning: invalid value encountered in arccos\n",
      "C:\\Users\\GREEN\\AppData\\Local\\Continuum\\anaconda3\\lib\\site-packages\\ipykernel_launcher.py:51: RuntimeWarning: invalid value encountered in arccos\n",
      "C:\\Users\\GREEN\\AppData\\Local\\Continuum\\anaconda3\\lib\\site-packages\\ipykernel_launcher.py:51: RuntimeWarning: invalid value encountered in arccos\n",
      "C:\\Users\\GREEN\\AppData\\Local\\Continuum\\anaconda3\\lib\\site-packages\\ipykernel_launcher.py:51: RuntimeWarning: invalid value encountered in arccos\n",
      "C:\\Users\\GREEN\\AppData\\Local\\Continuum\\anaconda3\\lib\\site-packages\\ipykernel_launcher.py:51: RuntimeWarning: invalid value encountered in arccos\n",
      "C:\\Users\\GREEN\\AppData\\Local\\Continuum\\anaconda3\\lib\\site-packages\\ipykernel_launcher.py:51: RuntimeWarning: invalid value encountered in arccos\n",
      "C:\\Users\\GREEN\\AppData\\Local\\Continuum\\anaconda3\\lib\\site-packages\\ipykernel_launcher.py:51: RuntimeWarning: invalid value encountered in arccos\n",
      "C:\\Users\\GREEN\\AppData\\Local\\Continuum\\anaconda3\\lib\\site-packages\\ipykernel_launcher.py:51: RuntimeWarning: invalid value encountered in arccos\n",
      "C:\\Users\\GREEN\\AppData\\Local\\Continuum\\anaconda3\\lib\\site-packages\\ipykernel_launcher.py:51: RuntimeWarning: invalid value encountered in arccos\n",
      "C:\\Users\\GREEN\\AppData\\Local\\Continuum\\anaconda3\\lib\\site-packages\\ipykernel_launcher.py:51: RuntimeWarning: invalid value encountered in arccos\n",
      "C:\\Users\\GREEN\\AppData\\Local\\Continuum\\anaconda3\\lib\\site-packages\\ipykernel_launcher.py:51: RuntimeWarning: invalid value encountered in arccos\n",
      "C:\\Users\\GREEN\\AppData\\Local\\Continuum\\anaconda3\\lib\\site-packages\\ipykernel_launcher.py:51: RuntimeWarning: invalid value encountered in arccos\n",
      "C:\\Users\\GREEN\\AppData\\Local\\Continuum\\anaconda3\\lib\\site-packages\\ipykernel_launcher.py:51: RuntimeWarning: invalid value encountered in arccos\n",
      "C:\\Users\\GREEN\\AppData\\Local\\Continuum\\anaconda3\\lib\\site-packages\\ipykernel_launcher.py:51: RuntimeWarning: invalid value encountered in arccos\n",
      "C:\\Users\\GREEN\\AppData\\Local\\Continuum\\anaconda3\\lib\\site-packages\\ipykernel_launcher.py:51: RuntimeWarning: invalid value encountered in arccos\n",
      "C:\\Users\\GREEN\\AppData\\Local\\Continuum\\anaconda3\\lib\\site-packages\\ipykernel_launcher.py:51: RuntimeWarning: invalid value encountered in arccos\n",
      "C:\\Users\\GREEN\\AppData\\Local\\Continuum\\anaconda3\\lib\\site-packages\\ipykernel_launcher.py:51: RuntimeWarning: invalid value encountered in arccos\n",
      "C:\\Users\\GREEN\\AppData\\Local\\Continuum\\anaconda3\\lib\\site-packages\\ipykernel_launcher.py:51: RuntimeWarning: invalid value encountered in arccos\n",
      "C:\\Users\\GREEN\\AppData\\Local\\Continuum\\anaconda3\\lib\\site-packages\\ipykernel_launcher.py:51: RuntimeWarning: invalid value encountered in arccos\n",
      "C:\\Users\\GREEN\\AppData\\Local\\Continuum\\anaconda3\\lib\\site-packages\\ipykernel_launcher.py:51: RuntimeWarning: invalid value encountered in arccos\n",
      "C:\\Users\\GREEN\\AppData\\Local\\Continuum\\anaconda3\\lib\\site-packages\\ipykernel_launcher.py:51: RuntimeWarning: invalid value encountered in arccos\n",
      "C:\\Users\\GREEN\\AppData\\Local\\Continuum\\anaconda3\\lib\\site-packages\\ipykernel_launcher.py:51: RuntimeWarning: invalid value encountered in arccos\n",
      "C:\\Users\\GREEN\\AppData\\Local\\Continuum\\anaconda3\\lib\\site-packages\\ipykernel_launcher.py:51: RuntimeWarning: invalid value encountered in arccos\n",
      "C:\\Users\\GREEN\\AppData\\Local\\Continuum\\anaconda3\\lib\\site-packages\\ipykernel_launcher.py:51: RuntimeWarning: invalid value encountered in arccos\n",
      "C:\\Users\\GREEN\\AppData\\Local\\Continuum\\anaconda3\\lib\\site-packages\\ipykernel_launcher.py:51: RuntimeWarning: invalid value encountered in arccos\n",
      "C:\\Users\\GREEN\\AppData\\Local\\Continuum\\anaconda3\\lib\\site-packages\\ipykernel_launcher.py:51: RuntimeWarning: invalid value encountered in arccos\n",
      "C:\\Users\\GREEN\\AppData\\Local\\Continuum\\anaconda3\\lib\\site-packages\\ipykernel_launcher.py:51: RuntimeWarning: invalid value encountered in arccos\n",
      "C:\\Users\\GREEN\\AppData\\Local\\Continuum\\anaconda3\\lib\\site-packages\\ipykernel_launcher.py:51: RuntimeWarning: invalid value encountered in arccos\n",
      "C:\\Users\\GREEN\\AppData\\Local\\Continuum\\anaconda3\\lib\\site-packages\\ipykernel_launcher.py:51: RuntimeWarning: invalid value encountered in arccos\n",
      "C:\\Users\\GREEN\\AppData\\Local\\Continuum\\anaconda3\\lib\\site-packages\\ipykernel_launcher.py:51: RuntimeWarning: invalid value encountered in arccos\n"
     ]
    },
    {
     "name": "stderr",
     "output_type": "stream",
     "text": [
      "C:\\Users\\GREEN\\AppData\\Local\\Continuum\\anaconda3\\lib\\site-packages\\ipykernel_launcher.py:51: RuntimeWarning: invalid value encountered in arccos\n",
      "C:\\Users\\GREEN\\AppData\\Local\\Continuum\\anaconda3\\lib\\site-packages\\ipykernel_launcher.py:51: RuntimeWarning: invalid value encountered in arccos\n",
      "C:\\Users\\GREEN\\AppData\\Local\\Continuum\\anaconda3\\lib\\site-packages\\ipykernel_launcher.py:51: RuntimeWarning: invalid value encountered in arccos\n",
      "C:\\Users\\GREEN\\AppData\\Local\\Continuum\\anaconda3\\lib\\site-packages\\ipykernel_launcher.py:51: RuntimeWarning: invalid value encountered in arccos\n",
      "C:\\Users\\GREEN\\AppData\\Local\\Continuum\\anaconda3\\lib\\site-packages\\ipykernel_launcher.py:51: RuntimeWarning: invalid value encountered in arccos\n",
      "C:\\Users\\GREEN\\AppData\\Local\\Continuum\\anaconda3\\lib\\site-packages\\ipykernel_launcher.py:51: RuntimeWarning: invalid value encountered in arccos\n",
      "C:\\Users\\GREEN\\AppData\\Local\\Continuum\\anaconda3\\lib\\site-packages\\ipykernel_launcher.py:51: RuntimeWarning: invalid value encountered in arccos\n",
      "C:\\Users\\GREEN\\AppData\\Local\\Continuum\\anaconda3\\lib\\site-packages\\ipykernel_launcher.py:51: RuntimeWarning: invalid value encountered in arccos\n",
      "C:\\Users\\GREEN\\AppData\\Local\\Continuum\\anaconda3\\lib\\site-packages\\ipykernel_launcher.py:51: RuntimeWarning: invalid value encountered in arccos\n",
      "C:\\Users\\GREEN\\AppData\\Local\\Continuum\\anaconda3\\lib\\site-packages\\ipykernel_launcher.py:51: RuntimeWarning: invalid value encountered in arccos\n",
      "C:\\Users\\GREEN\\AppData\\Local\\Continuum\\anaconda3\\lib\\site-packages\\ipykernel_launcher.py:51: RuntimeWarning: invalid value encountered in arccos\n",
      "C:\\Users\\GREEN\\AppData\\Local\\Continuum\\anaconda3\\lib\\site-packages\\ipykernel_launcher.py:51: RuntimeWarning: invalid value encountered in arccos\n",
      "C:\\Users\\GREEN\\AppData\\Local\\Continuum\\anaconda3\\lib\\site-packages\\ipykernel_launcher.py:51: RuntimeWarning: invalid value encountered in arccos\n",
      "C:\\Users\\GREEN\\AppData\\Local\\Continuum\\anaconda3\\lib\\site-packages\\ipykernel_launcher.py:51: RuntimeWarning: invalid value encountered in arccos\n",
      "C:\\Users\\GREEN\\AppData\\Local\\Continuum\\anaconda3\\lib\\site-packages\\ipykernel_launcher.py:51: RuntimeWarning: invalid value encountered in arccos\n",
      "C:\\Users\\GREEN\\AppData\\Local\\Continuum\\anaconda3\\lib\\site-packages\\ipykernel_launcher.py:51: RuntimeWarning: invalid value encountered in arccos\n",
      "C:\\Users\\GREEN\\AppData\\Local\\Continuum\\anaconda3\\lib\\site-packages\\ipykernel_launcher.py:51: RuntimeWarning: invalid value encountered in arccos\n",
      "C:\\Users\\GREEN\\AppData\\Local\\Continuum\\anaconda3\\lib\\site-packages\\ipykernel_launcher.py:51: RuntimeWarning: invalid value encountered in arccos\n",
      "C:\\Users\\GREEN\\AppData\\Local\\Continuum\\anaconda3\\lib\\site-packages\\ipykernel_launcher.py:51: RuntimeWarning: invalid value encountered in arccos\n",
      "C:\\Users\\GREEN\\AppData\\Local\\Continuum\\anaconda3\\lib\\site-packages\\ipykernel_launcher.py:51: RuntimeWarning: invalid value encountered in arccos\n",
      "C:\\Users\\GREEN\\AppData\\Local\\Continuum\\anaconda3\\lib\\site-packages\\ipykernel_launcher.py:51: RuntimeWarning: invalid value encountered in arccos\n",
      "C:\\Users\\GREEN\\AppData\\Local\\Continuum\\anaconda3\\lib\\site-packages\\ipykernel_launcher.py:51: RuntimeWarning: invalid value encountered in arccos\n",
      "C:\\Users\\GREEN\\AppData\\Local\\Continuum\\anaconda3\\lib\\site-packages\\ipykernel_launcher.py:51: RuntimeWarning: invalid value encountered in arccos\n",
      "C:\\Users\\GREEN\\AppData\\Local\\Continuum\\anaconda3\\lib\\site-packages\\ipykernel_launcher.py:51: RuntimeWarning: invalid value encountered in arccos\n",
      "C:\\Users\\GREEN\\AppData\\Local\\Continuum\\anaconda3\\lib\\site-packages\\ipykernel_launcher.py:51: RuntimeWarning: invalid value encountered in arccos\n",
      "C:\\Users\\GREEN\\AppData\\Local\\Continuum\\anaconda3\\lib\\site-packages\\ipykernel_launcher.py:51: RuntimeWarning: invalid value encountered in arccos\n",
      "C:\\Users\\GREEN\\AppData\\Local\\Continuum\\anaconda3\\lib\\site-packages\\ipykernel_launcher.py:51: RuntimeWarning: invalid value encountered in arccos\n",
      "C:\\Users\\GREEN\\AppData\\Local\\Continuum\\anaconda3\\lib\\site-packages\\ipykernel_launcher.py:51: RuntimeWarning: invalid value encountered in arccos\n",
      "C:\\Users\\GREEN\\AppData\\Local\\Continuum\\anaconda3\\lib\\site-packages\\ipykernel_launcher.py:51: RuntimeWarning: invalid value encountered in arccos\n",
      "C:\\Users\\GREEN\\AppData\\Local\\Continuum\\anaconda3\\lib\\site-packages\\ipykernel_launcher.py:51: RuntimeWarning: invalid value encountered in arccos\n",
      "C:\\Users\\GREEN\\AppData\\Local\\Continuum\\anaconda3\\lib\\site-packages\\ipykernel_launcher.py:51: RuntimeWarning: invalid value encountered in arccos\n",
      "C:\\Users\\GREEN\\AppData\\Local\\Continuum\\anaconda3\\lib\\site-packages\\ipykernel_launcher.py:51: RuntimeWarning: invalid value encountered in arccos\n",
      "C:\\Users\\GREEN\\AppData\\Local\\Continuum\\anaconda3\\lib\\site-packages\\ipykernel_launcher.py:51: RuntimeWarning: invalid value encountered in arccos\n",
      "C:\\Users\\GREEN\\AppData\\Local\\Continuum\\anaconda3\\lib\\site-packages\\ipykernel_launcher.py:51: RuntimeWarning: invalid value encountered in arccos\n",
      "C:\\Users\\GREEN\\AppData\\Local\\Continuum\\anaconda3\\lib\\site-packages\\ipykernel_launcher.py:51: RuntimeWarning: invalid value encountered in arccos\n",
      "C:\\Users\\GREEN\\AppData\\Local\\Continuum\\anaconda3\\lib\\site-packages\\ipykernel_launcher.py:51: RuntimeWarning: invalid value encountered in arccos\n",
      "C:\\Users\\GREEN\\AppData\\Local\\Continuum\\anaconda3\\lib\\site-packages\\ipykernel_launcher.py:51: RuntimeWarning: invalid value encountered in arccos\n",
      "C:\\Users\\GREEN\\AppData\\Local\\Continuum\\anaconda3\\lib\\site-packages\\ipykernel_launcher.py:51: RuntimeWarning: invalid value encountered in arccos\n",
      "C:\\Users\\GREEN\\AppData\\Local\\Continuum\\anaconda3\\lib\\site-packages\\ipykernel_launcher.py:51: RuntimeWarning: invalid value encountered in arccos\n",
      "C:\\Users\\GREEN\\AppData\\Local\\Continuum\\anaconda3\\lib\\site-packages\\ipykernel_launcher.py:51: RuntimeWarning: invalid value encountered in arccos\n",
      "C:\\Users\\GREEN\\AppData\\Local\\Continuum\\anaconda3\\lib\\site-packages\\ipykernel_launcher.py:51: RuntimeWarning: invalid value encountered in arccos\n",
      "C:\\Users\\GREEN\\AppData\\Local\\Continuum\\anaconda3\\lib\\site-packages\\ipykernel_launcher.py:51: RuntimeWarning: invalid value encountered in arccos\n",
      "C:\\Users\\GREEN\\AppData\\Local\\Continuum\\anaconda3\\lib\\site-packages\\ipykernel_launcher.py:51: RuntimeWarning: invalid value encountered in arccos\n",
      "C:\\Users\\GREEN\\AppData\\Local\\Continuum\\anaconda3\\lib\\site-packages\\ipykernel_launcher.py:51: RuntimeWarning: invalid value encountered in arccos\n"
     ]
    }
   ],
   "source": [
    "#initialize misorientations and lengths/weights for histogram\n",
    "avg_boundary_disorients = np.zeros((5000,1))\n",
    "boundary_lens = np.zeros((5000,1))\n",
    "\n",
    "#create point adj dict\n",
    "point_adj=adj_dict(rdb)\n",
    "\n",
    "index=0\n",
    "# for each grain\n",
    "for grain_ID_1_ in np.unique(rdb[:,5]):\n",
    "    #get the points and edges of the grain\n",
    "    rdb_slice_1_=rdb[np.where(rdb[:,5]==grain_ID_1_)]\n",
    "    rdb_edge_1_=rdb_slice_1_[np.where(rdb_slice_1_[:,6]==1)]\n",
    "    \n",
    "    #for each neighboring grain\n",
    "    for grain_ID_2_ in grain_neigh[grain_ID_1_]:\n",
    "        #don't comapre the same grain\n",
    "        if int(grain_ID_1_) != int(grain_ID_2_):\n",
    "            #get the boundary points of grain 1 with grain 2\n",
    "            rdb_boundary_1_=rdb_edge_1_[np.where(rdb_edge_1_[:,8]==grain_ID_2_)]\n",
    "\n",
    "            #slice grain 2\n",
    "            rdb_slice_2_=rdb[np.where(rdb[:,5]==grain_ID_2_)]\n",
    "            rdb_edge_2_=rdb_slice_2_[np.where(rdb_slice_2_[:,6]==1)]\n",
    "            rdb_boundary_2_=rdb_edge_2_[np.where(rdb_edge_2_[:,8]==grain_ID_1_)]\n",
    "\n",
    "            #create list of boundary disorientations\n",
    "            boundaries_=[]\n",
    "\n",
    "            #find each misorientation\n",
    "            for key in rdb_boundary_1_[:,9]:\n",
    "                key=int(key)\n",
    "                euler_one_=[rdb[key][0],rdb[key][1],rdb[key][2]]\n",
    "                for value in point_adj[key]:\n",
    "                    euler_two_=[rdb[value][0],rdb[value][1],rdb[value][2]]\n",
    "                    vor_disorient_=disorientation(euler_one_,euler_two_,hex_sym_ops)\n",
    "                    if vor_disorient_ > 15:\n",
    "                        boundaries_.append(vor_disorient_)\n",
    "\n",
    "            #get avg and append to array\n",
    "            if len(boundaries_)>0:\n",
    "                avg_boundary_disorient=sum(boundaries_)/len(boundaries_)\n",
    "                avg_boundary_disorients[index]=avg_boundary_disorient\n",
    "            else:\n",
    "                avg_boundary_disorients[index]=0\n",
    "\n",
    "            #append boundaries together\n",
    "            rdb_boundary_=np.append(rdb_boundary_1_, rdb_boundary_2_, axis=0)\n",
    "            \n",
    "            #slice boundary\n",
    "            X=rdb_boundary_[:,3:5]\n",
    "            y=rdb_boundary_[:,5]\n",
    "            \n",
    "            #if no points, bad\n",
    "            if len(X) < 2:\n",
    "                break\n",
    "            \n",
    "            #don't sample the same grain\n",
    "            if len(np.unique(y)) < 2:\n",
    "                break\n",
    "\n",
    "            #create model\n",
    "            model = SVC(kernel='rbf', C=1e10, gamma=1)\n",
    "            model.fit(X, y)\n",
    "            #return length\n",
    "            boundary_len_=svc_decision_boundary_length(model,x_lim=(min(X[:,0]),max(X[:,0])),y_lim=(min(X[:,1]),max(X[:,1])),numb=30)\n",
    "\n",
    "            # append boundary length\n",
    "            boundary_lens[index]=boundary_len_\n",
    "           \n",
    "            index+=1"
   ]
  },
  {
   "cell_type": "code",
   "execution_count": 246,
   "metadata": {},
   "outputs": [],
   "source": [
    "keep=np.where(avg_boundary_disorients>15)\n",
    "avg_boundary_disorients_over15 = avg_boundary_disorients[keep]\n",
    "boundary_lens_over15 = boundary_lens[keep]"
   ]
  },
  {
   "cell_type": "code",
   "execution_count": 247,
   "metadata": {},
   "outputs": [
    {
     "data": {
      "text/plain": [
       "(array([0.        , 0.        , 0.        , 0.        , 0.        ,\n",
       "        0.        , 0.        , 0.00096108, 0.00228256, 0.00552619,\n",
       "        0.0069678 , 0.01201346, 0.01369534, 0.01297453, 0.01609803,\n",
       "        0.0166987 , 0.01802018, 0.01645843, 0.01765978, 0.01765978,\n",
       "        0.01549736, 0.01525709, 0.01429601, 0.01585776, 0.01525709,\n",
       "        0.01549736, 0.01369534, 0.01333494, 0.01645843, 0.0159779 ,\n",
       "        0.01693897, 0.01369534, 0.01573763, 0.01525709, 0.01393561,\n",
       "        0.01561749, 0.01525709, 0.01381547, 0.01237386, 0.01489668,\n",
       "        0.01105238, 0.00961076, 0.00876982, 0.00720807, 0.00540605,\n",
       "        0.00204229, 0.00024027, 0.        , 0.        ]),\n",
       " array([ 0,  2,  4,  6,  8, 10, 12, 14, 16, 18, 20, 22, 24, 26, 28, 30, 32,\n",
       "        34, 36, 38, 40, 42, 44, 46, 48, 50, 52, 54, 56, 58, 60, 62, 64, 66,\n",
       "        68, 70, 72, 74, 76, 78, 80, 82, 84, 86, 88, 90, 92, 94, 96, 98]),\n",
       " <a list of 49 Patch objects>)"
      ]
     },
     "execution_count": 247,
     "metadata": {},
     "output_type": "execute_result"
    },
    {
     "data": {
      "image/png": "[encoded data removed]",
      "text/plain": [
       "<Figure size 432x288 with 1 Axes>"
      ]
     },
     "metadata": {
      "needs_background": "light"
     },
     "output_type": "display_data"
    }
   ],
   "source": [
    "#unweighted\n",
    "plt.xlim(15,100)\n",
    "plt.ylim(0,0.025)\n",
    "plt.title(\"100%, Unweighted\")\n",
    "plt.xlabel('Average Boundary Disorientation')\n",
    "plt.ylabel('Frequency')\n",
    "plt.hist(avg_boundary_disorients_over15, bins=np.arange(0,100,2), range=(0,100), density=True)"
   ]
  },
  {
   "cell_type": "code",
   "execution_count": 248,
   "metadata": {},
   "outputs": [
    {
     "data": {
      "text/plain": [
       "(array([0.00000000e+00, 0.00000000e+00, 0.00000000e+00, 0.00000000e+00,\n",
       "        0.00000000e+00, 0.00000000e+00, 0.00000000e+00, 7.97221270e-04,\n",
       "        2.51464620e-03, 5.12763676e-03, 7.43186823e-03, 1.30229504e-02,\n",
       "        1.52340102e-02, 1.58011243e-02, 1.78366551e-02, 2.00724140e-02,\n",
       "        2.01762754e-02, 1.61020015e-02, 1.65124554e-02, 1.87518176e-02,\n",
       "        1.60785385e-02, 1.42481651e-02, 1.33452276e-02, 1.66597955e-02,\n",
       "        1.49099157e-02, 1.59592199e-02, 1.26027230e-02, 1.27239663e-02,\n",
       "        1.55061594e-02, 1.40475758e-02, 1.58486334e-02, 1.12603817e-02,\n",
       "        1.53033987e-02, 1.41325827e-02, 1.21313441e-02, 1.41892785e-02,\n",
       "        1.54779510e-02, 1.36859461e-02, 1.32381399e-02, 1.47333928e-02,\n",
       "        1.04386701e-02, 9.38852803e-03, 8.39002155e-03, 7.03667168e-03,\n",
       "        7.40524054e-03, 1.85676401e-03, 2.06917599e-05, 0.00000000e+00,\n",
       "        0.00000000e+00]),\n",
       " array([ 0,  2,  4,  6,  8, 10, 12, 14, 16, 18, 20, 22, 24, 26, 28, 30, 32,\n",
       "        34, 36, 38, 40, 42, 44, 46, 48, 50, 52, 54, 56, 58, 60, 62, 64, 66,\n",
       "        68, 70, 72, 74, 76, 78, 80, 82, 84, 86, 88, 90, 92, 94, 96, 98]),\n",
       " <a list of 49 Patch objects>)"
      ]
     },
     "execution_count": 248,
     "metadata": {},
     "output_type": "execute_result"
    },
    {
     "data": {
      "image/png": "[encoded data removed]",
      "text/plain": [
       "<Figure size 432x288 with 1 Axes>"
      ]
     },
     "metadata": {
      "needs_background": "light"
     },
     "output_type": "display_data"
    }
   ],
   "source": [
    "#weighted\n",
    "plt.xlim(15,100)\n",
    "plt.ylim(0,0.025)\n",
    "plt.title(\"100%, Weighted\")\n",
    "plt.xlabel('Average Boundary Disorientation')\n",
    "plt.ylabel('Frequency')\n",
    "plt.axvline(x=30, color='red')\n",
    "plt.axvline(86, color='red')\n",
    "plt.hist(avg_boundary_disorients_over15, bins=np.arange(0,100,2), range=(0,100), density=True, weights=np.asarray(boundary_lens_over15))"
   ]
  },
  {
   "cell_type": "code",
   "execution_count": 92,
   "metadata": {},
   "outputs": [
    {
     "data": {
      "text/plain": [
       "<matplotlib.axes._subplots.AxesSubplot at 0x1d0eef1ef88>"
      ]
     },
     "execution_count": 92,
     "metadata": {},
     "output_type": "execute_result"
    },
    {
     "data": {
      "image/png": "[encoded data removed]",
      "text/plain": [
       "<Figure size 432x288 with 1 Axes>"
      ]
     },
     "metadata": {
      "needs_background": "light"
     },
     "output_type": "display_data"
    }
   ],
   "source": [
    "rdb_slice_1=rdb[np.where(rdb[:,5]==2)]\n",
    "rdb_edge_1=rdb_slice_1[np.where(rdb_slice_1[:,6]==1)]\n",
    "rdb_boundary_1=rdb_edge_1[np.where(rdb_edge_1[:,8]==3)]\n",
    "\n",
    "#plot labeled grains\n",
    "plt.xlim(0,11)\n",
    "plt.ylim(0,11)\n",
    "sns.scatterplot(x=rdb_slice_1[:,3],y=rdb_slice_1[:,4],marker='o',color='red')\n",
    "sns.scatterplot(x=rdb_edge_1[:,3],y=rdb_edge_1[:,4],marker='o',color='blue')\n",
    "sns.scatterplot(x=rdb_boundary_1[:,3],y=rdb_boundary_1[:,4],marker='o',color='green')"
   ]
  },
  {
   "cell_type": "code",
   "execution_count": 96,
   "metadata": {},
   "outputs": [],
   "source": [
    "# #create list of boundary disorientations\n",
    "# boundaries=[]\n",
    "\n",
    "# #find each misorientation\n",
    "# for key in rdb_boundary_1[:,9]:\n",
    "#     key=int(key)\n",
    "#     euler_one=[rdb[key][0],rdb[key][1],rdb[key][2]]\n",
    "#     for value in point_adj[key]:\n",
    "#         euler_two=[rdb[value][0],rdb[value][1],rdb[value][2]]\n",
    "#         vor_disorient=disorientation(euler_one,euler_two,hex_sym_ops)\n",
    "#         if vor_disorient > 15:\n",
    "#             boundaries.append(vor_disorient)\n",
    "            \n",
    "# #get avg and append to array\n",
    "# print(boundaries)\n",
    "# avg=sum(boundaries)/len(boundaries)\n",
    "# print(avg)"
   ]
  },
  {
   "cell_type": "code",
   "execution_count": 97,
   "metadata": {},
   "outputs": [
    {
     "data": {
      "text/plain": [
       "<matplotlib.axes._subplots.AxesSubplot at 0x1d0eb394588>"
      ]
     },
     "execution_count": 97,
     "metadata": {},
     "output_type": "execute_result"
    },
    {
     "data": {
      "image/png": "[encoded data removed]",
      "text/plain": [
       "<Figure size 432x288 with 1 Axes>"
      ]
     },
     "metadata": {
      "needs_background": "light"
     },
     "output_type": "display_data"
    }
   ],
   "source": [
    "rdb_slice_2=rdb[np.where(rdb[:,5]==3)]\n",
    "rdb_edge_2=rdb_slice_2[np.where(rdb_slice_2[:,6]==1)]\n",
    "rdb_boundary_2=rdb_edge_2[np.where(rdb_edge_2[:,8]==2)]\n",
    "\n",
    "#plot labeled grains\n",
    "plt.xlim(0,11)\n",
    "plt.ylim(0,11)\n",
    "sns.scatterplot(x=rdb_slice_2[:,3],y=rdb_slice_2[:,4],marker='o',color='red')\n",
    "sns.scatterplot(x=rdb_edge_2[:,3],y=rdb_edge_2[:,4],marker='o',color='blue')\n",
    "sns.scatterplot(x=rdb_boundary_2[:,3],y=rdb_boundary_2[:,4],marker='o',color='green')"
   ]
  },
  {
   "cell_type": "code",
   "execution_count": 98,
   "metadata": {},
   "outputs": [
    {
     "data": {
      "text/plain": [
       "<matplotlib.axes._subplots.AxesSubplot at 0x1d0e638d808>"
      ]
     },
     "execution_count": 98,
     "metadata": {},
     "output_type": "execute_result"
    },
    {
     "data": {
      "image/png": "[encoded data removed]",
      "text/plain": [
       "<Figure size 432x288 with 1 Axes>"
      ]
     },
     "metadata": {
      "needs_background": "light"
     },
     "output_type": "display_data"
    }
   ],
   "source": [
    "plt.xlim(0,11)\n",
    "plt.ylim(0,11)\n",
    "sns.scatterplot(x=rdb_slice_1[:,3],y=rdb_slice_1[:,4],marker='o',color='red')\n",
    "sns.scatterplot(x=rdb_edge_1[:,3],y=rdb_edge_1[:,4],marker='o',color='blue')\n",
    "sns.scatterplot(x=rdb_boundary_1[:,3],y=rdb_boundary_1[:,4],marker='o',color='green')\n",
    "sns.scatterplot(x=rdb_slice_2[:,3],y=rdb_slice_2[:,4],marker='o',color='red')\n",
    "sns.scatterplot(x=rdb_edge_2[:,3],y=rdb_edge_2[:,4],marker='o',color='blue')\n",
    "sns.scatterplot(x=rdb_boundary_2[:,3],y=rdb_boundary_2[:,4],marker='o',color='green')"
   ]
  },
  {
   "cell_type": "code",
   "execution_count": 227,
   "metadata": {},
   "outputs": [
    {
     "name": "stdout",
     "output_type": "stream",
     "text": [
      "[43.99800846 43.99800846 43.99800846 43.99800846 43.99800846 43.99800846\n",
      " 43.99800846 43.99800846 43.99800846 43.99800846 43.99800846 44.41568315\n",
      " 44.41568315 44.41568315 44.41568315 44.41568315 44.13118483 44.13118483\n",
      " 44.13118483 44.13118483 44.13118483 44.13118483 44.13118483 44.13118483\n",
      " 44.13118483 44.06506927 44.06506927 44.06506927 44.06506927 44.06506927\n",
      " 44.06506927 44.16951652 44.16951652 44.16951652]\n"
     ]
    }
   ],
   "source": [
    "#slice boundary\n",
    "X=rdb_boundary[:,3:5]\n",
    "y=rdb_boundary[:,5]\n",
    "\n",
    "#create model\n",
    "model = SVC(kernel='rbf', C=1e10, gamma=1)\n",
    "model.fit(X, y)\n",
    "\n",
    "#return length and coords of boundary\n",
    "boundary_len_, boundary_coords_ = svc_decision_boundary_length_and_coords(model,x_lim=(min(X[:,0]),max(X[:,0])),y_lim=(min(X[:,1]),max(X[:,1])),numb=30)\n",
    "\n",
    "# # append boundary length\n",
    "# boundary_lens[index]=boundary_len_\n",
    "\n",
    "#create two new columns to hold nearest neighbor and a third column for misorientation\n",
    "new_columns=np.zeros((len(boundary_coords_),3))\n",
    "boundary_coords_=np.concatenate((boundary_coords_,new_columns),axis=1)\n",
    "\n",
    "#row ID of nearest coord in bound1\n",
    "row_1_ID=0\n",
    "#for each SVM boundary point\n",
    "for row_1 in boundary_coords_:\n",
    "    coords_1=row_1[0:2]\n",
    "    distances_and_row_IDs=defaultdict(set)\n",
    "    #for each point in the first grain boundary\n",
    "    for row_2 in rdb_boundary_1:\n",
    "        coords_2=row_2[3:5]\n",
    "        #calculate distance\n",
    "        dist=round(distance.euclidean(coords_1,coords_2),3)\n",
    "        #add row ID of grain boundary point for misorient\n",
    "        distances_and_row_IDs[dist].add(row_2[9])\n",
    "    #find minimum distance\n",
    "    min_dist = min(distances_and_row_IDs.keys())\n",
    "    #add row ID of min dist\n",
    "    bound_1_ID=list(distances_and_row_IDs[min_dist])\n",
    "    boundary_coords_[row_1_ID,2]=bound_1_ID[0]\n",
    "    row_1_ID+=1       \n",
    "\n",
    "#bound2 neighbor of each coord\n",
    "row_1_ID=0\n",
    "#for each SVM boundary point\n",
    "for row_1 in boundary_coords_:\n",
    "    coords_1=row_1[0:2]\n",
    "    distances_and_row_IDs=defaultdict(set)\n",
    "    #for each point in the first grain boundary\n",
    "    for row_2 in rdb_boundary_2:\n",
    "        coords_2=row_2[3:5]\n",
    "        #calculate distance\n",
    "        dist=round(distance.euclidean(coords_1,coords_2),3)\n",
    "        #add row ID of grain boundary point for misorient\n",
    "        distances_and_row_IDs[dist].add(row_2[9])\n",
    "    #find minimum distance\n",
    "    min_dist = min(distances_and_row_IDs.keys())\n",
    "    #add row ID of min dist\n",
    "    bound_1_ID=list(distances_and_row_IDs[min_dist])\n",
    "    boundary_coords_[row_1_ID,3]=bound_1_ID[0]\n",
    "    row_1_ID+=1 \n",
    "\n",
    "# print(boundary_coords_[:,2:4])\n",
    "\n",
    "# #calculate each misorientation\n",
    "row_ID=0\n",
    "for row in boundary_coords_:\n",
    "    key=int(boundary_coords_[row_ID,2])-1\n",
    "    euler_one_=[rdb[key][0],rdb[key][1],rdb[key][2]]\n",
    "    value=int(boundary_coords_[row_ID,3])-1\n",
    "    euler_two_=[rdb[value][0],rdb[value][1],rdb[value][2]]\n",
    "    boundary_coords_[row_ID,4]=disorientation(euler_one_,euler_two_,hex_sym_ops)\n",
    "    row_ID+=1\n",
    "    \n",
    "print(boundary_coords_[:,4])\n",
    "\n",
    "# # #find the total average and append\n",
    "# # avg_boundary_disorients[index]=np.mean(boundary_coords_[:,4])\n",
    "            \n",
    "            "
   ]
  },
  {
   "cell_type": "code",
   "execution_count": 279,
   "metadata": {},
   "outputs": [],
   "source": [
    "#initialize misorientations and lengths/weights for histogram\n",
    "avg_boundary_disorients = np.zeros((5000,1))\n",
    "boundary_lens = np.zeros((5000,1))\n",
    "\n",
    "#create point adj dict\n",
    "point_adj=adj_dict(rdb)\n",
    "\n",
    "index=0\n",
    "# for each grain\n",
    "for grain_ID_1_ in np.unique(rdb[:,5]):\n",
    "    #get the points and edges of the grain\n",
    "    rdb_slice_1_=rdb[np.where(rdb[:,5]==grain_ID_1_)]\n",
    "    rdb_edge_1_=rdb_slice_1_[np.where(rdb_slice_1_[:,6]==1)]\n",
    "    \n",
    "    #for each neighboring grain\n",
    "    for grain_ID_2_ in grain_neigh[grain_ID_1_]:\n",
    "        #don't compare the same grain\n",
    "        if int(grain_ID_1_) != int(grain_ID_2_):\n",
    "            #get the boundary points of grain 1 with grain 2\n",
    "            rdb_boundary_1_=rdb_edge_1_[np.where(rdb_edge_1_[:,8]==grain_ID_2_)]\n",
    "\n",
    "            #slice grain 2\n",
    "            rdb_slice_2_=rdb[np.where(rdb[:,5]==grain_ID_2_)]\n",
    "            rdb_edge_2_=rdb_slice_2_[np.where(rdb_slice_2_[:,6]==1)]\n",
    "            rdb_boundary_2_=rdb_edge_2_[np.where(rdb_edge_2_[:,8]==grain_ID_1_)]\n",
    "            \n",
    "            #append boundaries together\n",
    "            rdb_boundary_=np.append(rdb_boundary_1_, rdb_boundary_2_, axis=0)\n",
    "\n",
    "            #slice boundary\n",
    "            X=rdb_boundary_[:,3:5]\n",
    "            y=rdb_boundary_[:,5]\n",
    "            \n",
    "            #if no points, bad\n",
    "            if len(X) < 2:\n",
    "                break\n",
    "            \n",
    "            #don't sample the same grain\n",
    "            if len(np.unique(y)) < 2:\n",
    "                break\n",
    "\n",
    "            #create model\n",
    "            model = SVC(kernel='rbf', C=1e10, gamma=1)\n",
    "            model.fit(X, y)\n",
    "            #return length and coords of boundary\n",
    "            boundary_len_, boundary_coords_ = svc_decision_boundary_length_and_coords(model,x_lim=(min(X[:,0]),max(X[:,0])),y_lim=(min(X[:,1]),max(X[:,1])),numb=30)\n",
    "\n",
    "            # append boundary length\n",
    "            boundary_lens[index]=boundary_len_\n",
    "\n",
    "            #create two new columns to hold nearest neighbor and a third column for misorientation\n",
    "            new_columns=np.zeros((len(boundary_coords_),3))\n",
    "            boundary_coords_=np.concatenate((boundary_coords_,new_columns),axis=1)\n",
    "\n",
    "            #row ID of nearest coord in bound1\n",
    "            row_1_ID=0\n",
    "            #for each SVM boundary point\n",
    "            for row_1 in boundary_coords_:\n",
    "                coords_1=row_1[0:2]\n",
    "                distances_and_row_IDs=defaultdict(set)\n",
    "                #for each point in the first grain boundary\n",
    "                for row_2 in rdb_boundary_1_:\n",
    "                    coords_2=row_2[3:5]\n",
    "                    #calculate distance\n",
    "                    dist=round(distance.euclidean(coords_1,coords_2),3)\n",
    "                    #add row ID of grain boundary point for misorient\n",
    "                    distances_and_row_IDs[dist].add(row_2[9])\n",
    "                #find minimum distance\n",
    "                min_dist = min(distances_and_row_IDs.keys())\n",
    "                #add row ID of min dist\n",
    "                bound_1_ID=list(distances_and_row_IDs[min_dist])\n",
    "                boundary_coords_[row_1_ID,2]=bound_1_ID[0]\n",
    "                row_1_ID+=1       \n",
    "\n",
    "            #bound2 neighbor of each coord\n",
    "            row_1_ID=0\n",
    "            #for each SVM boundary point\n",
    "            for row_1 in boundary_coords_:\n",
    "                coords_1=row_1[0:2]\n",
    "                distances_and_row_IDs=defaultdict(set)\n",
    "                #for each point in the first grain boundary\n",
    "                for row_2 in rdb_boundary_2_:\n",
    "                    coords_2=row_2[3:5]\n",
    "                    #calculate distance\n",
    "                    dist=round(distance.euclidean(coords_1,coords_2),3)\n",
    "                    #add row ID of grain boundary point for misorient\n",
    "                    distances_and_row_IDs[dist].add(row_2[9])\n",
    "                #find minimum distance\n",
    "                min_dist = min(distances_and_row_IDs.keys())\n",
    "                #add row ID of min dist\n",
    "                bound_1_ID=list(distances_and_row_IDs[min_dist])\n",
    "                boundary_coords_[row_1_ID,3]=bound_1_ID[0]\n",
    "                row_1_ID+=1 \n",
    "\n",
    "            #calculate each misorientation\n",
    "            row_ID=0\n",
    "            for row in boundary_coords_:\n",
    "                key=int(boundary_coords_[row_ID,2])-1\n",
    "                euler_one_=[rdb[key][0],rdb[key][1],rdb[key][2]]\n",
    "                value=int(boundary_coords_[row_ID,3])-1\n",
    "                euler_two_=[rdb[value][0],rdb[value][1],rdb[value][2]]\n",
    "                boundary_coords_[row_ID,4]=disorientation(euler_one_,euler_two_,hex_sym_ops)\n",
    "                row_ID+=1\n",
    "\n",
    "            #find the total average and append\n",
    "            avg_boundary_disorients[index]=np.mean(boundary_coords_[:,4])\n",
    "           \n",
    "            index+=1"
   ]
  },
  {
   "cell_type": "code",
   "execution_count": 280,
   "metadata": {},
   "outputs": [],
   "source": [
    "keep=np.where(avg_boundary_disorients>15)\n",
    "avg_boundary_disorients_over15 = avg_boundary_disorients[keep]\n",
    "boundary_lens_over15 = boundary_lens[keep]"
   ]
  },
  {
   "cell_type": "code",
   "execution_count": 253,
   "metadata": {},
   "outputs": [
    {
     "ename": "NameError",
     "evalue": "name 'avg_boundary_disorients_over15' is not defined",
     "output_type": "error",
     "traceback": [
      "\u001b[1;31m---------------------------------------------------------------------------\u001b[0m",
      "\u001b[1;31mNameError\u001b[0m                                 Traceback (most recent call last)",
      "\u001b[1;32m<ipython-input-253-a29b463950f4>\u001b[0m in \u001b[0;36m<module>\u001b[1;34m\u001b[0m\n\u001b[0;32m      7\u001b[0m \u001b[0mplt\u001b[0m\u001b[1;33m.\u001b[0m\u001b[0maxvline\u001b[0m\u001b[1;33m(\u001b[0m\u001b[0mx\u001b[0m\u001b[1;33m=\u001b[0m\u001b[1;36m30\u001b[0m\u001b[1;33m,\u001b[0m \u001b[0mcolor\u001b[0m\u001b[1;33m=\u001b[0m\u001b[1;34m'red'\u001b[0m\u001b[1;33m)\u001b[0m\u001b[1;33m\u001b[0m\u001b[1;33m\u001b[0m\u001b[0m\n\u001b[0;32m      8\u001b[0m \u001b[0mplt\u001b[0m\u001b[1;33m.\u001b[0m\u001b[0maxvline\u001b[0m\u001b[1;33m(\u001b[0m\u001b[1;36m86\u001b[0m\u001b[1;33m,\u001b[0m \u001b[0mcolor\u001b[0m\u001b[1;33m=\u001b[0m\u001b[1;34m'red'\u001b[0m\u001b[1;33m)\u001b[0m\u001b[1;33m\u001b[0m\u001b[1;33m\u001b[0m\u001b[0m\n\u001b[1;32m----> 9\u001b[1;33m \u001b[0mplt\u001b[0m\u001b[1;33m.\u001b[0m\u001b[0mhist\u001b[0m\u001b[1;33m(\u001b[0m\u001b[0mavg_boundary_disorients_over15\u001b[0m\u001b[1;33m,\u001b[0m \u001b[0mbins\u001b[0m\u001b[1;33m=\u001b[0m\u001b[0mnp\u001b[0m\u001b[1;33m.\u001b[0m\u001b[0marange\u001b[0m\u001b[1;33m(\u001b[0m\u001b[1;36m0\u001b[0m\u001b[1;33m,\u001b[0m\u001b[1;36m100\u001b[0m\u001b[1;33m,\u001b[0m\u001b[1;36m2\u001b[0m\u001b[1;33m)\u001b[0m\u001b[1;33m,\u001b[0m \u001b[0mrange\u001b[0m\u001b[1;33m=\u001b[0m\u001b[1;33m(\u001b[0m\u001b[1;36m0\u001b[0m\u001b[1;33m,\u001b[0m\u001b[1;36m100\u001b[0m\u001b[1;33m)\u001b[0m\u001b[1;33m,\u001b[0m \u001b[0mdensity\u001b[0m\u001b[1;33m=\u001b[0m\u001b[1;32mTrue\u001b[0m\u001b[1;33m)\u001b[0m\u001b[1;33m\u001b[0m\u001b[1;33m\u001b[0m\u001b[0m\n\u001b[0m",
      "\u001b[1;31mNameError\u001b[0m: name 'avg_boundary_disorients_over15' is not defined"
     ]
    },
    {
     "data": {
      "image/png": "[encoded data removed]",
      "text/plain": [
       "<Figure size 432x288 with 1 Axes>"
      ]
     },
     "metadata": {},
     "output_type": "display_data"
    }
   ],
   "source": [
    "#unweighted\n",
    "plt.xlim(15,100)\n",
    "plt.ylim(0,0.025)\n",
    "plt.title(\"Grain Boundary Misorientation\")\n",
    "plt.xlabel('Average Boundary Disorientation')\n",
    "plt.ylabel('Frequency')\n",
    "plt.axvline(x=30, color='red')\n",
    "plt.axvline(86, color='red')\n",
    "plt.hist(avg_boundary_disorients_over15, bins=np.arange(0,100,2), range=(0,100), density=True)"
   ]
  },
  {
   "cell_type": "code",
   "execution_count": 282,
   "metadata": {},
   "outputs": [
    {
     "data": {
      "text/plain": [
       "(array([0.        , 0.        , 0.        , 0.        , 0.        ,\n",
       "        0.        , 0.        , 0.0009582 , 0.00730682, 0.00940105,\n",
       "        0.01437747, 0.01704179, 0.01726705, 0.01968343, 0.01923523,\n",
       "        0.021936  , 0.01988539, 0.01589685, 0.01443155, 0.01167442,\n",
       "        0.01174705, 0.01378906, 0.01298334, 0.00883493, 0.01126821,\n",
       "        0.00983357, 0.01030751, 0.00938326, 0.00974664, 0.01489369,\n",
       "        0.01131576, 0.01134896, 0.01253158, 0.00958693, 0.0112367 ,\n",
       "        0.01323539, 0.01353383, 0.01362232, 0.00983721, 0.01301257,\n",
       "        0.01446544, 0.01522718, 0.0122869 , 0.01530978, 0.01617063,\n",
       "        0.00501766, 0.00037865, 0.        , 0.        ]),\n",
       " array([ 0,  2,  4,  6,  8, 10, 12, 14, 16, 18, 20, 22, 24, 26, 28, 30, 32,\n",
       "        34, 36, 38, 40, 42, 44, 46, 48, 50, 52, 54, 56, 58, 60, 62, 64, 66,\n",
       "        68, 70, 72, 74, 76, 78, 80, 82, 84, 86, 88, 90, 92, 94, 96, 98]),\n",
       " <a list of 49 Patch objects>)"
      ]
     },
     "execution_count": 282,
     "metadata": {},
     "output_type": "execute_result"
    },
    {
     "data": {
      "image/png": "[encoded data removed]",
      "text/plain": [
       "<Figure size 432x288 with 1 Axes>"
      ]
     },
     "metadata": {
      "needs_background": "light"
     },
     "output_type": "display_data"
    }
   ],
   "source": [
    "#weighted\n",
    "plt.xlim(15,100)\n",
    "plt.ylim(0,0.025)\n",
    "plt.title(\"100%, Weighted\")\n",
    "plt.xlabel('Average Boundary Disorientation')\n",
    "plt.ylabel('Frequency')\n",
    "plt.axvline(x=30, color='red')\n",
    "plt.axvline(86, color='red')\n",
    "plt.hist(avg_boundary_disorients_over15, bins=np.arange(0,100,2), range=(0,100), density=True, weights=np.asarray(boundary_lens_over15))"
   ]
  },
  {
   "cell_type": "code",
   "execution_count": 67,
   "metadata": {},
   "outputs": [],
   "source": [
    "def grain_misorients(array, hist=True):\n",
    "    #add boundaries - 6\n",
    "    boundaries=np.zeros((len(array),1))\n",
    "    rdb=np.concatenate((array,boundaries.reshape(-1,1)),axis=1)\n",
    "\n",
    "    #add neighbors for rec_neighbors - 7\n",
    "    neighbors=np.zeros((len(array),1))\n",
    "    rdb=np.concatenate((rdb,neighbors.reshape(-1,1)),axis=1)\n",
    "\n",
    "    #add neighbors for points/grains - 8\n",
    "    rdb=np.concatenate((rdb,neighbors.reshape(-1,1)),axis=1)\n",
    "\n",
    "    #add row_IDs for adj dict - 9\n",
    "    row_IDs=np.arange(1,len(array)+1)\n",
    "    rdb=np.concatenate((rdb,row_IDs.reshape(-1,1)),axis=1)\n",
    "\n",
    "    #add column for len calculation - 10\n",
    "    length=np.zeros((len(array),1))\n",
    "    rdb=np.concatenate((rdb,length.reshape(-1,1)),axis=1)\n",
    "    \n",
    "    #create point and grain adj dicts\n",
    "    point_adj=adj_dict(rdb)\n",
    "    grain_neigh=label_rdb_and_create_grainadj(rdb)\n",
    "    \n",
    "    #initialize misorientations and lengths/weights for histogram\n",
    "    avg_boundary_disorients = np.zeros((5000,1))\n",
    "    boundary_lens = np.zeros((5000,1))\n",
    "    \n",
    "    #calculate grain misorients and lengths\n",
    "    #**************************************\n",
    "    \n",
    "    index=0\n",
    "    # for each grain\n",
    "    for grain_ID_1_ in np.unique(rdb[:,5]):\n",
    "        #get the points and edges of the grain\n",
    "        rdb_slice_1_=rdb[np.where(rdb[:,5]==grain_ID_1_)]\n",
    "        rdb_edge_1_=rdb_slice_1_[np.where(rdb_slice_1_[:,6]==1)]\n",
    "\n",
    "        #for each neighboring grain\n",
    "        for grain_ID_2_ in grain_neigh[grain_ID_1_]:\n",
    "            #don't compare the same grain\n",
    "            if int(grain_ID_1_) != int(grain_ID_2_):\n",
    "                #get the boundary points of grain 1 with grain 2\n",
    "                rdb_boundary_1_=rdb_edge_1_[np.where(rdb_edge_1_[:,8]==grain_ID_2_)]\n",
    "\n",
    "                #slice grain 2\n",
    "                rdb_slice_2_=rdb[np.where(rdb[:,5]==grain_ID_2_)]\n",
    "                rdb_edge_2_=rdb_slice_2_[np.where(rdb_slice_2_[:,6]==1)]\n",
    "                rdb_boundary_2_=rdb_edge_2_[np.where(rdb_edge_2_[:,8]==grain_ID_1_)]\n",
    "\n",
    "                #append boundaries together\n",
    "                rdb_boundary_=np.append(rdb_boundary_1_, rdb_boundary_2_, axis=0)\n",
    "\n",
    "                #slice boundary\n",
    "                X=rdb_boundary_[:,3:5]\n",
    "                y=rdb_boundary_[:,5]\n",
    "\n",
    "                #if no points, bad\n",
    "                if len(X) < 2:\n",
    "                    break\n",
    "\n",
    "                #don't sample the same grain\n",
    "                if len(np.unique(y)) < 2:\n",
    "                    break\n",
    "\n",
    "                #create model\n",
    "                model = SVC(kernel='rbf', C=1e10, gamma=1)\n",
    "                model.fit(X, y)\n",
    "                #return length and coords of boundary\n",
    "                boundary_len_, boundary_coords_ = svc_decision_boundary_length_and_coords(model,x_lim=(min(X[:,0]),max(X[:,0])),y_lim=(min(X[:,1]),max(X[:,1])),numb=30)\n",
    "\n",
    "                # append boundary length\n",
    "                boundary_lens[index]=boundary_len_\n",
    "\n",
    "                #create two new columns to hold nearest neighbor and a third column for misorientation\n",
    "                new_columns=np.zeros((len(boundary_coords_),3))\n",
    "                boundary_coords_=np.concatenate((boundary_coords_,new_columns),axis=1)\n",
    "\n",
    "                #row ID of nearest coord in bound1\n",
    "                row_1_ID=0\n",
    "                #for each SVM boundary point\n",
    "                for row_1 in boundary_coords_:\n",
    "                    coords_1=row_1[0:2]\n",
    "                    distances_and_row_IDs=defaultdict(set)\n",
    "                    #for each point in the first grain boundary\n",
    "                    for row_2 in rdb_boundary_1_:\n",
    "                        coords_2=row_2[3:5]\n",
    "                        #calculate distance\n",
    "                        dist=round(distance.euclidean(coords_1,coords_2),3)\n",
    "                        #add row ID of grain boundary point for misorient\n",
    "                        distances_and_row_IDs[dist].add(row_2[9])\n",
    "                    #find minimum distance\n",
    "                    min_dist = min(distances_and_row_IDs.keys())\n",
    "                    #add row ID of min dist\n",
    "                    bound_1_ID=list(distances_and_row_IDs[min_dist])\n",
    "                    boundary_coords_[row_1_ID,2]=bound_1_ID[0]\n",
    "                    row_1_ID+=1       \n",
    "\n",
    "                #bound2 neighbor of each coord\n",
    "                row_1_ID=0\n",
    "                #for each SVM boundary point\n",
    "                for row_1 in boundary_coords_:\n",
    "                    coords_1=row_1[0:2]\n",
    "                    distances_and_row_IDs=defaultdict(set)\n",
    "                    #for each point in the first grain boundary\n",
    "                    for row_2 in rdb_boundary_2_:\n",
    "                        coords_2=row_2[3:5]\n",
    "                        #calculate distance\n",
    "                        dist=round(distance.euclidean(coords_1,coords_2),3)\n",
    "                        #add row ID of grain boundary point for misorient\n",
    "                        distances_and_row_IDs[dist].add(row_2[9])\n",
    "                    #find minimum distance\n",
    "                    min_dist = min(distances_and_row_IDs.keys())\n",
    "                    #add row ID of min dist\n",
    "                    bound_1_ID=list(distances_and_row_IDs[min_dist])\n",
    "                    boundary_coords_[row_1_ID,3]=bound_1_ID[0]\n",
    "                    row_1_ID+=1 \n",
    "\n",
    "                #calculate each misorientation\n",
    "                row_ID=0\n",
    "                for row in boundary_coords_:\n",
    "                    key=int(boundary_coords_[row_ID,2])-1\n",
    "                    euler_one_=[rdb[key][0],rdb[key][1],rdb[key][2]]\n",
    "                    value=int(boundary_coords_[row_ID,3])-1\n",
    "                    euler_two_=[rdb[value][0],rdb[value][1],rdb[value][2]]\n",
    "                    boundary_coords_[row_ID,4]=disorientation(euler_one_,euler_two_,hex_sym_ops)\n",
    "                    row_ID+=1\n",
    "\n",
    "                #find the total average and append\n",
    "                avg_boundary_disorients[index]=np.mean(boundary_coords_[:,4])\n",
    "\n",
    "                index+=1\n",
    "                \n",
    "    #**************************************\n",
    "    \n",
    "    #discard misorientations below 15 degrees\n",
    "    keep=np.where(avg_boundary_disorients>15)\n",
    "    avg_boundary_disorients_over15 = avg_boundary_disorients[keep]\n",
    "    boundary_lens_over15 = boundary_lens[keep]\n",
    "    abd=avg_boundary_disorients_over15\n",
    "    bl=boundary_lens_over15\n",
    "    count=np.multiply(abd,bl)\n",
    "    \n",
    "    #plot\n",
    "#     plt.xlim(15,100)\n",
    "#     plt.ylim(0,0.025)\n",
    "# #     plt.hist(abd, bins=np.arange(15,100,2), range=(15,100), density=True, weights=np.asarray(bl))\n",
    "#     plt.title('Grain Boundary Misorientations')\n",
    "#     plt.xlabel('Average Boundary Misorientation')\n",
    "#     plt.ylabel('Frequency')\n",
    "#     plt.hist(abd, bins=np.arange(15,100,2), range=(15,100), density=True)\n",
    "    \n",
    "#     q_hist, q_bin_edges = np.histogram(abd, bins=np.arange(15,100,2), range=(15,100), density=True, weights=np.asarray(bl))\n",
    "    q_hist, q_bin_edges = np.histogram(abd, bins=np.arange(15,100,2), range=(15,100), density=True)\n",
    "    q_hist = np.append(q_hist, 0)\n",
    "    q=q_hist\n",
    "    q[q==0]=[0.0000000000001]\n",
    "    \n",
    "    #create histogram\n",
    "    if hist==True:\n",
    "        return q\n",
    "    \n",
    "    else:\n",
    "        mean=np.mean(abd)\n",
    "        var=np.var(abd)\n",
    "        return mean, var"
   ]
  },
  {
   "cell_type": "code",
   "execution_count": 91,
   "metadata": {},
   "outputs": [
    {
     "name": "stderr",
     "output_type": "stream",
     "text": [
      "C:\\Users\\GREEN\\AppData\\Local\\Continuum\\anaconda3\\lib\\site-packages\\ipykernel_launcher.py:29: RuntimeWarning: invalid value encountered in arccos\n"
     ]
    }
   ],
   "source": [
    "grain_misorient_p=grain_misorients(raw_data)"
   ]
  },
  {
   "cell_type": "code",
   "execution_count": 210,
   "metadata": {},
   "outputs": [
    {
     "name": "stderr",
     "output_type": "stream",
     "text": [
      "C:\\Users\\GREEN\\AppData\\Local\\Continuum\\anaconda3\\lib\\site-packages\\ipykernel_launcher.py:29: RuntimeWarning: invalid value encountered in arccos\n"
     ]
    },
    {
     "data": {
      "image/png": "[encoded data removed]",
      "text/plain": [
       "<Figure size 432x288 with 1 Axes>"
      ]
     },
     "metadata": {},
     "output_type": "display_data"
    }
   ],
   "source": [
    "grain_misorient_p_2=grain_misorients(raw_data)"
   ]
  },
  {
   "cell_type": "code",
   "execution_count": 211,
   "metadata": {},
   "outputs": [],
   "source": [
    "grain_misorient_unweighted=grain_misorient_p_2"
   ]
  },
  {
   "cell_type": "code",
   "execution_count": 243,
   "metadata": {},
   "outputs": [
    {
     "name": "stderr",
     "output_type": "stream",
     "text": [
      "C:\\Users\\GREEN\\AppData\\Local\\Continuum\\anaconda3\\lib\\site-packages\\ipykernel_launcher.py:29: RuntimeWarning: invalid value encountered in arccos\n"
     ]
    }
   ],
   "source": [
    "gm_total_mean, gm_total_var=grain_misorients(raw_data,hist=False)"
   ]
  },
  {
   "cell_type": "code",
   "execution_count": 87,
   "metadata": {},
   "outputs": [],
   "source": [
    "def random_grain_misorient(sample, hist_bool=True):\n",
    "    sliced_raw_data = raw_data[np.random.choice(raw_data.shape[0], sample, replace=False), :]\n",
    "    \n",
    "    if hist_bool==True:\n",
    "        grain_misorient_q = grain_misorients(sliced_raw_data)\n",
    "        return js_divergence_scipy(grain_misorient_p,grain_misorient_q)\n",
    "    \n",
    "    else:\n",
    "        sample_mean, sample_var = grain_misorients(sliced_raw_data,hist=False)\n",
    "        return sample_mean, sample_var\n",
    "\n",
    "def grid_grain_misorient(sample,square=True, hist_bool=True):\n",
    "    phi = (np.sqrt(5)+1)/2\n",
    "    ratio = np.sqrt(3)/2 # cos(60°)\n",
    "    coords = raw_data[:,3:5]\n",
    "    N = sample\n",
    "    \n",
    "    if square == True:\n",
    "        N_X = int(np.sqrt(N))\n",
    "        N_Y = N // N_X\n",
    "        xv, yv = np.meshgrid(np.arange(N_X), np.arange(N_Y), sparse=False, indexing='xy')\n",
    "        square_coords=np.concatenate((xv.reshape(-1,1), yv.reshape(-1,1)), axis=1)\n",
    "        square_coords[:,0] = square_coords[:,0] * (np.amax(raw_data[:,3]) / np.amax(square_coords[:,0]))\n",
    "        square_coords[:,1] = square_coords[:,1] * (np.amax(raw_data[:,4]) / np.amax(square_coords[:,1]))\n",
    "        grid_sample=raw_data[nearest_neighbors(square_coords,coords)]\n",
    "        sliced_raw_data=grid_sample[:,0]\n",
    "        \n",
    "    else: #hexagon\n",
    "        N_X = int(np.sqrt(N)/ratio)\n",
    "        N_Y = N // N_X\n",
    "        xv, yv = np.meshgrid(np.arange(N_X), np.arange(N_Y), sparse=False, indexing='xy')\n",
    "        xv = xv * ratio\n",
    "        xv[::2, :] += ratio/2\n",
    "        hex_coords=np.concatenate((xv.reshape(-1,1), yv.reshape(-1,1)), axis=1)\n",
    "        hex_coords[:,0] *= (np.amax(raw_data[:,3]) / np.amax(hex_coords[:,0]))\n",
    "        hex_coords[:,1] *= (np.amax(raw_data[:,4]) / np.amax(hex_coords[:,1]))\n",
    "        grid_sample=raw_data[nearest_neighbors(hex_coords,coords)]\n",
    "        sliced_raw_data=grid_sample[:,0]\n",
    "    \n",
    "    if hist_bool==True:\n",
    "        grain_misorient_q = grain_misorients(sliced_raw_data)\n",
    "        return js_divergence_scipy(grain_misorient_p,grain_misorient_q)\n",
    "    \n",
    "    else:\n",
    "        sample_mean, sample_var = grain_misorients(sliced_raw_data,hist=False)\n",
    "        return sample_mean, sample_var\n",
    "\n",
    "def quasirandom_grain_misorient(sample,gold=True, hist_bool=True):\n",
    "    if gold == True:\n",
    "        #choose 2D golden points\n",
    "        golden_2D = golden(sample)\n",
    "        golden_2D[:,0]*=np.amax(raw_data[:,3])\n",
    "        golden_2D[:,1]*=np.amax(raw_data[:,4])\n",
    "        golden_sample=raw_data[nearest_neighbors(golden_2D,coords)]\n",
    "        sliced_raw_data=golden_sample[:,0]\n",
    "\n",
    "    else:\n",
    "        #choose 2D sobol points\n",
    "        sobol = (sobol_seq.i4_sobol_generate(2, sample))\n",
    "        sobol[:,0]*=np.amax(raw_data[:,3])\n",
    "        sobol[:,1]*=np.amax(raw_data[:,4])\n",
    "        sobol_sample=raw_data[nearest_neighbors(sobol,coords)]\n",
    "        sliced_raw_data=sobol_sample[:,0]\n",
    "    \n",
    "    if hist_bool==True:\n",
    "        grain_misorient_q = grain_misorients(sliced_raw_data)\n",
    "        return js_divergence_scipy(grain_misorient_p,grain_misorient_q)\n",
    "    \n",
    "    else:\n",
    "        sample_mean, sample_var = grain_misorients(sliced_raw_data,hist=False)\n",
    "        return sample_mean, sample_var"
   ]
  },
  {
   "cell_type": "code",
   "execution_count": 211,
   "metadata": {},
   "outputs": [],
   "source": [
    "meanvar_percent_1_100=[]\n",
    "for x in range (1000,10000,1000):\n",
    "        meanvar_percent_1_100.append((x/87000)*100)"
   ]
  },
  {
   "cell_type": "code",
   "execution_count": 212,
   "metadata": {},
   "outputs": [
    {
     "name": "stdout",
     "output_type": "stream",
     "text": [
      "Stored 'meanvar_percent_1_100' (list)\n"
     ]
    }
   ],
   "source": [
    "%store meanvar_percent_1_100"
   ]
  },
  {
   "cell_type": "code",
   "execution_count": 213,
   "metadata": {},
   "outputs": [
    {
     "name": "stderr",
     "output_type": "stream",
     "text": [
      "C:\\Users\\GREEN\\AppData\\Local\\Continuum\\anaconda3\\lib\\site-packages\\ipykernel_launcher.py:29: RuntimeWarning: invalid value encountered in arccos\n",
      "C:\\Users\\GREEN\\AppData\\Local\\Continuum\\anaconda3\\lib\\site-packages\\ipykernel_launcher.py:29: RuntimeWarning: invalid value encountered in arccos\n",
      "C:\\Users\\GREEN\\AppData\\Local\\Continuum\\anaconda3\\lib\\site-packages\\ipykernel_launcher.py:29: RuntimeWarning: invalid value encountered in arccos\n",
      "C:\\Users\\GREEN\\AppData\\Local\\Continuum\\anaconda3\\lib\\site-packages\\ipykernel_launcher.py:29: RuntimeWarning: invalid value encountered in arccos\n",
      "C:\\Users\\GREEN\\AppData\\Local\\Continuum\\anaconda3\\lib\\site-packages\\ipykernel_launcher.py:29: RuntimeWarning: invalid value encountered in arccos\n",
      "C:\\Users\\GREEN\\AppData\\Local\\Continuum\\anaconda3\\lib\\site-packages\\ipykernel_launcher.py:29: RuntimeWarning: invalid value encountered in arccos\n",
      "C:\\Users\\GREEN\\AppData\\Local\\Continuum\\anaconda3\\lib\\site-packages\\ipykernel_launcher.py:29: RuntimeWarning: invalid value encountered in arccos\n",
      "C:\\Users\\GREEN\\AppData\\Local\\Continuum\\anaconda3\\lib\\site-packages\\ipykernel_launcher.py:29: RuntimeWarning: invalid value encountered in arccos\n",
      "C:\\Users\\GREEN\\AppData\\Local\\Continuum\\anaconda3\\lib\\site-packages\\ipykernel_launcher.py:29: RuntimeWarning: invalid value encountered in arccos\n"
     ]
    }
   ],
   "source": [
    "gm_random_mean=[]\n",
    "gm_random_var=[]\n",
    "\n",
    "for x in range (1000,10000,1000):\n",
    "    new_mean, new_var=random_grain_misorient(x,hist_bool=False)\n",
    "    gm_random_mean.append(new_mean)\n",
    "    gm_random_var.append(new_var)\n",
    "\n",
    "gm_random_std=np.sqrt(gm_random_var)   "
   ]
  },
  {
   "cell_type": "code",
   "execution_count": 214,
   "metadata": {},
   "outputs": [
    {
     "name": "stdout",
     "output_type": "stream",
     "text": [
      "Stored 'gm_random_mean' (list)\n",
      "Stored 'gm_random_var' (list)\n"
     ]
    }
   ],
   "source": [
    "%store gm_random_mean\n",
    "%store gm_random_var"
   ]
  },
  {
   "cell_type": "code",
   "execution_count": 238,
   "metadata": {},
   "outputs": [
    {
     "name": "stderr",
     "output_type": "stream",
     "text": [
      "C:\\Users\\GREEN\\AppData\\Local\\Continuum\\anaconda3\\lib\\site-packages\\ipykernel_launcher.py:29: RuntimeWarning: invalid value encountered in arccos\n",
      "C:\\Users\\GREEN\\AppData\\Local\\Continuum\\anaconda3\\lib\\site-packages\\ipykernel_launcher.py:29: RuntimeWarning: invalid value encountered in arccos\n",
      "C:\\Users\\GREEN\\AppData\\Local\\Continuum\\anaconda3\\lib\\site-packages\\ipykernel_launcher.py:29: RuntimeWarning: invalid value encountered in arccos\n",
      "C:\\Users\\GREEN\\AppData\\Local\\Continuum\\anaconda3\\lib\\site-packages\\ipykernel_launcher.py:29: RuntimeWarning: invalid value encountered in arccos\n",
      "C:\\Users\\GREEN\\AppData\\Local\\Continuum\\anaconda3\\lib\\site-packages\\ipykernel_launcher.py:29: RuntimeWarning: invalid value encountered in arccos\n",
      "C:\\Users\\GREEN\\AppData\\Local\\Continuum\\anaconda3\\lib\\site-packages\\ipykernel_launcher.py:29: RuntimeWarning: invalid value encountered in arccos\n",
      "C:\\Users\\GREEN\\AppData\\Local\\Continuum\\anaconda3\\lib\\site-packages\\ipykernel_launcher.py:29: RuntimeWarning: invalid value encountered in arccos\n",
      "C:\\Users\\GREEN\\AppData\\Local\\Continuum\\anaconda3\\lib\\site-packages\\ipykernel_launcher.py:29: RuntimeWarning: invalid value encountered in arccos\n",
      "C:\\Users\\GREEN\\AppData\\Local\\Continuum\\anaconda3\\lib\\site-packages\\ipykernel_launcher.py:29: RuntimeWarning: invalid value encountered in arccos\n"
     ]
    }
   ],
   "source": [
    "gm_sobol_mean=[]\n",
    "gm_sobol_var=[]\n",
    "\n",
    "for x in range (1000,10000,1000):\n",
    "    new_mean, new_var=quasirandom_grain_misorient(x,gold=False,hist_bool=False)\n",
    "    gm_sobol_mean.append(new_mean)\n",
    "    gm_sobol_var.append(new_var)\n",
    "\n",
    "gm_sobol_std=np.sqrt(gm_sobol_var)   "
   ]
  },
  {
   "cell_type": "code",
   "execution_count": 239,
   "metadata": {},
   "outputs": [
    {
     "name": "stdout",
     "output_type": "stream",
     "text": [
      "Stored 'gm_sobol_mean' (list)\n",
      "Stored 'gm_sobol_var' (list)\n"
     ]
    }
   ],
   "source": [
    "%store gm_sobol_mean\n",
    "%store gm_sobol_var"
   ]
  },
  {
   "cell_type": "code",
   "execution_count": 240,
   "metadata": {},
   "outputs": [
    {
     "name": "stderr",
     "output_type": "stream",
     "text": [
      "C:\\Users\\GREEN\\AppData\\Local\\Continuum\\anaconda3\\lib\\site-packages\\ipykernel_launcher.py:29: RuntimeWarning: invalid value encountered in arccos\n",
      "C:\\Users\\GREEN\\AppData\\Local\\Continuum\\anaconda3\\lib\\site-packages\\ipykernel_launcher.py:29: RuntimeWarning: invalid value encountered in arccos\n",
      "C:\\Users\\GREEN\\AppData\\Local\\Continuum\\anaconda3\\lib\\site-packages\\ipykernel_launcher.py:29: RuntimeWarning: invalid value encountered in arccos\n",
      "C:\\Users\\GREEN\\AppData\\Local\\Continuum\\anaconda3\\lib\\site-packages\\ipykernel_launcher.py:29: RuntimeWarning: invalid value encountered in arccos\n",
      "C:\\Users\\GREEN\\AppData\\Local\\Continuum\\anaconda3\\lib\\site-packages\\ipykernel_launcher.py:29: RuntimeWarning: invalid value encountered in arccos\n",
      "C:\\Users\\GREEN\\AppData\\Local\\Continuum\\anaconda3\\lib\\site-packages\\ipykernel_launcher.py:29: RuntimeWarning: invalid value encountered in arccos\n",
      "C:\\Users\\GREEN\\AppData\\Local\\Continuum\\anaconda3\\lib\\site-packages\\ipykernel_launcher.py:29: RuntimeWarning: invalid value encountered in arccos\n"
     ]
    }
   ],
   "source": [
    "gm_square_mean=[]\n",
    "gm_square_var=[]\n",
    "\n",
    "for x in range (1000,10000,1000):\n",
    "    new_mean, new_var=grid_grain_misorient(x,hist_bool=False)\n",
    "    gm_square_mean.append(new_mean)\n",
    "    gm_square_var.append(new_var)\n",
    "\n",
    "gm_square_std=np.sqrt(gm_square_var)   "
   ]
  },
  {
   "cell_type": "code",
   "execution_count": 241,
   "metadata": {},
   "outputs": [
    {
     "name": "stdout",
     "output_type": "stream",
     "text": [
      "Stored 'gm_square_mean' (list)\n",
      "Stored 'gm_square_var' (list)\n"
     ]
    }
   ],
   "source": [
    "%store gm_square_mean\n",
    "%store gm_square_var"
   ]
  },
  {
   "cell_type": "code",
   "execution_count": 303,
   "metadata": {},
   "outputs": [
    {
     "data": {
      "text/plain": [
       "<matplotlib.lines.Line2D at 0x149d94caec8>"
      ]
     },
     "execution_count": 303,
     "metadata": {},
     "output_type": "execute_result"
    },
    {
     "data": {
      "image/png": "[encoded data removed]",
      "text/plain": [
       "<Figure size 432x288 with 1 Axes>"
      ]
     },
     "metadata": {
      "needs_background": "light"
     },
     "output_type": "display_data"
    }
   ],
   "source": [
    "plt.xlim(0, 10)\n",
    "# plt.ylim(0, 100)\n",
    "plt.ylim(-1000,1000)\n",
    "plt.title('Square')\n",
    "plt.xlabel('Percent of Total Available Data Points')\n",
    "plt.ylabel('Mean Grain Size')\n",
    "\n",
    "#mean, var errorbars\n",
    "# sns.scatterplot(meanvar_percent_1_100, gm_square_mean, s=100, color=\"blue\", marker=\"o\")\n",
    "plt.errorbar(meanvar_percent_1_100, gm_square_mean, yerr=gm_square_var, fmt='o')\n",
    "\n",
    "#actual mean\n",
    "plt.axhline(y=gm_total_mean, color='blue', linestyle='-',label='total mean')"
   ]
  },
  {
   "cell_type": "code",
   "execution_count": 297,
   "metadata": {},
   "outputs": [],
   "source": [
    "#         #sample further if not in the same grain\n",
    "#         if grain_ID_1 != grain_ID_2:\n",
    "#             #find window to sample rando values\n",
    "#             x_min=rand_1[3]\n",
    "#             x_max=rand_2[3]\n",
    "#             y_min=rand_1[4]\n",
    "#             y_max=rand_2[4]\n",
    "#             if x_min > x_max:\n",
    "#                 x_min,x_max=x_max,x_min            \n",
    "#             if y_min > y_max:\n",
    "#                 y_min,y_max=y_max,y_min\n",
    "\n",
    "#             #slice window\n",
    "#             x_in_between=raw_data[np.where((raw_data[:,3] > x_min)  & (raw_data[:,3] < x_max))]\n",
    "#             in_between=x_in_between[np.where((x_in_between[:,4] > y_min)  & (x_in_between[:,4] < y_max))]\n",
    "\n",
    "#             if len(in_between) > 0:\n",
    "#                 #add new random points in window until a grain is resampled\n",
    "#                 while temp_grain_ID not in sampled_grain_IDs:\n",
    "#                     new_rand=in_between[np.random.choice(in_between.shape[0], 1)]\n",
    "#                     temp_grain_ID=new_rand[0][5]\n",
    "#                     sampled_grain_IDs.append(temp_grain_ID)\n",
    "#                     row_list.append(new_rand)\n",
    "#                     #only take one sample\n",
    "# #                     break"
   ]
  },
  {
   "cell_type": "code",
   "execution_count": 30,
   "metadata": {},
   "outputs": [
    {
     "data": {
      "text/plain": [
       "True"
      ]
     },
     "execution_count": 30,
     "metadata": {},
     "output_type": "execute_result"
    }
   ],
   "source": [
    "x=defaultdict(set)\n",
    "x[1].add(2)\n",
    "x[2].add(3)\n",
    "2 in list(x[1])"
   ]
  },
  {
   "cell_type": "code",
   "execution_count": 93,
   "metadata": {},
   "outputs": [],
   "source": [
    "def grain_adj(array,misorient_angle=15):\n",
    "    #create point adj dict\n",
    "    point_neigh=adj_dict(array)\n",
    "    \n",
    "    #create grain adj dict\n",
    "    grain_neigh=defaultdict(set)\n",
    "    for key in point_neigh:\n",
    "        euler_one=[array[key][0],array[key][1],array[key][2]]\n",
    "        for value in point_neigh[key]:\n",
    "            euler_two=[array[value][0],array[value][1],array[value][2]]\n",
    "            vor_disorient=disorientation(euler_one,euler_two,hex_sym_ops)\n",
    "            if vor_disorient > misorient_angle:    \n",
    "                #add to adj grain dict\n",
    "                grain_ID_one=array[key,5].astype(int)\n",
    "                grain_ID_two=array[value,5].astype(int)\n",
    "                grain_neigh[int(grain_ID_one)].add(grain_ID_two)\n",
    "                grain_neigh[int(grain_ID_two)].add(grain_ID_one)\n",
    "    return grain_neigh"
   ]
  },
  {
   "cell_type": "code",
   "execution_count": 165,
   "metadata": {},
   "outputs": [],
   "source": [
    "#risk that there may be no grain inbetween and the samples will be wasted\n",
    "def adaptive_grain_misorient(sample,num_loops):\n",
    "    #raw data shape\n",
    "    size=raw_data.shape[0]\n",
    "    \n",
    "    #mean grain diameter\n",
    "    d=math.sqrt(4*total_mean/math.pi)\n",
    "    \n",
    "    #two random starting points\n",
    "    rand_1=raw_data[np.random.choice(size, 1)]\n",
    "    rand_1=rand_1[0]\n",
    "    rand_2=raw_data[np.random.choice(size, 1)]\n",
    "    rand_2=rand_2[0]\n",
    "\n",
    "    #lists to hold sampled grain IDs and rows\n",
    "    row_list=[]\n",
    "    \n",
    "    while len(row_list) < sample:\n",
    "        #append first point\n",
    "        row_list.append(rand_1)\n",
    "        #get grain IDs\n",
    "        grain_ID_1=rand_1[5]\n",
    "        grain_ID_2=rand_2[5]\n",
    "\n",
    "        #sample further if not in the same grain and there are enough points for an adj dict\n",
    "        if (grain_ID_1 != grain_ID_2) and (len(row_list) > 10):\n",
    "            #create grain adj dict\n",
    "#             temp_row_tuple=tuple(row_list)\n",
    "#             temp_raw_data=np.vstack(temp_row_tuple)\n",
    "#             grain_adj_dict=grain_adj(temp_raw_data)\n",
    "            \n",
    "            #if shared grain voronoi edge and  distance greater than mean grain diameter \n",
    "            coords_1=rand_1[3:5]\n",
    "            coords_2=rand_2[3:5]\n",
    "#             if (distance.euclidean(coords_1,coords_2) > d) and (grain_ID_2 in grain_adj_dict[grain_ID_1]):   \n",
    "            if (distance.euclidean(coords_1,coords_2) > d):\n",
    "                #binary search\n",
    "                loop_count=0\n",
    "                low=coords_1\n",
    "                high=coords_2\n",
    "                while loop_count < num_loops:\n",
    "                    lh_avg=np.average(np.vstack((low,high)), axis=0)\n",
    "                    midpt=raw_data[nearest_neighbors(lh_avg.reshape(1, -1),coords)]\n",
    "                    midpt=midpt[0][0]\n",
    "                    midpt_coords=midpt[3:5]\n",
    "                    midpt_ID=midpt[5]\n",
    "                    \n",
    "                    #found new grain\n",
    "                    if (midpt_ID != grain_ID_1) and (midpt_ID != grain_ID_2):\n",
    "#                         print('new_grain')\n",
    "                        row_list.append(midpt)\n",
    "                        loop_count=num_loops+1\n",
    "                        break\n",
    "                        \n",
    "                    elif midpt_ID==grain_ID_1: \n",
    "                        low=midpt_coords\n",
    "                        #keep grain 2\n",
    "                        \n",
    "                    else: #midpt_ID==grain_ID2\n",
    "                        high=midpt_coords\n",
    "                        \n",
    "                    loop_count+=1\n",
    "                    \n",
    "#                 print(loop_count)\n",
    "                    \n",
    "                \n",
    "\n",
    "        #get new random point\n",
    "        rand_1=rand_2\n",
    "        rand_2=raw_data[np.random.choice(size, 1)]\n",
    "        rand_2=rand_2[0]\n",
    "    \n",
    "    row_tuple=tuple(row_list)\n",
    "    sliced_raw_data=np.vstack(row_tuple)\n",
    "    grain_misorient_q = grain_misorients(sliced_raw_data)\n",
    "    return js_divergence_scipy(grain_misorient_p,grain_misorient_q)"
   ]
  },
  {
   "cell_type": "code",
   "execution_count": null,
   "metadata": {},
   "outputs": [],
   "source": [
    "def nearest_neighbors(values, all_values, nbr_neighbors=1):\n",
    "    nn = NearestNeighbors(nbr_neighbors, metric='euclidean', algorithm='kd_tree').fit(all_values)\n",
    "    dists, idxs = nn.kneighbors(values)\n",
    "    return idxs"
   ]
  },
  {
   "cell_type": "code",
   "execution_count": null,
   "metadata": {},
   "outputs": [],
   "source": [
    "raw_data[nearest_neighbors(coords_2, coords, 6)]"
   ]
  },
  {
   "cell_type": "code",
   "execution_count": 261,
   "metadata": {},
   "outputs": [
    {
     "data": {
      "text/plain": [
       "3.917353867444172"
      ]
     },
     "execution_count": 261,
     "metadata": {},
     "output_type": "execute_result"
    }
   ],
   "source": [
    "math.sqrt(4*total_mean/math.pi)"
   ]
  },
  {
   "cell_type": "code",
   "execution_count": 277,
   "metadata": {},
   "outputs": [],
   "source": [
    "#risk that there may be no grain inbetween and the samples will be wasted\n",
    "def adaptive_grain_misorient_midpt(sample):\n",
    "    #raw data shape\n",
    "    size=raw_data.shape[0]\n",
    "    \n",
    "    #mean grain diameter\n",
    "    d=math.sqrt(4*total_mean/math.pi)\n",
    "    \n",
    "    #two random starting points\n",
    "    rand_1=raw_data[np.random.choice(size, 1)]\n",
    "    rand_1=rand_1[0]\n",
    "    rand_2=raw_data[np.random.choice(size, 1)]\n",
    "    rand_2=rand_2[0]\n",
    "\n",
    "    #lists to hold sampled grain IDs and rows\n",
    "    row_list=[]\n",
    "    \n",
    "    while len(row_list) < sample:\n",
    "        #append first point\n",
    "        row_list.append(rand_1)\n",
    "        #get grain IDs\n",
    "        grain_ID_1=rand_1[5]\n",
    "        grain_ID_2=rand_2[5]\n",
    "\n",
    "        #sample further if not in the same grain\n",
    "        if (grain_ID_1 != grain_ID_2) and (len(row_list)>6): \n",
    "#         if (grain_ID_1 != grain_ID_2):   \n",
    "            #if distance greater than mean grain diameter \n",
    "            coords_1=rand_1[3:5]\n",
    "            coords_2=rand_2[3:5]\n",
    "            \n",
    "            #and in six nearest neighbors\n",
    "            temp_row_tuple=tuple(row_list)\n",
    "            temp_raw_data=np.vstack(temp_row_tuple)\n",
    "            temp_coords=temp_raw_data[:,3:5]\n",
    "            hex_neighbors=raw_data[nearest_neighbors(coords_2.reshape(1, -1), temp_coords, 6), 3:5]\n",
    "            hex_neighbors=hex_neighbors[0]\n",
    "            if (distance.euclidean(coords_1,coords_2) > d) and ((hex_neighbors == coords_1).all(1).any()):\n",
    "#             if (distance.euclidean(coords_1,coords_2) > d):\n",
    "                print('yee')\n",
    "                print(coords_1)\n",
    "                print(hex_neighbors)\n",
    "                #add midpoint\n",
    "                loop_count=0\n",
    "                low=coords_1\n",
    "                high=coords_2\n",
    "                lh_avg=np.average(np.vstack((low,high)), axis=0)\n",
    "                midpt=raw_data[nearest_neighbors(lh_avg.reshape(1, -1),coords)]\n",
    "                midpt=midpt[0][0]\n",
    "                row_list.append(midpt)          \n",
    "\n",
    "        #get new random point\n",
    "        rand_1=rand_2\n",
    "        rand_2=raw_data[np.random.choice(size, 1)]\n",
    "        rand_2=rand_2[0]\n",
    "    \n",
    "    row_tuple=tuple(row_list)\n",
    "    sliced_raw_data=np.vstack(row_tuple)\n",
    "    grain_misorient_q = grain_misorients(sliced_raw_data)\n",
    "    return js_divergence_scipy(grain_misorient_p,grain_misorient_q)"
   ]
  },
  {
   "cell_type": "code",
   "execution_count": 166,
   "metadata": {},
   "outputs": [],
   "source": [
    "#say each new point added is not in the same grain, therefore an adj dict is being created each time! This is like creating 26000 adj dicts\n",
    "# each might take around a minute , this gets on the order of hours - for small values! Need to refine or discard this condition.\n",
    "# use nearest neighbor instead?"
   ]
  },
  {
   "cell_type": "code",
   "execution_count": 278,
   "metadata": {},
   "outputs": [],
   "source": [
    "adaptive_grain_percents_1=[]\n",
    "adaptive_grain_misorients_1=[]\n",
    "for x in range (1000,10000,1000):\n",
    "    print(x)\n",
    "    adaptive_grain_percents_1.append((x/87017)*100)\n",
    "    adaptive_grain_misorients_1.append(adaptive_grain_misorient_midpt(x))    \n",
    "\n",
    "adaptive_grain_percents_1.append(0)    \n",
    "adaptive_grain_misorients_1.append(1)\n",
    "\n",
    "%store adaptive_grain_percents_1\n",
    "%store adaptive_grain_misorients_1"
   ]
  },
  {
   "cell_type": "code",
   "execution_count": 279,
   "metadata": {},
   "outputs": [],
   "source": [
    "adaptive_grain_misorients_3=[]\n",
    "for x in range (1000,10000,1000):\n",
    "    print(x)\n",
    "    adaptive_grain_misorients_3.append(adaptive_grain_misorient(x,3))    \n",
    "\n",
    "adaptive_grain_misorients_3.append(1)\n",
    "\n",
    "%store adaptive_grain_misorients_3"
   ]
  },
  {
   "cell_type": "code",
   "execution_count": 182,
   "metadata": {},
   "outputs": [],
   "source": [
    "adaptive_grain_misorients_5=[]\n",
    "for x in range (1000,10000,1000):\n",
    "    adaptive_grain_misorients_5.append(adaptive_grain_misorient(x,5))    \n",
    "\n",
    "%store adaptive_grain_percents_5\n",
    "%store adaptive_grain_misorients_5"
   ]
  },
  {
   "cell_type": "code",
   "execution_count": 285,
   "metadata": {},
   "outputs": [],
   "source": [
    "adaptive_grain_misorients_1_6=[]\n",
    "for x in range (1000,10000,1000):\n",
    "    print(x)\n",
    "    adaptive_grain_misorients_1_6.append(adaptive_grain_misorient_midpt(x))    \n",
    "\n",
    "%store adaptive_grain_misorients_1_6"
   ]
  },
  {
   "cell_type": "code",
   "execution_count": 286,
   "metadata": {},
   "outputs": [],
   "source": [
    "adaptive_grain_misorients_1_6.append(1)"
   ]
  },
  {
   "cell_type": "code",
   "execution_count": 289,
   "metadata": {},
   "outputs": [
    {
     "data": {
      "text/plain": [
       "<matplotlib.axes._subplots.AxesSubplot at 0x14999904508>"
      ]
     },
     "execution_count": 289,
     "metadata": {},
     "output_type": "execute_result"
    },
    {
     "data": {
      "image/png": "[encoded data removed]",
      "text/plain": [
       "<Figure size 432x288 with 1 Axes>"
      ]
     },
     "metadata": {
      "needs_background": "light"
     },
     "output_type": "display_data"
    }
   ],
   "source": [
    "plt.xlim(0,10)\n",
    "plt.ylim(0,1)\n",
    "plt.title('Grain Boundary Misorientations')\n",
    "plt.xlabel('Percent')\n",
    "plt.ylabel('JS Divergence')\n",
    "\n",
    "#for comparison\n",
    "sns.lineplot(percent_1_25,sobol_grain_misorients,label='Sobol 2D',color='purple')\n",
    "sns.lineplot(percent_1_25,random_grain_misorients,label='Random',color='blue')\n",
    "\n",
    "#adaptive\n",
    "sns.lineplot(adaptive_grain_percents_1,adaptive_grain_misorients_1_6,label='Adaptive, 1, Nearest Neighbor',color='green')\n",
    "sns.lineplot(adaptive_grain_percents_1,adaptive_grain_misorients_1,label='Adaptive, 1',color='black')\n",
    "sns.lineplot(adaptive_grain_percents_1,adaptive_grain_misorients_3,label='Adaptive, 3',color='grey')\n",
    "sns.lineplot(adaptive_grain_percents_5,adaptive_grain_misorients_5,label='Adaptive, 5',color='pink')"
   ]
  },
  {
   "cell_type": "code",
   "execution_count": null,
   "metadata": {},
   "outputs": [],
   "source": []
  },
  {
   "cell_type": "code",
   "execution_count": null,
   "metadata": {},
   "outputs": [],
   "source": [
    "#start with 25% of data\n"
   ]
  },
  {
   "cell_type": "code",
   "execution_count": 54,
   "metadata": {},
   "outputs": [],
   "source": [
    "def window_grain_misorient(size):\n",
    "    #define slices\n",
    "    x_min=np.amin(raw_data[:,3])\n",
    "    x_max=np.amax(raw_data[:,3])\n",
    "    y_min=np.amin(raw_data[:,4])\n",
    "    y_max=np.amax(raw_data[:,4])\n",
    "\n",
    "    #window one (bottom left)\n",
    "    raw_data_slice_1 = raw_data[np.where((raw_data[:,3] <= x_max/2) & (raw_data[:,4] <= y_max/2))]\n",
    "\n",
    "    # #window two (bottom right)\n",
    "    raw_data_slice_2 = raw_data[np.where((raw_data[:,3] >= x_max/2) & (raw_data[:,4] <= y_max/2))]\n",
    "    raw_data_slice_2[:,3] -= np.min(raw_data_slice_2[:,3])\n",
    "\n",
    "    # #window three (top left)\n",
    "    raw_data_slice_3 = raw_data[np.where((raw_data[:,3] <= x_max/2) & (raw_data[:,4] >= y_max/2))]\n",
    "    raw_data_slice_3[:,4] -= np.min(raw_data_slice_3[:,4])\n",
    "\n",
    "    # #window four (top right)\n",
    "    raw_data_slice_4 = raw_data[np.where((raw_data[:,3] >= x_max/2) & (raw_data[:,4] >= y_max/2))]\n",
    "    raw_data_slice_4[:,3] -= np.min(raw_data_slice_4[:,3])\n",
    "    raw_data_slice_4[:,4] -= np.min(raw_data_slice_4[:,4])\n",
    "    \n",
    "#     percent=size/len(raw_data)*100\n",
    "#     print(percent)\n",
    "#     percent=sqrt(percent*100)\n",
    "#     print(percent)\n",
    "#     percent=percent/100\n",
    "#     print(110*percent)\n",
    "\n",
    "\n",
    "    percent=sqrt(size/len(raw_data))\n",
    "    print(110*percent)\n",
    "    \n",
    "\n",
    "    #Divergence One\n",
    "    raw_data_slice=raw_data_slice_1\n",
    "    \n",
    "    row_list=[]\n",
    "    for index in range(0,len(raw_data_slice)):\n",
    "        if (raw_data_slice[index,3]<=int((110*percent))) and (raw_data_slice[index,4]<=int((110*percent))):\n",
    "            row_list.append(raw_data_slice[index])\n",
    "        else:\n",
    "            continue\n",
    "\n",
    "    row_tuple=tuple(row_list)\n",
    "    sliced_raw_data_slice=np.vstack(row_tuple)\n",
    "    print(len(sliced_raw_data_slice))\n",
    "    grain_misorient_q = grain_misorients(sliced_raw_data_slice)\n",
    "    divergence_1=js_divergence_scipy(grain_misorient_p,grain_misorient_q)\n",
    "    \n",
    "    #Divergence Two\n",
    "    raw_data_slice=raw_data_slice_2\n",
    "\n",
    "    row_list=[]\n",
    "    for index in range(0,len(raw_data_slice)):\n",
    "        if (raw_data_slice[index,3]<=int((110*percent))) and (raw_data_slice[index,4]<=int((110*percent))):\n",
    "            row_list.append(raw_data_slice[index])\n",
    "        else:\n",
    "            continue\n",
    "\n",
    "    row_tuple=tuple(row_list)\n",
    "    sliced_raw_data_slice=np.vstack(row_tuple)\n",
    "    grain_misorient_q = grain_misorients(sliced_raw_data_slice)\n",
    "    divergence_2=js_divergence_scipy(grain_misorient_p,grain_misorient_q)\n",
    "    \n",
    "    #Divergence Three\n",
    "    raw_data_slice=raw_data_slice_3\n",
    "    \n",
    "    row_list=[]\n",
    "    for index in range(0,len(raw_data_slice)):\n",
    "        if (raw_data_slice[index,3]<=int((110*percent))) and (raw_data_slice[index,4]<=int((110*percent))):\n",
    "            row_list.append(raw_data_slice[index])\n",
    "        else:\n",
    "            continue\n",
    "\n",
    "    row_tuple=tuple(row_list)\n",
    "    sliced_raw_data_slice=np.vstack(row_tuple)\n",
    "    grain_misorient_q = grain_misorients(sliced_raw_data_slice)\n",
    "    divergence_3=js_divergence_scipy(grain_misorient_p,grain_misorient_q)\n",
    "    \n",
    "    #Divergence Four\n",
    "    raw_data_slice=raw_data_slice_4\n",
    "\n",
    "    row_list=[]\n",
    "    for index in range(0,len(raw_data_slice)):\n",
    "        if (raw_data_slice[index,3]<=int((110*percent))) and (raw_data_slice[index,4]<=int((110*percent))):\n",
    "            row_list.append(raw_data_slice[index])\n",
    "        else:\n",
    "            continue\n",
    "\n",
    "    row_tuple=tuple(row_list)\n",
    "    sliced_raw_data_slice=np.vstack(row_tuple)\n",
    "    grain_misorient_q = grain_misorients(sliced_raw_data_slice)\n",
    "    divergence_4=js_divergence_scipy(grain_misorient_p,grain_misorient_q)\n",
    "    \n",
    "    #Return Average\n",
    "    return (divergence_1+divergence_2+divergence_3+divergence_4)/4"
   ]
  },
  {
   "cell_type": "code",
   "execution_count": 55,
   "metadata": {},
   "outputs": [
    {
     "name": "stdout",
     "output_type": "stream",
     "text": [
      "55.183938032636114\n",
      "21863\n"
     ]
    },
    {
     "ename": "NameError",
     "evalue": "name 'grain_misorients' is not defined",
     "output_type": "error",
     "traceback": [
      "\u001b[1;31m---------------------------------------------------------------------------\u001b[0m",
      "\u001b[1;31mNameError\u001b[0m                                 Traceback (most recent call last)",
      "\u001b[1;32m<ipython-input-55-eca42d14ec3e>\u001b[0m in \u001b[0;36m<module>\u001b[1;34m\u001b[0m\n\u001b[1;32m----> 1\u001b[1;33m \u001b[0mwindow_grain_misorient\u001b[0m\u001b[1;33m(\u001b[0m\u001b[1;36m21900\u001b[0m\u001b[1;33m)\u001b[0m\u001b[1;33m\u001b[0m\u001b[1;33m\u001b[0m\u001b[0m\n\u001b[0m",
      "\u001b[1;32m<ipython-input-54-ddd336298022>\u001b[0m in \u001b[0;36mwindow_grain_misorient\u001b[1;34m(size)\u001b[0m\n\u001b[0;32m     48\u001b[0m     \u001b[0msliced_raw_data_slice\u001b[0m\u001b[1;33m=\u001b[0m\u001b[0mnp\u001b[0m\u001b[1;33m.\u001b[0m\u001b[0mvstack\u001b[0m\u001b[1;33m(\u001b[0m\u001b[0mrow_tuple\u001b[0m\u001b[1;33m)\u001b[0m\u001b[1;33m\u001b[0m\u001b[1;33m\u001b[0m\u001b[0m\n\u001b[0;32m     49\u001b[0m     \u001b[0mprint\u001b[0m\u001b[1;33m(\u001b[0m\u001b[0mlen\u001b[0m\u001b[1;33m(\u001b[0m\u001b[0msliced_raw_data_slice\u001b[0m\u001b[1;33m)\u001b[0m\u001b[1;33m)\u001b[0m\u001b[1;33m\u001b[0m\u001b[1;33m\u001b[0m\u001b[0m\n\u001b[1;32m---> 50\u001b[1;33m     \u001b[0mgrain_misorient_q\u001b[0m \u001b[1;33m=\u001b[0m \u001b[0mgrain_misorients\u001b[0m\u001b[1;33m(\u001b[0m\u001b[0msliced_raw_data_slice\u001b[0m\u001b[1;33m)\u001b[0m\u001b[1;33m\u001b[0m\u001b[1;33m\u001b[0m\u001b[0m\n\u001b[0m\u001b[0;32m     51\u001b[0m     \u001b[0mdivergence_1\u001b[0m\u001b[1;33m=\u001b[0m\u001b[0mjs_divergence_scipy\u001b[0m\u001b[1;33m(\u001b[0m\u001b[0mgrain_misorient_p\u001b[0m\u001b[1;33m,\u001b[0m\u001b[0mgrain_misorient_q\u001b[0m\u001b[1;33m)\u001b[0m\u001b[1;33m\u001b[0m\u001b[1;33m\u001b[0m\u001b[0m\n\u001b[0;32m     52\u001b[0m \u001b[1;33m\u001b[0m\u001b[0m\n",
      "\u001b[1;31mNameError\u001b[0m: name 'grain_misorients' is not defined"
     ]
    }
   ],
   "source": [
    "window_grain_misorient(21900)"
   ]
  },
  {
   "cell_type": "code",
   "execution_count": 214,
   "metadata": {},
   "outputs": [],
   "source": [
    "# window_percent_1_25=[]\n",
    "# window_grain_misorients=[]\n",
    "# for x in range (1,26,1):\n",
    "#     window_percent_1_25.append(x)\n",
    "#     window_grain_misorients.append(window_grain_misorient(sqrt(x*100)))"
   ]
  },
  {
   "cell_type": "code",
   "execution_count": 122,
   "metadata": {},
   "outputs": [
    {
     "name": "stdout",
     "output_type": "stream",
     "text": [
      "Stored 'window_percent_1_25' (list)\n",
      "Stored 'window_grain_misorients' (list)\n"
     ]
    }
   ],
   "source": [
    "# %store window_percent_1_25\n",
    "# %store window_grain_misorients"
   ]
  },
  {
   "cell_type": "code",
   "execution_count": 123,
   "metadata": {},
   "outputs": [],
   "source": [
    "percent_1_25=[] \n",
    "# random_grain_misorients=[]\n",
    "for x in range (10,26000,1000):\n",
    "    percent_1_25.append((x/87000)*100)\n",
    "#     random_grain_misorients.append(random_grain_misorient(x))    "
   ]
  },
  {
   "cell_type": "code",
   "execution_count": null,
   "metadata": {},
   "outputs": [],
   "source": [
    "%store meanvar_percent_1_100\n",
    "%store gm_random_mean\n",
    "%store gm_random_var"
   ]
  },
  {
   "cell_type": "code",
   "execution_count": 65,
   "metadata": {},
   "outputs": [],
   "source": [
    "# square_grid_grain_misorients=[]\n",
    "# for x in range (10,26000,1000):\n",
    "#     square_grid_grain_misorients.append(grid_grain_misorient(x))    \n",
    "\n",
    "# hex_grid_grain_misorients=[]\n",
    "# for x in range (10,26000,1000):\n",
    "#     hex_grid_grain_misorients.append(grid_grain_misorient(x,square=False))    "
   ]
  },
  {
   "cell_type": "code",
   "execution_count": 63,
   "metadata": {},
   "outputs": [
    {
     "name": "stdout",
     "output_type": "stream",
     "text": [
      "Stored 'percent_1_25' (list)\n",
      "Stored 'random_grain_misorients' (list)\n"
     ]
    }
   ],
   "source": [
    "# %store percent_1_25\n",
    "# %store random_grain_misorients\n",
    "\n",
    "# %store square_grid_grain_misorients\n",
    "# %store hex_grid_grain_misorients"
   ]
  },
  {
   "cell_type": "code",
   "execution_count": 78,
   "metadata": {},
   "outputs": [],
   "source": [
    "# golden_grain_misorients=[]\n",
    "# for x in range (10,26000,1000):\n",
    "#     golden_grain_misorients.append(quasirandom_grain_misorient(x))    "
   ]
  },
  {
   "cell_type": "code",
   "execution_count": 83,
   "metadata": {},
   "outputs": [],
   "source": [
    "# sobol_grain_misorients=[]\n",
    "# for x in range (10,26000,1000):\n",
    "#     sobol_grain_misorients.append(quasirandom_grain_misorient(x,gold=False))    "
   ]
  },
  {
   "cell_type": "code",
   "execution_count": 84,
   "metadata": {},
   "outputs": [
    {
     "name": "stdout",
     "output_type": "stream",
     "text": [
      "Stored 'golden_grain_misorients' (list)\n",
      "Stored 'sobol_grain_misorients' (list)\n"
     ]
    }
   ],
   "source": [
    "# %store golden_grain_misorients\n",
    "# %store sobol_grain_misorients"
   ]
  },
  {
   "cell_type": "code",
   "execution_count": 87,
   "metadata": {},
   "outputs": [],
   "source": [
    "# percent_1_25.append(0)\n",
    "# random_grain_misorients.append(1)\n",
    "# square_grid_grain_misorients.append(1)\n",
    "# hex_grid_grain_misorients.append(1)\n",
    "# golden_grain_misorients.append(1)\n",
    "# sobol_grain_misorients.append(1)"
   ]
  },
  {
   "cell_type": "code",
   "execution_count": 117,
   "metadata": {},
   "outputs": [],
   "source": [
    "# window_percent_1_25.append(0)\n",
    "# window_grain_misorients.append(1)"
   ]
  },
  {
   "cell_type": "code",
   "execution_count": 118,
   "metadata": {},
   "outputs": [
    {
     "data": {
      "text/plain": [
       "<matplotlib.axes._subplots.AxesSubplot at 0x2bcc0335248>"
      ]
     },
     "execution_count": 118,
     "metadata": {},
     "output_type": "execute_result"
    },
    {
     "data": {
      "image/png": "[encoded data removed]",
      "text/plain": [
       "<Figure size 432x288 with 1 Axes>"
      ]
     },
     "metadata": {},
     "output_type": "display_data"
    }
   ],
   "source": [
    "plt.xlim(0,10)\n",
    "plt.ylim(0,1)\n",
    "plt.title('Grain Boundary Misorientations')\n",
    "plt.xlabel('Percent')\n",
    "plt.ylabel('JS Divergence')\n",
    "sns.lineplot(percent_1_25,random_grain_misorients,label='Random',color='blue')\n",
    "sns.lineplot(percent_1_25,square_grid_grain_misorients,label='Square Grid',color='red')\n",
    "sns.lineplot(percent_1_25,hex_grid_grain_misorients,label='Hex Grid',color='green')\n",
    "sns.lineplot(percent_1_25,golden_grain_misorients,label='Golden 2D',color='gold')\n",
    "sns.lineplot(percent_1_25,sobol_grain_misorients,label='Sobol 2D',color='purple')\n",
    "sns.lineplot(window_percent_1_25,window_grain_misorients,label='Window',color='black')\n",
    "sns.lineplot(percent_1_25,adaptive_grain_misorients,label='Adaptive',color='grey')"
   ]
  },
  {
   "cell_type": "code",
   "execution_count": 184,
   "metadata": {},
   "outputs": [
    {
     "name": "stdout",
     "output_type": "stream",
     "text": [
      "27\n",
      "53\n"
     ]
    }
   ],
   "source": [
    "print(len(percent_1_25))\n",
    "print(len(adaptive_grain_misorients))"
   ]
  },
  {
   "cell_type": "code",
   "execution_count": 189,
   "metadata": {},
   "outputs": [],
   "source": [
    "adaptive_grain_misorients_2=adaptive_grain_misorients[27:53]\n",
    "adaptive_grain_misorients=adaptive_grain_misorients[0:27]"
   ]
  },
  {
   "cell_type": "code",
   "execution_count": 192,
   "metadata": {},
   "outputs": [
    {
     "name": "stdout",
     "output_type": "stream",
     "text": [
      "Stored 'adaptive_grain_misorients' (list)\n",
      "Stored 'adaptive_grain_misorients_2' (list)\n"
     ]
    }
   ],
   "source": [
    "%store adaptive_grain_misorients\n",
    "%store adaptive_grain_misorients_2"
   ]
  },
  {
   "cell_type": "code",
   "execution_count": 194,
   "metadata": {},
   "outputs": [
    {
     "data": {
      "text/plain": [
       "<matplotlib.axes._subplots.AxesSubplot at 0x2bebcffe3c8>"
      ]
     },
     "execution_count": 194,
     "metadata": {},
     "output_type": "execute_result"
    },
    {
     "data": {
      "image/png": "[encoded data removed]",
      "text/plain": [
       "<Figure size 432x288 with 1 Axes>"
      ]
     },
     "metadata": {},
     "output_type": "display_data"
    }
   ],
   "source": [
    "plt.xlim(0,10)\n",
    "plt.ylim(0,1)\n",
    "plt.title('Grain Boundary Misorientations')\n",
    "plt.xlabel('Percent')\n",
    "plt.ylabel('JS Divergence')\n",
    "sns.lineplot(percent_1_25,sobol_grain_misorients,label='Sobol 2D',color='purple')\n",
    "sns.lineplot(percent_1_25,random_grain_misorients,label='Random',color='blue')\n",
    "sns.lineplot(percent_1_25,adaptive_grain_misorients,label='Adaptive, One Subsample',color='grey')\n",
    "sns.lineplot(percent_1_25,adaptive_grain_misorients_2,label='Adaptive, Multiple Subsamples',color='black')"
   ]
  },
  {
   "cell_type": "code",
   "execution_count": 121,
   "metadata": {},
   "outputs": [
    {
     "name": "stdout",
     "output_type": "stream",
     "text": [
      "[0.8430187639137813, 0.14501628502257147, 0.09867930415905905, 0.046242485162950334, 0.025556045076894407]\n"
     ]
    }
   ],
   "source": [
    "print(adaptive_grain_misorients)"
   ]
  },
  {
   "cell_type": "code",
   "execution_count": null,
   "metadata": {},
   "outputs": [],
   "source": [
    "#looks good so far, but creating two adj dicts takes too long, need to make more local"
   ]
  },
  {
   "cell_type": "code",
   "execution_count": null,
   "metadata": {},
   "outputs": [],
   "source": [
    "#1114 grain points vs 37014 boundary points\n",
    "#also check how the algorithm performs with low values, i.e. does the SVM work or is the length zero?"
   ]
  }
 ],
 "metadata": {
  "kernelspec": {
   "display_name": "Python 3",
   "language": "python",
   "name": "python3"
  },
  "language_info": {
   "codemirror_mode": {
    "name": "ipython",
    "version": 3
   },
   "file_extension": ".py",
   "mimetype": "text/x-python",
   "name": "python",
   "nbconvert_exporter": "python",
   "pygments_lexer": "ipython3",
   "version": "3.7.4"
  }
 },
 "nbformat": 4,
 "nbformat_minor": 2
}
