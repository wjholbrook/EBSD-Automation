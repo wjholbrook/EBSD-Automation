{
 "cells": [
  {
   "cell_type": "code",
   "execution_count": 12,
   "metadata": {
    "scrolled": false
   },
   "outputs": [
    {
     "name": "stdout",
     "output_type": "stream",
     "text": [
      "[[  4.7313    2.67202   0.88482   0.        0.     ]\n",
      " [  4.7313    2.67202   0.88482   0.4       0.     ]\n",
      " [  4.7313    2.67202   0.88482   0.8       0.     ]\n",
      " ...\n",
      " [  2.83479   1.72413   6.21647 108.8     109.46561]\n",
      " [  2.80588   1.70473   6.21025 109.2     109.46561]\n",
      " [  2.82442   1.72403   6.2053  109.6     109.46561]]\n"
     ]
    }
   ],
   "source": [
    "import numpy\n",
    "from math import sqrt\n",
    "\n",
    "#load file, skip header, load angles and coordinates\n",
    "data = numpy.loadtxt('Raw Data/AZ31B Ecomp 10e0 Int_3 raw1.txt', skiprows=17, usecols=(0,1,2,3,4))\n",
    "print(data)"
   ]
  },
  {
   "cell_type": "code",
   "execution_count": 6,
   "metadata": {},
   "outputs": [
    {
     "name": "stdout",
     "output_type": "stream",
     "text": [
      "586\n"
     ]
    }
   ],
   "source": [
    "#if angles close - five degrees & grids location close -> particle\n",
    "#particles -> dictionary of grains, histogram of number of particles i.e. len of key is grain size\n",
    "#pixels\n",
    "\n",
    "from collections import defaultdict\n",
    "\n",
    "#initialize\n",
    "grains = defaultdict(list)\n",
    "row_array=[]\n",
    "row_list=()\n",
    "\n",
    "#test with row 0\n",
    "row_array=data[0]\n",
    "row_list=list(row_array)\n",
    "grains[0].append(row_list)\n",
    "\n",
    "#cluster parameters\n",
    "distance_threshold=10\n",
    "angle_threshold=5\n",
    "\n",
    "#assign each particle to a grain, create a new grain if it is not part of an existing grain \n",
    "for row in data:\n",
    "    #see if it belongs to an existing grain\n",
    "    for key in grains:\n",
    "        row_array=grains[key]\n",
    "        row_list=list(row_array[key])\n",
    "        if (0<angle_threshold) and (sqrt((row[3]-row_list[3])**2+(row[4]-row_list[4])**2)<distance_threshold):\n",
    "            row_list=list(row)\n",
    "            grains[key].append(row_list)\n",
    "    \n",
    "print(len(grains[0]))"
   ]
  },
  {
   "cell_type": "code",
   "execution_count": 2,
   "metadata": {},
   "outputs": [
    {
     "ename": "NameError",
     "evalue": "name 'data' is not defined",
     "output_type": "error",
     "traceback": [
      "\u001b[1;31m---------------------------------------------------------------------------\u001b[0m",
      "\u001b[1;31mNameError\u001b[0m                                 Traceback (most recent call last)",
      "\u001b[1;32m<ipython-input-2-03c05f3584f5>\u001b[0m in \u001b[0;36m<module>\u001b[1;34m\u001b[0m\n\u001b[0;32m     25\u001b[0m \u001b[1;33m\u001b[0m\u001b[0m\n\u001b[0;32m     26\u001b[0m \u001b[1;31m#test function\u001b[0m\u001b[1;33m\u001b[0m\u001b[1;33m\u001b[0m\u001b[1;33m\u001b[0m\u001b[0m\n\u001b[1;32m---> 27\u001b[1;33m \u001b[0mrow_array\u001b[0m\u001b[1;33m=\u001b[0m\u001b[0mdata\u001b[0m\u001b[1;33m[\u001b[0m\u001b[1;36m0\u001b[0m\u001b[1;33m]\u001b[0m\u001b[1;33m\u001b[0m\u001b[1;33m\u001b[0m\u001b[0m\n\u001b[0m\u001b[0;32m     28\u001b[0m \u001b[0mrow_list\u001b[0m\u001b[1;33m=\u001b[0m\u001b[0mlist\u001b[0m\u001b[1;33m(\u001b[0m\u001b[0mrow_array\u001b[0m\u001b[1;33m)\u001b[0m\u001b[1;33m\u001b[0m\u001b[1;33m\u001b[0m\u001b[0m\n\u001b[0;32m     29\u001b[0m \u001b[0mgrains\u001b[0m\u001b[1;33m[\u001b[0m\u001b[1;36m0\u001b[0m\u001b[1;33m]\u001b[0m\u001b[1;33m.\u001b[0m\u001b[0mappend\u001b[0m\u001b[1;33m(\u001b[0m\u001b[0mrow_list\u001b[0m\u001b[1;33m)\u001b[0m\u001b[1;33m\u001b[0m\u001b[1;33m\u001b[0m\u001b[0m\n",
      "\u001b[1;31mNameError\u001b[0m: name 'data' is not defined"
     ]
    }
   ],
   "source": [
    "from collections import defaultdict\n",
    "\n",
    "grains = defaultdict(list)\n",
    "row_array=[]\n",
    "row_list=()\n",
    "new_key=0\n",
    "euler_one=[0,0,0]\n",
    "euler_two=[0,0,0]\n",
    "\n",
    "distance_threshold=10\n",
    "angle_threshold=5\n",
    "\n",
    "#is the particle in the grains dictionary\n",
    "def indict(row):\n",
    "    #print(row)\n",
    "    for key in grains:\n",
    "        row_array=grains[key]\n",
    "        row_list=list(row_array[key])\n",
    "        euler_one=[row[0],row[1],row[2]]\n",
    "        euler_two=[row_list[0],row_list[1],row_list[2]]\n",
    "        if (misorientation(euler_one,euler_two)<5) and (sqrt((row[3]-row_list[3])**2+(row[4]-row_list[4])**2)<distance_threshold):\n",
    "            return True\n",
    "    else:\n",
    "        return False\n",
    "\n",
    "#test function\n",
    "row_array=data[0]\n",
    "row_list=list(row_array)\n",
    "grains[0].append(row_list)\n",
    "print(grains)\n",
    "for row in data:\n",
    "    print(indict(row))\n",
    "    \n",
    "#forms grain of size 4 based on first row!\n",
    "\n",
    "for row in data:            \n",
    "    if indict(row) is True:\n",
    "        #look at again\n",
    "        row_list=list(row)\n",
    "        grains[key].append(row_list) \n",
    "    else:\n",
    "        grains[new_key]=row\n",
    "        new_key+=1\n",
    "        \n",
    "#error 'numpy.float64' object is not iterable"
   ]
  },
  {
   "cell_type": "code",
   "execution_count": 77,
   "metadata": {},
   "outputs": [
    {
     "name": "stdout",
     "output_type": "stream",
     "text": [
      "19.576491272305066\n"
     ]
    }
   ],
   "source": [
    "import math\n",
    "import numpy as np\n",
    "\n",
    "#https://en.wikipedia.org/wiki/Misorientation\n",
    "euler_one=[math.radians(90),math.radians(35),math.radians(45)] #copper\n",
    "euler_two=[math.radians(59),math.radians(37),math.radians(63)] #S3\n",
    "#phi1, PHI, phi2\n",
    "\n",
    "def misorientation(euler_one, euler_two):\n",
    "    #orientation matrices\n",
    "    g_one=np.array([[((math.cos(euler_one[0]))*(math.cos(euler_one[2]))-(math.sin(euler_one[0]))*(math.sin(euler_one[2]))*(math.cos(euler_one[1]))),((math.sin(euler_one[0]))*(math.cos(euler_one[2]))+(math.cos(euler_one[0]))*(math.sin(euler_one[2]))*(math.cos(euler_one[1]))),((math.sin(euler_one[2]))*(math.sin(euler_one[1])))],\n",
    "                [(-(math.cos(euler_one[0]))*(math.sin(euler_one[2]))-(math.sin(euler_one[0]))*(math.cos(euler_one[2]))*(math.cos(euler_one[1]))),(-(math.sin(euler_one[0]))*(math.sin(euler_one[2]))+(math.cos(euler_one[0]))*(math.cos(euler_one[2]))*(math.cos(euler_one[1]))),((math.cos(euler_one[2]))*(math.sin(euler_one[1])))],\n",
    "                [((math.sin(euler_one[0]))*(math.sin(euler_one[1]))),(-(math.cos(euler_one[0]))*(math.sin(euler_one[1]))),(math.cos(euler_one[1]))]        \n",
    "                ])\n",
    "   \n",
    "    #euler_two\n",
    "     g_two=np.array([[((math.cos(euler_two[0]))*(math.cos(euler_two[2]))-(math.sin(euler_two[0]))*(math.sin(euler_two[2]))*(math.cos(euler_two[1]))),((math.sin(euler_two[0]))*(math.cos(euler_two[2]))+(math.cos(euler_two[0]))*(math.sin(euler_two[2]))*(math.cos(euler_two[1]))),((math.sin(euler_two[2]))*(math.sin(euler_two[1])))],\n",
    "                [(-(math.cos(euler_two[0]))*(math.sin(euler_two[2]))-(math.sin(euler_two[0]))*(math.cos(euler_two[2]))*(math.cos(euler_two[1]))),(-(math.sin(euler_two[0]))*(math.sin(euler_two[2]))+(math.cos(euler_two[0]))*(math.cos(euler_two[2]))*(math.cos(euler_two[1]))),((math.cos(euler_two[2]))*(math.sin(euler_two[1])))],\n",
    "                [((math.sin(euler_two[0]))*(math.sin(euler_two[1]))),(-(math.cos(euler_two[0]))*(math.sin(euler_two[1]))),(math.cos(euler_two[1]))]        \n",
    "                ])\n",
    "    \n",
    "    #misorientation matrix\n",
    "    delta_g=np.dot(g_one,np.linalg.inv(g_two))\n",
    "                     \n",
    "    \n",
    "    #misorientation angle\n",
    "    return math.degrees(math.acos((delta_g[0,0]+delta_g[1,1]+delta_g[2,2]-1)/2))\n",
    "\n",
    "print(misorientation(euler_one,euler_two))"
   ]
  },
  {
   "cell_type": "code",
   "execution_count": null,
   "metadata": {},
   "outputs": [],
   "source": []
  }
 ],
 "metadata": {
  "kernelspec": {
   "display_name": "Python 3",
   "language": "python",
   "name": "python3"
  },
  "language_info": {
   "codemirror_mode": {
    "name": "ipython",
    "version": 3
   },
   "file_extension": ".py",
   "mimetype": "text/x-python",
   "name": "python",
   "nbconvert_exporter": "python",
   "pygments_lexer": "ipython3",
   "version": "3.7.4"
  }
 },
 "nbformat": 4,
 "nbformat_minor": 2
}
